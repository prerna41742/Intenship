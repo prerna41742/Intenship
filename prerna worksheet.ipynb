{
 "cells": [
  {
   "cell_type": "code",
   "execution_count": 1,
   "id": "59201c96",
   "metadata": {},
   "outputs": [],
   "source": [
    "# write a python program to find the factorial number?"
   ]
  },
  {
   "cell_type": "code",
   "execution_count": 8,
   "id": "b394333a",
   "metadata": {},
   "outputs": [
    {
     "name": "stdout",
     "output_type": "stream",
     "text": [
      "Enter a number:10\n",
      "The factorial of 10 is 3628800\n"
     ]
    }
   ],
   "source": [
    "num = int(input(\"Enter a number:\"))\n",
    "factorial = 1\n",
    "if num < 0:\n",
    "    print(\"Factorial does not exist for negative number\")\n",
    "elif num == 0:\n",
    "    print(\"The factorial of 0 is 1\")\n",
    "else:\n",
    "    for i in range (1,num + 1):\n",
    "     factorial = factorial*i\n",
    "    print(\"The factorial of\" ,num,\"is\",factorial)    "
   ]
  },
  {
   "cell_type": "code",
   "execution_count": 9,
   "id": "c1e4dcf3",
   "metadata": {},
   "outputs": [],
   "source": [
    "# Write a python program to find whether a number is prime or composite. "
   ]
  },
  {
   "cell_type": "code",
   "execution_count": 24,
   "id": "94b151f9",
   "metadata": {},
   "outputs": [
    {
     "name": "stdout",
     "output_type": "stream",
     "text": [
      "Enter any number : 41\n",
      "41 is a neither prime NOR composite number\n"
     ]
    }
   ],
   "source": [
    "num = int(input(\"Enter any number : \"))\n",
    "if num > 1:\n",
    "    for i in range (2, num):\n",
    "        if (num % i) == 0:\n",
    "            print(num, \"is NOT a prime number\")\n",
    "            break\n",
    "else:\n",
    "     print(num, \"is a PRIME number\")\n",
    "if num == 0 or 1:\n",
    "    print(num, \"is a neither prime NOR composite number\")\n",
    "else:    \n",
    "    print(num, \"is NOT a prime number it is a COMPOSITE number\")\n",
    "    "
   ]
  },
  {
   "cell_type": "code",
   "execution_count": 28,
   "id": "fb141dc8",
   "metadata": {},
   "outputs": [],
   "source": [
    "#Write a python program to check whether a given string is palindrome or not. "
   ]
  },
  {
   "cell_type": "code",
   "execution_count": 29,
   "id": "97cb52f8",
   "metadata": {},
   "outputs": [
    {
     "name": "stdout",
     "output_type": "stream",
     "text": [
      "Yes\n"
     ]
    }
   ],
   "source": [
    "def isPalindrome (s) :\n",
    "    return s == s[ : :-1]\n",
    "s = \"malayalam\"\n",
    "ans = isPalindrome(s)\n",
    "if ans:\n",
    "    print(\"Yes\")\n",
    "else:\n",
    "    print(\"No\")\n",
    "    \n",
    "    "
   ]
  },
  {
   "cell_type": "code",
   "execution_count": 30,
   "id": "9022d259",
   "metadata": {},
   "outputs": [],
   "source": [
    "#Write a Python program to get the third side of right-angled triangle from two given sides. "
   ]
  },
  {
   "cell_type": "code",
   "execution_count": 69,
   "id": "3bcc60c7",
   "metadata": {},
   "outputs": [
    {
     "name": "stdout",
     "output_type": "stream",
     "text": [
      "You know the answer!\n",
      "You know the answer!\n",
      "You know the answer!\n",
      "You know the answer!\n"
     ]
    }
   ],
   "source": [
    "def pythagoras(opposite_side,adjacent_side,hypotenuse):\n",
    "    if opposite_side == str(\"X\"):\n",
    "        return (\"Opposite = \" + str(((hypotenuse**2) - (adjacent_side**2))**0.5))\n",
    "    elif adjacent_side == str(\"X\"):\n",
    "        return (\"Adjacent = \" + str (((hypotenuse**2) -(opposite_side**2))**0.5))\n",
    "    elif hypotenuse == str(\"X\"):\n",
    "        return (\"Hypotenuse = \" + str(((opposite_side**2) +(adjacent_side**2))**0.5))\n",
    "    else:\n",
    "        return(\"You know the answer!\")\n",
    "        \n",
    "print(pythagoras(3,4,'x'))\n",
    "print(pythagoras(3,'x',4))\n",
    "print(pythagoras('x',4,5))\n",
    "print(pythagoras(3,4,5))\n",
    "                           \n",
    "        \n",
    "                                "
   ]
  },
  {
   "cell_type": "code",
   "execution_count": 70,
   "id": "a984965f",
   "metadata": {},
   "outputs": [],
   "source": [
    "#Write a python program to print the frequency of each of the characters present in a given string. "
   ]
  },
  {
   "cell_type": "code",
   "execution_count": 71,
   "id": "b99b6eea",
   "metadata": {},
   "outputs": [
    {
     "name": "stdout",
     "output_type": "stream",
     "text": [
      "Frequency of  apple is : 3\n",
      "Frequency of  orange is : 2\n",
      "Frequency of  guava is : 1\n",
      "Frequency of  mango is : 3\n"
     ]
    }
   ],
   "source": [
    "def freq(str) :\n",
    "    str_list = str.split()\n",
    "    unique_words = set(str_list)\n",
    "    for words in unique_words :\n",
    "        print('Frequency of ', words , 'is :', str_list.count(words))\n",
    "if __name__ == \"__main__\":\n",
    "    str = 'apple mango apple orange orange apple guava mango mango'\n",
    "    freq(str)"
   ]
  },
  {
   "cell_type": "code",
   "execution_count": null,
   "id": "dea987db",
   "metadata": {},
   "outputs": [],
   "source": []
  }
 ],
 "metadata": {
  "kernelspec": {
   "display_name": "Python 3",
   "language": "python",
   "name": "python3"
  },
  "language_info": {
   "codemirror_mode": {
    "name": "ipython",
    "version": 3
   },
   "file_extension": ".py",
   "mimetype": "text/x-python",
   "name": "python",
   "nbconvert_exporter": "python",
   "pygments_lexer": "ipython3",
   "version": "3.8.8"
  }
 },
 "nbformat": 4,
 "nbformat_minor": 5
}
