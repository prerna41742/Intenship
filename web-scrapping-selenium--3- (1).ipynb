{
 "cells": [
  {
   "cell_type": "code",
   "execution_count": 1,
   "id": "4a0bc448",
   "metadata": {},
   "outputs": [
    {
     "name": "stdout",
     "output_type": "stream",
     "text": [
      "Requirement already satisfied: selenium in c:\\users\\user\\anaconda3\\lib\\site-packages (4.1.0)\n",
      "Requirement already satisfied: trio~=0.17 in c:\\users\\user\\anaconda3\\lib\\site-packages (from selenium) (0.19.0)\n",
      "Requirement already satisfied: urllib3[secure]~=1.26 in c:\\users\\user\\anaconda3\\lib\\site-packages (from selenium) (1.26.4)\n",
      "Requirement already satisfied: trio-websocket~=0.9 in c:\\users\\user\\anaconda3\\lib\\site-packages (from selenium) (0.9.2)\n",
      "Requirement already satisfied: attrs>=19.2.0 in c:\\users\\user\\anaconda3\\lib\\site-packages (from trio~=0.17->selenium) (20.3.0)\n",
      "Requirement already satisfied: outcome in c:\\users\\user\\anaconda3\\lib\\site-packages (from trio~=0.17->selenium) (1.1.0)\n",
      "Requirement already satisfied: sniffio in c:\\users\\user\\anaconda3\\lib\\site-packages (from trio~=0.17->selenium) (1.2.0)\n",
      "Requirement already satisfied: sortedcontainers in c:\\users\\user\\anaconda3\\lib\\site-packages (from trio~=0.17->selenium) (2.3.0)\n",
      "Requirement already satisfied: cffi>=1.14 in c:\\users\\user\\anaconda3\\lib\\site-packages (from trio~=0.17->selenium) (1.14.5)\n",
      "Requirement already satisfied: async-generator>=1.9 in c:\\users\\user\\anaconda3\\lib\\site-packages (from trio~=0.17->selenium) (1.10)\n",
      "Requirement already satisfied: idna in c:\\users\\user\\anaconda3\\lib\\site-packages (from trio~=0.17->selenium) (2.10)\n",
      "Requirement already satisfied: pycparser in c:\\users\\user\\anaconda3\\lib\\site-packages (from cffi>=1.14->trio~=0.17->selenium) (2.20)\n",
      "Requirement already satisfied: wsproto>=0.14 in c:\\users\\user\\anaconda3\\lib\\site-packages (from trio-websocket~=0.9->selenium) (1.0.0)\n",
      "Requirement already satisfied: pyOpenSSL>=0.14 in c:\\users\\user\\anaconda3\\lib\\site-packages (from urllib3[secure]~=1.26->selenium) (20.0.1)\n",
      "Requirement already satisfied: cryptography>=1.3.4 in c:\\users\\user\\anaconda3\\lib\\site-packages (from urllib3[secure]~=1.26->selenium) (3.4.7)\n",
      "Requirement already satisfied: certifi in c:\\users\\user\\anaconda3\\lib\\site-packages (from urllib3[secure]~=1.26->selenium) (2020.12.5)\n",
      "Requirement already satisfied: six>=1.5.2 in c:\\users\\user\\anaconda3\\lib\\site-packages (from pyOpenSSL>=0.14->urllib3[secure]~=1.26->selenium) (1.15.0)\n",
      "Requirement already satisfied: h11<1,>=0.9.0 in c:\\users\\user\\anaconda3\\lib\\site-packages (from wsproto>=0.14->trio-websocket~=0.9->selenium) (0.12.0)\n"
     ]
    }
   ],
   "source": [
    "!pip install selenium"
   ]
  },
  {
   "cell_type": "markdown",
   "id": "76b51ee0",
   "metadata": {},
   "source": [
    "# : Write a python program to scrape data for “Data Analyst” Job position in “Bangalore” location. You have to scrape the job-title, job-location, company_name, experience_required. You have to scrape first 10 jobs data."
   ]
  },
  {
   "cell_type": "code",
   "execution_count": 1,
   "id": "cda336a2",
   "metadata": {},
   "outputs": [],
   "source": [
    "import selenium\n",
    "import pandas as pd\n",
    "from selenium import webdriver"
   ]
  },
  {
   "cell_type": "code",
   "execution_count": 7,
   "id": "740e7cc8",
   "metadata": {},
   "outputs": [
    {
     "name": "stderr",
     "output_type": "stream",
     "text": [
      "<ipython-input-7-bcea5228ba58>:1: DeprecationWarning: executable_path has been deprecated, please pass in a Service object\n",
      "  driver = webdriver.Chrome(r\"C:\\Users\\user\\Downloads\\chromedriver_win32\\chromedriver.exe\")\n"
     ]
    }
   ],
   "source": [
    "driver = webdriver.Chrome(r\"C:\\Users\\user\\Downloads\\chromedriver_win32\\chromedriver.exe\")"
   ]
  },
  {
   "cell_type": "code",
   "execution_count": 11,
   "id": "1811c963",
   "metadata": {},
   "outputs": [],
   "source": [
    "# driver.close()"
   ]
  },
  {
   "cell_type": "code",
   "execution_count": 3,
   "id": "a1f6ca0e",
   "metadata": {},
   "outputs": [],
   "source": [
    "driver.get(\"https://www.naukri.com/\")"
   ]
  },
  {
   "cell_type": "code",
   "execution_count": 4,
   "id": "cdad9674",
   "metadata": {},
   "outputs": [
    {
     "name": "stderr",
     "output_type": "stream",
     "text": [
      "C:\\Users\\srish\\AppData\\Local\\Temp/ipykernel_18292/107481560.py:1: DeprecationWarning: find_element_by_* commands are deprecated. Please use find_element() instead\n",
      "  search_job = driver.find_element_by_id(\"qsb-keyword-sugg\")\n",
      "C:\\Users\\srish\\AppData\\Local\\Temp/ipykernel_18292/107481560.py:3: DeprecationWarning: find_element_by_* commands are deprecated. Please use find_element() instead\n",
      "  search_loc = driver.find_element_by_xpath(\"//input[@id='qsb-location-sugg']\")\n"
     ]
    }
   ],
   "source": [
    "search_job = driver.find_element_by_id(\"qsb-keyword-sugg\")\n",
    "search_job.send_keys(\"Data Analyst\")\n",
    "search_loc = driver.find_element_by_xpath(\"//input[@id='qsb-location-sugg']\")\n",
    "search_loc.send_keys(\"Bangalore\")"
   ]
  },
  {
   "cell_type": "code",
   "execution_count": 5,
   "id": "e9ecceae",
   "metadata": {},
   "outputs": [
    {
     "name": "stderr",
     "output_type": "stream",
     "text": [
      "C:\\Users\\srish\\AppData\\Local\\Temp/ipykernel_18292/409451389.py:1: DeprecationWarning: find_element_by_* commands are deprecated. Please use find_element() instead\n",
      "  search_btn = driver.find_element_by_xpath(\"//div[@class='search-btn']/button\")\n"
     ]
    }
   ],
   "source": [
    "search_btn = driver.find_element_by_xpath(\"//div[@class='search-btn']/button\")\n",
    "search_btn.click()"
   ]
  },
  {
   "cell_type": "code",
   "execution_count": 13,
   "id": "29a12d2a",
   "metadata": {},
   "outputs": [],
   "source": [
    "job_titles=[]\n",
    "company_names=[]\n",
    "locations_list=[]\n",
    "experience_list=[]"
   ]
  },
  {
   "cell_type": "code",
   "execution_count": 9,
   "id": "b1c11758",
   "metadata": {},
   "outputs": [
    {
     "name": "stderr",
     "output_type": "stream",
     "text": [
      "C:\\Users\\srish\\AppData\\Local\\Temp/ipykernel_18292/1111140384.py:1: DeprecationWarning: find_elements_by_* commands are deprecated. Please use find_elements() instead\n",
      "  titles_tags=driver.find_elements_by_xpath(\"//a[@class='title fw500 ellipsis']\")\n"
     ]
    },
    {
     "data": {
      "text/plain": [
       "[<selenium.webdriver.remote.webelement.WebElement (session=\"312c5ce4b0055fe06790eb95a5d23119\", element=\"ad3285fc-433a-463d-b19b-64dacd6ec84f\")>,\n",
       " <selenium.webdriver.remote.webelement.WebElement (session=\"312c5ce4b0055fe06790eb95a5d23119\", element=\"58bf19bd-9dda-4ee1-8262-a1e11b37f59f\")>,\n",
       " <selenium.webdriver.remote.webelement.WebElement (session=\"312c5ce4b0055fe06790eb95a5d23119\", element=\"f07740a0-03fc-4bb0-a97d-fc2c17f6577f\")>,\n",
       " <selenium.webdriver.remote.webelement.WebElement (session=\"312c5ce4b0055fe06790eb95a5d23119\", element=\"d0b9ddba-8a04-4a7e-8f6b-1ba2f1f15bdd\")>,\n",
       " <selenium.webdriver.remote.webelement.WebElement (session=\"312c5ce4b0055fe06790eb95a5d23119\", element=\"4e1ef5eb-3fb8-4356-8191-259352838450\")>,\n",
       " <selenium.webdriver.remote.webelement.WebElement (session=\"312c5ce4b0055fe06790eb95a5d23119\", element=\"f9baf1ba-4b1a-4147-ba68-7b235e0bae1d\")>,\n",
       " <selenium.webdriver.remote.webelement.WebElement (session=\"312c5ce4b0055fe06790eb95a5d23119\", element=\"f28b7e99-cda4-4df3-9941-25c96255c014\")>,\n",
       " <selenium.webdriver.remote.webelement.WebElement (session=\"312c5ce4b0055fe06790eb95a5d23119\", element=\"5294e04e-8d39-4ec9-b524-52a83832cb06\")>,\n",
       " <selenium.webdriver.remote.webelement.WebElement (session=\"312c5ce4b0055fe06790eb95a5d23119\", element=\"bf49c3c7-7296-44b3-a24c-06489dc25858\")>,\n",
       " <selenium.webdriver.remote.webelement.WebElement (session=\"312c5ce4b0055fe06790eb95a5d23119\", element=\"659428fc-1ba9-4101-b0c0-48948ad09f1b\")>]"
      ]
     },
     "execution_count": 9,
     "metadata": {},
     "output_type": "execute_result"
    }
   ],
   "source": [
    "titles_tags=driver.find_elements_by_xpath(\"//a[@class='title fw500 ellipsis']\")\n",
    "titles_tags[0:10]"
   ]
  },
  {
   "cell_type": "code",
   "execution_count": 14,
   "id": "2064fb38",
   "metadata": {},
   "outputs": [
    {
     "data": {
      "text/plain": [
       "['Hiring -Data Analyst, Business Analyst, MIS Analyst -3rd Party Payroll',\n",
       " 'Senior Data Analyst III',\n",
       " 'Business Analyst/ Data Analyst- Capital Market & SQL (Mandatory)',\n",
       " 'Customer Data Management Analyst',\n",
       " 'Data Analyst',\n",
       " 'Assistant/deputy Manager - Geo-spatial Data Analyst',\n",
       " 'Senior Data Analyst',\n",
       " 'Senior Data Analyst',\n",
       " 'Senior Data Analyst',\n",
       " 'Openings For SQL Data Analyst',\n",
       " 'Data Analyst (On Contract)',\n",
       " 'Data Analyst',\n",
       " 'Data Analyst',\n",
       " 'Data Analyst / Engineer',\n",
       " 'Senior Data Analyst',\n",
       " 'Senior Data Analyst for HANA Platform',\n",
       " 'Lead - Data Analyst - Leading US MNC',\n",
       " 'Jr. Data Analyst/ Jr. Data Scientist',\n",
       " 'Data Analyst',\n",
       " 'Supervisor Role, Data Analyst, six sigma, Analytical skills, Database']"
      ]
     },
     "execution_count": 14,
     "metadata": {},
     "output_type": "execute_result"
    }
   ],
   "source": [
    "for i in titles_tags:\n",
    "    job_titles.append(i.text)\n",
    "job_titles  "
   ]
  },
  {
   "cell_type": "code",
   "execution_count": 15,
   "id": "de9ed297",
   "metadata": {},
   "outputs": [
    {
     "name": "stderr",
     "output_type": "stream",
     "text": [
      "C:\\Users\\srish\\AppData\\Local\\Temp/ipykernel_18292/2498137492.py:1: DeprecationWarning: find_elements_by_* commands are deprecated. Please use find_elements() instead\n",
      "  companies_tags=driver.find_elements_by_xpath(\"//a[@class='subTitle ellipsis fleft']\")\n"
     ]
    },
    {
     "data": {
      "text/plain": [
       "[<selenium.webdriver.remote.webelement.WebElement (session=\"312c5ce4b0055fe06790eb95a5d23119\", element=\"f8c76ad3-fd43-40ee-9b1c-7a98c70665fa\")>,\n",
       " <selenium.webdriver.remote.webelement.WebElement (session=\"312c5ce4b0055fe06790eb95a5d23119\", element=\"9e232822-3289-4ea8-8947-e7bcaa7f3bdb\")>,\n",
       " <selenium.webdriver.remote.webelement.WebElement (session=\"312c5ce4b0055fe06790eb95a5d23119\", element=\"5c10105d-2efc-4575-b7d3-fb80da717ff5\")>,\n",
       " <selenium.webdriver.remote.webelement.WebElement (session=\"312c5ce4b0055fe06790eb95a5d23119\", element=\"a1c6a306-f011-4dd9-8ec9-1ffd0f77b386\")>,\n",
       " <selenium.webdriver.remote.webelement.WebElement (session=\"312c5ce4b0055fe06790eb95a5d23119\", element=\"db02bdb6-236b-4558-8f0b-3ee62716792b\")>,\n",
       " <selenium.webdriver.remote.webelement.WebElement (session=\"312c5ce4b0055fe06790eb95a5d23119\", element=\"b1c8314e-3017-491b-8860-37ed34d708de\")>,\n",
       " <selenium.webdriver.remote.webelement.WebElement (session=\"312c5ce4b0055fe06790eb95a5d23119\", element=\"07b43c81-d7b4-4408-bd5b-6accebb16668\")>,\n",
       " <selenium.webdriver.remote.webelement.WebElement (session=\"312c5ce4b0055fe06790eb95a5d23119\", element=\"675c264a-5d61-457c-ba16-2d79b964d03d\")>,\n",
       " <selenium.webdriver.remote.webelement.WebElement (session=\"312c5ce4b0055fe06790eb95a5d23119\", element=\"b7635d39-c9fa-4c69-9e86-1b28b3eb141b\")>,\n",
       " <selenium.webdriver.remote.webelement.WebElement (session=\"312c5ce4b0055fe06790eb95a5d23119\", element=\"b13a5d42-9d54-46d8-9e20-826a14132c36\")>]"
      ]
     },
     "execution_count": 15,
     "metadata": {},
     "output_type": "execute_result"
    }
   ],
   "source": [
    "companies_tags=driver.find_elements_by_xpath(\"//a[@class='subTitle ellipsis fleft']\")\n",
    "companies_tags[0:10]"
   ]
  },
  {
   "cell_type": "code",
   "execution_count": 16,
   "id": "2c8b44f1",
   "metadata": {},
   "outputs": [
    {
     "data": {
      "text/plain": [
       "['Flipkart',\n",
       " 'Flipkart',\n",
       " 'Genpact',\n",
       " 'Aspect',\n",
       " 'GlaxoSmithKline Pharmaceuticals Limited',\n",
       " 'Maruti Suzuki India',\n",
       " 'Rapido',\n",
       " 'SYREN TECHNOLOGIES PRIVATE LIMITED',\n",
       " 'Flipkart',\n",
       " 'StackNexus Technologies India Pvt. Ltd',\n",
       " 'Rupeek Fintech Pvt Ltd',\n",
       " 'Schneider Electric',\n",
       " 'GlaxoSmithKline Pharmaceuticals Limited',\n",
       " 'Animaker India Private Limited',\n",
       " 'Flipkart',\n",
       " 'Intel',\n",
       " 'EVOLVE TECHNOLOGIES AND SERVICES PRIVATE LIMITED',\n",
       " 'Sejal Consulting Hub',\n",
       " 'NetraDyne Technology India Private Limited',\n",
       " 'Concentrix Daksh Services']"
      ]
     },
     "execution_count": 16,
     "metadata": {},
     "output_type": "execute_result"
    }
   ],
   "source": [
    "for i in companies_tags:\n",
    "    company_name=i.text\n",
    "    company_names.append(company_name)\n",
    "company_names   "
   ]
  },
  {
   "cell_type": "code",
   "execution_count": 17,
   "id": "0fff71b5",
   "metadata": {},
   "outputs": [
    {
     "name": "stderr",
     "output_type": "stream",
     "text": [
      "C:\\Users\\srish\\AppData\\Local\\Temp/ipykernel_18292/1990606084.py:1: DeprecationWarning: find_elements_by_* commands are deprecated. Please use find_elements() instead\n",
      "  experience_tags=driver.find_elements_by_xpath(\"//li[@class='fleft grey-text br2 placeHolderLi experience']/span[1]\")\n"
     ]
    },
    {
     "data": {
      "text/plain": [
       "[<selenium.webdriver.remote.webelement.WebElement (session=\"312c5ce4b0055fe06790eb95a5d23119\", element=\"692d5e39-6b18-419e-9f5d-7a9d450d9d41\")>,\n",
       " <selenium.webdriver.remote.webelement.WebElement (session=\"312c5ce4b0055fe06790eb95a5d23119\", element=\"4d797b2d-a950-48b9-a246-5328aaf3b483\")>,\n",
       " <selenium.webdriver.remote.webelement.WebElement (session=\"312c5ce4b0055fe06790eb95a5d23119\", element=\"8d557807-adab-4d1a-a00b-18fc645e2c79\")>,\n",
       " <selenium.webdriver.remote.webelement.WebElement (session=\"312c5ce4b0055fe06790eb95a5d23119\", element=\"7f1a9de0-0778-418b-ae4c-af7ef059002f\")>,\n",
       " <selenium.webdriver.remote.webelement.WebElement (session=\"312c5ce4b0055fe06790eb95a5d23119\", element=\"c8029aec-383a-454a-b875-19c14aa2ede6\")>,\n",
       " <selenium.webdriver.remote.webelement.WebElement (session=\"312c5ce4b0055fe06790eb95a5d23119\", element=\"3f099563-6b5c-49d2-8969-398e3178bed2\")>,\n",
       " <selenium.webdriver.remote.webelement.WebElement (session=\"312c5ce4b0055fe06790eb95a5d23119\", element=\"2a745f8f-27b8-4cfc-a336-5b23c87baa27\")>,\n",
       " <selenium.webdriver.remote.webelement.WebElement (session=\"312c5ce4b0055fe06790eb95a5d23119\", element=\"1da0c5b2-8ff7-469d-b6b5-41c5017eea44\")>,\n",
       " <selenium.webdriver.remote.webelement.WebElement (session=\"312c5ce4b0055fe06790eb95a5d23119\", element=\"d692bc6c-3d0d-4b9e-9db4-96aa99c0bd5c\")>,\n",
       " <selenium.webdriver.remote.webelement.WebElement (session=\"312c5ce4b0055fe06790eb95a5d23119\", element=\"636e5748-1c67-4a1c-8fba-b53ebb21c864\")>]"
      ]
     },
     "execution_count": 17,
     "metadata": {},
     "output_type": "execute_result"
    }
   ],
   "source": [
    "experience_tags=driver.find_elements_by_xpath(\"//li[@class='fleft grey-text br2 placeHolderLi experience']/span[1]\")\n",
    "experience_tags[0:10]"
   ]
  },
  {
   "cell_type": "code",
   "execution_count": 18,
   "id": "807fd937",
   "metadata": {},
   "outputs": [
    {
     "data": {
      "text/plain": [
       "['1-6 Yrs',\n",
       " '2-4 Yrs',\n",
       " '7-12 Yrs',\n",
       " '0-2 Yrs',\n",
       " '3-8 Yrs',\n",
       " '3-5 Yrs',\n",
       " '1-6 Yrs',\n",
       " '5-10 Yrs',\n",
       " '4-5 Yrs',\n",
       " '3-6 Yrs',\n",
       " '0-2 Yrs',\n",
       " '2-5 Yrs',\n",
       " '3-8 Yrs',\n",
       " '4-9 Yrs',\n",
       " '3-7 Yrs',\n",
       " '5-10 Yrs',\n",
       " '6-11 Yrs',\n",
       " '0-5 Yrs',\n",
       " '2-5 Yrs',\n",
       " '3-6 Yrs']"
      ]
     },
     "execution_count": 18,
     "metadata": {},
     "output_type": "execute_result"
    }
   ],
   "source": [
    "for i in experience_tags:\n",
    "    experience=i.text\n",
    "    experience_list.append(experience)\n",
    "experience_list  "
   ]
  },
  {
   "cell_type": "code",
   "execution_count": 19,
   "id": "aac40c3f",
   "metadata": {},
   "outputs": [
    {
     "name": "stderr",
     "output_type": "stream",
     "text": [
      "C:\\Users\\srish\\AppData\\Local\\Temp/ipykernel_18292/1574912867.py:1: DeprecationWarning: find_elements_by_* commands are deprecated. Please use find_elements() instead\n",
      "  locations_tags=driver.find_elements_by_xpath(\"//li[@class='fleft grey-text br2 placeHolderLi location']/span[1]\")\n"
     ]
    },
    {
     "data": {
      "text/plain": [
       "[<selenium.webdriver.remote.webelement.WebElement (session=\"312c5ce4b0055fe06790eb95a5d23119\", element=\"c9dc6604-dc05-47ee-a9ca-803e0774ba77\")>,\n",
       " <selenium.webdriver.remote.webelement.WebElement (session=\"312c5ce4b0055fe06790eb95a5d23119\", element=\"9b2ac2bc-e386-49bd-b978-4ce8b90767f5\")>,\n",
       " <selenium.webdriver.remote.webelement.WebElement (session=\"312c5ce4b0055fe06790eb95a5d23119\", element=\"f81d2fb2-5286-42c5-ba98-1b4978ae6e87\")>,\n",
       " <selenium.webdriver.remote.webelement.WebElement (session=\"312c5ce4b0055fe06790eb95a5d23119\", element=\"ae17df87-ef6e-47e2-8bdb-b5e6593de801\")>,\n",
       " <selenium.webdriver.remote.webelement.WebElement (session=\"312c5ce4b0055fe06790eb95a5d23119\", element=\"39cc67c8-9174-4a93-8626-319421583722\")>,\n",
       " <selenium.webdriver.remote.webelement.WebElement (session=\"312c5ce4b0055fe06790eb95a5d23119\", element=\"61047cd6-085a-4ba6-b0f4-740a6b22e7f7\")>,\n",
       " <selenium.webdriver.remote.webelement.WebElement (session=\"312c5ce4b0055fe06790eb95a5d23119\", element=\"67423602-8b3b-4049-8b18-4110023f26a5\")>,\n",
       " <selenium.webdriver.remote.webelement.WebElement (session=\"312c5ce4b0055fe06790eb95a5d23119\", element=\"7aabdb55-61d5-48df-9f06-266ca700690b\")>,\n",
       " <selenium.webdriver.remote.webelement.WebElement (session=\"312c5ce4b0055fe06790eb95a5d23119\", element=\"b4229a84-b95e-4cc1-bf2c-4aee143a3eba\")>,\n",
       " <selenium.webdriver.remote.webelement.WebElement (session=\"312c5ce4b0055fe06790eb95a5d23119\", element=\"c9506334-e5ff-4b39-aaff-41456d9849f7\")>]"
      ]
     },
     "execution_count": 19,
     "metadata": {},
     "output_type": "execute_result"
    }
   ],
   "source": [
    "locations_tags=driver.find_elements_by_xpath(\"//li[@class='fleft grey-text br2 placeHolderLi location']/span[1]\")\n",
    "locations_tags[0:10]"
   ]
  },
  {
   "cell_type": "code",
   "execution_count": 20,
   "id": "e85d14bb",
   "metadata": {},
   "outputs": [
    {
     "data": {
      "text/plain": [
       "['Bangalore/Bengaluru',\n",
       " 'Bengaluru/Bangalore',\n",
       " 'Pune, Bangalore/Bengaluru',\n",
       " 'Bangalore/Bengaluru',\n",
       " 'Bangalore/Bengaluru',\n",
       " 'Gurgaon/Gurugram, bangalore',\n",
       " 'Bangalore/Bengaluru',\n",
       " 'Kolkata, Hyderabad/Secunderabad, Pune, Ahmedabad, Chennai, Bangalore/Bengaluru, Delhi / NCR, Mumbai (All Areas)',\n",
       " 'Bengaluru/Bangalore',\n",
       " 'Hyderabad/Secunderabad, Bangalore/Bengaluru',\n",
       " 'Bangalore/Bengaluru',\n",
       " 'Bangalore/Bengaluru',\n",
       " 'Bangalore/Bengaluru',\n",
       " 'Chennai, Bangalore/Bengaluru',\n",
       " 'Bangalore/Bengaluru',\n",
       " 'Bangalore/Bengaluru',\n",
       " 'Mumbai, Gurgaon/Gurugram, Bangalore/Bengaluru',\n",
       " 'Hyderabad/Secunderabad, Bangalore/Bengaluru, Mumbai (All Areas)',\n",
       " 'Bangalore/Bengaluru',\n",
       " 'Bangalore/Bengaluru']"
      ]
     },
     "execution_count": 20,
     "metadata": {},
     "output_type": "execute_result"
    }
   ],
   "source": [
    "for i in locations_tags :\n",
    "    location=i.text\n",
    "    locations_list.append(location)\n",
    "locations_list  "
   ]
  },
  {
   "cell_type": "code",
   "execution_count": 21,
   "id": "688388d4",
   "metadata": {},
   "outputs": [
    {
     "name": "stdout",
     "output_type": "stream",
     "text": [
      "20 20 20 20\n"
     ]
    }
   ],
   "source": [
    "print(len(job_titles),len(company_names),len(experience_list),len(locations_list))"
   ]
  },
  {
   "cell_type": "code",
   "execution_count": 22,
   "id": "6809d319",
   "metadata": {},
   "outputs": [],
   "source": [
    "jobs=pd.DataFrame({})\n",
    "jobs['title']=job_titles[0:10]\n",
    "jobs['company']=company_names[0:10]\n",
    "jobs['experience_required']=experience_list[0:10]\n",
    "jobs['location']=locations_list[0:10]"
   ]
  },
  {
   "cell_type": "code",
   "execution_count": 50,
   "id": "3cff2173",
   "metadata": {},
   "outputs": [
    {
     "data": {
      "text/html": [
       "<div>\n",
       "<style scoped>\n",
       "    .dataframe tbody tr th:only-of-type {\n",
       "        vertical-align: middle;\n",
       "    }\n",
       "\n",
       "    .dataframe tbody tr th {\n",
       "        vertical-align: top;\n",
       "    }\n",
       "\n",
       "    .dataframe thead th {\n",
       "        text-align: right;\n",
       "    }\n",
       "</style>\n",
       "<table border=\"1\" class=\"dataframe\">\n",
       "  <thead>\n",
       "    <tr style=\"text-align: right;\">\n",
       "      <th></th>\n",
       "      <th>title</th>\n",
       "      <th>company</th>\n",
       "      <th>experience_required</th>\n",
       "      <th>location</th>\n",
       "    </tr>\n",
       "  </thead>\n",
       "  <tbody>\n",
       "    <tr>\n",
       "      <th>0</th>\n",
       "      <td>Hiring -Data Analyst, Business Analyst, MIS An...</td>\n",
       "      <td>Flipkart</td>\n",
       "      <td>1-6 Yrs</td>\n",
       "      <td>Bangalore/Bengaluru</td>\n",
       "    </tr>\n",
       "    <tr>\n",
       "      <th>1</th>\n",
       "      <td>Data Analyst</td>\n",
       "      <td>GlaxoSmithKline Pharmaceuticals Limited</td>\n",
       "      <td>3-8 Yrs</td>\n",
       "      <td>Bangalore/Bengaluru</td>\n",
       "    </tr>\n",
       "    <tr>\n",
       "      <th>2</th>\n",
       "      <td>DG - Business Analyst - Data Visualization &amp; A...</td>\n",
       "      <td>ExecBoardinAsia</td>\n",
       "      <td>5-10 Yrs</td>\n",
       "      <td>Bangalore/Bengaluru</td>\n",
       "    </tr>\n",
       "    <tr>\n",
       "      <th>3</th>\n",
       "      <td>Data Analyst / Engineer</td>\n",
       "      <td>Animaker India Private Limited</td>\n",
       "      <td>4-9 Yrs</td>\n",
       "      <td>Chennai, Bangalore/Bengaluru</td>\n",
       "    </tr>\n",
       "    <tr>\n",
       "      <th>4</th>\n",
       "      <td>Data Analyst ( Financial Modelling/ Big data)</td>\n",
       "      <td>Contactx Resource Management Pvt. Ltd.</td>\n",
       "      <td>3-8 Yrs</td>\n",
       "      <td>Gurgaon/Gurugram, Bangalore/Bengaluru</td>\n",
       "    </tr>\n",
       "    <tr>\n",
       "      <th>5</th>\n",
       "      <td>Manager - Data Analyst</td>\n",
       "      <td>Genpact</td>\n",
       "      <td>5-10 Yrs</td>\n",
       "      <td>Bangalore/Bengaluru</td>\n",
       "    </tr>\n",
       "    <tr>\n",
       "      <th>6</th>\n",
       "      <td>Senior Data Analyst III</td>\n",
       "      <td>Flipkart</td>\n",
       "      <td>2-4 Yrs</td>\n",
       "      <td>Bengaluru/Bangalore</td>\n",
       "    </tr>\n",
       "    <tr>\n",
       "      <th>7</th>\n",
       "      <td>Data Governance Analyst</td>\n",
       "      <td>Atria Convergence Technologies Pvt Ltd</td>\n",
       "      <td>2-5 Yrs</td>\n",
       "      <td>Bangalore/Bengaluru</td>\n",
       "    </tr>\n",
       "    <tr>\n",
       "      <th>8</th>\n",
       "      <td>Openings For SQL Data Analyst</td>\n",
       "      <td>StackNexus Technologies India Pvt. Ltd</td>\n",
       "      <td>3-6 Yrs</td>\n",
       "      <td>Hyderabad/Secunderabad, Bangalore/Bengaluru</td>\n",
       "    </tr>\n",
       "    <tr>\n",
       "      <th>9</th>\n",
       "      <td>Data Visualization Analyst - PowerBI/ Tableau</td>\n",
       "      <td>Pharmaceutical Product Development</td>\n",
       "      <td>4-6 Yrs</td>\n",
       "      <td>Bangalore/Bengaluru</td>\n",
       "    </tr>\n",
       "  </tbody>\n",
       "</table>\n",
       "</div>"
      ],
      "text/plain": [
       "                                               title  \\\n",
       "0  Hiring -Data Analyst, Business Analyst, MIS An...   \n",
       "1                                       Data Analyst   \n",
       "2  DG - Business Analyst - Data Visualization & A...   \n",
       "3                            Data Analyst / Engineer   \n",
       "4      Data Analyst ( Financial Modelling/ Big data)   \n",
       "5                             Manager - Data Analyst   \n",
       "6                            Senior Data Analyst III   \n",
       "7                            Data Governance Analyst   \n",
       "8                      Openings For SQL Data Analyst   \n",
       "9      Data Visualization Analyst - PowerBI/ Tableau   \n",
       "\n",
       "                                   company experience_required  \\\n",
       "0                                 Flipkart             1-6 Yrs   \n",
       "1  GlaxoSmithKline Pharmaceuticals Limited             3-8 Yrs   \n",
       "2                          ExecBoardinAsia            5-10 Yrs   \n",
       "3           Animaker India Private Limited             4-9 Yrs   \n",
       "4   Contactx Resource Management Pvt. Ltd.             3-8 Yrs   \n",
       "5                                  Genpact            5-10 Yrs   \n",
       "6                                 Flipkart             2-4 Yrs   \n",
       "7   Atria Convergence Technologies Pvt Ltd             2-5 Yrs   \n",
       "8   StackNexus Technologies India Pvt. Ltd             3-6 Yrs   \n",
       "9       Pharmaceutical Product Development             4-6 Yrs   \n",
       "\n",
       "                                      location  \n",
       "0                          Bangalore/Bengaluru  \n",
       "1                          Bangalore/Bengaluru  \n",
       "2                          Bangalore/Bengaluru  \n",
       "3                 Chennai, Bangalore/Bengaluru  \n",
       "4        Gurgaon/Gurugram, Bangalore/Bengaluru  \n",
       "5                          Bangalore/Bengaluru  \n",
       "6                          Bengaluru/Bangalore  \n",
       "7                          Bangalore/Bengaluru  \n",
       "8  Hyderabad/Secunderabad, Bangalore/Bengaluru  \n",
       "9                          Bangalore/Bengaluru  "
      ]
     },
     "execution_count": 50,
     "metadata": {},
     "output_type": "execute_result"
    }
   ],
   "source": [
    "jobs"
   ]
  },
  {
   "cell_type": "markdown",
   "id": "d13c60cd",
   "metadata": {},
   "source": [
    "# Write a python program to scrape data for “Data Scientist” Job position in “Bangalore” location. You have to scrape the job-title, job-location, company_name. You have to scrape first 10 jobs data."
   ]
  },
  {
   "cell_type": "code",
   "execution_count": 2,
   "id": "3e139796",
   "metadata": {},
   "outputs": [],
   "source": [
    "import selenium\n",
    "import pandas as pd\n",
    "from selenium import webdriver"
   ]
  },
  {
   "cell_type": "code",
   "execution_count": 8,
   "id": "068cb50c",
   "metadata": {},
   "outputs": [
    {
     "name": "stderr",
     "output_type": "stream",
     "text": [
      "<ipython-input-8-bcea5228ba58>:1: DeprecationWarning: executable_path has been deprecated, please pass in a Service object\n",
      "  driver = webdriver.Chrome(r\"C:\\Users\\user\\Downloads\\chromedriver_win32\\chromedriver.exe\")\n"
     ]
    }
   ],
   "source": [
    "driver = webdriver.Chrome(r\"C:\\Users\\user\\Downloads\\chromedriver_win32\\chromedriver.exe\")"
   ]
  },
  {
   "cell_type": "code",
   "execution_count": 128,
   "id": "25e8f7d7",
   "metadata": {},
   "outputs": [],
   "source": [
    "# driver.close()"
   ]
  },
  {
   "cell_type": "code",
   "execution_count": 10,
   "id": "8d9004ab",
   "metadata": {},
   "outputs": [],
   "source": [
    "driver.get(\"https://www.naukri.com/\")"
   ]
  },
  {
   "cell_type": "code",
   "execution_count": 11,
   "id": "a1a92ae7",
   "metadata": {},
   "outputs": [
    {
     "name": "stderr",
     "output_type": "stream",
     "text": [
      "<ipython-input-11-15cc5060558f>:1: DeprecationWarning: find_element_by_* commands are deprecated. Please use find_element() instead\n",
      "  search_job = driver.find_element_by_id(\"qsb-keyword-sugg\")\n",
      "<ipython-input-11-15cc5060558f>:3: DeprecationWarning: find_element_by_* commands are deprecated. Please use find_element() instead\n",
      "  search_loc = driver.find_element_by_xpath(\"//input[@id='qsb-location-sugg']\")\n"
     ]
    }
   ],
   "source": [
    "search_job = driver.find_element_by_id(\"qsb-keyword-sugg\")\n",
    "search_job.send_keys(\"Data Scientist\")\n",
    "search_loc = driver.find_element_by_xpath(\"//input[@id='qsb-location-sugg']\")\n",
    "search_loc.send_keys(\"Bangalore\")"
   ]
  },
  {
   "cell_type": "code",
   "execution_count": 12,
   "id": "caa0d355",
   "metadata": {},
   "outputs": [
    {
     "name": "stderr",
     "output_type": "stream",
     "text": [
      "<ipython-input-12-c9b437d84350>:1: DeprecationWarning: find_element_by_* commands are deprecated. Please use find_element() instead\n",
      "  search_btn = driver.find_element_by_xpath(\"//div[@class='search-btn']/button\")\n"
     ]
    }
   ],
   "source": [
    "search_btn = driver.find_element_by_xpath(\"//div[@class='search-btn']/button\")\n",
    "search_btn.click()"
   ]
  },
  {
   "cell_type": "code",
   "execution_count": 13,
   "id": "4556e160",
   "metadata": {},
   "outputs": [],
   "source": [
    "job_titles=[]\n",
    "company_names=[]\n",
    "locations_list=[]\n"
   ]
  },
  {
   "cell_type": "code",
   "execution_count": 14,
   "id": "65c10be2",
   "metadata": {},
   "outputs": [
    {
     "name": "stderr",
     "output_type": "stream",
     "text": [
      "<ipython-input-14-6a62be88574a>:1: DeprecationWarning: find_elements_by_* commands are deprecated. Please use find_elements() instead\n",
      "  titles_tags=driver.find_elements_by_xpath(\"//a[@class='title fw500 ellipsis']\")\n"
     ]
    },
    {
     "data": {
      "text/plain": [
       "[<selenium.webdriver.remote.webelement.WebElement (session=\"f1f1007f4cd5fb9889a01c0af37ce2ee\", element=\"9fb9c1fa-bdcf-425c-9b0d-f3c03f08c1ac\")>,\n",
       " <selenium.webdriver.remote.webelement.WebElement (session=\"f1f1007f4cd5fb9889a01c0af37ce2ee\", element=\"22342dea-12ce-4c8c-a14b-b36e40c0a3f4\")>,\n",
       " <selenium.webdriver.remote.webelement.WebElement (session=\"f1f1007f4cd5fb9889a01c0af37ce2ee\", element=\"78c03df0-ed33-4444-a1ae-46987b9245c1\")>,\n",
       " <selenium.webdriver.remote.webelement.WebElement (session=\"f1f1007f4cd5fb9889a01c0af37ce2ee\", element=\"56a603f8-883c-4e2b-8a9a-1eeae9c5a514\")>,\n",
       " <selenium.webdriver.remote.webelement.WebElement (session=\"f1f1007f4cd5fb9889a01c0af37ce2ee\", element=\"f2378d01-95eb-4743-aa73-d1fb6dc5f18e\")>,\n",
       " <selenium.webdriver.remote.webelement.WebElement (session=\"f1f1007f4cd5fb9889a01c0af37ce2ee\", element=\"dd77e99f-017c-40c7-a520-50d0b2d81a89\")>,\n",
       " <selenium.webdriver.remote.webelement.WebElement (session=\"f1f1007f4cd5fb9889a01c0af37ce2ee\", element=\"ae07b99e-a2fd-4505-bd88-3b3dd812cfca\")>,\n",
       " <selenium.webdriver.remote.webelement.WebElement (session=\"f1f1007f4cd5fb9889a01c0af37ce2ee\", element=\"7117baea-58e8-4133-a9e4-d806442ea79d\")>,\n",
       " <selenium.webdriver.remote.webelement.WebElement (session=\"f1f1007f4cd5fb9889a01c0af37ce2ee\", element=\"919d4f38-b6d8-4995-ad0c-f56cbaab23f2\")>,\n",
       " <selenium.webdriver.remote.webelement.WebElement (session=\"f1f1007f4cd5fb9889a01c0af37ce2ee\", element=\"33bba762-1ae0-4458-b5e5-7298d875e303\")>]"
      ]
     },
     "execution_count": 14,
     "metadata": {},
     "output_type": "execute_result"
    }
   ],
   "source": [
    "titles_tags=driver.find_elements_by_xpath(\"//a[@class='title fw500 ellipsis']\")\n",
    "titles_tags[0:10]"
   ]
  },
  {
   "cell_type": "code",
   "execution_count": 15,
   "id": "5cd9e592",
   "metadata": {},
   "outputs": [
    {
     "data": {
      "text/plain": [
       "['Lead / Principal Data Scientist',\n",
       " 'Data Scientist',\n",
       " 'Senior Data Scientist',\n",
       " 'Senior Data Scientist',\n",
       " 'Data Scientist - Credit Risk',\n",
       " 'Lead/Senior Data Scientist (NLP)',\n",
       " 'Data Scientist 2',\n",
       " 'Machine Learning AI Data Scientist',\n",
       " 'Sr. Associate Consultant Data Scientist',\n",
       " 'Senior Engineer - AIML - Data Scientist']"
      ]
     },
     "execution_count": 15,
     "metadata": {},
     "output_type": "execute_result"
    }
   ],
   "source": [
    "for i in titles_tags:\n",
    "    title=i.text\n",
    "    job_titles.append(title)\n",
    "job_titles[0:10]"
   ]
  },
  {
   "cell_type": "code",
   "execution_count": 35,
   "id": "5f7d1a6d",
   "metadata": {},
   "outputs": [
    {
     "name": "stderr",
     "output_type": "stream",
     "text": [
      "<ipython-input-35-e3923243703b>:1: DeprecationWarning: find_elements_by_* commands are deprecated. Please use find_elements() instead\n",
      "  companies_tags=driver.find_elements_by_xpath(\"//a['@href=https://www.naukri.com/premium-jobs-jobs-careers-678662']\")\n"
     ]
    },
    {
     "data": {
      "text/plain": [
       "[<selenium.webdriver.remote.webelement.WebElement (session=\"f1f1007f4cd5fb9889a01c0af37ce2ee\", element=\"786ed341-d37a-4dd1-8d4d-4c9894ad1922\")>,\n",
       " <selenium.webdriver.remote.webelement.WebElement (session=\"f1f1007f4cd5fb9889a01c0af37ce2ee\", element=\"4a324bf3-5259-4393-ad71-dc1c638e2886\")>,\n",
       " <selenium.webdriver.remote.webelement.WebElement (session=\"f1f1007f4cd5fb9889a01c0af37ce2ee\", element=\"ed82eddd-eed0-432e-9755-1bf55773cadd\")>,\n",
       " <selenium.webdriver.remote.webelement.WebElement (session=\"f1f1007f4cd5fb9889a01c0af37ce2ee\", element=\"a3f0a328-d6d3-4144-93b4-28e6b50e3274\")>,\n",
       " <selenium.webdriver.remote.webelement.WebElement (session=\"f1f1007f4cd5fb9889a01c0af37ce2ee\", element=\"878b9b66-4b78-49c7-943e-479011541ce1\")>,\n",
       " <selenium.webdriver.remote.webelement.WebElement (session=\"f1f1007f4cd5fb9889a01c0af37ce2ee\", element=\"3e12de0a-4591-43df-9803-806569313fd2\")>,\n",
       " <selenium.webdriver.remote.webelement.WebElement (session=\"f1f1007f4cd5fb9889a01c0af37ce2ee\", element=\"89cc0578-f2c2-42ef-a9d8-c5be93b0d282\")>,\n",
       " <selenium.webdriver.remote.webelement.WebElement (session=\"f1f1007f4cd5fb9889a01c0af37ce2ee\", element=\"c75cf9fe-3139-48e5-ad6e-903817e3241d\")>,\n",
       " <selenium.webdriver.remote.webelement.WebElement (session=\"f1f1007f4cd5fb9889a01c0af37ce2ee\", element=\"e980a3b2-5d1d-4dc7-8aec-843250b2a7a2\")>,\n",
       " <selenium.webdriver.remote.webelement.WebElement (session=\"f1f1007f4cd5fb9889a01c0af37ce2ee\", element=\"23c27ff3-3c28-4bb1-8dcb-7635790dc565\")>]"
      ]
     },
     "execution_count": 35,
     "metadata": {},
     "output_type": "execute_result"
    }
   ],
   "source": [
    "companies_tags=driver.find_elements_by_xpath(\"//a['@href=https://www.naukri.com/premium-jobs-jobs-careers-678662']\")\n",
    "companies_tags[0:10]"
   ]
  },
  {
   "cell_type": "code",
   "execution_count": 37,
   "id": "f05ba988",
   "metadata": {},
   "outputs": [
    {
     "data": {
      "text/plain": [
       "['',\n",
       " 'JOBS',\n",
       " '',\n",
       " '',\n",
       " '',\n",
       " '',\n",
       " '',\n",
       " '',\n",
       " '',\n",
       " '',\n",
       " '',\n",
       " '',\n",
       " 'RECRUITERS',\n",
       " '',\n",
       " '',\n",
       " '',\n",
       " 'COMPANIES',\n",
       " '',\n",
       " '',\n",
       " '',\n",
       " '',\n",
       " '',\n",
       " '',\n",
       " '',\n",
       " 'TOOLS',\n",
       " '',\n",
       " '',\n",
       " '',\n",
       " '',\n",
       " 'SERVICES',\n",
       " '',\n",
       " '',\n",
       " '',\n",
       " '',\n",
       " '',\n",
       " '',\n",
       " '',\n",
       " '',\n",
       " '',\n",
       " '',\n",
       " '',\n",
       " '',\n",
       " '',\n",
       " '',\n",
       " '',\n",
       " '',\n",
       " '',\n",
       " '',\n",
       " '',\n",
       " '',\n",
       " '',\n",
       " '',\n",
       " '',\n",
       " '',\n",
       " '',\n",
       " '',\n",
       " '',\n",
       " '',\n",
       " '',\n",
       " '',\n",
       " '',\n",
       " '',\n",
       " 'MORE',\n",
       " '',\n",
       " '',\n",
       " '',\n",
       " '',\n",
       " '',\n",
       " '',\n",
       " '',\n",
       " '',\n",
       " '',\n",
       " '',\n",
       " '',\n",
       " '',\n",
       " '',\n",
       " '',\n",
       " '',\n",
       " '',\n",
       " '',\n",
       " '',\n",
       " '',\n",
       " '',\n",
       " '',\n",
       " '',\n",
       " '',\n",
       " '',\n",
       " '',\n",
       " '',\n",
       " '',\n",
       " '',\n",
       " '',\n",
       " '',\n",
       " '',\n",
       " 'LOGIN',\n",
       " '',\n",
       " '',\n",
       " 'FOR EMPLOYERS',\n",
       " '',\n",
       " '',\n",
       " '',\n",
       " '',\n",
       " '',\n",
       " '',\n",
       " '',\n",
       " '+ 22 More',\n",
       " '',\n",
       " '',\n",
       " '',\n",
       " '',\n",
       " 'Lead / Principal Data Scientist',\n",
       " 'Aviso Inc',\n",
       " '(7 Reviews)',\n",
       " 'Data Scientist',\n",
       " 'Snaphunt',\n",
       " 'Senior Data Scientist',\n",
       " '',\n",
       " '',\n",
       " '',\n",
       " '',\n",
       " '',\n",
       " '',\n",
       " '',\n",
       " '',\n",
       " '',\n",
       " '',\n",
       " '',\n",
       " '',\n",
       " '',\n",
       " '',\n",
       " '',\n",
       " '',\n",
       " '',\n",
       " '',\n",
       " '',\n",
       " '',\n",
       " '',\n",
       " '',\n",
       " '',\n",
       " '',\n",
       " '',\n",
       " '',\n",
       " '',\n",
       " '',\n",
       " '',\n",
       " '',\n",
       " '',\n",
       " '',\n",
       " '',\n",
       " '',\n",
       " '',\n",
       " '',\n",
       " '',\n",
       " '',\n",
       " '',\n",
       " '',\n",
       " '',\n",
       " '',\n",
       " '',\n",
       " '',\n",
       " '',\n",
       " '',\n",
       " '',\n",
       " '',\n",
       " '',\n",
       " '',\n",
       " '',\n",
       " '',\n",
       " '',\n",
       " '',\n",
       " '',\n",
       " '',\n",
       " '',\n",
       " '',\n",
       " '',\n",
       " '',\n",
       " '',\n",
       " '',\n",
       " '',\n",
       " '',\n",
       " '',\n",
       " '',\n",
       " '',\n",
       " '',\n",
       " '',\n",
       " '',\n",
       " '',\n",
       " '',\n",
       " '',\n",
       " '',\n",
       " '',\n",
       " '',\n",
       " '',\n",
       " '',\n",
       " '',\n",
       " '',\n",
       " '',\n",
       " '',\n",
       " '',\n",
       " '',\n",
       " '',\n",
       " '',\n",
       " '',\n",
       " '',\n",
       " '',\n",
       " '',\n",
       " '',\n",
       " '',\n",
       " '',\n",
       " '',\n",
       " '',\n",
       " '',\n",
       " '',\n",
       " '',\n",
       " '',\n",
       " '',\n",
       " '',\n",
       " '',\n",
       " '',\n",
       " '',\n",
       " '',\n",
       " '',\n",
       " '',\n",
       " '',\n",
       " '',\n",
       " '',\n",
       " '',\n",
       " '',\n",
       " '',\n",
       " '',\n",
       " '',\n",
       " '',\n",
       " '',\n",
       " '',\n",
       " '',\n",
       " '',\n",
       " '',\n",
       " '',\n",
       " '',\n",
       " '',\n",
       " '',\n",
       " '',\n",
       " '',\n",
       " '',\n",
       " '',\n",
       " '',\n",
       " '',\n",
       " '',\n",
       " '',\n",
       " '',\n",
       " '',\n",
       " '',\n",
       " '',\n",
       " '',\n",
       " '',\n",
       " '',\n",
       " '',\n",
       " '',\n",
       " '',\n",
       " '',\n",
       " '',\n",
       " '',\n",
       " '',\n",
       " '',\n",
       " '',\n",
       " '',\n",
       " '',\n",
       " '',\n",
       " '',\n",
       " '',\n",
       " '',\n",
       " '',\n",
       " '',\n",
       " '',\n",
       " '',\n",
       " '',\n",
       " '',\n",
       " '',\n",
       " '',\n",
       " '',\n",
       " '',\n",
       " '',\n",
       " '',\n",
       " '',\n",
       " '',\n",
       " '',\n",
       " '',\n",
       " '',\n",
       " '',\n",
       " '',\n",
       " '',\n",
       " '',\n",
       " '',\n",
       " '',\n",
       " '',\n",
       " '',\n",
       " '',\n",
       " '',\n",
       " '',\n",
       " '',\n",
       " '',\n",
       " '',\n",
       " '',\n",
       " '',\n",
       " '',\n",
       " '',\n",
       " '',\n",
       " '',\n",
       " '',\n",
       " '',\n",
       " '',\n",
       " '',\n",
       " '',\n",
       " '',\n",
       " '',\n",
       " '',\n",
       " '',\n",
       " '',\n",
       " '',\n",
       " '',\n",
       " '',\n",
       " '',\n",
       " '',\n",
       " '',\n",
       " '',\n",
       " '',\n",
       " '',\n",
       " '',\n",
       " '',\n",
       " '',\n",
       " '',\n",
       " '',\n",
       " '',\n",
       " '',\n",
       " '',\n",
       " '',\n",
       " '',\n",
       " '',\n",
       " '',\n",
       " '',\n",
       " '',\n",
       " '',\n",
       " '',\n",
       " '',\n",
       " '',\n",
       " '',\n",
       " '',\n",
       " '',\n",
       " '',\n",
       " '',\n",
       " '',\n",
       " '',\n",
       " '',\n",
       " '',\n",
       " '',\n",
       " '',\n",
       " '',\n",
       " '',\n",
       " '',\n",
       " '',\n",
       " '',\n",
       " '',\n",
       " '',\n",
       " '',\n",
       " '',\n",
       " '',\n",
       " '',\n",
       " '',\n",
       " '',\n",
       " '',\n",
       " '',\n",
       " '',\n",
       " '',\n",
       " '',\n",
       " '',\n",
       " '',\n",
       " '',\n",
       " '',\n",
       " '',\n",
       " '',\n",
       " '',\n",
       " '',\n",
       " '',\n",
       " '',\n",
       " '',\n",
       " '',\n",
       " '',\n",
       " '',\n",
       " '',\n",
       " '',\n",
       " '',\n",
       " '',\n",
       " '',\n",
       " '',\n",
       " '',\n",
       " '',\n",
       " '',\n",
       " '',\n",
       " '',\n",
       " '',\n",
       " '',\n",
       " '',\n",
       " '',\n",
       " '',\n",
       " '',\n",
       " '',\n",
       " '',\n",
       " '',\n",
       " '',\n",
       " '',\n",
       " '',\n",
       " '',\n",
       " '',\n",
       " '',\n",
       " '',\n",
       " '',\n",
       " '',\n",
       " '',\n",
       " '',\n",
       " '',\n",
       " '',\n",
       " '',\n",
       " '',\n",
       " '',\n",
       " '',\n",
       " '',\n",
       " '',\n",
       " '',\n",
       " '',\n",
       " '',\n",
       " '',\n",
       " '',\n",
       " '',\n",
       " '',\n",
       " '',\n",
       " '',\n",
       " '',\n",
       " '',\n",
       " '',\n",
       " '',\n",
       " '',\n",
       " '',\n",
       " '',\n",
       " '',\n",
       " '',\n",
       " '',\n",
       " '',\n",
       " '',\n",
       " '',\n",
       " '',\n",
       " '',\n",
       " '',\n",
       " '',\n",
       " '',\n",
       " '',\n",
       " '',\n",
       " '',\n",
       " '',\n",
       " '',\n",
       " '',\n",
       " '',\n",
       " '',\n",
       " '',\n",
       " '',\n",
       " '',\n",
       " '',\n",
       " '',\n",
       " '',\n",
       " '',\n",
       " '',\n",
       " '',\n",
       " '',\n",
       " '',\n",
       " '',\n",
       " '',\n",
       " '',\n",
       " '',\n",
       " '',\n",
       " '',\n",
       " '',\n",
       " '',\n",
       " '',\n",
       " '',\n",
       " '',\n",
       " '',\n",
       " '',\n",
       " '',\n",
       " '',\n",
       " '',\n",
       " '',\n",
       " '',\n",
       " '',\n",
       " '',\n",
       " '',\n",
       " '',\n",
       " '',\n",
       " '',\n",
       " '',\n",
       " '',\n",
       " '',\n",
       " '',\n",
       " '',\n",
       " '',\n",
       " '',\n",
       " '',\n",
       " '',\n",
       " '',\n",
       " '',\n",
       " '',\n",
       " '',\n",
       " '',\n",
       " '',\n",
       " '',\n",
       " '',\n",
       " '',\n",
       " '',\n",
       " '',\n",
       " '',\n",
       " '',\n",
       " '',\n",
       " '',\n",
       " '',\n",
       " '',\n",
       " '',\n",
       " '',\n",
       " '',\n",
       " '',\n",
       " '',\n",
       " '',\n",
       " '',\n",
       " '',\n",
       " '',\n",
       " '',\n",
       " '',\n",
       " '',\n",
       " '',\n",
       " '',\n",
       " '',\n",
       " '',\n",
       " '',\n",
       " '',\n",
       " '',\n",
       " '',\n",
       " '',\n",
       " '',\n",
       " '',\n",
       " '',\n",
       " '',\n",
       " '',\n",
       " '',\n",
       " '',\n",
       " '',\n",
       " '',\n",
       " '',\n",
       " '',\n",
       " '',\n",
       " '',\n",
       " '',\n",
       " '',\n",
       " '',\n",
       " '',\n",
       " '',\n",
       " '',\n",
       " '',\n",
       " '',\n",
       " '',\n",
       " '',\n",
       " '',\n",
       " '',\n",
       " '',\n",
       " '',\n",
       " '',\n",
       " '',\n",
       " '',\n",
       " '',\n",
       " '',\n",
       " '',\n",
       " '',\n",
       " '',\n",
       " '',\n",
       " '',\n",
       " '',\n",
       " '',\n",
       " '',\n",
       " '',\n",
       " '',\n",
       " '',\n",
       " '',\n",
       " '',\n",
       " '',\n",
       " '',\n",
       " '',\n",
       " '',\n",
       " '',\n",
       " '',\n",
       " '',\n",
       " '',\n",
       " '',\n",
       " '',\n",
       " '',\n",
       " '',\n",
       " '',\n",
       " '',\n",
       " '',\n",
       " '',\n",
       " '',\n",
       " '',\n",
       " '',\n",
       " '',\n",
       " '',\n",
       " '',\n",
       " '',\n",
       " '',\n",
       " '',\n",
       " '',\n",
       " '',\n",
       " '',\n",
       " '',\n",
       " '',\n",
       " '',\n",
       " '',\n",
       " '',\n",
       " '',\n",
       " '',\n",
       " '',\n",
       " '',\n",
       " '',\n",
       " '',\n",
       " '',\n",
       " '',\n",
       " '',\n",
       " '',\n",
       " '',\n",
       " '',\n",
       " '',\n",
       " '',\n",
       " '',\n",
       " '',\n",
       " '',\n",
       " '',\n",
       " '',\n",
       " '',\n",
       " '',\n",
       " '',\n",
       " '',\n",
       " '',\n",
       " '',\n",
       " '',\n",
       " '',\n",
       " '',\n",
       " '',\n",
       " '',\n",
       " 'JOBS',\n",
       " '',\n",
       " '',\n",
       " '',\n",
       " '',\n",
       " '',\n",
       " '',\n",
       " '',\n",
       " '',\n",
       " '',\n",
       " '',\n",
       " 'RECRUITERS',\n",
       " '',\n",
       " '',\n",
       " '',\n",
       " 'COMPANIES',\n",
       " '',\n",
       " '',\n",
       " '',\n",
       " '',\n",
       " '',\n",
       " '',\n",
       " '',\n",
       " 'TOOLS',\n",
       " '',\n",
       " '',\n",
       " '',\n",
       " '',\n",
       " 'SERVICES',\n",
       " '',\n",
       " '',\n",
       " '',\n",
       " '',\n",
       " '',\n",
       " '',\n",
       " '',\n",
       " '',\n",
       " '',\n",
       " '',\n",
       " '',\n",
       " '',\n",
       " '',\n",
       " '',\n",
       " '',\n",
       " '',\n",
       " '',\n",
       " '',\n",
       " '',\n",
       " '',\n",
       " '',\n",
       " '',\n",
       " '',\n",
       " '',\n",
       " '',\n",
       " '',\n",
       " '',\n",
       " '',\n",
       " '',\n",
       " '',\n",
       " '',\n",
       " '',\n",
       " 'MORE',\n",
       " '',\n",
       " '',\n",
       " '',\n",
       " '',\n",
       " '',\n",
       " '',\n",
       " '',\n",
       " '',\n",
       " '',\n",
       " '',\n",
       " '',\n",
       " '',\n",
       " '',\n",
       " '',\n",
       " '',\n",
       " '',\n",
       " '',\n",
       " '',\n",
       " '',\n",
       " '',\n",
       " '',\n",
       " '',\n",
       " '',\n",
       " '',\n",
       " '',\n",
       " '',\n",
       " '',\n",
       " '',\n",
       " '',\n",
       " '',\n",
       " '',\n",
       " 'LOGIN',\n",
       " '',\n",
       " '',\n",
       " 'FOR EMPLOYERS',\n",
       " '',\n",
       " '',\n",
       " '',\n",
       " '',\n",
       " '',\n",
       " '',\n",
       " '',\n",
       " '+ 22 More',\n",
       " '',\n",
       " '',\n",
       " '',\n",
       " '',\n",
       " 'Lead / Principal Data Scientist',\n",
       " 'Aviso Inc',\n",
       " '(7 Reviews)',\n",
       " 'Data Scientist',\n",
       " 'Snaphunt',\n",
       " 'Senior Data Scientist',\n",
       " '',\n",
       " '',\n",
       " '',\n",
       " '',\n",
       " '',\n",
       " '',\n",
       " '',\n",
       " '',\n",
       " '',\n",
       " '',\n",
       " '',\n",
       " '',\n",
       " '',\n",
       " '',\n",
       " '',\n",
       " '',\n",
       " '',\n",
       " '',\n",
       " '',\n",
       " '',\n",
       " '',\n",
       " '',\n",
       " '',\n",
       " '',\n",
       " '',\n",
       " '',\n",
       " '',\n",
       " '',\n",
       " '',\n",
       " '',\n",
       " '',\n",
       " '',\n",
       " '',\n",
       " '',\n",
       " '',\n",
       " '',\n",
       " '',\n",
       " '',\n",
       " '',\n",
       " '',\n",
       " '',\n",
       " '',\n",
       " '',\n",
       " '',\n",
       " '',\n",
       " '',\n",
       " '',\n",
       " '',\n",
       " '',\n",
       " '',\n",
       " '',\n",
       " '',\n",
       " '',\n",
       " '',\n",
       " '',\n",
       " '',\n",
       " '',\n",
       " '',\n",
       " '',\n",
       " '',\n",
       " '',\n",
       " '',\n",
       " '',\n",
       " '',\n",
       " '',\n",
       " '',\n",
       " '',\n",
       " '',\n",
       " '',\n",
       " '',\n",
       " '',\n",
       " '',\n",
       " '',\n",
       " '',\n",
       " '',\n",
       " '',\n",
       " '',\n",
       " '',\n",
       " '',\n",
       " '',\n",
       " '',\n",
       " '',\n",
       " '',\n",
       " '',\n",
       " '',\n",
       " '',\n",
       " '',\n",
       " '',\n",
       " '',\n",
       " '',\n",
       " '',\n",
       " '',\n",
       " '',\n",
       " '',\n",
       " '',\n",
       " '',\n",
       " '',\n",
       " '',\n",
       " '',\n",
       " '',\n",
       " '',\n",
       " '',\n",
       " '',\n",
       " '',\n",
       " '',\n",
       " '',\n",
       " '',\n",
       " '',\n",
       " '',\n",
       " '',\n",
       " '',\n",
       " '',\n",
       " '',\n",
       " '',\n",
       " '',\n",
       " '',\n",
       " '',\n",
       " '',\n",
       " '',\n",
       " '',\n",
       " '',\n",
       " '',\n",
       " '',\n",
       " '',\n",
       " '',\n",
       " '',\n",
       " '',\n",
       " '',\n",
       " '',\n",
       " '',\n",
       " '',\n",
       " '',\n",
       " '',\n",
       " '',\n",
       " '',\n",
       " '',\n",
       " '',\n",
       " '',\n",
       " '',\n",
       " '',\n",
       " '',\n",
       " '',\n",
       " '',\n",
       " '',\n",
       " '',\n",
       " '',\n",
       " '',\n",
       " '',\n",
       " '',\n",
       " '',\n",
       " '',\n",
       " '',\n",
       " '',\n",
       " '',\n",
       " '',\n",
       " '',\n",
       " '',\n",
       " '',\n",
       " '',\n",
       " '',\n",
       " '',\n",
       " '',\n",
       " '',\n",
       " '',\n",
       " '',\n",
       " '',\n",
       " '',\n",
       " '',\n",
       " '',\n",
       " '',\n",
       " '',\n",
       " '',\n",
       " '',\n",
       " '',\n",
       " '',\n",
       " '',\n",
       " '',\n",
       " '',\n",
       " '',\n",
       " '',\n",
       " '',\n",
       " '',\n",
       " '',\n",
       " '',\n",
       " '',\n",
       " '',\n",
       " '',\n",
       " '',\n",
       " '',\n",
       " '',\n",
       " '',\n",
       " '',\n",
       " '',\n",
       " '',\n",
       " '',\n",
       " '',\n",
       " '',\n",
       " '',\n",
       " '',\n",
       " '',\n",
       " '',\n",
       " '',\n",
       " '',\n",
       " '',\n",
       " '',\n",
       " '',\n",
       " '',\n",
       " '',\n",
       " '',\n",
       " '',\n",
       " '',\n",
       " '',\n",
       " '',\n",
       " '',\n",
       " '',\n",
       " '',\n",
       " '',\n",
       " '',\n",
       " '',\n",
       " '',\n",
       " '',\n",
       " '',\n",
       " '',\n",
       " '',\n",
       " '',\n",
       " '',\n",
       " '',\n",
       " '',\n",
       " '',\n",
       " '',\n",
       " '',\n",
       " '',\n",
       " '',\n",
       " ...]"
      ]
     },
     "execution_count": 37,
     "metadata": {},
     "output_type": "execute_result"
    }
   ],
   "source": [
    "for i in companies_tags:\n",
    "    company_name=i.text\n",
    "    company_names.append(company_name)\n",
    "company_names    "
   ]
  },
  {
   "cell_type": "code",
   "execution_count": 38,
   "id": "88176985",
   "metadata": {},
   "outputs": [
    {
     "name": "stderr",
     "output_type": "stream",
     "text": [
      "<ipython-input-38-0e51a4a56113>:1: DeprecationWarning: find_elements_by_* commands are deprecated. Please use find_elements() instead\n",
      "  locations_tags=driver.find_elements_by_xpath(\"//li[@class='fleft grey-text br2 placeHolderLi location']/span[1]\")\n"
     ]
    },
    {
     "data": {
      "text/plain": [
       "[<selenium.webdriver.remote.webelement.WebElement (session=\"f1f1007f4cd5fb9889a01c0af37ce2ee\", element=\"2c633b66-a0de-4451-a3da-21076f1a5f57\")>,\n",
       " <selenium.webdriver.remote.webelement.WebElement (session=\"f1f1007f4cd5fb9889a01c0af37ce2ee\", element=\"184e8a37-3ea3-496d-88b1-864ae30b689c\")>,\n",
       " <selenium.webdriver.remote.webelement.WebElement (session=\"f1f1007f4cd5fb9889a01c0af37ce2ee\", element=\"daae1323-ed12-454a-8b38-a947c2f08d54\")>,\n",
       " <selenium.webdriver.remote.webelement.WebElement (session=\"f1f1007f4cd5fb9889a01c0af37ce2ee\", element=\"dd38066f-0b44-4e08-9a0a-93af5000872f\")>,\n",
       " <selenium.webdriver.remote.webelement.WebElement (session=\"f1f1007f4cd5fb9889a01c0af37ce2ee\", element=\"9482f8ff-8bc0-4922-93eb-cdc26134b84c\")>,\n",
       " <selenium.webdriver.remote.webelement.WebElement (session=\"f1f1007f4cd5fb9889a01c0af37ce2ee\", element=\"c8ee6837-d041-4601-867e-2e352fd3f98f\")>,\n",
       " <selenium.webdriver.remote.webelement.WebElement (session=\"f1f1007f4cd5fb9889a01c0af37ce2ee\", element=\"5df4b61c-c155-48dc-9572-40398dd50903\")>,\n",
       " <selenium.webdriver.remote.webelement.WebElement (session=\"f1f1007f4cd5fb9889a01c0af37ce2ee\", element=\"79846cae-d821-4a15-be16-04cf5af8bc01\")>,\n",
       " <selenium.webdriver.remote.webelement.WebElement (session=\"f1f1007f4cd5fb9889a01c0af37ce2ee\", element=\"be02722a-7b47-422d-950d-435f498cf886\")>,\n",
       " <selenium.webdriver.remote.webelement.WebElement (session=\"f1f1007f4cd5fb9889a01c0af37ce2ee\", element=\"fb5e5e6f-1b58-467b-9246-4e0c9911dd36\")>,\n",
       " <selenium.webdriver.remote.webelement.WebElement (session=\"f1f1007f4cd5fb9889a01c0af37ce2ee\", element=\"32737085-b7a5-4ec2-b65f-123fdc32ef5a\")>,\n",
       " <selenium.webdriver.remote.webelement.WebElement (session=\"f1f1007f4cd5fb9889a01c0af37ce2ee\", element=\"314194d0-92e6-4169-983c-7b0a86ec17dd\")>,\n",
       " <selenium.webdriver.remote.webelement.WebElement (session=\"f1f1007f4cd5fb9889a01c0af37ce2ee\", element=\"32e4b1ab-ecc1-4c4a-9dfa-f100cb2f22df\")>,\n",
       " <selenium.webdriver.remote.webelement.WebElement (session=\"f1f1007f4cd5fb9889a01c0af37ce2ee\", element=\"ce145f53-6085-4050-8429-0110e8bf0a8e\")>,\n",
       " <selenium.webdriver.remote.webelement.WebElement (session=\"f1f1007f4cd5fb9889a01c0af37ce2ee\", element=\"c8b82be6-5fd8-4cf5-b412-44edcea8192b\")>,\n",
       " <selenium.webdriver.remote.webelement.WebElement (session=\"f1f1007f4cd5fb9889a01c0af37ce2ee\", element=\"5bb69e1f-5778-45c5-9913-ec088e08f64a\")>,\n",
       " <selenium.webdriver.remote.webelement.WebElement (session=\"f1f1007f4cd5fb9889a01c0af37ce2ee\", element=\"4bff8539-ace8-417b-ab0b-fcfa5bd081ea\")>,\n",
       " <selenium.webdriver.remote.webelement.WebElement (session=\"f1f1007f4cd5fb9889a01c0af37ce2ee\", element=\"34454aba-1138-4240-83a6-85e86761329e\")>,\n",
       " <selenium.webdriver.remote.webelement.WebElement (session=\"f1f1007f4cd5fb9889a01c0af37ce2ee\", element=\"2b7f994a-2743-4e97-a564-0e7d44854076\")>,\n",
       " <selenium.webdriver.remote.webelement.WebElement (session=\"f1f1007f4cd5fb9889a01c0af37ce2ee\", element=\"a73d64e8-35de-46e8-b7fe-85962c15e788\")>]"
      ]
     },
     "execution_count": 38,
     "metadata": {},
     "output_type": "execute_result"
    }
   ],
   "source": [
    "locations_tags=driver.find_elements_by_xpath(\"//li[@class='fleft grey-text br2 placeHolderLi location']/span[1]\")\n",
    "locations_tags"
   ]
  },
  {
   "cell_type": "code",
   "execution_count": 39,
   "id": "2a3fea82",
   "metadata": {},
   "outputs": [
    {
     "data": {
      "text/plain": [
       "['8-13 Yrs',\n",
       " 'Not disclosed',\n",
       " 'Mumbai, Hyderabad/Secunderabad, Pune, Delhi / NCR, Bangalore/Bengaluru',\n",
       " '0-2 Yrs',\n",
       " '7,00,000 - 8,00,000 PA.',\n",
       " 'Bangalore/Bengaluru',\n",
       " '',\n",
       " '',\n",
       " '',\n",
       " '',\n",
       " '',\n",
       " '',\n",
       " '',\n",
       " '',\n",
       " '',\n",
       " '',\n",
       " '',\n",
       " '',\n",
       " '',\n",
       " '',\n",
       " '',\n",
       " '',\n",
       " '',\n",
       " '',\n",
       " '',\n",
       " '',\n",
       " '',\n",
       " '',\n",
       " '',\n",
       " '',\n",
       " '',\n",
       " '',\n",
       " '',\n",
       " '',\n",
       " '',\n",
       " '',\n",
       " '',\n",
       " '',\n",
       " '',\n",
       " '',\n",
       " '',\n",
       " '',\n",
       " '',\n",
       " '',\n",
       " '',\n",
       " '',\n",
       " '',\n",
       " '',\n",
       " '',\n",
       " '',\n",
       " '',\n",
       " '',\n",
       " '',\n",
       " '',\n",
       " '',\n",
       " '',\n",
       " '',\n",
       " '',\n",
       " '',\n",
       " '',\n",
       " '',\n",
       " 'Mumbai, Hyderabad/Secunderabad, Pune, Delhi / NCR, Bangalore/Bengaluru',\n",
       " 'Bangalore/Bengaluru',\n",
       " '',\n",
       " '',\n",
       " '',\n",
       " '',\n",
       " '',\n",
       " '',\n",
       " '',\n",
       " '',\n",
       " '',\n",
       " '',\n",
       " '',\n",
       " '',\n",
       " '',\n",
       " '',\n",
       " '',\n",
       " '',\n",
       " '',\n",
       " '',\n",
       " 'JOBS',\n",
       " '',\n",
       " '',\n",
       " '',\n",
       " '',\n",
       " '',\n",
       " '',\n",
       " '',\n",
       " '',\n",
       " '',\n",
       " '',\n",
       " 'RECRUITERS',\n",
       " '',\n",
       " '',\n",
       " '',\n",
       " 'COMPANIES',\n",
       " '',\n",
       " '',\n",
       " '',\n",
       " '',\n",
       " '',\n",
       " '',\n",
       " '',\n",
       " 'TOOLS',\n",
       " '',\n",
       " '',\n",
       " '',\n",
       " '',\n",
       " 'SERVICES',\n",
       " '',\n",
       " '',\n",
       " '',\n",
       " '',\n",
       " '',\n",
       " '',\n",
       " '',\n",
       " '',\n",
       " '',\n",
       " '',\n",
       " '',\n",
       " '',\n",
       " '',\n",
       " '',\n",
       " '',\n",
       " '',\n",
       " '',\n",
       " '',\n",
       " '',\n",
       " '',\n",
       " '',\n",
       " '',\n",
       " '',\n",
       " '',\n",
       " '',\n",
       " '',\n",
       " '',\n",
       " '',\n",
       " '',\n",
       " '',\n",
       " '',\n",
       " '',\n",
       " 'MORE',\n",
       " '',\n",
       " '',\n",
       " '',\n",
       " '',\n",
       " '',\n",
       " '',\n",
       " '',\n",
       " '',\n",
       " '',\n",
       " '',\n",
       " '',\n",
       " '',\n",
       " '',\n",
       " '',\n",
       " '',\n",
       " '',\n",
       " '',\n",
       " '',\n",
       " '',\n",
       " '',\n",
       " '',\n",
       " '',\n",
       " '',\n",
       " '',\n",
       " '',\n",
       " '',\n",
       " '',\n",
       " '',\n",
       " '',\n",
       " '',\n",
       " '',\n",
       " 'LOGIN',\n",
       " '',\n",
       " '',\n",
       " 'FOR EMPLOYERS',\n",
       " '',\n",
       " '',\n",
       " '',\n",
       " '',\n",
       " '',\n",
       " '',\n",
       " '',\n",
       " '',\n",
       " '',\n",
       " '8-13 Yrs',\n",
       " 'Not disclosed',\n",
       " 'Mumbai, Hyderabad/Secunderabad, Pune, Delhi / NCR, Bangalore/Bengaluru',\n",
       " 'IT Skills',\n",
       " 'Python',\n",
       " 'Software Development',\n",
       " 'Data Science',\n",
       " 'Machine Learning',\n",
       " 'Image Processing',\n",
       " 'Natural Language Processing',\n",
       " 'Neural Networks',\n",
       " '0-2 Yrs',\n",
       " '7,00,000 - 8,00,000 PA.',\n",
       " 'Bangalore/Bengaluru',\n",
       " 'Data Science',\n",
       " 'NLP',\n",
       " 'Algorithms',\n",
       " 'Software Engineering',\n",
       " 'Data Structures',\n",
       " 'Computer Vision',\n",
       " 'Machine Learning',\n",
       " 'Statistics',\n",
       " '',\n",
       " '',\n",
       " '',\n",
       " '',\n",
       " '',\n",
       " '',\n",
       " '',\n",
       " '',\n",
       " '',\n",
       " '',\n",
       " '',\n",
       " '',\n",
       " '',\n",
       " '',\n",
       " '',\n",
       " '',\n",
       " '',\n",
       " '',\n",
       " '',\n",
       " '',\n",
       " '',\n",
       " '',\n",
       " '',\n",
       " '',\n",
       " '',\n",
       " '',\n",
       " '',\n",
       " '',\n",
       " '',\n",
       " '',\n",
       " '',\n",
       " '',\n",
       " '',\n",
       " '',\n",
       " '',\n",
       " '',\n",
       " '',\n",
       " '',\n",
       " '',\n",
       " '',\n",
       " '',\n",
       " '',\n",
       " '',\n",
       " '',\n",
       " '',\n",
       " '',\n",
       " '',\n",
       " '',\n",
       " '',\n",
       " '',\n",
       " '',\n",
       " '',\n",
       " '',\n",
       " '',\n",
       " '',\n",
       " '',\n",
       " '',\n",
       " '',\n",
       " '',\n",
       " '',\n",
       " '',\n",
       " '',\n",
       " '',\n",
       " '',\n",
       " '',\n",
       " '',\n",
       " '',\n",
       " '',\n",
       " '',\n",
       " '',\n",
       " '',\n",
       " '',\n",
       " '',\n",
       " '',\n",
       " '',\n",
       " '',\n",
       " '',\n",
       " '',\n",
       " '',\n",
       " '',\n",
       " '',\n",
       " '',\n",
       " '',\n",
       " '',\n",
       " '',\n",
       " '',\n",
       " '',\n",
       " '',\n",
       " '',\n",
       " '',\n",
       " '',\n",
       " '',\n",
       " '',\n",
       " '',\n",
       " '',\n",
       " '',\n",
       " '',\n",
       " '',\n",
       " '',\n",
       " '',\n",
       " '',\n",
       " '',\n",
       " '',\n",
       " '',\n",
       " '',\n",
       " '',\n",
       " '',\n",
       " '',\n",
       " '',\n",
       " '',\n",
       " '',\n",
       " '',\n",
       " '',\n",
       " '',\n",
       " '',\n",
       " '',\n",
       " '',\n",
       " '',\n",
       " '',\n",
       " '',\n",
       " '',\n",
       " '',\n",
       " '',\n",
       " '',\n",
       " '',\n",
       " '',\n",
       " '',\n",
       " '',\n",
       " '',\n",
       " '',\n",
       " '',\n",
       " '',\n",
       " '',\n",
       " '',\n",
       " '',\n",
       " '',\n",
       " '',\n",
       " '',\n",
       " '',\n",
       " '',\n",
       " '',\n",
       " '',\n",
       " '',\n",
       " '',\n",
       " '',\n",
       " '',\n",
       " '',\n",
       " '',\n",
       " '',\n",
       " '',\n",
       " '',\n",
       " '',\n",
       " '',\n",
       " '',\n",
       " '',\n",
       " '',\n",
       " '',\n",
       " '',\n",
       " '',\n",
       " '',\n",
       " '',\n",
       " '',\n",
       " '',\n",
       " '',\n",
       " '',\n",
       " '',\n",
       " '',\n",
       " '',\n",
       " '',\n",
       " '',\n",
       " '',\n",
       " '',\n",
       " '',\n",
       " '',\n",
       " '',\n",
       " '',\n",
       " '',\n",
       " '',\n",
       " '',\n",
       " '',\n",
       " '',\n",
       " '',\n",
       " '',\n",
       " '',\n",
       " '',\n",
       " '',\n",
       " '',\n",
       " '',\n",
       " '',\n",
       " '',\n",
       " '',\n",
       " '',\n",
       " '',\n",
       " '',\n",
       " '',\n",
       " '',\n",
       " '',\n",
       " '',\n",
       " '',\n",
       " '',\n",
       " '',\n",
       " '',\n",
       " '',\n",
       " '',\n",
       " '',\n",
       " '',\n",
       " '',\n",
       " '',\n",
       " '',\n",
       " '',\n",
       " '',\n",
       " '',\n",
       " '',\n",
       " '',\n",
       " '',\n",
       " '',\n",
       " '',\n",
       " '',\n",
       " '',\n",
       " '',\n",
       " '',\n",
       " '',\n",
       " '',\n",
       " '',\n",
       " '',\n",
       " '',\n",
       " '',\n",
       " '',\n",
       " '',\n",
       " '',\n",
       " '',\n",
       " '',\n",
       " '',\n",
       " '',\n",
       " '',\n",
       " '',\n",
       " '',\n",
       " '',\n",
       " '',\n",
       " '',\n",
       " '',\n",
       " '',\n",
       " '',\n",
       " '',\n",
       " '',\n",
       " '',\n",
       " '',\n",
       " '',\n",
       " '',\n",
       " '',\n",
       " '',\n",
       " '',\n",
       " '',\n",
       " '',\n",
       " '',\n",
       " '',\n",
       " '',\n",
       " '',\n",
       " '',\n",
       " '',\n",
       " '',\n",
       " '',\n",
       " '',\n",
       " '',\n",
       " '',\n",
       " '',\n",
       " '',\n",
       " '',\n",
       " '',\n",
       " '',\n",
       " '',\n",
       " '',\n",
       " '',\n",
       " '',\n",
       " '',\n",
       " '',\n",
       " '',\n",
       " '',\n",
       " '',\n",
       " '',\n",
       " '',\n",
       " '',\n",
       " '',\n",
       " '',\n",
       " '',\n",
       " '',\n",
       " '',\n",
       " '',\n",
       " '',\n",
       " '',\n",
       " '',\n",
       " '',\n",
       " '',\n",
       " '',\n",
       " '',\n",
       " '',\n",
       " '',\n",
       " '',\n",
       " '',\n",
       " '',\n",
       " '',\n",
       " '',\n",
       " '',\n",
       " '',\n",
       " '',\n",
       " '',\n",
       " '',\n",
       " '',\n",
       " '',\n",
       " '',\n",
       " '',\n",
       " '',\n",
       " '',\n",
       " '',\n",
       " '',\n",
       " '',\n",
       " '',\n",
       " '',\n",
       " '',\n",
       " '',\n",
       " '',\n",
       " '',\n",
       " '',\n",
       " '',\n",
       " '',\n",
       " '',\n",
       " '',\n",
       " '',\n",
       " '',\n",
       " '',\n",
       " '',\n",
       " '',\n",
       " '',\n",
       " '',\n",
       " '',\n",
       " '',\n",
       " '',\n",
       " '',\n",
       " '',\n",
       " '',\n",
       " '',\n",
       " '',\n",
       " '',\n",
       " '',\n",
       " '',\n",
       " '',\n",
       " '',\n",
       " '',\n",
       " '',\n",
       " '',\n",
       " '',\n",
       " '',\n",
       " '',\n",
       " '',\n",
       " '',\n",
       " '',\n",
       " '',\n",
       " '',\n",
       " '',\n",
       " '',\n",
       " '',\n",
       " '',\n",
       " '',\n",
       " '',\n",
       " '',\n",
       " '',\n",
       " '',\n",
       " '',\n",
       " '',\n",
       " '',\n",
       " '',\n",
       " '',\n",
       " '',\n",
       " '',\n",
       " '',\n",
       " '',\n",
       " '',\n",
       " '',\n",
       " '',\n",
       " '',\n",
       " '',\n",
       " '',\n",
       " '',\n",
       " '',\n",
       " '',\n",
       " '',\n",
       " '',\n",
       " '',\n",
       " '',\n",
       " '',\n",
       " '',\n",
       " '',\n",
       " '',\n",
       " '',\n",
       " '',\n",
       " '',\n",
       " '',\n",
       " '',\n",
       " '',\n",
       " '',\n",
       " '',\n",
       " '',\n",
       " '',\n",
       " '',\n",
       " '',\n",
       " '',\n",
       " '',\n",
       " '',\n",
       " '',\n",
       " '',\n",
       " '',\n",
       " '',\n",
       " '',\n",
       " '',\n",
       " '',\n",
       " '',\n",
       " '',\n",
       " '',\n",
       " '',\n",
       " '',\n",
       " '',\n",
       " '',\n",
       " '',\n",
       " '',\n",
       " '',\n",
       " '',\n",
       " '',\n",
       " '',\n",
       " '',\n",
       " '',\n",
       " '',\n",
       " '',\n",
       " '',\n",
       " '',\n",
       " '',\n",
       " '',\n",
       " '',\n",
       " '',\n",
       " '',\n",
       " '',\n",
       " '',\n",
       " '',\n",
       " '',\n",
       " '',\n",
       " '',\n",
       " '',\n",
       " '',\n",
       " '',\n",
       " '',\n",
       " '',\n",
       " '',\n",
       " '',\n",
       " '',\n",
       " '',\n",
       " '',\n",
       " '',\n",
       " '',\n",
       " '',\n",
       " '',\n",
       " '',\n",
       " '',\n",
       " '',\n",
       " '',\n",
       " '',\n",
       " '',\n",
       " '',\n",
       " '',\n",
       " '',\n",
       " '',\n",
       " '',\n",
       " '',\n",
       " '',\n",
       " '',\n",
       " '',\n",
       " '',\n",
       " '',\n",
       " '',\n",
       " '',\n",
       " '',\n",
       " '',\n",
       " '',\n",
       " '',\n",
       " '',\n",
       " '',\n",
       " '',\n",
       " '',\n",
       " '',\n",
       " '',\n",
       " '',\n",
       " '',\n",
       " '',\n",
       " '',\n",
       " '',\n",
       " '',\n",
       " '',\n",
       " '',\n",
       " '',\n",
       " '',\n",
       " '',\n",
       " '',\n",
       " '',\n",
       " '',\n",
       " '',\n",
       " '',\n",
       " '',\n",
       " '',\n",
       " '',\n",
       " '',\n",
       " '',\n",
       " '',\n",
       " '',\n",
       " '',\n",
       " '',\n",
       " '',\n",
       " '',\n",
       " '',\n",
       " '',\n",
       " '',\n",
       " '',\n",
       " '',\n",
       " '',\n",
       " '',\n",
       " '',\n",
       " '',\n",
       " '',\n",
       " '',\n",
       " '',\n",
       " '',\n",
       " '',\n",
       " '',\n",
       " '',\n",
       " '',\n",
       " '',\n",
       " '',\n",
       " '',\n",
       " '',\n",
       " '',\n",
       " '',\n",
       " '',\n",
       " '',\n",
       " '',\n",
       " '',\n",
       " '',\n",
       " '',\n",
       " '',\n",
       " '',\n",
       " '',\n",
       " '',\n",
       " '',\n",
       " '',\n",
       " '',\n",
       " '',\n",
       " '',\n",
       " '',\n",
       " '',\n",
       " '',\n",
       " '',\n",
       " '',\n",
       " '',\n",
       " '',\n",
       " '',\n",
       " '',\n",
       " '',\n",
       " '',\n",
       " '',\n",
       " '',\n",
       " '',\n",
       " '',\n",
       " '',\n",
       " '',\n",
       " '',\n",
       " '',\n",
       " '',\n",
       " '',\n",
       " '',\n",
       " '',\n",
       " '',\n",
       " '',\n",
       " '',\n",
       " '',\n",
       " '',\n",
       " '',\n",
       " '',\n",
       " '',\n",
       " '',\n",
       " '',\n",
       " '',\n",
       " '',\n",
       " '',\n",
       " '',\n",
       " '',\n",
       " '',\n",
       " '',\n",
       " '',\n",
       " '',\n",
       " '',\n",
       " '',\n",
       " '',\n",
       " '',\n",
       " '',\n",
       " '',\n",
       " '',\n",
       " '',\n",
       " '',\n",
       " '',\n",
       " '',\n",
       " '',\n",
       " '',\n",
       " '',\n",
       " '',\n",
       " '',\n",
       " '',\n",
       " '',\n",
       " '',\n",
       " '',\n",
       " '',\n",
       " '',\n",
       " '',\n",
       " '',\n",
       " '',\n",
       " '',\n",
       " '',\n",
       " '',\n",
       " '',\n",
       " '',\n",
       " '',\n",
       " '',\n",
       " '',\n",
       " '',\n",
       " '',\n",
       " '',\n",
       " '',\n",
       " '',\n",
       " '',\n",
       " '',\n",
       " '',\n",
       " '',\n",
       " '',\n",
       " '',\n",
       " '',\n",
       " '',\n",
       " '',\n",
       " '',\n",
       " '',\n",
       " '',\n",
       " '',\n",
       " '',\n",
       " '',\n",
       " '',\n",
       " '',\n",
       " '',\n",
       " '',\n",
       " '',\n",
       " '',\n",
       " '',\n",
       " '',\n",
       " '',\n",
       " '',\n",
       " '',\n",
       " '',\n",
       " '',\n",
       " '',\n",
       " '',\n",
       " '',\n",
       " 'Mumbai, Hyderabad/Secunderabad, Pune, Delhi / NCR, Bangalore/Bengaluru',\n",
       " 'Bangalore/Bengaluru',\n",
       " '',\n",
       " '',\n",
       " '',\n",
       " '',\n",
       " '',\n",
       " '',\n",
       " '',\n",
       " '',\n",
       " '',\n",
       " '',\n",
       " '',\n",
       " '',\n",
       " '',\n",
       " '',\n",
       " '',\n",
       " '',\n",
       " '',\n",
       " '',\n",
       " 'Mumbai, Hyderabad/Secunderabad, Pune, Delhi / NCR, Bangalore/Bengaluru',\n",
       " 'Bangalore/Bengaluru',\n",
       " '',\n",
       " '',\n",
       " '',\n",
       " '',\n",
       " '',\n",
       " '',\n",
       " '',\n",
       " '',\n",
       " '',\n",
       " '',\n",
       " '',\n",
       " '',\n",
       " '',\n",
       " '',\n",
       " '',\n",
       " '',\n",
       " '',\n",
       " '']"
      ]
     },
     "execution_count": 39,
     "metadata": {},
     "output_type": "execute_result"
    }
   ],
   "source": [
    "for i in locations_tags :\n",
    "    location=i.text\n",
    "    locations_list.append(location)\n",
    "locations_list  "
   ]
  },
  {
   "cell_type": "code",
   "execution_count": 40,
   "id": "a7900600",
   "metadata": {},
   "outputs": [
    {
     "name": "stdout",
     "output_type": "stream",
     "text": [
      "20 3335 913\n"
     ]
    }
   ],
   "source": [
    "print(len(job_titles),len(company_names),len(locations_list))"
   ]
  },
  {
   "cell_type": "code",
   "execution_count": 42,
   "id": "65712033",
   "metadata": {},
   "outputs": [],
   "source": [
    "jobs=pd.DataFrame({})\n",
    "jobs['title']=job_titles[0:10]\n",
    "jobs['company']=company_names[0:10]\n",
    "jobs['location']=locations_list[0:10]"
   ]
  },
  {
   "cell_type": "code",
   "execution_count": 43,
   "id": "f4921282",
   "metadata": {},
   "outputs": [
    {
     "data": {
      "text/html": [
       "<div>\n",
       "<style scoped>\n",
       "    .dataframe tbody tr th:only-of-type {\n",
       "        vertical-align: middle;\n",
       "    }\n",
       "\n",
       "    .dataframe tbody tr th {\n",
       "        vertical-align: top;\n",
       "    }\n",
       "\n",
       "    .dataframe thead th {\n",
       "        text-align: right;\n",
       "    }\n",
       "</style>\n",
       "<table border=\"1\" class=\"dataframe\">\n",
       "  <thead>\n",
       "    <tr style=\"text-align: right;\">\n",
       "      <th></th>\n",
       "      <th>title</th>\n",
       "      <th>company</th>\n",
       "      <th>location</th>\n",
       "    </tr>\n",
       "  </thead>\n",
       "  <tbody>\n",
       "    <tr>\n",
       "      <th>0</th>\n",
       "      <td>Lead / Principal Data Scientist</td>\n",
       "      <td></td>\n",
       "      <td>8-13 Yrs</td>\n",
       "    </tr>\n",
       "    <tr>\n",
       "      <th>1</th>\n",
       "      <td>Data Scientist</td>\n",
       "      <td>JOBS</td>\n",
       "      <td>Not disclosed</td>\n",
       "    </tr>\n",
       "    <tr>\n",
       "      <th>2</th>\n",
       "      <td>Senior Data Scientist</td>\n",
       "      <td></td>\n",
       "      <td>Mumbai, Hyderabad/Secunderabad, Pune, Delhi / ...</td>\n",
       "    </tr>\n",
       "    <tr>\n",
       "      <th>3</th>\n",
       "      <td>Senior Data Scientist</td>\n",
       "      <td></td>\n",
       "      <td>0-2 Yrs</td>\n",
       "    </tr>\n",
       "    <tr>\n",
       "      <th>4</th>\n",
       "      <td>Data Scientist - Credit Risk</td>\n",
       "      <td></td>\n",
       "      <td>7,00,000 - 8,00,000 PA.</td>\n",
       "    </tr>\n",
       "    <tr>\n",
       "      <th>5</th>\n",
       "      <td>Lead/Senior Data Scientist (NLP)</td>\n",
       "      <td></td>\n",
       "      <td>Bangalore/Bengaluru</td>\n",
       "    </tr>\n",
       "    <tr>\n",
       "      <th>6</th>\n",
       "      <td>Data Scientist 2</td>\n",
       "      <td></td>\n",
       "      <td></td>\n",
       "    </tr>\n",
       "    <tr>\n",
       "      <th>7</th>\n",
       "      <td>Machine Learning AI Data Scientist</td>\n",
       "      <td></td>\n",
       "      <td></td>\n",
       "    </tr>\n",
       "    <tr>\n",
       "      <th>8</th>\n",
       "      <td>Sr. Associate Consultant Data Scientist</td>\n",
       "      <td></td>\n",
       "      <td></td>\n",
       "    </tr>\n",
       "    <tr>\n",
       "      <th>9</th>\n",
       "      <td>Senior Engineer - AIML - Data Scientist</td>\n",
       "      <td></td>\n",
       "      <td></td>\n",
       "    </tr>\n",
       "  </tbody>\n",
       "</table>\n",
       "</div>"
      ],
      "text/plain": [
       "                                     title company  \\\n",
       "0          Lead / Principal Data Scientist           \n",
       "1                           Data Scientist    JOBS   \n",
       "2                    Senior Data Scientist           \n",
       "3                    Senior Data Scientist           \n",
       "4             Data Scientist - Credit Risk           \n",
       "5         Lead/Senior Data Scientist (NLP)           \n",
       "6                         Data Scientist 2           \n",
       "7       Machine Learning AI Data Scientist           \n",
       "8  Sr. Associate Consultant Data Scientist           \n",
       "9  Senior Engineer - AIML - Data Scientist           \n",
       "\n",
       "                                            location  \n",
       "0                                           8-13 Yrs  \n",
       "1                                      Not disclosed  \n",
       "2  Mumbai, Hyderabad/Secunderabad, Pune, Delhi / ...  \n",
       "3                                            0-2 Yrs  \n",
       "4                            7,00,000 - 8,00,000 PA.  \n",
       "5                                Bangalore/Bengaluru  \n",
       "6                                                     \n",
       "7                                                     \n",
       "8                                                     \n",
       "9                                                     "
      ]
     },
     "execution_count": 43,
     "metadata": {},
     "output_type": "execute_result"
    }
   ],
   "source": [
    "jobs"
   ]
  },
  {
   "cell_type": "markdown",
   "id": "2a06a294",
   "metadata": {},
   "source": [
    "# scrape data of first 100 sunglasses listing on flipkart.com."
   ]
  },
  {
   "cell_type": "code",
   "execution_count": 44,
   "id": "796ff260",
   "metadata": {},
   "outputs": [],
   "source": [
    "import selenium \n",
    "import pandas as pd\n",
    "from selenium import webdriver"
   ]
  },
  {
   "cell_type": "code",
   "execution_count": 45,
   "id": "1deda66b",
   "metadata": {},
   "outputs": [
    {
     "name": "stderr",
     "output_type": "stream",
     "text": [
      "<ipython-input-45-bcea5228ba58>:1: DeprecationWarning: executable_path has been deprecated, please pass in a Service object\n",
      "  driver = webdriver.Chrome(r\"C:\\Users\\user\\Downloads\\chromedriver_win32\\chromedriver.exe\")\n"
     ]
    }
   ],
   "source": [
    "driver = webdriver.Chrome(r\"C:\\Users\\user\\Downloads\\chromedriver_win32\\chromedriver.exe\")"
   ]
  },
  {
   "cell_type": "code",
   "execution_count": 46,
   "id": "53098ab8",
   "metadata": {},
   "outputs": [],
   "source": [
    "#driver.close()"
   ]
  },
  {
   "cell_type": "code",
   "execution_count": 47,
   "id": "cb2b6fd7",
   "metadata": {},
   "outputs": [],
   "source": [
    "url=\"https://www.flipkart.com/search?q=sunglasses&otracker=search&otracker1=search&marketplace=FLIPKART&as-show=on&as=off\""
   ]
  },
  {
   "cell_type": "code",
   "execution_count": 48,
   "id": "0d827974",
   "metadata": {},
   "outputs": [],
   "source": [
    "driver.get(url)"
   ]
  },
  {
   "cell_type": "code",
   "execution_count": 68,
   "id": "a892ad1d",
   "metadata": {},
   "outputs": [],
   "source": [
    "Brand_names=[]\n",
    "product_des=[]\n",
    "price_list=[]\n",
    "discount_off=[]"
   ]
  },
  {
   "cell_type": "code",
   "execution_count": 69,
   "id": "79377456",
   "metadata": {},
   "outputs": [
    {
     "name": "stderr",
     "output_type": "stream",
     "text": [
      "<ipython-input-69-215e6656d97a>:1: DeprecationWarning: find_elements_by_* commands are deprecated. Please use find_elements() instead\n",
      "  Brand_tags = driver.find_elements_by_xpath(\"//div['@class=_2WkVRV']\")\n"
     ]
    },
    {
     "data": {
      "text/plain": [
       "[<selenium.webdriver.remote.webelement.WebElement (session=\"20ebfa2a1e132f657bb2f69c34e085dd\", element=\"3b9e8dd1-8b08-4b80-bd21-90f08010e6b9\")>,\n",
       " <selenium.webdriver.remote.webelement.WebElement (session=\"20ebfa2a1e132f657bb2f69c34e085dd\", element=\"5065140e-43d8-4080-8073-1ae6b70f6e85\")>,\n",
       " <selenium.webdriver.remote.webelement.WebElement (session=\"20ebfa2a1e132f657bb2f69c34e085dd\", element=\"2d90da6e-7141-4846-9134-d33080e1867d\")>,\n",
       " <selenium.webdriver.remote.webelement.WebElement (session=\"20ebfa2a1e132f657bb2f69c34e085dd\", element=\"275a33a0-24ac-4ee3-b5c1-53084c135d2f\")>,\n",
       " <selenium.webdriver.remote.webelement.WebElement (session=\"20ebfa2a1e132f657bb2f69c34e085dd\", element=\"93841e13-b028-4c28-8e74-e6479e3f17fc\")>,\n",
       " <selenium.webdriver.remote.webelement.WebElement (session=\"20ebfa2a1e132f657bb2f69c34e085dd\", element=\"b8325227-1683-4e5d-ba77-4c63ec18148e\")>,\n",
       " <selenium.webdriver.remote.webelement.WebElement (session=\"20ebfa2a1e132f657bb2f69c34e085dd\", element=\"1e408fac-0329-4c1e-899e-255dc2033835\")>,\n",
       " <selenium.webdriver.remote.webelement.WebElement (session=\"20ebfa2a1e132f657bb2f69c34e085dd\", element=\"5cbdbebe-8380-4713-81f3-50dc6fcd0a92\")>,\n",
       " <selenium.webdriver.remote.webelement.WebElement (session=\"20ebfa2a1e132f657bb2f69c34e085dd\", element=\"f034718b-5864-42d8-8906-d431715afebf\")>,\n",
       " <selenium.webdriver.remote.webelement.WebElement (session=\"20ebfa2a1e132f657bb2f69c34e085dd\", element=\"2a7ed510-1e34-4664-9c42-e46533ebc106\")>,\n",
       " <selenium.webdriver.remote.webelement.WebElement (session=\"20ebfa2a1e132f657bb2f69c34e085dd\", element=\"7edcae94-cc7c-4393-bfbb-a10b4162a4a9\")>,\n",
       " <selenium.webdriver.remote.webelement.WebElement (session=\"20ebfa2a1e132f657bb2f69c34e085dd\", element=\"17c5345c-2264-4c69-97c4-09c4359ebc1a\")>,\n",
       " <selenium.webdriver.remote.webelement.WebElement (session=\"20ebfa2a1e132f657bb2f69c34e085dd\", element=\"fe435259-7ae8-41a9-b054-4632e620d302\")>,\n",
       " <selenium.webdriver.remote.webelement.WebElement (session=\"20ebfa2a1e132f657bb2f69c34e085dd\", element=\"98140c53-8a5d-4c21-9788-6c1d51a2e1e9\")>,\n",
       " <selenium.webdriver.remote.webelement.WebElement (session=\"20ebfa2a1e132f657bb2f69c34e085dd\", element=\"26adde95-7a00-414a-963c-69aa9c9e8361\")>,\n",
       " <selenium.webdriver.remote.webelement.WebElement (session=\"20ebfa2a1e132f657bb2f69c34e085dd\", element=\"77bb507b-c474-413a-9a9f-b3b231b7a5dd\")>,\n",
       " <selenium.webdriver.remote.webelement.WebElement (session=\"20ebfa2a1e132f657bb2f69c34e085dd\", element=\"d6a61922-1fa2-424e-b545-09be26cc3230\")>,\n",
       " <selenium.webdriver.remote.webelement.WebElement (session=\"20ebfa2a1e132f657bb2f69c34e085dd\", element=\"1a6c38ed-dde7-402b-a56d-7b21e10e6441\")>,\n",
       " <selenium.webdriver.remote.webelement.WebElement (session=\"20ebfa2a1e132f657bb2f69c34e085dd\", element=\"87c8fc18-abd7-4f88-ba7a-b5c5a49e942e\")>,\n",
       " <selenium.webdriver.remote.webelement.WebElement (session=\"20ebfa2a1e132f657bb2f69c34e085dd\", element=\"f68553a0-49ff-43d0-829f-e4b2621a701b\")>,\n",
       " <selenium.webdriver.remote.webelement.WebElement (session=\"20ebfa2a1e132f657bb2f69c34e085dd\", element=\"ff54d1ed-faf0-4753-9c43-5333d766f13c\")>,\n",
       " <selenium.webdriver.remote.webelement.WebElement (session=\"20ebfa2a1e132f657bb2f69c34e085dd\", element=\"df0e92ec-3577-493f-b437-baa367d827a9\")>,\n",
       " <selenium.webdriver.remote.webelement.WebElement (session=\"20ebfa2a1e132f657bb2f69c34e085dd\", element=\"e4011498-9d65-4ee7-97a0-cce0473d0abc\")>,\n",
       " <selenium.webdriver.remote.webelement.WebElement (session=\"20ebfa2a1e132f657bb2f69c34e085dd\", element=\"5a2f674f-bfd3-4494-b76e-c24448b43490\")>,\n",
       " <selenium.webdriver.remote.webelement.WebElement (session=\"20ebfa2a1e132f657bb2f69c34e085dd\", element=\"d2d20662-d5b3-4752-8952-161774465307\")>,\n",
       " <selenium.webdriver.remote.webelement.WebElement (session=\"20ebfa2a1e132f657bb2f69c34e085dd\", element=\"2e64cf75-b3b0-46ea-ad23-2427760069fd\")>,\n",
       " <selenium.webdriver.remote.webelement.WebElement (session=\"20ebfa2a1e132f657bb2f69c34e085dd\", element=\"6ee8ca67-ab01-457a-82b5-c4106dff88e6\")>,\n",
       " <selenium.webdriver.remote.webelement.WebElement (session=\"20ebfa2a1e132f657bb2f69c34e085dd\", element=\"b3420fa2-9cb1-4d8b-bb7b-3bd430b697e4\")>,\n",
       " <selenium.webdriver.remote.webelement.WebElement (session=\"20ebfa2a1e132f657bb2f69c34e085dd\", element=\"704e7176-36f2-4078-ad54-c83ac667d11a\")>,\n",
       " <selenium.webdriver.remote.webelement.WebElement (session=\"20ebfa2a1e132f657bb2f69c34e085dd\", element=\"03f6cbba-687a-4733-ace7-8dbad4626c5a\")>,\n",
       " <selenium.webdriver.remote.webelement.WebElement (session=\"20ebfa2a1e132f657bb2f69c34e085dd\", element=\"eefc7aae-a2af-4089-8f42-3c9eeaad50a1\")>,\n",
       " <selenium.webdriver.remote.webelement.WebElement (session=\"20ebfa2a1e132f657bb2f69c34e085dd\", element=\"3c1cddf9-b479-4f8f-aaa6-47042de366a9\")>,\n",
       " <selenium.webdriver.remote.webelement.WebElement (session=\"20ebfa2a1e132f657bb2f69c34e085dd\", element=\"927544ba-8dda-49dc-a3d1-a84adadccd64\")>,\n",
       " <selenium.webdriver.remote.webelement.WebElement (session=\"20ebfa2a1e132f657bb2f69c34e085dd\", element=\"a24218ce-f460-48de-9489-abcae4bffb6f\")>,\n",
       " <selenium.webdriver.remote.webelement.WebElement (session=\"20ebfa2a1e132f657bb2f69c34e085dd\", element=\"83b6c4e7-ff08-4cb9-a8f0-611d68b3d925\")>,\n",
       " <selenium.webdriver.remote.webelement.WebElement (session=\"20ebfa2a1e132f657bb2f69c34e085dd\", element=\"bd3f2735-8f1f-4fcd-b28f-4d626cf9b411\")>,\n",
       " <selenium.webdriver.remote.webelement.WebElement (session=\"20ebfa2a1e132f657bb2f69c34e085dd\", element=\"016193eb-cf65-405a-b105-1811053ce7ed\")>,\n",
       " <selenium.webdriver.remote.webelement.WebElement (session=\"20ebfa2a1e132f657bb2f69c34e085dd\", element=\"d60f2f83-6bee-4731-93be-a9e667b44072\")>,\n",
       " <selenium.webdriver.remote.webelement.WebElement (session=\"20ebfa2a1e132f657bb2f69c34e085dd\", element=\"aceb510a-5de9-40e5-8021-a4c2bd1533e0\")>,\n",
       " <selenium.webdriver.remote.webelement.WebElement (session=\"20ebfa2a1e132f657bb2f69c34e085dd\", element=\"3d75fb11-9b15-4dcd-a590-f206e1e78379\")>]"
      ]
     },
     "execution_count": 69,
     "metadata": {},
     "output_type": "execute_result"
    }
   ],
   "source": [
    "Brand_tags = driver.find_elements_by_xpath(\"//div['@class=_2WkVRV']\")\n",
    "Brand_tags[0:40]"
   ]
  },
  {
   "cell_type": "code",
   "execution_count": 70,
   "id": "56d542d6",
   "metadata": {
    "scrolled": true
   },
   "outputs": [
    {
     "name": "stderr",
     "output_type": "stream",
     "text": [
      "<ipython-input-70-f3fd3b0f2ad7>:1: DeprecationWarning: find_elements_by_* commands are deprecated. Please use find_elements() instead\n",
      "  Brand_tags = driver.find_elements_by_xpath(\"//div['@class=_2WkVRV']\")\n"
     ]
    },
    {
     "data": {
      "text/plain": [
       "[<selenium.webdriver.remote.webelement.WebElement (session=\"20ebfa2a1e132f657bb2f69c34e085dd\", element=\"9127af6e-089b-4d79-8b01-eef93ae17109\")>,\n",
       " <selenium.webdriver.remote.webelement.WebElement (session=\"20ebfa2a1e132f657bb2f69c34e085dd\", element=\"9052a97e-a1e8-4b45-8281-6d8f441a60df\")>,\n",
       " <selenium.webdriver.remote.webelement.WebElement (session=\"20ebfa2a1e132f657bb2f69c34e085dd\", element=\"edf692e2-0f28-4ce3-999f-824cff449b00\")>,\n",
       " <selenium.webdriver.remote.webelement.WebElement (session=\"20ebfa2a1e132f657bb2f69c34e085dd\", element=\"7ae8946a-b573-469b-b971-a0d687eec23f\")>,\n",
       " <selenium.webdriver.remote.webelement.WebElement (session=\"20ebfa2a1e132f657bb2f69c34e085dd\", element=\"44500f4c-7b80-4ef1-89aa-bf3378d7d198\")>,\n",
       " <selenium.webdriver.remote.webelement.WebElement (session=\"20ebfa2a1e132f657bb2f69c34e085dd\", element=\"dcc23fcd-b86d-4cb3-ac60-98a64c0d15a7\")>,\n",
       " <selenium.webdriver.remote.webelement.WebElement (session=\"20ebfa2a1e132f657bb2f69c34e085dd\", element=\"97fdbae8-7249-46e0-b911-b4998dbd78d0\")>,\n",
       " <selenium.webdriver.remote.webelement.WebElement (session=\"20ebfa2a1e132f657bb2f69c34e085dd\", element=\"f66b2618-d3ae-467e-accc-7406cd0fc848\")>,\n",
       " <selenium.webdriver.remote.webelement.WebElement (session=\"20ebfa2a1e132f657bb2f69c34e085dd\", element=\"93827e56-f77a-4823-be05-e62773dc1a3a\")>,\n",
       " <selenium.webdriver.remote.webelement.WebElement (session=\"20ebfa2a1e132f657bb2f69c34e085dd\", element=\"fd23d37b-8f72-4383-acf6-24386725f35e\")>,\n",
       " <selenium.webdriver.remote.webelement.WebElement (session=\"20ebfa2a1e132f657bb2f69c34e085dd\", element=\"5b952ea3-fe1b-46b2-be08-56265195ef8f\")>,\n",
       " <selenium.webdriver.remote.webelement.WebElement (session=\"20ebfa2a1e132f657bb2f69c34e085dd\", element=\"2f891091-cc20-4399-bc5c-88f58961988b\")>,\n",
       " <selenium.webdriver.remote.webelement.WebElement (session=\"20ebfa2a1e132f657bb2f69c34e085dd\", element=\"1b2d8208-4e82-48bb-86d1-e66f0213ee6e\")>,\n",
       " <selenium.webdriver.remote.webelement.WebElement (session=\"20ebfa2a1e132f657bb2f69c34e085dd\", element=\"ab785d82-84c5-4cb0-84b5-5080e472b740\")>,\n",
       " <selenium.webdriver.remote.webelement.WebElement (session=\"20ebfa2a1e132f657bb2f69c34e085dd\", element=\"95c4befa-04b5-432f-9ebe-e46661bd65d2\")>,\n",
       " <selenium.webdriver.remote.webelement.WebElement (session=\"20ebfa2a1e132f657bb2f69c34e085dd\", element=\"be0ed7a0-94a0-4bc2-8100-9548b1abaa0a\")>,\n",
       " <selenium.webdriver.remote.webelement.WebElement (session=\"20ebfa2a1e132f657bb2f69c34e085dd\", element=\"437947fe-89bc-4a40-a169-a70075ddab66\")>,\n",
       " <selenium.webdriver.remote.webelement.WebElement (session=\"20ebfa2a1e132f657bb2f69c34e085dd\", element=\"e3cdbdf7-7f8c-44c9-a251-359aa217fe0c\")>,\n",
       " <selenium.webdriver.remote.webelement.WebElement (session=\"20ebfa2a1e132f657bb2f69c34e085dd\", element=\"bd30267e-6e53-42f6-9b46-f6a9d59d8026\")>,\n",
       " <selenium.webdriver.remote.webelement.WebElement (session=\"20ebfa2a1e132f657bb2f69c34e085dd\", element=\"c70cd692-1936-4651-bf9f-f470d51c90bf\")>,\n",
       " <selenium.webdriver.remote.webelement.WebElement (session=\"20ebfa2a1e132f657bb2f69c34e085dd\", element=\"0746ad0f-8955-4dc0-9623-4044f8dc7077\")>,\n",
       " <selenium.webdriver.remote.webelement.WebElement (session=\"20ebfa2a1e132f657bb2f69c34e085dd\", element=\"8e710cbb-99dc-4e7f-a6e4-0bd8c9dcf7a5\")>,\n",
       " <selenium.webdriver.remote.webelement.WebElement (session=\"20ebfa2a1e132f657bb2f69c34e085dd\", element=\"802ef046-44f0-4772-8c44-fc7fbf6b9889\")>,\n",
       " <selenium.webdriver.remote.webelement.WebElement (session=\"20ebfa2a1e132f657bb2f69c34e085dd\", element=\"d066e04f-10c5-4210-b956-c21d6f1e875a\")>,\n",
       " <selenium.webdriver.remote.webelement.WebElement (session=\"20ebfa2a1e132f657bb2f69c34e085dd\", element=\"1a09d74a-a55d-48e6-90d9-2e29f66f9f60\")>,\n",
       " <selenium.webdriver.remote.webelement.WebElement (session=\"20ebfa2a1e132f657bb2f69c34e085dd\", element=\"f9a09997-890a-487f-93ac-9c5c18bc6f90\")>,\n",
       " <selenium.webdriver.remote.webelement.WebElement (session=\"20ebfa2a1e132f657bb2f69c34e085dd\", element=\"6a085868-151e-4166-8a3e-94b1a23b1c35\")>,\n",
       " <selenium.webdriver.remote.webelement.WebElement (session=\"20ebfa2a1e132f657bb2f69c34e085dd\", element=\"dc3b02f9-10c4-49e3-b142-4eec4eb91108\")>,\n",
       " <selenium.webdriver.remote.webelement.WebElement (session=\"20ebfa2a1e132f657bb2f69c34e085dd\", element=\"53684b38-c55e-4ea6-a3f1-7f83af689538\")>,\n",
       " <selenium.webdriver.remote.webelement.WebElement (session=\"20ebfa2a1e132f657bb2f69c34e085dd\", element=\"517e1738-be7b-41f0-b670-a335e895bb31\")>,\n",
       " <selenium.webdriver.remote.webelement.WebElement (session=\"20ebfa2a1e132f657bb2f69c34e085dd\", element=\"d38da8c8-f72d-43b3-93c4-06cff206b957\")>,\n",
       " <selenium.webdriver.remote.webelement.WebElement (session=\"20ebfa2a1e132f657bb2f69c34e085dd\", element=\"bcfbf090-8864-4fac-a27f-c52ae11557e7\")>,\n",
       " <selenium.webdriver.remote.webelement.WebElement (session=\"20ebfa2a1e132f657bb2f69c34e085dd\", element=\"7aae51cf-5114-4122-9bac-0758cad1970f\")>,\n",
       " <selenium.webdriver.remote.webelement.WebElement (session=\"20ebfa2a1e132f657bb2f69c34e085dd\", element=\"5027b97f-adea-43c9-bb60-17ec476838f0\")>,\n",
       " <selenium.webdriver.remote.webelement.WebElement (session=\"20ebfa2a1e132f657bb2f69c34e085dd\", element=\"ef2f713b-b52e-4fc7-ae4c-00c1872ef2ca\")>,\n",
       " <selenium.webdriver.remote.webelement.WebElement (session=\"20ebfa2a1e132f657bb2f69c34e085dd\", element=\"12408d73-9261-4566-b36f-650ead43fe74\")>,\n",
       " <selenium.webdriver.remote.webelement.WebElement (session=\"20ebfa2a1e132f657bb2f69c34e085dd\", element=\"c4872570-c242-47a6-a3a4-2de52a696dee\")>,\n",
       " <selenium.webdriver.remote.webelement.WebElement (session=\"20ebfa2a1e132f657bb2f69c34e085dd\", element=\"965d3e86-d0c8-4eaf-bde3-6c94a594856d\")>,\n",
       " <selenium.webdriver.remote.webelement.WebElement (session=\"20ebfa2a1e132f657bb2f69c34e085dd\", element=\"76d54296-3151-4830-94ba-49b3ae54ebfb\")>]"
      ]
     },
     "execution_count": 70,
     "metadata": {},
     "output_type": "execute_result"
    }
   ],
   "source": [
    "Brand_tags = driver.find_elements_by_xpath(\"//div['@class=_2WkVRV']\")\n",
    "Brand_tags[41:80]"
   ]
  },
  {
   "cell_type": "code",
   "execution_count": 55,
   "id": "e7067f4c",
   "metadata": {},
   "outputs": [
    {
     "name": "stderr",
     "output_type": "stream",
     "text": [
      "<ipython-input-55-709267e9e864>:1: DeprecationWarning: find_elements_by_* commands are deprecated. Please use find_elements() instead\n",
      "  brand_tags = driver.find_elements_by_xpath(\"//div['@class=_2WkVRV']\")\n"
     ]
    },
    {
     "data": {
      "text/plain": [
       "[<selenium.webdriver.remote.webelement.WebElement (session=\"20ebfa2a1e132f657bb2f69c34e085dd\", element=\"914b6333-4cbf-40f3-a93d-074e69ab5dfe\")>,\n",
       " <selenium.webdriver.remote.webelement.WebElement (session=\"20ebfa2a1e132f657bb2f69c34e085dd\", element=\"3d986d1b-461c-45a3-960e-af5018df3f1d\")>,\n",
       " <selenium.webdriver.remote.webelement.WebElement (session=\"20ebfa2a1e132f657bb2f69c34e085dd\", element=\"fa433a02-e797-4068-a6cb-4959aa2f1291\")>,\n",
       " <selenium.webdriver.remote.webelement.WebElement (session=\"20ebfa2a1e132f657bb2f69c34e085dd\", element=\"2e9ba4e2-9a63-4819-b790-9e4458aab35b\")>,\n",
       " <selenium.webdriver.remote.webelement.WebElement (session=\"20ebfa2a1e132f657bb2f69c34e085dd\", element=\"e91ef2e1-076c-4e16-879a-ff431befa4e1\")>,\n",
       " <selenium.webdriver.remote.webelement.WebElement (session=\"20ebfa2a1e132f657bb2f69c34e085dd\", element=\"b8b5f778-e6ed-4456-99b2-4d859171bbe7\")>,\n",
       " <selenium.webdriver.remote.webelement.WebElement (session=\"20ebfa2a1e132f657bb2f69c34e085dd\", element=\"0830b95f-daa8-4749-9cae-6e00ca5a2cf4\")>,\n",
       " <selenium.webdriver.remote.webelement.WebElement (session=\"20ebfa2a1e132f657bb2f69c34e085dd\", element=\"b5b1f812-56df-4a89-8bc8-ca4267afef15\")>,\n",
       " <selenium.webdriver.remote.webelement.WebElement (session=\"20ebfa2a1e132f657bb2f69c34e085dd\", element=\"2fc69298-a4f4-4013-b2ae-e540e77e9802\")>,\n",
       " <selenium.webdriver.remote.webelement.WebElement (session=\"20ebfa2a1e132f657bb2f69c34e085dd\", element=\"a9e0e719-fb20-4003-b2d0-c291aa435195\")>,\n",
       " <selenium.webdriver.remote.webelement.WebElement (session=\"20ebfa2a1e132f657bb2f69c34e085dd\", element=\"9982d624-58f8-446b-a352-e560e21def47\")>,\n",
       " <selenium.webdriver.remote.webelement.WebElement (session=\"20ebfa2a1e132f657bb2f69c34e085dd\", element=\"d96f2346-fd35-4f11-a018-8b0fda145393\")>,\n",
       " <selenium.webdriver.remote.webelement.WebElement (session=\"20ebfa2a1e132f657bb2f69c34e085dd\", element=\"f0debfdd-aae8-419a-a118-f8fc5e39c19b\")>,\n",
       " <selenium.webdriver.remote.webelement.WebElement (session=\"20ebfa2a1e132f657bb2f69c34e085dd\", element=\"2e647693-7626-4bb8-87f0-e9d6589a6ecd\")>,\n",
       " <selenium.webdriver.remote.webelement.WebElement (session=\"20ebfa2a1e132f657bb2f69c34e085dd\", element=\"76ee7f82-10d4-4ac4-9d66-0a7aaa8fe76a\")>,\n",
       " <selenium.webdriver.remote.webelement.WebElement (session=\"20ebfa2a1e132f657bb2f69c34e085dd\", element=\"9202cb00-1fbb-4de8-b809-38cff2b16328\")>,\n",
       " <selenium.webdriver.remote.webelement.WebElement (session=\"20ebfa2a1e132f657bb2f69c34e085dd\", element=\"17a045d3-6123-4d80-a412-424e39796132\")>,\n",
       " <selenium.webdriver.remote.webelement.WebElement (session=\"20ebfa2a1e132f657bb2f69c34e085dd\", element=\"1749ba3e-e194-414b-9b43-3121428922ac\")>,\n",
       " <selenium.webdriver.remote.webelement.WebElement (session=\"20ebfa2a1e132f657bb2f69c34e085dd\", element=\"07d60b4f-8e96-490e-b52b-0da7e79c86ee\")>]"
      ]
     },
     "execution_count": 55,
     "metadata": {},
     "output_type": "execute_result"
    }
   ],
   "source": [
    "Brand_tags = driver.find_elements_by_xpath(\"//div['@class=_2WkVRV']\")\n",
    "Brand_tags[81:100]"
   ]
  },
  {
   "cell_type": "code",
   "execution_count": null,
   "id": "9d66fa9e",
   "metadata": {},
   "outputs": [],
   "source": [
    "for i in Brand_tags:\n",
    "    Brand_names=i.text\n",
    "    Brand_names.append(Brand_name)\n",
    "Brand_names[0:100]    "
   ]
  },
  {
   "cell_type": "code",
   "execution_count": 71,
   "id": "b35ad70d",
   "metadata": {},
   "outputs": [
    {
     "name": "stderr",
     "output_type": "stream",
     "text": [
      "<ipython-input-71-29bd9df7ef38>:1: DeprecationWarning: find_elements_by_* commands are deprecated. Please use find_elements() instead\n",
      "  dis_tags = driver.find_elements_by_xpath(\"//a[@class='IRpwTa']\")\n"
     ]
    },
    {
     "data": {
      "text/plain": [
       "[<selenium.webdriver.remote.webelement.WebElement (session=\"20ebfa2a1e132f657bb2f69c34e085dd\", element=\"5ce66e0f-4bee-4129-8e2c-9b88a4dd6042\")>,\n",
       " <selenium.webdriver.remote.webelement.WebElement (session=\"20ebfa2a1e132f657bb2f69c34e085dd\", element=\"5a8066d0-c0d2-4cc0-88d7-ebcc91915e36\")>,\n",
       " <selenium.webdriver.remote.webelement.WebElement (session=\"20ebfa2a1e132f657bb2f69c34e085dd\", element=\"fc400d8e-d453-4d5a-9f67-172b394a4abc\")>,\n",
       " <selenium.webdriver.remote.webelement.WebElement (session=\"20ebfa2a1e132f657bb2f69c34e085dd\", element=\"7b2734d8-38a0-4988-aa5d-2718f654f9ba\")>,\n",
       " <selenium.webdriver.remote.webelement.WebElement (session=\"20ebfa2a1e132f657bb2f69c34e085dd\", element=\"202d03df-2a75-418e-bd6f-e23e7ecdb191\")>,\n",
       " <selenium.webdriver.remote.webelement.WebElement (session=\"20ebfa2a1e132f657bb2f69c34e085dd\", element=\"98803d0f-e3f3-4935-b4b8-96813f4ef696\")>,\n",
       " <selenium.webdriver.remote.webelement.WebElement (session=\"20ebfa2a1e132f657bb2f69c34e085dd\", element=\"cd0e1dc6-39ff-475f-886b-d14f3f8fedfc\")>,\n",
       " <selenium.webdriver.remote.webelement.WebElement (session=\"20ebfa2a1e132f657bb2f69c34e085dd\", element=\"023ff581-0f83-4d0c-8bd6-e366770bddaf\")>,\n",
       " <selenium.webdriver.remote.webelement.WebElement (session=\"20ebfa2a1e132f657bb2f69c34e085dd\", element=\"48ac840e-b65b-4cff-8a35-3348f5f46a27\")>,\n",
       " <selenium.webdriver.remote.webelement.WebElement (session=\"20ebfa2a1e132f657bb2f69c34e085dd\", element=\"5067a7f3-5855-43fd-9901-89dfaa7d2ab6\")>,\n",
       " <selenium.webdriver.remote.webelement.WebElement (session=\"20ebfa2a1e132f657bb2f69c34e085dd\", element=\"8a18e11b-1ad5-41b0-9b5b-5d84490cf0f7\")>,\n",
       " <selenium.webdriver.remote.webelement.WebElement (session=\"20ebfa2a1e132f657bb2f69c34e085dd\", element=\"655ffe1b-830c-4947-8831-e8128c2a1696\")>,\n",
       " <selenium.webdriver.remote.webelement.WebElement (session=\"20ebfa2a1e132f657bb2f69c34e085dd\", element=\"6575c9e6-efa6-49e3-b44d-015de36e535b\")>,\n",
       " <selenium.webdriver.remote.webelement.WebElement (session=\"20ebfa2a1e132f657bb2f69c34e085dd\", element=\"0b582f76-ccf6-483d-9322-8e37a28c40d6\")>,\n",
       " <selenium.webdriver.remote.webelement.WebElement (session=\"20ebfa2a1e132f657bb2f69c34e085dd\", element=\"054f90e1-d513-4f1d-86ba-8e0beb9d57bc\")>,\n",
       " <selenium.webdriver.remote.webelement.WebElement (session=\"20ebfa2a1e132f657bb2f69c34e085dd\", element=\"f33bb18e-8d28-43ba-8c81-7e16c9b2d541\")>,\n",
       " <selenium.webdriver.remote.webelement.WebElement (session=\"20ebfa2a1e132f657bb2f69c34e085dd\", element=\"598e9f34-8be2-4ff6-b123-b20a2ed30822\")>,\n",
       " <selenium.webdriver.remote.webelement.WebElement (session=\"20ebfa2a1e132f657bb2f69c34e085dd\", element=\"a5c61146-856d-4cbb-8933-b52e295006b9\")>,\n",
       " <selenium.webdriver.remote.webelement.WebElement (session=\"20ebfa2a1e132f657bb2f69c34e085dd\", element=\"2c70e140-d3fa-41a9-8b54-ac4c2be7cc0f\")>,\n",
       " <selenium.webdriver.remote.webelement.WebElement (session=\"20ebfa2a1e132f657bb2f69c34e085dd\", element=\"78f04d56-360d-4991-a108-884ff74dda6d\")>,\n",
       " <selenium.webdriver.remote.webelement.WebElement (session=\"20ebfa2a1e132f657bb2f69c34e085dd\", element=\"0e201751-17a2-4ee1-9761-edb67211f7d9\")>,\n",
       " <selenium.webdriver.remote.webelement.WebElement (session=\"20ebfa2a1e132f657bb2f69c34e085dd\", element=\"76e28347-c936-4faf-b6e9-d4fa8e735ca2\")>,\n",
       " <selenium.webdriver.remote.webelement.WebElement (session=\"20ebfa2a1e132f657bb2f69c34e085dd\", element=\"01259f4a-9650-47c4-9c10-3c48f6f91e56\")>,\n",
       " <selenium.webdriver.remote.webelement.WebElement (session=\"20ebfa2a1e132f657bb2f69c34e085dd\", element=\"b15daa5f-dc79-479c-b42a-af499638ad02\")>,\n",
       " <selenium.webdriver.remote.webelement.WebElement (session=\"20ebfa2a1e132f657bb2f69c34e085dd\", element=\"740cd55c-5389-44ed-b54c-5d69803e7347\")>,\n",
       " <selenium.webdriver.remote.webelement.WebElement (session=\"20ebfa2a1e132f657bb2f69c34e085dd\", element=\"c7efb610-e438-4a5d-898d-75574689104d\")>,\n",
       " <selenium.webdriver.remote.webelement.WebElement (session=\"20ebfa2a1e132f657bb2f69c34e085dd\", element=\"2a1b0f91-b51f-4d52-84a2-0b9b48df4d6e\")>,\n",
       " <selenium.webdriver.remote.webelement.WebElement (session=\"20ebfa2a1e132f657bb2f69c34e085dd\", element=\"96f45aa6-9652-4e4a-8eb7-237b32c6ba1f\")>,\n",
       " <selenium.webdriver.remote.webelement.WebElement (session=\"20ebfa2a1e132f657bb2f69c34e085dd\", element=\"99b72f0f-b341-4a0d-9fe3-1684cc5e8866\")>,\n",
       " <selenium.webdriver.remote.webelement.WebElement (session=\"20ebfa2a1e132f657bb2f69c34e085dd\", element=\"b2812466-7e3f-4aa6-9f03-6aafef24b176\")>,\n",
       " <selenium.webdriver.remote.webelement.WebElement (session=\"20ebfa2a1e132f657bb2f69c34e085dd\", element=\"02ef05ca-8e84-45fe-a620-ab066aa8cd42\")>,\n",
       " <selenium.webdriver.remote.webelement.WebElement (session=\"20ebfa2a1e132f657bb2f69c34e085dd\", element=\"e8ea2aa6-ff70-4f2c-bfa8-4ebdadd990ec\")>,\n",
       " <selenium.webdriver.remote.webelement.WebElement (session=\"20ebfa2a1e132f657bb2f69c34e085dd\", element=\"e44cb091-29bb-439e-a35a-bb460f4eeb6e\")>,\n",
       " <selenium.webdriver.remote.webelement.WebElement (session=\"20ebfa2a1e132f657bb2f69c34e085dd\", element=\"f3ecb58f-0ad8-467c-b721-07c38e370d79\")>,\n",
       " <selenium.webdriver.remote.webelement.WebElement (session=\"20ebfa2a1e132f657bb2f69c34e085dd\", element=\"6d1d5da5-66ff-4743-936f-6997a0c37cc7\")>,\n",
       " <selenium.webdriver.remote.webelement.WebElement (session=\"20ebfa2a1e132f657bb2f69c34e085dd\", element=\"d8ed1bef-655b-4836-85f8-d93fec68a862\")>,\n",
       " <selenium.webdriver.remote.webelement.WebElement (session=\"20ebfa2a1e132f657bb2f69c34e085dd\", element=\"6fd97fdd-7a99-4a42-a8fe-7c5f38da4e63\")>,\n",
       " <selenium.webdriver.remote.webelement.WebElement (session=\"20ebfa2a1e132f657bb2f69c34e085dd\", element=\"ff5203c1-8bd4-408b-a898-ea5eb48ce635\")>,\n",
       " <selenium.webdriver.remote.webelement.WebElement (session=\"20ebfa2a1e132f657bb2f69c34e085dd\", element=\"1e2dcc8f-903d-480b-8ff7-a3d74a5010b8\")>,\n",
       " <selenium.webdriver.remote.webelement.WebElement (session=\"20ebfa2a1e132f657bb2f69c34e085dd\", element=\"5792e9db-c9ab-4cca-ab2b-68648cd04ed7\")>]"
      ]
     },
     "execution_count": 71,
     "metadata": {},
     "output_type": "execute_result"
    }
   ],
   "source": [
    "dis_tags = driver.find_elements_by_xpath(\"//a[@class='IRpwTa']\")\n",
    "dis_tags[0:40]"
   ]
  },
  {
   "cell_type": "code",
   "execution_count": 72,
   "id": "2796a893",
   "metadata": {},
   "outputs": [
    {
     "name": "stderr",
     "output_type": "stream",
     "text": [
      "<ipython-input-72-1e5939396136>:1: DeprecationWarning: find_elements_by_* commands are deprecated. Please use find_elements() instead\n",
      "  dis_tags = driver.find_elements_by_xpath(\"//a['@class=IRpwTa']\")\n"
     ]
    },
    {
     "data": {
      "text/plain": [
       "[<selenium.webdriver.remote.webelement.WebElement (session=\"20ebfa2a1e132f657bb2f69c34e085dd\", element=\"8a18e11b-1ad5-41b0-9b5b-5d84490cf0f7\")>,\n",
       " <selenium.webdriver.remote.webelement.WebElement (session=\"20ebfa2a1e132f657bb2f69c34e085dd\", element=\"caaad3be-56d9-47aa-bd4f-0e63146dd5cc\")>,\n",
       " <selenium.webdriver.remote.webelement.WebElement (session=\"20ebfa2a1e132f657bb2f69c34e085dd\", element=\"d40e1504-0768-451e-95dc-fc9b0bb15f95\")>,\n",
       " <selenium.webdriver.remote.webelement.WebElement (session=\"20ebfa2a1e132f657bb2f69c34e085dd\", element=\"655ffe1b-830c-4947-8831-e8128c2a1696\")>,\n",
       " <selenium.webdriver.remote.webelement.WebElement (session=\"20ebfa2a1e132f657bb2f69c34e085dd\", element=\"690a2533-b553-4410-ad3e-ac06444cce54\")>,\n",
       " <selenium.webdriver.remote.webelement.WebElement (session=\"20ebfa2a1e132f657bb2f69c34e085dd\", element=\"0b454822-0725-4856-883a-a04c343fa2f1\")>,\n",
       " <selenium.webdriver.remote.webelement.WebElement (session=\"20ebfa2a1e132f657bb2f69c34e085dd\", element=\"6575c9e6-efa6-49e3-b44d-015de36e535b\")>,\n",
       " <selenium.webdriver.remote.webelement.WebElement (session=\"20ebfa2a1e132f657bb2f69c34e085dd\", element=\"301d17e9-466a-4f64-aa73-456411029a15\")>,\n",
       " <selenium.webdriver.remote.webelement.WebElement (session=\"20ebfa2a1e132f657bb2f69c34e085dd\", element=\"59e0e729-fa2b-446e-ac41-2872be8c43f4\")>,\n",
       " <selenium.webdriver.remote.webelement.WebElement (session=\"20ebfa2a1e132f657bb2f69c34e085dd\", element=\"0b582f76-ccf6-483d-9322-8e37a28c40d6\")>,\n",
       " <selenium.webdriver.remote.webelement.WebElement (session=\"20ebfa2a1e132f657bb2f69c34e085dd\", element=\"357fa088-20f1-4950-9f73-c3ca4d13dc3e\")>,\n",
       " <selenium.webdriver.remote.webelement.WebElement (session=\"20ebfa2a1e132f657bb2f69c34e085dd\", element=\"d06ab104-354f-47d2-b7c4-b173b675ad73\")>,\n",
       " <selenium.webdriver.remote.webelement.WebElement (session=\"20ebfa2a1e132f657bb2f69c34e085dd\", element=\"054f90e1-d513-4f1d-86ba-8e0beb9d57bc\")>,\n",
       " <selenium.webdriver.remote.webelement.WebElement (session=\"20ebfa2a1e132f657bb2f69c34e085dd\", element=\"8394d820-c5b6-49ff-9544-45be2d887593\")>,\n",
       " <selenium.webdriver.remote.webelement.WebElement (session=\"20ebfa2a1e132f657bb2f69c34e085dd\", element=\"f220f66a-6a3b-4423-9d2e-391b6d56920f\")>,\n",
       " <selenium.webdriver.remote.webelement.WebElement (session=\"20ebfa2a1e132f657bb2f69c34e085dd\", element=\"f33bb18e-8d28-43ba-8c81-7e16c9b2d541\")>,\n",
       " <selenium.webdriver.remote.webelement.WebElement (session=\"20ebfa2a1e132f657bb2f69c34e085dd\", element=\"839cffdd-0d64-4a4e-aa9b-e6c29561734d\")>,\n",
       " <selenium.webdriver.remote.webelement.WebElement (session=\"20ebfa2a1e132f657bb2f69c34e085dd\", element=\"54df9251-2ec5-49ca-8d81-a99b30088c8b\")>,\n",
       " <selenium.webdriver.remote.webelement.WebElement (session=\"20ebfa2a1e132f657bb2f69c34e085dd\", element=\"598e9f34-8be2-4ff6-b123-b20a2ed30822\")>,\n",
       " <selenium.webdriver.remote.webelement.WebElement (session=\"20ebfa2a1e132f657bb2f69c34e085dd\", element=\"797dd2e8-e145-448f-a1ae-06bcb13061ea\")>,\n",
       " <selenium.webdriver.remote.webelement.WebElement (session=\"20ebfa2a1e132f657bb2f69c34e085dd\", element=\"65fc8eda-7a6c-4f57-851c-981ea370382c\")>,\n",
       " <selenium.webdriver.remote.webelement.WebElement (session=\"20ebfa2a1e132f657bb2f69c34e085dd\", element=\"a5c61146-856d-4cbb-8933-b52e295006b9\")>,\n",
       " <selenium.webdriver.remote.webelement.WebElement (session=\"20ebfa2a1e132f657bb2f69c34e085dd\", element=\"f6365e15-ff17-4415-9074-ffe999849527\")>,\n",
       " <selenium.webdriver.remote.webelement.WebElement (session=\"20ebfa2a1e132f657bb2f69c34e085dd\", element=\"fc5913df-1c92-4824-866c-4ad330673e80\")>,\n",
       " <selenium.webdriver.remote.webelement.WebElement (session=\"20ebfa2a1e132f657bb2f69c34e085dd\", element=\"2c70e140-d3fa-41a9-8b54-ac4c2be7cc0f\")>,\n",
       " <selenium.webdriver.remote.webelement.WebElement (session=\"20ebfa2a1e132f657bb2f69c34e085dd\", element=\"5b55f7b7-ffd7-4b69-9e40-9fb55ef9f9a5\")>,\n",
       " <selenium.webdriver.remote.webelement.WebElement (session=\"20ebfa2a1e132f657bb2f69c34e085dd\", element=\"a17b8756-3db5-4dd2-8db0-cedcdb81a0b8\")>,\n",
       " <selenium.webdriver.remote.webelement.WebElement (session=\"20ebfa2a1e132f657bb2f69c34e085dd\", element=\"78f04d56-360d-4991-a108-884ff74dda6d\")>,\n",
       " <selenium.webdriver.remote.webelement.WebElement (session=\"20ebfa2a1e132f657bb2f69c34e085dd\", element=\"ebd31dad-7d0d-416a-a59a-d6a34d2f1b17\")>,\n",
       " <selenium.webdriver.remote.webelement.WebElement (session=\"20ebfa2a1e132f657bb2f69c34e085dd\", element=\"d2df1475-39a5-41e5-852d-e39b1357d1be\")>,\n",
       " <selenium.webdriver.remote.webelement.WebElement (session=\"20ebfa2a1e132f657bb2f69c34e085dd\", element=\"0e201751-17a2-4ee1-9761-edb67211f7d9\")>,\n",
       " <selenium.webdriver.remote.webelement.WebElement (session=\"20ebfa2a1e132f657bb2f69c34e085dd\", element=\"434d3a0b-9afd-482c-a8e2-e0b67d9e4236\")>,\n",
       " <selenium.webdriver.remote.webelement.WebElement (session=\"20ebfa2a1e132f657bb2f69c34e085dd\", element=\"8a83d4d5-b2b1-4854-aaf5-0daa4175e3e0\")>,\n",
       " <selenium.webdriver.remote.webelement.WebElement (session=\"20ebfa2a1e132f657bb2f69c34e085dd\", element=\"76e28347-c936-4faf-b6e9-d4fa8e735ca2\")>,\n",
       " <selenium.webdriver.remote.webelement.WebElement (session=\"20ebfa2a1e132f657bb2f69c34e085dd\", element=\"6a4dc7cb-4f23-49b2-b4b5-113701b7b0a4\")>,\n",
       " <selenium.webdriver.remote.webelement.WebElement (session=\"20ebfa2a1e132f657bb2f69c34e085dd\", element=\"d31f4cd2-2777-45b6-a90b-fc3252b57caf\")>,\n",
       " <selenium.webdriver.remote.webelement.WebElement (session=\"20ebfa2a1e132f657bb2f69c34e085dd\", element=\"01259f4a-9650-47c4-9c10-3c48f6f91e56\")>,\n",
       " <selenium.webdriver.remote.webelement.WebElement (session=\"20ebfa2a1e132f657bb2f69c34e085dd\", element=\"6d8fdfd0-630e-48a7-b813-3e0ee61e6f01\")>,\n",
       " <selenium.webdriver.remote.webelement.WebElement (session=\"20ebfa2a1e132f657bb2f69c34e085dd\", element=\"e114227f-25ff-4b03-835d-4cdb92e40d48\")>]"
      ]
     },
     "execution_count": 72,
     "metadata": {},
     "output_type": "execute_result"
    }
   ],
   "source": [
    "dis_tags = driver.find_elements_by_xpath(\"//a['@class=IRpwTa']\")\n",
    "dis_tags[41:80]"
   ]
  },
  {
   "cell_type": "code",
   "execution_count": 61,
   "id": "1d0e030f",
   "metadata": {},
   "outputs": [
    {
     "name": "stderr",
     "output_type": "stream",
     "text": [
      "<ipython-input-61-952e49f83498>:1: DeprecationWarning: find_elements_by_* commands are deprecated. Please use find_elements() instead\n",
      "  dis_tags = driver.find_elements_by_xpath(\"//a['@class=IRpwTa']\")\n"
     ]
    },
    {
     "data": {
      "text/plain": [
       "[<selenium.webdriver.remote.webelement.WebElement (session=\"20ebfa2a1e132f657bb2f69c34e085dd\", element=\"493113c5-7b5a-4abb-905a-ce8d0aa3f919\")>,\n",
       " <selenium.webdriver.remote.webelement.WebElement (session=\"20ebfa2a1e132f657bb2f69c34e085dd\", element=\"f4592bd8-299a-4c5c-8c14-5e5310d893a3\")>,\n",
       " <selenium.webdriver.remote.webelement.WebElement (session=\"20ebfa2a1e132f657bb2f69c34e085dd\", element=\"740cd55c-5389-44ed-b54c-5d69803e7347\")>,\n",
       " <selenium.webdriver.remote.webelement.WebElement (session=\"20ebfa2a1e132f657bb2f69c34e085dd\", element=\"06c73937-6bae-40e5-b95f-e099c4c16ca6\")>,\n",
       " <selenium.webdriver.remote.webelement.WebElement (session=\"20ebfa2a1e132f657bb2f69c34e085dd\", element=\"4329f13f-5cc2-45aa-8889-b2c4c82ce57f\")>,\n",
       " <selenium.webdriver.remote.webelement.WebElement (session=\"20ebfa2a1e132f657bb2f69c34e085dd\", element=\"c7efb610-e438-4a5d-898d-75574689104d\")>,\n",
       " <selenium.webdriver.remote.webelement.WebElement (session=\"20ebfa2a1e132f657bb2f69c34e085dd\", element=\"3fda9733-62ab-465c-98a0-4b8e3b1aa67e\")>,\n",
       " <selenium.webdriver.remote.webelement.WebElement (session=\"20ebfa2a1e132f657bb2f69c34e085dd\", element=\"46f88f41-2062-4f57-b4d6-9379ae67ebe2\")>,\n",
       " <selenium.webdriver.remote.webelement.WebElement (session=\"20ebfa2a1e132f657bb2f69c34e085dd\", element=\"2a1b0f91-b51f-4d52-84a2-0b9b48df4d6e\")>,\n",
       " <selenium.webdriver.remote.webelement.WebElement (session=\"20ebfa2a1e132f657bb2f69c34e085dd\", element=\"b7e45ea2-f8f5-4627-be0c-87bab1af4a36\")>,\n",
       " <selenium.webdriver.remote.webelement.WebElement (session=\"20ebfa2a1e132f657bb2f69c34e085dd\", element=\"f7d7b01b-8c98-42cd-aaa4-26b5bfaaa863\")>,\n",
       " <selenium.webdriver.remote.webelement.WebElement (session=\"20ebfa2a1e132f657bb2f69c34e085dd\", element=\"96f45aa6-9652-4e4a-8eb7-237b32c6ba1f\")>,\n",
       " <selenium.webdriver.remote.webelement.WebElement (session=\"20ebfa2a1e132f657bb2f69c34e085dd\", element=\"b3ad72ba-78a6-40cf-ba24-c16e0010423c\")>,\n",
       " <selenium.webdriver.remote.webelement.WebElement (session=\"20ebfa2a1e132f657bb2f69c34e085dd\", element=\"445e115a-4bf8-428b-b7e7-466b9482085a\")>,\n",
       " <selenium.webdriver.remote.webelement.WebElement (session=\"20ebfa2a1e132f657bb2f69c34e085dd\", element=\"99b72f0f-b341-4a0d-9fe3-1684cc5e8866\")>,\n",
       " <selenium.webdriver.remote.webelement.WebElement (session=\"20ebfa2a1e132f657bb2f69c34e085dd\", element=\"51f1d24b-cc97-4adf-a279-8e8635a86021\")>,\n",
       " <selenium.webdriver.remote.webelement.WebElement (session=\"20ebfa2a1e132f657bb2f69c34e085dd\", element=\"cf74485b-c663-4385-b1da-d41ed7596233\")>,\n",
       " <selenium.webdriver.remote.webelement.WebElement (session=\"20ebfa2a1e132f657bb2f69c34e085dd\", element=\"b2812466-7e3f-4aa6-9f03-6aafef24b176\")>,\n",
       " <selenium.webdriver.remote.webelement.WebElement (session=\"20ebfa2a1e132f657bb2f69c34e085dd\", element=\"781d179c-987b-494f-a0b5-c0d3dfc20f16\")>]"
      ]
     },
     "execution_count": 61,
     "metadata": {},
     "output_type": "execute_result"
    }
   ],
   "source": [
    "dis_tags = driver.find_elements_by_xpath(\"//a['@class=IRpwTa']\")\n",
    "dis_tags[81:100]"
   ]
  },
  {
   "cell_type": "code",
   "execution_count": null,
   "id": "806e98c1",
   "metadata": {},
   "outputs": [],
   "source": [
    "for i in dis_tags:\n",
    "    dis=i.text\n",
    "    product_dis.append(dis)\n",
    "product_dis[0:100]      "
   ]
  },
  {
   "cell_type": "code",
   "execution_count": 73,
   "id": "68cf312a",
   "metadata": {},
   "outputs": [
    {
     "name": "stderr",
     "output_type": "stream",
     "text": [
      "<ipython-input-73-97a8291f70cb>:1: DeprecationWarning: find_elements_by_* commands are deprecated. Please use find_elements() instead\n",
      "  list_tags = driver.find_elements_by_xpath(\"//div[@class='_30jeq3']\")\n"
     ]
    },
    {
     "data": {
      "text/plain": [
       "[<selenium.webdriver.remote.webelement.WebElement (session=\"20ebfa2a1e132f657bb2f69c34e085dd\", element=\"b8ee4635-9050-4103-abd3-3006f60f45cf\")>,\n",
       " <selenium.webdriver.remote.webelement.WebElement (session=\"20ebfa2a1e132f657bb2f69c34e085dd\", element=\"2ff660c7-cd7d-4293-bdad-1cd76c7721a7\")>,\n",
       " <selenium.webdriver.remote.webelement.WebElement (session=\"20ebfa2a1e132f657bb2f69c34e085dd\", element=\"dbed0ea0-819b-4a05-ade0-282cb4b956ca\")>,\n",
       " <selenium.webdriver.remote.webelement.WebElement (session=\"20ebfa2a1e132f657bb2f69c34e085dd\", element=\"d0401772-d6fd-413b-a778-c7b20282a58f\")>,\n",
       " <selenium.webdriver.remote.webelement.WebElement (session=\"20ebfa2a1e132f657bb2f69c34e085dd\", element=\"3167f0da-5412-4c5d-afe7-204439e93d71\")>,\n",
       " <selenium.webdriver.remote.webelement.WebElement (session=\"20ebfa2a1e132f657bb2f69c34e085dd\", element=\"1e2b1c61-0544-4708-a21b-396a9e9eb5da\")>,\n",
       " <selenium.webdriver.remote.webelement.WebElement (session=\"20ebfa2a1e132f657bb2f69c34e085dd\", element=\"b1f69ef1-eb3d-4177-95ab-7474b3386ace\")>,\n",
       " <selenium.webdriver.remote.webelement.WebElement (session=\"20ebfa2a1e132f657bb2f69c34e085dd\", element=\"de8b2cff-fef9-4e1a-9eaa-4123f5520261\")>,\n",
       " <selenium.webdriver.remote.webelement.WebElement (session=\"20ebfa2a1e132f657bb2f69c34e085dd\", element=\"9d4a6659-0046-4185-8845-410536e346ed\")>,\n",
       " <selenium.webdriver.remote.webelement.WebElement (session=\"20ebfa2a1e132f657bb2f69c34e085dd\", element=\"f20b421a-e911-4c26-aa61-85d599c32826\")>,\n",
       " <selenium.webdriver.remote.webelement.WebElement (session=\"20ebfa2a1e132f657bb2f69c34e085dd\", element=\"573462d7-73d4-4cfe-a7d8-2b47be6e571e\")>,\n",
       " <selenium.webdriver.remote.webelement.WebElement (session=\"20ebfa2a1e132f657bb2f69c34e085dd\", element=\"2a12d328-4871-4145-b0e7-eb4df5f856d0\")>,\n",
       " <selenium.webdriver.remote.webelement.WebElement (session=\"20ebfa2a1e132f657bb2f69c34e085dd\", element=\"b36b6c5f-ac73-4ae4-a8d8-78c13b799149\")>,\n",
       " <selenium.webdriver.remote.webelement.WebElement (session=\"20ebfa2a1e132f657bb2f69c34e085dd\", element=\"73da20ee-dbe3-4ef7-8b62-87c9bc91cb1b\")>,\n",
       " <selenium.webdriver.remote.webelement.WebElement (session=\"20ebfa2a1e132f657bb2f69c34e085dd\", element=\"3704d450-8018-4a3c-b4b3-dd9e110e7021\")>,\n",
       " <selenium.webdriver.remote.webelement.WebElement (session=\"20ebfa2a1e132f657bb2f69c34e085dd\", element=\"d4b4d5b5-d49e-4e28-a822-f0c7a4ebaf73\")>,\n",
       " <selenium.webdriver.remote.webelement.WebElement (session=\"20ebfa2a1e132f657bb2f69c34e085dd\", element=\"1b2c78ee-d2a8-4025-85fd-e985cc9b2b21\")>,\n",
       " <selenium.webdriver.remote.webelement.WebElement (session=\"20ebfa2a1e132f657bb2f69c34e085dd\", element=\"41682a6f-9e0d-495a-ac93-5e982e358c50\")>,\n",
       " <selenium.webdriver.remote.webelement.WebElement (session=\"20ebfa2a1e132f657bb2f69c34e085dd\", element=\"d728f213-7455-4053-b9ec-142e71adf3be\")>,\n",
       " <selenium.webdriver.remote.webelement.WebElement (session=\"20ebfa2a1e132f657bb2f69c34e085dd\", element=\"8edceb5d-ebc1-4fd8-8ec6-90904ab5d548\")>,\n",
       " <selenium.webdriver.remote.webelement.WebElement (session=\"20ebfa2a1e132f657bb2f69c34e085dd\", element=\"1ce1db42-d201-4bd9-a2f4-6681b3780ed6\")>,\n",
       " <selenium.webdriver.remote.webelement.WebElement (session=\"20ebfa2a1e132f657bb2f69c34e085dd\", element=\"14c80abb-8053-4126-9d74-0a121300b192\")>,\n",
       " <selenium.webdriver.remote.webelement.WebElement (session=\"20ebfa2a1e132f657bb2f69c34e085dd\", element=\"d5682df0-3b3e-4128-8a82-6115db1c703d\")>,\n",
       " <selenium.webdriver.remote.webelement.WebElement (session=\"20ebfa2a1e132f657bb2f69c34e085dd\", element=\"92548b9f-340f-42ce-ae4f-9ebade64f72b\")>,\n",
       " <selenium.webdriver.remote.webelement.WebElement (session=\"20ebfa2a1e132f657bb2f69c34e085dd\", element=\"689aa155-31a9-4c54-ad9c-ec4f829692f0\")>,\n",
       " <selenium.webdriver.remote.webelement.WebElement (session=\"20ebfa2a1e132f657bb2f69c34e085dd\", element=\"44856362-dc89-4a24-b1cb-f50029cf120c\")>,\n",
       " <selenium.webdriver.remote.webelement.WebElement (session=\"20ebfa2a1e132f657bb2f69c34e085dd\", element=\"fef37b0c-165e-4c60-8063-afd6f4615265\")>,\n",
       " <selenium.webdriver.remote.webelement.WebElement (session=\"20ebfa2a1e132f657bb2f69c34e085dd\", element=\"292d8ff1-6299-4ecb-9c37-6c1d5b1a1e37\")>,\n",
       " <selenium.webdriver.remote.webelement.WebElement (session=\"20ebfa2a1e132f657bb2f69c34e085dd\", element=\"896a3493-15db-4384-9e86-85a7752de368\")>,\n",
       " <selenium.webdriver.remote.webelement.WebElement (session=\"20ebfa2a1e132f657bb2f69c34e085dd\", element=\"325c7d93-6d46-4f79-8934-7984d1c74f7f\")>,\n",
       " <selenium.webdriver.remote.webelement.WebElement (session=\"20ebfa2a1e132f657bb2f69c34e085dd\", element=\"8c8e62ba-18cd-4635-8ec5-048c2197f696\")>,\n",
       " <selenium.webdriver.remote.webelement.WebElement (session=\"20ebfa2a1e132f657bb2f69c34e085dd\", element=\"f41d8fef-4a2c-4d22-819a-3199ac7d84d5\")>,\n",
       " <selenium.webdriver.remote.webelement.WebElement (session=\"20ebfa2a1e132f657bb2f69c34e085dd\", element=\"2bfdc00a-f751-4709-a324-f954bfcf5498\")>,\n",
       " <selenium.webdriver.remote.webelement.WebElement (session=\"20ebfa2a1e132f657bb2f69c34e085dd\", element=\"205f5c6a-1770-4dbe-87f4-0c8f1a7598a0\")>,\n",
       " <selenium.webdriver.remote.webelement.WebElement (session=\"20ebfa2a1e132f657bb2f69c34e085dd\", element=\"fa045b16-602b-4133-8c76-beb013434b00\")>,\n",
       " <selenium.webdriver.remote.webelement.WebElement (session=\"20ebfa2a1e132f657bb2f69c34e085dd\", element=\"b29efe8e-b8a2-4e68-a734-5676ae6eba96\")>,\n",
       " <selenium.webdriver.remote.webelement.WebElement (session=\"20ebfa2a1e132f657bb2f69c34e085dd\", element=\"23377f93-837e-4d3d-a91e-0adc8d36d6ea\")>,\n",
       " <selenium.webdriver.remote.webelement.WebElement (session=\"20ebfa2a1e132f657bb2f69c34e085dd\", element=\"7d59728d-6e31-4e50-85ff-2124a0c621d0\")>,\n",
       " <selenium.webdriver.remote.webelement.WebElement (session=\"20ebfa2a1e132f657bb2f69c34e085dd\", element=\"daf5fced-c02e-4543-a7d4-2cc585f94b36\")>,\n",
       " <selenium.webdriver.remote.webelement.WebElement (session=\"20ebfa2a1e132f657bb2f69c34e085dd\", element=\"d391343a-6c96-4a6e-90e1-67f43aa46ea8\")>]"
      ]
     },
     "execution_count": 73,
     "metadata": {},
     "output_type": "execute_result"
    }
   ],
   "source": [
    "list_tags = driver.find_elements_by_xpath(\"//div[@class='_30jeq3']\")\n",
    "list_tags[0:40]"
   ]
  },
  {
   "cell_type": "code",
   "execution_count": 75,
   "id": "f8d292dc",
   "metadata": {},
   "outputs": [
    {
     "name": "stderr",
     "output_type": "stream",
     "text": [
      "<ipython-input-75-48fef709d4aa>:1: DeprecationWarning: find_elements_by_* commands are deprecated. Please use find_elements() instead\n",
      "  list_tags = driver.find_elements_by_xpath(\"//div['@class=_30jeq3']\")\n"
     ]
    },
    {
     "data": {
      "text/plain": [
       "[<selenium.webdriver.remote.webelement.WebElement (session=\"20ebfa2a1e132f657bb2f69c34e085dd\", element=\"9127af6e-089b-4d79-8b01-eef93ae17109\")>,\n",
       " <selenium.webdriver.remote.webelement.WebElement (session=\"20ebfa2a1e132f657bb2f69c34e085dd\", element=\"9052a97e-a1e8-4b45-8281-6d8f441a60df\")>,\n",
       " <selenium.webdriver.remote.webelement.WebElement (session=\"20ebfa2a1e132f657bb2f69c34e085dd\", element=\"edf692e2-0f28-4ce3-999f-824cff449b00\")>,\n",
       " <selenium.webdriver.remote.webelement.WebElement (session=\"20ebfa2a1e132f657bb2f69c34e085dd\", element=\"7ae8946a-b573-469b-b971-a0d687eec23f\")>,\n",
       " <selenium.webdriver.remote.webelement.WebElement (session=\"20ebfa2a1e132f657bb2f69c34e085dd\", element=\"44500f4c-7b80-4ef1-89aa-bf3378d7d198\")>,\n",
       " <selenium.webdriver.remote.webelement.WebElement (session=\"20ebfa2a1e132f657bb2f69c34e085dd\", element=\"dcc23fcd-b86d-4cb3-ac60-98a64c0d15a7\")>,\n",
       " <selenium.webdriver.remote.webelement.WebElement (session=\"20ebfa2a1e132f657bb2f69c34e085dd\", element=\"97fdbae8-7249-46e0-b911-b4998dbd78d0\")>,\n",
       " <selenium.webdriver.remote.webelement.WebElement (session=\"20ebfa2a1e132f657bb2f69c34e085dd\", element=\"f66b2618-d3ae-467e-accc-7406cd0fc848\")>,\n",
       " <selenium.webdriver.remote.webelement.WebElement (session=\"20ebfa2a1e132f657bb2f69c34e085dd\", element=\"93827e56-f77a-4823-be05-e62773dc1a3a\")>,\n",
       " <selenium.webdriver.remote.webelement.WebElement (session=\"20ebfa2a1e132f657bb2f69c34e085dd\", element=\"fd23d37b-8f72-4383-acf6-24386725f35e\")>,\n",
       " <selenium.webdriver.remote.webelement.WebElement (session=\"20ebfa2a1e132f657bb2f69c34e085dd\", element=\"5b952ea3-fe1b-46b2-be08-56265195ef8f\")>,\n",
       " <selenium.webdriver.remote.webelement.WebElement (session=\"20ebfa2a1e132f657bb2f69c34e085dd\", element=\"2f891091-cc20-4399-bc5c-88f58961988b\")>,\n",
       " <selenium.webdriver.remote.webelement.WebElement (session=\"20ebfa2a1e132f657bb2f69c34e085dd\", element=\"1b2d8208-4e82-48bb-86d1-e66f0213ee6e\")>,\n",
       " <selenium.webdriver.remote.webelement.WebElement (session=\"20ebfa2a1e132f657bb2f69c34e085dd\", element=\"ab785d82-84c5-4cb0-84b5-5080e472b740\")>,\n",
       " <selenium.webdriver.remote.webelement.WebElement (session=\"20ebfa2a1e132f657bb2f69c34e085dd\", element=\"95c4befa-04b5-432f-9ebe-e46661bd65d2\")>,\n",
       " <selenium.webdriver.remote.webelement.WebElement (session=\"20ebfa2a1e132f657bb2f69c34e085dd\", element=\"be0ed7a0-94a0-4bc2-8100-9548b1abaa0a\")>,\n",
       " <selenium.webdriver.remote.webelement.WebElement (session=\"20ebfa2a1e132f657bb2f69c34e085dd\", element=\"437947fe-89bc-4a40-a169-a70075ddab66\")>,\n",
       " <selenium.webdriver.remote.webelement.WebElement (session=\"20ebfa2a1e132f657bb2f69c34e085dd\", element=\"e3cdbdf7-7f8c-44c9-a251-359aa217fe0c\")>,\n",
       " <selenium.webdriver.remote.webelement.WebElement (session=\"20ebfa2a1e132f657bb2f69c34e085dd\", element=\"bd30267e-6e53-42f6-9b46-f6a9d59d8026\")>,\n",
       " <selenium.webdriver.remote.webelement.WebElement (session=\"20ebfa2a1e132f657bb2f69c34e085dd\", element=\"c70cd692-1936-4651-bf9f-f470d51c90bf\")>,\n",
       " <selenium.webdriver.remote.webelement.WebElement (session=\"20ebfa2a1e132f657bb2f69c34e085dd\", element=\"0746ad0f-8955-4dc0-9623-4044f8dc7077\")>,\n",
       " <selenium.webdriver.remote.webelement.WebElement (session=\"20ebfa2a1e132f657bb2f69c34e085dd\", element=\"8e710cbb-99dc-4e7f-a6e4-0bd8c9dcf7a5\")>,\n",
       " <selenium.webdriver.remote.webelement.WebElement (session=\"20ebfa2a1e132f657bb2f69c34e085dd\", element=\"802ef046-44f0-4772-8c44-fc7fbf6b9889\")>,\n",
       " <selenium.webdriver.remote.webelement.WebElement (session=\"20ebfa2a1e132f657bb2f69c34e085dd\", element=\"d066e04f-10c5-4210-b956-c21d6f1e875a\")>,\n",
       " <selenium.webdriver.remote.webelement.WebElement (session=\"20ebfa2a1e132f657bb2f69c34e085dd\", element=\"1a09d74a-a55d-48e6-90d9-2e29f66f9f60\")>,\n",
       " <selenium.webdriver.remote.webelement.WebElement (session=\"20ebfa2a1e132f657bb2f69c34e085dd\", element=\"f9a09997-890a-487f-93ac-9c5c18bc6f90\")>,\n",
       " <selenium.webdriver.remote.webelement.WebElement (session=\"20ebfa2a1e132f657bb2f69c34e085dd\", element=\"6a085868-151e-4166-8a3e-94b1a23b1c35\")>,\n",
       " <selenium.webdriver.remote.webelement.WebElement (session=\"20ebfa2a1e132f657bb2f69c34e085dd\", element=\"dc3b02f9-10c4-49e3-b142-4eec4eb91108\")>,\n",
       " <selenium.webdriver.remote.webelement.WebElement (session=\"20ebfa2a1e132f657bb2f69c34e085dd\", element=\"53684b38-c55e-4ea6-a3f1-7f83af689538\")>,\n",
       " <selenium.webdriver.remote.webelement.WebElement (session=\"20ebfa2a1e132f657bb2f69c34e085dd\", element=\"517e1738-be7b-41f0-b670-a335e895bb31\")>,\n",
       " <selenium.webdriver.remote.webelement.WebElement (session=\"20ebfa2a1e132f657bb2f69c34e085dd\", element=\"d38da8c8-f72d-43b3-93c4-06cff206b957\")>,\n",
       " <selenium.webdriver.remote.webelement.WebElement (session=\"20ebfa2a1e132f657bb2f69c34e085dd\", element=\"bcfbf090-8864-4fac-a27f-c52ae11557e7\")>,\n",
       " <selenium.webdriver.remote.webelement.WebElement (session=\"20ebfa2a1e132f657bb2f69c34e085dd\", element=\"7aae51cf-5114-4122-9bac-0758cad1970f\")>,\n",
       " <selenium.webdriver.remote.webelement.WebElement (session=\"20ebfa2a1e132f657bb2f69c34e085dd\", element=\"5027b97f-adea-43c9-bb60-17ec476838f0\")>,\n",
       " <selenium.webdriver.remote.webelement.WebElement (session=\"20ebfa2a1e132f657bb2f69c34e085dd\", element=\"ef2f713b-b52e-4fc7-ae4c-00c1872ef2ca\")>,\n",
       " <selenium.webdriver.remote.webelement.WebElement (session=\"20ebfa2a1e132f657bb2f69c34e085dd\", element=\"12408d73-9261-4566-b36f-650ead43fe74\")>,\n",
       " <selenium.webdriver.remote.webelement.WebElement (session=\"20ebfa2a1e132f657bb2f69c34e085dd\", element=\"c4872570-c242-47a6-a3a4-2de52a696dee\")>,\n",
       " <selenium.webdriver.remote.webelement.WebElement (session=\"20ebfa2a1e132f657bb2f69c34e085dd\", element=\"965d3e86-d0c8-4eaf-bde3-6c94a594856d\")>,\n",
       " <selenium.webdriver.remote.webelement.WebElement (session=\"20ebfa2a1e132f657bb2f69c34e085dd\", element=\"76d54296-3151-4830-94ba-49b3ae54ebfb\")>]"
      ]
     },
     "execution_count": 75,
     "metadata": {},
     "output_type": "execute_result"
    }
   ],
   "source": [
    "list_tags = driver.find_elements_by_xpath(\"//div['@class=_30jeq3']\")\n",
    "list_tags[41:80]"
   ]
  },
  {
   "cell_type": "code",
   "execution_count": 66,
   "id": "d968d8a1",
   "metadata": {},
   "outputs": [
    {
     "name": "stderr",
     "output_type": "stream",
     "text": [
      "<ipython-input-66-7d67ecd39132>:1: DeprecationWarning: find_elements_by_* commands are deprecated. Please use find_elements() instead\n",
      "  list_tags = driver.find_elements_by_xpath(\"//div['@class=_30jeq3']\")\n"
     ]
    },
    {
     "data": {
      "text/plain": [
       "[<selenium.webdriver.remote.webelement.WebElement (session=\"20ebfa2a1e132f657bb2f69c34e085dd\", element=\"914b6333-4cbf-40f3-a93d-074e69ab5dfe\")>,\n",
       " <selenium.webdriver.remote.webelement.WebElement (session=\"20ebfa2a1e132f657bb2f69c34e085dd\", element=\"3d986d1b-461c-45a3-960e-af5018df3f1d\")>,\n",
       " <selenium.webdriver.remote.webelement.WebElement (session=\"20ebfa2a1e132f657bb2f69c34e085dd\", element=\"fa433a02-e797-4068-a6cb-4959aa2f1291\")>,\n",
       " <selenium.webdriver.remote.webelement.WebElement (session=\"20ebfa2a1e132f657bb2f69c34e085dd\", element=\"2e9ba4e2-9a63-4819-b790-9e4458aab35b\")>,\n",
       " <selenium.webdriver.remote.webelement.WebElement (session=\"20ebfa2a1e132f657bb2f69c34e085dd\", element=\"e91ef2e1-076c-4e16-879a-ff431befa4e1\")>,\n",
       " <selenium.webdriver.remote.webelement.WebElement (session=\"20ebfa2a1e132f657bb2f69c34e085dd\", element=\"b8b5f778-e6ed-4456-99b2-4d859171bbe7\")>,\n",
       " <selenium.webdriver.remote.webelement.WebElement (session=\"20ebfa2a1e132f657bb2f69c34e085dd\", element=\"0830b95f-daa8-4749-9cae-6e00ca5a2cf4\")>,\n",
       " <selenium.webdriver.remote.webelement.WebElement (session=\"20ebfa2a1e132f657bb2f69c34e085dd\", element=\"b5b1f812-56df-4a89-8bc8-ca4267afef15\")>,\n",
       " <selenium.webdriver.remote.webelement.WebElement (session=\"20ebfa2a1e132f657bb2f69c34e085dd\", element=\"2fc69298-a4f4-4013-b2ae-e540e77e9802\")>,\n",
       " <selenium.webdriver.remote.webelement.WebElement (session=\"20ebfa2a1e132f657bb2f69c34e085dd\", element=\"a9e0e719-fb20-4003-b2d0-c291aa435195\")>,\n",
       " <selenium.webdriver.remote.webelement.WebElement (session=\"20ebfa2a1e132f657bb2f69c34e085dd\", element=\"9982d624-58f8-446b-a352-e560e21def47\")>,\n",
       " <selenium.webdriver.remote.webelement.WebElement (session=\"20ebfa2a1e132f657bb2f69c34e085dd\", element=\"d96f2346-fd35-4f11-a018-8b0fda145393\")>,\n",
       " <selenium.webdriver.remote.webelement.WebElement (session=\"20ebfa2a1e132f657bb2f69c34e085dd\", element=\"f0debfdd-aae8-419a-a118-f8fc5e39c19b\")>,\n",
       " <selenium.webdriver.remote.webelement.WebElement (session=\"20ebfa2a1e132f657bb2f69c34e085dd\", element=\"2e647693-7626-4bb8-87f0-e9d6589a6ecd\")>,\n",
       " <selenium.webdriver.remote.webelement.WebElement (session=\"20ebfa2a1e132f657bb2f69c34e085dd\", element=\"76ee7f82-10d4-4ac4-9d66-0a7aaa8fe76a\")>,\n",
       " <selenium.webdriver.remote.webelement.WebElement (session=\"20ebfa2a1e132f657bb2f69c34e085dd\", element=\"9202cb00-1fbb-4de8-b809-38cff2b16328\")>,\n",
       " <selenium.webdriver.remote.webelement.WebElement (session=\"20ebfa2a1e132f657bb2f69c34e085dd\", element=\"17a045d3-6123-4d80-a412-424e39796132\")>,\n",
       " <selenium.webdriver.remote.webelement.WebElement (session=\"20ebfa2a1e132f657bb2f69c34e085dd\", element=\"1749ba3e-e194-414b-9b43-3121428922ac\")>,\n",
       " <selenium.webdriver.remote.webelement.WebElement (session=\"20ebfa2a1e132f657bb2f69c34e085dd\", element=\"07d60b4f-8e96-490e-b52b-0da7e79c86ee\")>]"
      ]
     },
     "execution_count": 66,
     "metadata": {},
     "output_type": "execute_result"
    }
   ],
   "source": [
    "list_tags = driver.find_elements_by_xpath(\"//div['@class=_30jeq3']\")\n",
    "list_tags[81:100]"
   ]
  },
  {
   "cell_type": "code",
   "execution_count": 77,
   "id": "119a9bf6",
   "metadata": {},
   "outputs": [
    {
     "data": {
      "text/plain": [
       "['₹188',\n",
       " '₹248',\n",
       " '₹259',\n",
       " '₹200',\n",
       " '₹187',\n",
       " '₹189',\n",
       " '₹170',\n",
       " '₹179',\n",
       " '₹274',\n",
       " '₹383',\n",
       " '₹187',\n",
       " '₹699',\n",
       " '₹426',\n",
       " '₹259',\n",
       " '₹319',\n",
       " '₹299',\n",
       " '₹175',\n",
       " '₹194',\n",
       " '₹449',\n",
       " '₹187',\n",
       " '₹181',\n",
       " '₹474',\n",
       " '₹359',\n",
       " '₹271',\n",
       " '₹383',\n",
       " '₹163',\n",
       " '₹287',\n",
       " '₹359',\n",
       " '₹164',\n",
       " '₹349',\n",
       " '₹694',\n",
       " '₹187',\n",
       " '₹299',\n",
       " '₹229',\n",
       " '₹276',\n",
       " '₹196',\n",
       " '₹261',\n",
       " '₹360',\n",
       " '₹211',\n",
       " '₹258',\n",
       " 'Explore Plus\\nLogin\\nMore\\nCart\\nElectronics\\nTVs & Appliances\\nMen\\nWomen\\nBaby & Kids\\nHome & Furniture\\nSports, Books & More\\nFlights\\nOffer Zone\\nFilters\\nCATEGORIES\\nSunglasses\\nPRICE\\n.......\\nMin\\n₹300\\n₹500\\n₹800\\n₹1000\\n₹2000\\nto\\n₹300\\n₹500\\n₹800\\n₹1000\\n₹2000\\n₹2000+\\n?\\nBRAND\\nFastrack\\nFOSSIL\\nIDEE\\nLEVI\\'S\\nMi\\nOAKLEY\\n1561 MORE\\nIDEAL FOR\\nSTYLE\\nSIZE\\nLENS COLOR\\nFRAME COLOR\\nDISCOUNT\\nFACE SHAPE\\nLENS FEATURE\\nUSAGE\\nTHEME\\nLENS MATERIAL\\nFRAME MATERIAL\\nAVAILABILITY\\nCUSTOMER RATINGS\\n4★ & above\\n3★ & above\\n2★ & above\\n1★ & above\\nOFFERS\\nBuy More, Save More\\nNo Cost EMI\\nSpecial Price\\nNeed help?\\nHelp me decide\\nHomeSunglasses\\nShowing 1 – 40 of 89,980 results for \"sunglasses\"\\nSort By\\nRelevance\\nPopularity\\nPrice -- Low to High\\nPrice -- High to Low\\nNewest First\\nSRPM\\nUV Protection Wayfarer Sunglasses (56)\\n₹188₹1,29985% off\\nElligator\\nUV Protection Round Sunglasses (54)\\n₹248₹2,49590% off\\nNew Specs\\nUV Protection Rectangular Sunglasses (Free Size)\\n₹259₹1,99987% off\\nPIRASO\\nUV Protection Aviator Sunglasses (54)\\n₹200₹1,59987% off\\nPIRASO\\nUV Protection Aviator Sunglasses (54)\\n₹187₹1,59988% off\\nkingsunglasses\\nUV Protection Round Sunglasses (54)\\n₹189₹1,09982% off\\nSHAAH COLLECTIONS\\nUV Protection, Polarized, Mirrored Rectangular Sunglass...\\n₹170₹1,69989% off\\nPIRASO\\nUV Protection Aviator Sunglasses (55)\\n₹179₹1,59988% off\\nkingsunglasses\\nMirrored, UV Protection Wayfarer Sunglasses (53)\\n₹274₹1,99986% off\\nROZZETTA CRAFT\\nUV Protection, Gradient Rectangular Sunglasses (Free Si...\\n₹383₹1,99980% off\\nkingsunglasses\\nUV Protection, Riding Glasses, Mirrored Wayfarer Sungla...\\n₹187₹1,19984% off\\nFastrack\\nUV Protection Wayfarer Sunglasses (Free Size)\\n₹699₹89922% off\\nFree delivery\\nROZZETTA CRAFT\\nUV Protection Round Sunglasses (Free Size)\\n₹426₹2,66584% off\\nNew Specs\\nMirrored, UV Protection, Riding Glasses, Others Round S...\\n₹259₹1,39981% off\\nPHENOMENAL\\nUV Protection Retro Square Sunglasses (Free Size)\\n₹319₹1,99984% off\\nPHENOMENAL\\nUV Protection, Mirrored Retro Square Sunglasses (53)\\n₹299₹1,99985% off\\nRich Club\\nPolarized Round Sunglasses (48)\\n₹175₹49964% off\\nSingco India\\nMirrored, Riding Glasses, Others Sports Sunglasses (50)\\n₹194₹1,49987% off\\nROYAL SON\\nUV Protection Rectangular Sunglasses (58)\\n₹449₹1,49970% off\\nPIRASO\\nUV Protection Aviator Sunglasses (54)\\n₹187₹1,59988% off\\nSHAAH COLLECTIONS\\nUV Protection, Polarized, Mirrored Rectangular Sunglass...\\n₹181₹99981% off\\nROZZETTA CRAFT\\nUV Protection Retro Square Sunglasses (Free Size)\\n₹474₹2,22578% off\\nROYAL SON\\nMirrored Aviator Sunglasses (55)\\n₹359₹1,49976% off\\nSUNBEE\\nUV Protection, Polarized, Mirrored Round Sunglasses (Fr...\\n₹271₹1,69984% off\\nRich Club\\nUV Protection Round Sunglasses (50)\\n₹383₹99961% off\\nRich Club\\nPolarized Round Sunglasses (48)\\n₹163₹49967% off\\nhipe\\nUV Protection Sports Sunglasses (Free Size)\\n₹287₹1,89984% off\\nBuy 2 items, save extra 5%\\nPIRASO\\nUV Protection Butterfly Sunglasses (65)\\n₹359₹2,59986% off\\nPIRASO\\nUV Protection, Polarized Aviator Sunglasses (32)\\n₹164₹1,59989% off\\nROZZETTA CRAFT\\nUV Protection, Gradient Retro Square Sunglasses (Free S...\\n₹349₹1,99982% off\\nFastrack\\nUV Protection Rectangular Sunglasses (Free Size)\\n₹694₹79913% off\\nFree delivery\\nPIRASO\\nUV Protection Wayfarer Sunglasses (32)\\n₹187₹1,59988% off\\nPIRASO\\nUV Protection Aviator Sunglasses (58)\\n₹299₹2,59988% off\\nSingco India\\nUV Protection, Riding Glasses, Others Aviator, Wayfarer...\\n₹229₹69967% off\\nLee Topper\\nRiding Glasses, Night Vision Wrap-around Sunglasses (Fr...\\n₹276₹2,49988% off\\nagera\\nGradient Aviator Sunglasses (55)\\n₹196₹1,14982% off\\nBuy 2 items, save extra 5%\\nPIRASO\\nUV Protection Aviator Sunglasses (Free Size)\\n₹261₹1,59983% off\\nROZZETTA CRAFT\\nUV Protection, Gradient Round Sunglasses (Free Size)\\n₹360₹1,99981% off\\nkingsunglasses\\nMirrored, UV Protection Aviator Sunglasses (56)\\n₹211₹1,29983% off\\nSUNBEE\\nUV Protection, Polarized, Mirrored Wayfarer Sunglasses ...\\n₹258₹1,29980% off\\nPage 1 of 2,250\\n1\\n2\\n3\\n4\\n5\\n6\\n7\\n8\\n9\\n10\\nNEXT\\nDid you find what you were looking for?YesNo\\nReviews for Popular Sunglasses\\n1. Fastrack Wayfarer Sunglasse...\\n4.255,763 Ratings&7,453 Reviews\\n₹69922% off\\nFrame Size: Free Size (One Size Fits All)\\nLens Color: Green\\nFeatures: UV Protection\\nMost Helpful Review\\n5\\nWorth every penny\\nWorth for the money, awesome product and quality is really good. Brand name (Fastrack) speaks👍.\\nJegadeeswaran E\\nCertified Buyer\\nAug, 2020\\nRecent Review\\n5\\nBrilliant\\nSuper googles..😎\\nFlipkart Customer\\nCertified Buyer\\n1day ago\\n2. ROYAL SON Rectangular Sungl...\\n3.910,154 Ratings&1,293 Reviews\\n₹44970% off\\nFrame Size: Medium (S: Below 56mm, M: 56-59mm, L: 60+mm)\\nLens Color: Black, Silver\\nFeatures: UV Protection\\nMost Helpful Review\\n4\\nValue-for-money\\nWorth for the price, expecially for oval faced people.Visibility is little low\\nFlipkart Customer\\nCertified Buyer\\n11months ago\\nRecent Review\\n5\\nWorth every penny\\nTruly value for money product by ROYAL SON. Thank you Flipkart for safely delivering the product to me.\\nSubhodeep Saha\\nCertified Buyer\\n2days ago\\n3. Singco India Aviator, Wayfa...\\n3.637,521 Ratings&4,897 Reviews\\n₹22967% off\\nFrame Size: Medium\\nLens Color: Black, Black\\nFeatures: UV Protection, Riding Glasses, Others\\nMost Helpful Review\\n4\\nWonderful\\nsuperbbbb....tnq flipkart\\nFlipkart Customer\\nCertified Buyer\\nAug, 2019\\nRecent Review\\n1\\nVery poor\\nBad quality and small size\\njerin G Aleyas\\nCertified Buyer\\n1day ago\\n4. ROZZETTA CRAFT Round Sungla...\\n4.13,113 Ratings&383 Reviews\\n₹42684% off\\nFrame Size: Free Size (One Size Fits All)\\nLens Color: Clear\\nFeatures: UV Protection\\nMost Helpful Review\\n5\\nTerrific\\nThanks for lovely sunglasses\\nMegha_ Tewary\\nCertified Buyer\\n11months ago\\nRecent Review\\n1\\nUnsatisfactory\\nBest quality allu arjun sunglasses\\nmd asif\\nCertified Buyer\\n11days ago\\n5. ROZZETTA CRAFT Retro Square...\\n4.2433 Ratings&35 Reviews\\n₹34982% off\\nFrame Size: Free Size (One Size Fits All)\\nLens Color: Black\\nFeatures: UV Protection, Gradient\\nMost Helpful Review\\n5\\nJust wow!\\nIf one\\'s looking for comfortable wear. Please go for this product. It\\'s amazing..! It fits me perfectly. Thank you for this cool product.\\nToshi Yimchunger\\nCertified Buyer\\n2months ago\\nRecent Review\\n5\\nFabulous!\\nProduct is very good but delivery was bad\\nFlipkart Customer\\nCertified Buyer\\n29days ago\\nABOUT\\nContact Us\\nAbout Us\\nCareers\\nFlipkart Stories\\nPress\\nFlipkart Wholesale\\nCorporate Information\\nHELP\\nPayments\\nShipping\\nCancellation & Returns\\nFAQ\\nReport Infringement\\nPOLICY\\nReturn Policy\\nTerms Of Use\\nSecurity\\nPrivacy\\nSitemap\\nEPR Compliance\\nSOCIAL\\nFacebook\\nTwitter\\nYouTube\\nMail Us:\\nFlipkart Internet Private Limited,\\nBuildings Alyssa, Begonia &\\nClove Embassy Tech Village,\\nOuter Ring Road, Devarabeesanahalli Village,\\nBengaluru, 560103,\\nKarnataka, India\\nRegistered Office Address:\\nFlipkart Internet Private Limited,\\nBuildings Alyssa, Begonia &\\nClove Embassy Tech Village,\\nOuter Ring Road, Devarabeesanahalli Village,\\nBengaluru, 560103,\\nKarnataka, India\\nCIN : U51109KA2012PTC066107\\nTelephone: 1800 202 9898\\nSell On Flipkart\\nAdvertise\\nGift Cards\\nHelp Center\\n© 2007-2021 Flipkart.com',\n",
       " 'Explore Plus\\nLogin\\nMore\\nCart\\nElectronics\\nTVs & Appliances\\nMen\\nWomen\\nBaby & Kids\\nHome & Furniture\\nSports, Books & More\\nFlights\\nOffer Zone\\nFilters\\nCATEGORIES\\nSunglasses\\nPRICE\\n.......\\nMin\\n₹300\\n₹500\\n₹800\\n₹1000\\n₹2000\\nto\\n₹300\\n₹500\\n₹800\\n₹1000\\n₹2000\\n₹2000+\\n?\\nBRAND\\nFastrack\\nFOSSIL\\nIDEE\\nLEVI\\'S\\nMi\\nOAKLEY\\n1561 MORE\\nIDEAL FOR\\nSTYLE\\nSIZE\\nLENS COLOR\\nFRAME COLOR\\nDISCOUNT\\nFACE SHAPE\\nLENS FEATURE\\nUSAGE\\nTHEME\\nLENS MATERIAL\\nFRAME MATERIAL\\nAVAILABILITY\\nCUSTOMER RATINGS\\n4★ & above\\n3★ & above\\n2★ & above\\n1★ & above\\nOFFERS\\nBuy More, Save More\\nNo Cost EMI\\nSpecial Price\\nNeed help?\\nHelp me decide\\nHomeSunglasses\\nShowing 1 – 40 of 89,980 results for \"sunglasses\"\\nSort By\\nRelevance\\nPopularity\\nPrice -- Low to High\\nPrice -- High to Low\\nNewest First\\nSRPM\\nUV Protection Wayfarer Sunglasses (56)\\n₹188₹1,29985% off\\nElligator\\nUV Protection Round Sunglasses (54)\\n₹248₹2,49590% off\\nNew Specs\\nUV Protection Rectangular Sunglasses (Free Size)\\n₹259₹1,99987% off\\nPIRASO\\nUV Protection Aviator Sunglasses (54)\\n₹200₹1,59987% off\\nPIRASO\\nUV Protection Aviator Sunglasses (54)\\n₹187₹1,59988% off\\nkingsunglasses\\nUV Protection Round Sunglasses (54)\\n₹189₹1,09982% off\\nSHAAH COLLECTIONS\\nUV Protection, Polarized, Mirrored Rectangular Sunglass...\\n₹170₹1,69989% off\\nPIRASO\\nUV Protection Aviator Sunglasses (55)\\n₹179₹1,59988% off\\nkingsunglasses\\nMirrored, UV Protection Wayfarer Sunglasses (53)\\n₹274₹1,99986% off\\nROZZETTA CRAFT\\nUV Protection, Gradient Rectangular Sunglasses (Free Si...\\n₹383₹1,99980% off\\nkingsunglasses\\nUV Protection, Riding Glasses, Mirrored Wayfarer Sungla...\\n₹187₹1,19984% off\\nFastrack\\nUV Protection Wayfarer Sunglasses (Free Size)\\n₹699₹89922% off\\nFree delivery\\nROZZETTA CRAFT\\nUV Protection Round Sunglasses (Free Size)\\n₹426₹2,66584% off\\nNew Specs\\nMirrored, UV Protection, Riding Glasses, Others Round S...\\n₹259₹1,39981% off\\nPHENOMENAL\\nUV Protection Retro Square Sunglasses (Free Size)\\n₹319₹1,99984% off\\nPHENOMENAL\\nUV Protection, Mirrored Retro Square Sunglasses (53)\\n₹299₹1,99985% off\\nRich Club\\nPolarized Round Sunglasses (48)\\n₹175₹49964% off\\nSingco India\\nMirrored, Riding Glasses, Others Sports Sunglasses (50)\\n₹194₹1,49987% off\\nROYAL SON\\nUV Protection Rectangular Sunglasses (58)\\n₹449₹1,49970% off\\nPIRASO\\nUV Protection Aviator Sunglasses (54)\\n₹187₹1,59988% off\\nSHAAH COLLECTIONS\\nUV Protection, Polarized, Mirrored Rectangular Sunglass...\\n₹181₹99981% off\\nROZZETTA CRAFT\\nUV Protection Retro Square Sunglasses (Free Size)\\n₹474₹2,22578% off\\nROYAL SON\\nMirrored Aviator Sunglasses (55)\\n₹359₹1,49976% off\\nSUNBEE\\nUV Protection, Polarized, Mirrored Round Sunglasses (Fr...\\n₹271₹1,69984% off\\nRich Club\\nUV Protection Round Sunglasses (50)\\n₹383₹99961% off\\nRich Club\\nPolarized Round Sunglasses (48)\\n₹163₹49967% off\\nhipe\\nUV Protection Sports Sunglasses (Free Size)\\n₹287₹1,89984% off\\nBuy 2 items, save extra 5%\\nPIRASO\\nUV Protection Butterfly Sunglasses (65)\\n₹359₹2,59986% off\\nPIRASO\\nUV Protection, Polarized Aviator Sunglasses (32)\\n₹164₹1,59989% off\\nROZZETTA CRAFT\\nUV Protection, Gradient Retro Square Sunglasses (Free S...\\n₹349₹1,99982% off\\nFastrack\\nUV Protection Rectangular Sunglasses (Free Size)\\n₹694₹79913% off\\nFree delivery\\nPIRASO\\nUV Protection Wayfarer Sunglasses (32)\\n₹187₹1,59988% off\\nPIRASO\\nUV Protection Aviator Sunglasses (58)\\n₹299₹2,59988% off\\nSingco India\\nUV Protection, Riding Glasses, Others Aviator, Wayfarer...\\n₹229₹69967% off\\nLee Topper\\nRiding Glasses, Night Vision Wrap-around Sunglasses (Fr...\\n₹276₹2,49988% off\\nagera\\nGradient Aviator Sunglasses (55)\\n₹196₹1,14982% off\\nBuy 2 items, save extra 5%\\nPIRASO\\nUV Protection Aviator Sunglasses (Free Size)\\n₹261₹1,59983% off\\nROZZETTA CRAFT\\nUV Protection, Gradient Round Sunglasses (Free Size)\\n₹360₹1,99981% off\\nkingsunglasses\\nMirrored, UV Protection Aviator Sunglasses (56)\\n₹211₹1,29983% off\\nSUNBEE\\nUV Protection, Polarized, Mirrored Wayfarer Sunglasses ...\\n₹258₹1,29980% off\\nPage 1 of 2,250\\n1\\n2\\n3\\n4\\n5\\n6\\n7\\n8\\n9\\n10\\nNEXT\\nDid you find what you were looking for?YesNo\\nReviews for Popular Sunglasses\\n1. Fastrack Wayfarer Sunglasse...\\n4.255,763 Ratings&7,453 Reviews\\n₹69922% off\\nFrame Size: Free Size (One Size Fits All)\\nLens Color: Green\\nFeatures: UV Protection\\nMost Helpful Review\\n5\\nWorth every penny\\nWorth for the money, awesome product and quality is really good. Brand name (Fastrack) speaks👍.\\nJegadeeswaran E\\nCertified Buyer\\nAug, 2020\\nRecent Review\\n5\\nBrilliant\\nSuper googles..😎\\nFlipkart Customer\\nCertified Buyer\\n1day ago\\n2. ROYAL SON Rectangular Sungl...\\n3.910,154 Ratings&1,293 Reviews\\n₹44970% off\\nFrame Size: Medium (S: Below 56mm, M: 56-59mm, L: 60+mm)\\nLens Color: Black, Silver\\nFeatures: UV Protection\\nMost Helpful Review\\n4\\nValue-for-money\\nWorth for the price, expecially for oval faced people.Visibility is little low\\nFlipkart Customer\\nCertified Buyer\\n11months ago\\nRecent Review\\n5\\nWorth every penny\\nTruly value for money product by ROYAL SON. Thank you Flipkart for safely delivering the product to me.\\nSubhodeep Saha\\nCertified Buyer\\n2days ago\\n3. Singco India Aviator, Wayfa...\\n3.637,521 Ratings&4,897 Reviews\\n₹22967% off\\nFrame Size: Medium\\nLens Color: Black, Black\\nFeatures: UV Protection, Riding Glasses, Others\\nMost Helpful Review\\n4\\nWonderful\\nsuperbbbb....tnq flipkart\\nFlipkart Customer\\nCertified Buyer\\nAug, 2019\\nRecent Review\\n1\\nVery poor\\nBad quality and small size\\njerin G Aleyas\\nCertified Buyer\\n1day ago\\n4. ROZZETTA CRAFT Round Sungla...\\n4.13,113 Ratings&383 Reviews\\n₹42684% off\\nFrame Size: Free Size (One Size Fits All)\\nLens Color: Clear\\nFeatures: UV Protection\\nMost Helpful Review\\n5\\nTerrific\\nThanks for lovely sunglasses\\nMegha_ Tewary\\nCertified Buyer\\n11months ago\\nRecent Review\\n1\\nUnsatisfactory\\nBest quality allu arjun sunglasses\\nmd asif\\nCertified Buyer\\n11days ago\\n5. ROZZETTA CRAFT Retro Square...\\n4.2433 Ratings&35 Reviews\\n₹34982% off\\nFrame Size: Free Size (One Size Fits All)\\nLens Color: Black\\nFeatures: UV Protection, Gradient\\nMost Helpful Review\\n5\\nJust wow!\\nIf one\\'s looking for comfortable wear. Please go for this product. It\\'s amazing..! It fits me perfectly. Thank you for this cool product.\\nToshi Yimchunger\\nCertified Buyer\\n2months ago\\nRecent Review\\n5\\nFabulous!\\nProduct is very good but delivery was bad\\nFlipkart Customer\\nCertified Buyer\\n29days ago\\nABOUT\\nContact Us\\nAbout Us\\nCareers\\nFlipkart Stories\\nPress\\nFlipkart Wholesale\\nCorporate Information\\nHELP\\nPayments\\nShipping\\nCancellation & Returns\\nFAQ\\nReport Infringement\\nPOLICY\\nReturn Policy\\nTerms Of Use\\nSecurity\\nPrivacy\\nSitemap\\nEPR Compliance\\nSOCIAL\\nFacebook\\nTwitter\\nYouTube\\nMail Us:\\nFlipkart Internet Private Limited,\\nBuildings Alyssa, Begonia &\\nClove Embassy Tech Village,\\nOuter Ring Road, Devarabeesanahalli Village,\\nBengaluru, 560103,\\nKarnataka, India\\nRegistered Office Address:\\nFlipkart Internet Private Limited,\\nBuildings Alyssa, Begonia &\\nClove Embassy Tech Village,\\nOuter Ring Road, Devarabeesanahalli Village,\\nBengaluru, 560103,\\nKarnataka, India\\nCIN : U51109KA2012PTC066107\\nTelephone: 1800 202 9898\\nSell On Flipkart\\nAdvertise\\nGift Cards\\nHelp Center\\n© 2007-2021 Flipkart.com',\n",
       " 'Explore Plus\\nLogin\\nMore\\nCart',\n",
       " 'Explore Plus\\nLogin\\nMore\\nCart',\n",
       " '',\n",
       " 'Explore Plus\\nLogin\\nMore\\nCart',\n",
       " 'Explore Plus',\n",
       " 'Explore Plus',\n",
       " '',\n",
       " '',\n",
       " '',\n",
       " 'Login',\n",
       " 'Login',\n",
       " 'Login',\n",
       " 'Login',\n",
       " 'More',\n",
       " 'More',\n",
       " 'More',\n",
       " 'More',\n",
       " 'More',\n",
       " 'Cart',\n",
       " 'Cart',\n",
       " 'Cart',\n",
       " '',\n",
       " '',\n",
       " 'Electronics\\nTVs & Appliances\\nMen\\nWomen\\nBaby & Kids\\nHome & Furniture\\nSports, Books & More\\nFlights\\nOffer Zone',\n",
       " 'Electronics\\nTVs & Appliances\\nMen\\nWomen\\nBaby & Kids\\nHome & Furniture\\nSports, Books & More\\nFlights\\nOffer Zone',\n",
       " 'Electronics\\nTVs & Appliances\\nMen\\nWomen\\nBaby & Kids\\nHome & Furniture\\nSports, Books & More\\nFlights\\nOffer Zone',\n",
       " 'Filters\\nCATEGORIES\\nSunglasses\\nPRICE\\n.......\\nMin\\n₹300\\n₹500\\n₹800\\n₹1000\\n₹2000\\nto\\n₹300\\n₹500\\n₹800\\n₹1000\\n₹2000\\n₹2000+\\n?\\nBRAND\\nFastrack\\nFOSSIL\\nIDEE\\nLEVI\\'S\\nMi\\nOAKLEY\\n1561 MORE\\nIDEAL FOR\\nSTYLE\\nSIZE\\nLENS COLOR\\nFRAME COLOR\\nDISCOUNT\\nFACE SHAPE\\nLENS FEATURE\\nUSAGE\\nTHEME\\nLENS MATERIAL\\nFRAME MATERIAL\\nAVAILABILITY\\nCUSTOMER RATINGS\\n4★ & above\\n3★ & above\\n2★ & above\\n1★ & above\\nOFFERS\\nBuy More, Save More\\nNo Cost EMI\\nSpecial Price\\nNeed help?\\nHelp me decide\\nHomeSunglasses\\nShowing 1 – 40 of 89,980 results for \"sunglasses\"\\nSort By\\nRelevance\\nPopularity\\nPrice -- Low to High\\nPrice -- High to Low\\nNewest First\\nSRPM\\nUV Protection Wayfarer Sunglasses (56)\\n₹188₹1,29985% off\\nElligator\\nUV Protection Round Sunglasses (54)\\n₹248₹2,49590% off\\nNew Specs\\nUV Protection Rectangular Sunglasses (Free Size)\\n₹259₹1,99987% off\\nPIRASO\\nUV Protection Aviator Sunglasses (54)\\n₹200₹1,59987% off\\nPIRASO\\nUV Protection Aviator Sunglasses (54)\\n₹187₹1,59988% off\\nkingsunglasses\\nUV Protection Round Sunglasses (54)\\n₹189₹1,09982% off\\nSHAAH COLLECTIONS\\nUV Protection, Polarized, Mirrored Rectangular Sunglass...\\n₹170₹1,69989% off\\nPIRASO\\nUV Protection Aviator Sunglasses (55)\\n₹179₹1,59988% off\\nkingsunglasses\\nMirrored, UV Protection Wayfarer Sunglasses (53)\\n₹274₹1,99986% off\\nROZZETTA CRAFT\\nUV Protection, Gradient Rectangular Sunglasses (Free Si...\\n₹383₹1,99980% off\\nkingsunglasses\\nUV Protection, Riding Glasses, Mirrored Wayfarer Sungla...\\n₹187₹1,19984% off\\nFastrack\\nUV Protection Wayfarer Sunglasses (Free Size)\\n₹699₹89922% off\\nFree delivery\\nROZZETTA CRAFT\\nUV Protection Round Sunglasses (Free Size)\\n₹426₹2,66584% off\\nNew Specs\\nMirrored, UV Protection, Riding Glasses, Others Round S...\\n₹259₹1,39981% off\\nPHENOMENAL\\nUV Protection Retro Square Sunglasses (Free Size)\\n₹319₹1,99984% off\\nPHENOMENAL\\nUV Protection, Mirrored Retro Square Sunglasses (53)\\n₹299₹1,99985% off\\nRich Club\\nPolarized Round Sunglasses (48)\\n₹175₹49964% off\\nSingco India\\nMirrored, Riding Glasses, Others Sports Sunglasses (50)\\n₹194₹1,49987% off\\nROYAL SON\\nUV Protection Rectangular Sunglasses (58)\\n₹449₹1,49970% off\\nPIRASO\\nUV Protection Aviator Sunglasses (54)\\n₹187₹1,59988% off\\nSHAAH COLLECTIONS\\nUV Protection, Polarized, Mirrored Rectangular Sunglass...\\n₹181₹99981% off\\nROZZETTA CRAFT\\nUV Protection Retro Square Sunglasses (Free Size)\\n₹474₹2,22578% off\\nROYAL SON\\nMirrored Aviator Sunglasses (55)\\n₹359₹1,49976% off\\nSUNBEE\\nUV Protection, Polarized, Mirrored Round Sunglasses (Fr...\\n₹271₹1,69984% off\\nRich Club\\nUV Protection Round Sunglasses (50)\\n₹383₹99961% off\\nRich Club\\nPolarized Round Sunglasses (48)\\n₹163₹49967% off\\nhipe\\nUV Protection Sports Sunglasses (Free Size)\\n₹287₹1,89984% off\\nBuy 2 items, save extra 5%\\nPIRASO\\nUV Protection Butterfly Sunglasses (65)\\n₹359₹2,59986% off\\nPIRASO\\nUV Protection, Polarized Aviator Sunglasses (32)\\n₹164₹1,59989% off\\nROZZETTA CRAFT\\nUV Protection, Gradient Retro Square Sunglasses (Free S...\\n₹349₹1,99982% off\\nFastrack\\nUV Protection Rectangular Sunglasses (Free Size)\\n₹694₹79913% off\\nFree delivery\\nPIRASO\\nUV Protection Wayfarer Sunglasses (32)\\n₹187₹1,59988% off\\nPIRASO\\nUV Protection Aviator Sunglasses (58)\\n₹299₹2,59988% off\\nSingco India\\nUV Protection, Riding Glasses, Others Aviator, Wayfarer...\\n₹229₹69967% off\\nLee Topper\\nRiding Glasses, Night Vision Wrap-around Sunglasses (Fr...\\n₹276₹2,49988% off\\nagera\\nGradient Aviator Sunglasses (55)\\n₹196₹1,14982% off\\nBuy 2 items, save extra 5%\\nPIRASO\\nUV Protection Aviator Sunglasses (Free Size)\\n₹261₹1,59983% off\\nROZZETTA CRAFT\\nUV Protection, Gradient Round Sunglasses (Free Size)\\n₹360₹1,99981% off\\nkingsunglasses\\nMirrored, UV Protection Aviator Sunglasses (56)\\n₹211₹1,29983% off\\nSUNBEE\\nUV Protection, Polarized, Mirrored Wayfarer Sunglasses ...\\n₹258₹1,29980% off\\nPage 1 of 2,250\\n1\\n2\\n3\\n4\\n5\\n6\\n7\\n8\\n9\\n10\\nNEXT\\nDid you find what you were looking for?YesNo\\nReviews for Popular Sunglasses\\n1. Fastrack Wayfarer Sunglasse...\\n4.255,763 Ratings&7,453 Reviews\\n₹69922% off\\nFrame Size: Free Size (One Size Fits All)\\nLens Color: Green\\nFeatures: UV Protection\\nMost Helpful Review\\n5\\nWorth every penny\\nWorth for the money, awesome product and quality is really good. Brand name (Fastrack) speaks👍.\\nJegadeeswaran E\\nCertified Buyer\\nAug, 2020\\nRecent Review\\n5\\nBrilliant\\nSuper googles..😎\\nFlipkart Customer\\nCertified Buyer\\n1day ago\\n2. ROYAL SON Rectangular Sungl...\\n3.910,154 Ratings&1,293 Reviews\\n₹44970% off\\nFrame Size: Medium (S: Below 56mm, M: 56-59mm, L: 60+mm)\\nLens Color: Black, Silver\\nFeatures: UV Protection\\nMost Helpful Review\\n4\\nValue-for-money\\nWorth for the price, expecially for oval faced people.Visibility is little low\\nFlipkart Customer\\nCertified Buyer\\n11months ago\\nRecent Review\\n5\\nWorth every penny\\nTruly value for money product by ROYAL SON. Thank you Flipkart for safely delivering the product to me.\\nSubhodeep Saha\\nCertified Buyer\\n2days ago\\n3. Singco India Aviator, Wayfa...\\n3.637,521 Ratings&4,897 Reviews\\n₹22967% off\\nFrame Size: Medium\\nLens Color: Black, Black\\nFeatures: UV Protection, Riding Glasses, Others\\nMost Helpful Review\\n4\\nWonderful\\nsuperbbbb....tnq flipkart\\nFlipkart Customer\\nCertified Buyer\\nAug, 2019\\nRecent Review\\n1\\nVery poor\\nBad quality and small size\\njerin G Aleyas\\nCertified Buyer\\n1day ago\\n4. ROZZETTA CRAFT Round Sungla...\\n4.13,113 Ratings&383 Reviews\\n₹42684% off\\nFrame Size: Free Size (One Size Fits All)\\nLens Color: Clear\\nFeatures: UV Protection\\nMost Helpful Review\\n5\\nTerrific\\nThanks for lovely sunglasses\\nMegha_ Tewary\\nCertified Buyer\\n11months ago\\nRecent Review\\n1\\nUnsatisfactory\\nBest quality allu arjun sunglasses\\nmd asif\\nCertified Buyer\\n11days ago\\n5. ROZZETTA CRAFT Retro Square...\\n4.2433 Ratings&35 Reviews\\n₹34982% off\\nFrame Size: Free Size (One Size Fits All)\\nLens Color: Black\\nFeatures: UV Protection, Gradient\\nMost Helpful Review\\n5\\nJust wow!\\nIf one\\'s looking for comfortable wear. Please go for this product. It\\'s amazing..! It fits me perfectly. Thank you for this cool product.\\nToshi Yimchunger\\nCertified Buyer\\n2months ago\\nRecent Review\\n5\\nFabulous!\\nProduct is very good but delivery was bad\\nFlipkart Customer\\nCertified Buyer\\n29days ago',\n",
       " 'Filters\\nCATEGORIES\\nSunglasses\\nPRICE\\n.......\\nMin\\n₹300\\n₹500\\n₹800\\n₹1000\\n₹2000\\nto\\n₹300\\n₹500\\n₹800\\n₹1000\\n₹2000\\n₹2000+\\n?\\nBRAND\\nFastrack\\nFOSSIL\\nIDEE\\nLEVI\\'S\\nMi\\nOAKLEY\\n1561 MORE\\nIDEAL FOR\\nSTYLE\\nSIZE\\nLENS COLOR\\nFRAME COLOR\\nDISCOUNT\\nFACE SHAPE\\nLENS FEATURE\\nUSAGE\\nTHEME\\nLENS MATERIAL\\nFRAME MATERIAL\\nAVAILABILITY\\nCUSTOMER RATINGS\\n4★ & above\\n3★ & above\\n2★ & above\\n1★ & above\\nOFFERS\\nBuy More, Save More\\nNo Cost EMI\\nSpecial Price\\nNeed help?\\nHelp me decide\\nHomeSunglasses\\nShowing 1 – 40 of 89,980 results for \"sunglasses\"\\nSort By\\nRelevance\\nPopularity\\nPrice -- Low to High\\nPrice -- High to Low\\nNewest First\\nSRPM\\nUV Protection Wayfarer Sunglasses (56)\\n₹188₹1,29985% off\\nElligator\\nUV Protection Round Sunglasses (54)\\n₹248₹2,49590% off\\nNew Specs\\nUV Protection Rectangular Sunglasses (Free Size)\\n₹259₹1,99987% off\\nPIRASO\\nUV Protection Aviator Sunglasses (54)\\n₹200₹1,59987% off\\nPIRASO\\nUV Protection Aviator Sunglasses (54)\\n₹187₹1,59988% off\\nkingsunglasses\\nUV Protection Round Sunglasses (54)\\n₹189₹1,09982% off\\nSHAAH COLLECTIONS\\nUV Protection, Polarized, Mirrored Rectangular Sunglass...\\n₹170₹1,69989% off\\nPIRASO\\nUV Protection Aviator Sunglasses (55)\\n₹179₹1,59988% off\\nkingsunglasses\\nMirrored, UV Protection Wayfarer Sunglasses (53)\\n₹274₹1,99986% off\\nROZZETTA CRAFT\\nUV Protection, Gradient Rectangular Sunglasses (Free Si...\\n₹383₹1,99980% off\\nkingsunglasses\\nUV Protection, Riding Glasses, Mirrored Wayfarer Sungla...\\n₹187₹1,19984% off\\nFastrack\\nUV Protection Wayfarer Sunglasses (Free Size)\\n₹699₹89922% off\\nFree delivery\\nROZZETTA CRAFT\\nUV Protection Round Sunglasses (Free Size)\\n₹426₹2,66584% off\\nNew Specs\\nMirrored, UV Protection, Riding Glasses, Others Round S...\\n₹259₹1,39981% off\\nPHENOMENAL\\nUV Protection Retro Square Sunglasses (Free Size)\\n₹319₹1,99984% off\\nPHENOMENAL\\nUV Protection, Mirrored Retro Square Sunglasses (53)\\n₹299₹1,99985% off\\nRich Club\\nPolarized Round Sunglasses (48)\\n₹175₹49964% off\\nSingco India\\nMirrored, Riding Glasses, Others Sports Sunglasses (50)\\n₹194₹1,49987% off\\nROYAL SON\\nUV Protection Rectangular Sunglasses (58)\\n₹449₹1,49970% off\\nPIRASO\\nUV Protection Aviator Sunglasses (54)\\n₹187₹1,59988% off\\nSHAAH COLLECTIONS\\nUV Protection, Polarized, Mirrored Rectangular Sunglass...\\n₹181₹99981% off\\nROZZETTA CRAFT\\nUV Protection Retro Square Sunglasses (Free Size)\\n₹474₹2,22578% off\\nROYAL SON\\nMirrored Aviator Sunglasses (55)\\n₹359₹1,49976% off\\nSUNBEE\\nUV Protection, Polarized, Mirrored Round Sunglasses (Fr...\\n₹271₹1,69984% off\\nRich Club\\nUV Protection Round Sunglasses (50)\\n₹383₹99961% off\\nRich Club\\nPolarized Round Sunglasses (48)\\n₹163₹49967% off\\nhipe\\nUV Protection Sports Sunglasses (Free Size)\\n₹287₹1,89984% off\\nBuy 2 items, save extra 5%\\nPIRASO\\nUV Protection Butterfly Sunglasses (65)\\n₹359₹2,59986% off\\nPIRASO\\nUV Protection, Polarized Aviator Sunglasses (32)\\n₹164₹1,59989% off\\nROZZETTA CRAFT\\nUV Protection, Gradient Retro Square Sunglasses (Free S...\\n₹349₹1,99982% off\\nFastrack\\nUV Protection Rectangular Sunglasses (Free Size)\\n₹694₹79913% off\\nFree delivery\\nPIRASO\\nUV Protection Wayfarer Sunglasses (32)\\n₹187₹1,59988% off\\nPIRASO\\nUV Protection Aviator Sunglasses (58)\\n₹299₹2,59988% off\\nSingco India\\nUV Protection, Riding Glasses, Others Aviator, Wayfarer...\\n₹229₹69967% off\\nLee Topper\\nRiding Glasses, Night Vision Wrap-around Sunglasses (Fr...\\n₹276₹2,49988% off\\nagera\\nGradient Aviator Sunglasses (55)\\n₹196₹1,14982% off\\nBuy 2 items, save extra 5%\\nPIRASO\\nUV Protection Aviator Sunglasses (Free Size)\\n₹261₹1,59983% off\\nROZZETTA CRAFT\\nUV Protection, Gradient Round Sunglasses (Free Size)\\n₹360₹1,99981% off\\nkingsunglasses\\nMirrored, UV Protection Aviator Sunglasses (56)\\n₹211₹1,29983% off\\nSUNBEE\\nUV Protection, Polarized, Mirrored Wayfarer Sunglasses ...\\n₹258₹1,29980% off\\nPage 1 of 2,250\\n1\\n2\\n3\\n4\\n5\\n6\\n7\\n8\\n9\\n10\\nNEXT\\nDid you find what you were looking for?YesNo',\n",
       " \"Filters\\nCATEGORIES\\nSunglasses\\nPRICE\\n.......\\nMin\\n₹300\\n₹500\\n₹800\\n₹1000\\n₹2000\\nto\\n₹300\\n₹500\\n₹800\\n₹1000\\n₹2000\\n₹2000+\\n?\\nBRAND\\nFastrack\\nFOSSIL\\nIDEE\\nLEVI'S\\nMi\\nOAKLEY\\n1561 MORE\\nIDEAL FOR\\nSTYLE\\nSIZE\\nLENS COLOR\\nFRAME COLOR\\nDISCOUNT\\nFACE SHAPE\\nLENS FEATURE\\nUSAGE\\nTHEME\\nLENS MATERIAL\\nFRAME MATERIAL\\nAVAILABILITY\\nCUSTOMER RATINGS\\n4★ & above\\n3★ & above\\n2★ & above\\n1★ & above\\nOFFERS\\nBuy More, Save More\\nNo Cost EMI\\nSpecial Price\\nNeed help?\\nHelp me decide\",\n",
       " \"Filters\\nCATEGORIES\\nSunglasses\\nPRICE\\n.......\\nMin\\n₹300\\n₹500\\n₹800\\n₹1000\\n₹2000\\nto\\n₹300\\n₹500\\n₹800\\n₹1000\\n₹2000\\n₹2000+\\n?\\nBRAND\\nFastrack\\nFOSSIL\\nIDEE\\nLEVI'S\\nMi\\nOAKLEY\\n1561 MORE\\nIDEAL FOR\\nSTYLE\\nSIZE\\nLENS COLOR\\nFRAME COLOR\\nDISCOUNT\\nFACE SHAPE\\nLENS FEATURE\\nUSAGE\\nTHEME\\nLENS MATERIAL\\nFRAME MATERIAL\\nAVAILABILITY\\nCUSTOMER RATINGS\\n4★ & above\\n3★ & above\\n2★ & above\\n1★ & above\\nOFFERS\\nBuy More, Save More\\nNo Cost EMI\\nSpecial Price\\nNeed help?\\nHelp me decide\",\n",
       " \"Filters\\nCATEGORIES\\nSunglasses\\nPRICE\\n.......\\nMin\\n₹300\\n₹500\\n₹800\\n₹1000\\n₹2000\\nto\\n₹300\\n₹500\\n₹800\\n₹1000\\n₹2000\\n₹2000+\\n?\\nBRAND\\nFastrack\\nFOSSIL\\nIDEE\\nLEVI'S\\nMi\\nOAKLEY\\n1561 MORE\\nIDEAL FOR\\nSTYLE\\nSIZE\\nLENS COLOR\\nFRAME COLOR\\nDISCOUNT\\nFACE SHAPE\\nLENS FEATURE\\nUSAGE\\nTHEME\\nLENS MATERIAL\\nFRAME MATERIAL\\nAVAILABILITY\\nCUSTOMER RATINGS\\n4★ & above\\n3★ & above\\n2★ & above\\n1★ & above\\nOFFERS\\nBuy More, Save More\\nNo Cost EMI\\nSpecial Price\",\n",
       " \"Filters\\nCATEGORIES\\nSunglasses\\nPRICE\\n.......\\nMin\\n₹300\\n₹500\\n₹800\\n₹1000\\n₹2000\\nto\\n₹300\\n₹500\\n₹800\\n₹1000\\n₹2000\\n₹2000+\\n?\\nBRAND\\nFastrack\\nFOSSIL\\nIDEE\\nLEVI'S\\nMi\\nOAKLEY\\n1561 MORE\\nIDEAL FOR\\nSTYLE\\nSIZE\\nLENS COLOR\\nFRAME COLOR\\nDISCOUNT\\nFACE SHAPE\\nLENS FEATURE\\nUSAGE\\nTHEME\\nLENS MATERIAL\\nFRAME MATERIAL\\nAVAILABILITY\\nCUSTOMER RATINGS\\n4★ & above\\n3★ & above\\n2★ & above\\n1★ & above\\nOFFERS\\nBuy More, Save More\\nNo Cost EMI\\nSpecial Price\",\n",
       " 'Filters',\n",
       " 'Filters',\n",
       " 'CATEGORIES\\nSunglasses',\n",
       " 'CATEGORIES',\n",
       " 'Sunglasses',\n",
       " 'Sunglasses',\n",
       " 'PRICE',\n",
       " 'PRICE',\n",
       " '',\n",
       " '',\n",
       " '',\n",
       " '',\n",
       " '',\n",
       " '',\n",
       " '',\n",
       " '',\n",
       " '.......',\n",
       " '',\n",
       " '',\n",
       " '',\n",
       " '',\n",
       " '',\n",
       " '',\n",
       " '',\n",
       " '.......',\n",
       " '.']"
      ]
     },
     "execution_count": 77,
     "metadata": {},
     "output_type": "execute_result"
    }
   ],
   "source": [
    "for i in list_tags:\n",
    "    list=i.text\n",
    "    price_list.append(list)\n",
    "price_list[0:100]    "
   ]
  },
  {
   "cell_type": "code",
   "execution_count": 78,
   "id": "0a4ef340",
   "metadata": {
    "scrolled": true
   },
   "outputs": [
    {
     "name": "stderr",
     "output_type": "stream",
     "text": [
      "<ipython-input-78-01402bc9b486>:1: DeprecationWarning: find_elements_by_* commands are deprecated. Please use find_elements() instead\n",
      "  discount_tags = driver.find_elements_by_xpath(\"//div[@class='_3Ay6Sb']\")\n"
     ]
    },
    {
     "data": {
      "text/plain": [
       "[<selenium.webdriver.remote.webelement.WebElement (session=\"20ebfa2a1e132f657bb2f69c34e085dd\", element=\"8ad2c1a0-2d80-41a1-a563-e89afe48d0dc\")>,\n",
       " <selenium.webdriver.remote.webelement.WebElement (session=\"20ebfa2a1e132f657bb2f69c34e085dd\", element=\"1e985101-535d-44cc-8ffb-365e4f17efea\")>,\n",
       " <selenium.webdriver.remote.webelement.WebElement (session=\"20ebfa2a1e132f657bb2f69c34e085dd\", element=\"c22ede90-171c-4bf9-a414-0bcc1afc372d\")>,\n",
       " <selenium.webdriver.remote.webelement.WebElement (session=\"20ebfa2a1e132f657bb2f69c34e085dd\", element=\"ca3b269f-994a-4cdf-943a-ca3019de81ce\")>,\n",
       " <selenium.webdriver.remote.webelement.WebElement (session=\"20ebfa2a1e132f657bb2f69c34e085dd\", element=\"7b65f2ea-fe49-4843-acb7-a2cc521735be\")>,\n",
       " <selenium.webdriver.remote.webelement.WebElement (session=\"20ebfa2a1e132f657bb2f69c34e085dd\", element=\"1e6b63c7-5031-43a6-b294-fd4e19f16fc1\")>,\n",
       " <selenium.webdriver.remote.webelement.WebElement (session=\"20ebfa2a1e132f657bb2f69c34e085dd\", element=\"77406864-79ea-436b-bcf4-d907a1632210\")>,\n",
       " <selenium.webdriver.remote.webelement.WebElement (session=\"20ebfa2a1e132f657bb2f69c34e085dd\", element=\"1a4a01d0-2a83-4d85-92bc-1ccd3fd7b8cb\")>,\n",
       " <selenium.webdriver.remote.webelement.WebElement (session=\"20ebfa2a1e132f657bb2f69c34e085dd\", element=\"5a136d6a-35e6-4ab9-9517-d8e5771713fa\")>,\n",
       " <selenium.webdriver.remote.webelement.WebElement (session=\"20ebfa2a1e132f657bb2f69c34e085dd\", element=\"cc97836f-9f8c-4229-bff4-51e8e8c385ec\")>,\n",
       " <selenium.webdriver.remote.webelement.WebElement (session=\"20ebfa2a1e132f657bb2f69c34e085dd\", element=\"2f4fb849-f9ca-49ce-8d65-72588598a5ea\")>,\n",
       " <selenium.webdriver.remote.webelement.WebElement (session=\"20ebfa2a1e132f657bb2f69c34e085dd\", element=\"c330606e-154a-4ecf-9b37-86e1b3641a51\")>,\n",
       " <selenium.webdriver.remote.webelement.WebElement (session=\"20ebfa2a1e132f657bb2f69c34e085dd\", element=\"2e60da2a-1880-4072-a373-712af86becd8\")>,\n",
       " <selenium.webdriver.remote.webelement.WebElement (session=\"20ebfa2a1e132f657bb2f69c34e085dd\", element=\"948a0baf-06ae-4190-93bd-385ed694e7a6\")>,\n",
       " <selenium.webdriver.remote.webelement.WebElement (session=\"20ebfa2a1e132f657bb2f69c34e085dd\", element=\"1080b5da-f465-4c1b-ad02-1535f5f8510b\")>,\n",
       " <selenium.webdriver.remote.webelement.WebElement (session=\"20ebfa2a1e132f657bb2f69c34e085dd\", element=\"1ba804b2-45a8-48cd-b931-530e1da91eaf\")>,\n",
       " <selenium.webdriver.remote.webelement.WebElement (session=\"20ebfa2a1e132f657bb2f69c34e085dd\", element=\"42686f91-347b-4c00-975d-08d6088b701f\")>,\n",
       " <selenium.webdriver.remote.webelement.WebElement (session=\"20ebfa2a1e132f657bb2f69c34e085dd\", element=\"caef345a-a9d8-407b-b56b-26cad25579d1\")>,\n",
       " <selenium.webdriver.remote.webelement.WebElement (session=\"20ebfa2a1e132f657bb2f69c34e085dd\", element=\"fd59d900-04ef-4d29-85e5-d671784ff287\")>,\n",
       " <selenium.webdriver.remote.webelement.WebElement (session=\"20ebfa2a1e132f657bb2f69c34e085dd\", element=\"c3725140-18c0-4f08-9d4a-0e4e63908433\")>,\n",
       " <selenium.webdriver.remote.webelement.WebElement (session=\"20ebfa2a1e132f657bb2f69c34e085dd\", element=\"e41f45cb-807f-4451-bc37-bd5cec3702f4\")>,\n",
       " <selenium.webdriver.remote.webelement.WebElement (session=\"20ebfa2a1e132f657bb2f69c34e085dd\", element=\"5af3ac0a-fe9f-41c7-bfd9-a064634adca7\")>,\n",
       " <selenium.webdriver.remote.webelement.WebElement (session=\"20ebfa2a1e132f657bb2f69c34e085dd\", element=\"229a693b-3766-44a9-8f93-75be7547683d\")>,\n",
       " <selenium.webdriver.remote.webelement.WebElement (session=\"20ebfa2a1e132f657bb2f69c34e085dd\", element=\"4dffe9f8-f9e6-46fb-9af3-4e34cbafb88c\")>,\n",
       " <selenium.webdriver.remote.webelement.WebElement (session=\"20ebfa2a1e132f657bb2f69c34e085dd\", element=\"c172c446-8b30-4903-af78-31d7b907d03c\")>,\n",
       " <selenium.webdriver.remote.webelement.WebElement (session=\"20ebfa2a1e132f657bb2f69c34e085dd\", element=\"0d571c8c-7016-46b1-9cf9-14a46c3abac4\")>,\n",
       " <selenium.webdriver.remote.webelement.WebElement (session=\"20ebfa2a1e132f657bb2f69c34e085dd\", element=\"c6738fe1-ffc7-443c-b992-8ed863888c77\")>,\n",
       " <selenium.webdriver.remote.webelement.WebElement (session=\"20ebfa2a1e132f657bb2f69c34e085dd\", element=\"a9e1793b-3fa6-4794-9505-df657ba63232\")>,\n",
       " <selenium.webdriver.remote.webelement.WebElement (session=\"20ebfa2a1e132f657bb2f69c34e085dd\", element=\"76acbef8-22ae-435d-ba28-6323e675cd7f\")>,\n",
       " <selenium.webdriver.remote.webelement.WebElement (session=\"20ebfa2a1e132f657bb2f69c34e085dd\", element=\"2854fba8-326d-4be0-af0b-bf413d827fb5\")>,\n",
       " <selenium.webdriver.remote.webelement.WebElement (session=\"20ebfa2a1e132f657bb2f69c34e085dd\", element=\"eba75923-4db4-4bfe-8bc8-e42215ab60ef\")>,\n",
       " <selenium.webdriver.remote.webelement.WebElement (session=\"20ebfa2a1e132f657bb2f69c34e085dd\", element=\"c828119c-992b-4fa9-914a-13a037befd32\")>,\n",
       " <selenium.webdriver.remote.webelement.WebElement (session=\"20ebfa2a1e132f657bb2f69c34e085dd\", element=\"eb130783-e171-4ab3-be6b-fef055158388\")>,\n",
       " <selenium.webdriver.remote.webelement.WebElement (session=\"20ebfa2a1e132f657bb2f69c34e085dd\", element=\"64b59658-18bf-447f-ac51-36210e8ae9ff\")>,\n",
       " <selenium.webdriver.remote.webelement.WebElement (session=\"20ebfa2a1e132f657bb2f69c34e085dd\", element=\"fe6077ac-764b-41cc-8bf0-8ccad3ff158a\")>,\n",
       " <selenium.webdriver.remote.webelement.WebElement (session=\"20ebfa2a1e132f657bb2f69c34e085dd\", element=\"25767947-0f6c-422a-8eb7-a40a2d4a1f7c\")>,\n",
       " <selenium.webdriver.remote.webelement.WebElement (session=\"20ebfa2a1e132f657bb2f69c34e085dd\", element=\"ce93e813-c952-425d-b2f4-7da90d710680\")>,\n",
       " <selenium.webdriver.remote.webelement.WebElement (session=\"20ebfa2a1e132f657bb2f69c34e085dd\", element=\"103111aa-cd71-4a2a-bd11-28afee349125\")>,\n",
       " <selenium.webdriver.remote.webelement.WebElement (session=\"20ebfa2a1e132f657bb2f69c34e085dd\", element=\"70021f7d-e12f-4732-b4a2-0c50906e3679\")>,\n",
       " <selenium.webdriver.remote.webelement.WebElement (session=\"20ebfa2a1e132f657bb2f69c34e085dd\", element=\"1d3e48b3-a1a4-426c-ab3f-2bd8039374a2\")>]"
      ]
     },
     "execution_count": 78,
     "metadata": {},
     "output_type": "execute_result"
    }
   ],
   "source": [
    "discount_tags = driver.find_elements_by_xpath(\"//div[@class='_3Ay6Sb']\")\n",
    "discount_tags[0:40]"
   ]
  },
  {
   "cell_type": "code",
   "execution_count": 80,
   "id": "d335511b",
   "metadata": {},
   "outputs": [
    {
     "name": "stderr",
     "output_type": "stream",
     "text": [
      "<ipython-input-80-109662eb56a8>:1: DeprecationWarning: find_elements_by_* commands are deprecated. Please use find_elements() instead\n",
      "  discount_tags = driver.find_elements_by_xpath(\"//div['@class=_3Ay6Sb']\")\n"
     ]
    },
    {
     "data": {
      "text/plain": [
       "[<selenium.webdriver.remote.webelement.WebElement (session=\"20ebfa2a1e132f657bb2f69c34e085dd\", element=\"9127af6e-089b-4d79-8b01-eef93ae17109\")>,\n",
       " <selenium.webdriver.remote.webelement.WebElement (session=\"20ebfa2a1e132f657bb2f69c34e085dd\", element=\"9052a97e-a1e8-4b45-8281-6d8f441a60df\")>,\n",
       " <selenium.webdriver.remote.webelement.WebElement (session=\"20ebfa2a1e132f657bb2f69c34e085dd\", element=\"edf692e2-0f28-4ce3-999f-824cff449b00\")>,\n",
       " <selenium.webdriver.remote.webelement.WebElement (session=\"20ebfa2a1e132f657bb2f69c34e085dd\", element=\"7ae8946a-b573-469b-b971-a0d687eec23f\")>,\n",
       " <selenium.webdriver.remote.webelement.WebElement (session=\"20ebfa2a1e132f657bb2f69c34e085dd\", element=\"44500f4c-7b80-4ef1-89aa-bf3378d7d198\")>,\n",
       " <selenium.webdriver.remote.webelement.WebElement (session=\"20ebfa2a1e132f657bb2f69c34e085dd\", element=\"dcc23fcd-b86d-4cb3-ac60-98a64c0d15a7\")>,\n",
       " <selenium.webdriver.remote.webelement.WebElement (session=\"20ebfa2a1e132f657bb2f69c34e085dd\", element=\"97fdbae8-7249-46e0-b911-b4998dbd78d0\")>,\n",
       " <selenium.webdriver.remote.webelement.WebElement (session=\"20ebfa2a1e132f657bb2f69c34e085dd\", element=\"f66b2618-d3ae-467e-accc-7406cd0fc848\")>,\n",
       " <selenium.webdriver.remote.webelement.WebElement (session=\"20ebfa2a1e132f657bb2f69c34e085dd\", element=\"93827e56-f77a-4823-be05-e62773dc1a3a\")>,\n",
       " <selenium.webdriver.remote.webelement.WebElement (session=\"20ebfa2a1e132f657bb2f69c34e085dd\", element=\"fd23d37b-8f72-4383-acf6-24386725f35e\")>,\n",
       " <selenium.webdriver.remote.webelement.WebElement (session=\"20ebfa2a1e132f657bb2f69c34e085dd\", element=\"5b952ea3-fe1b-46b2-be08-56265195ef8f\")>,\n",
       " <selenium.webdriver.remote.webelement.WebElement (session=\"20ebfa2a1e132f657bb2f69c34e085dd\", element=\"2f891091-cc20-4399-bc5c-88f58961988b\")>,\n",
       " <selenium.webdriver.remote.webelement.WebElement (session=\"20ebfa2a1e132f657bb2f69c34e085dd\", element=\"1b2d8208-4e82-48bb-86d1-e66f0213ee6e\")>,\n",
       " <selenium.webdriver.remote.webelement.WebElement (session=\"20ebfa2a1e132f657bb2f69c34e085dd\", element=\"ab785d82-84c5-4cb0-84b5-5080e472b740\")>,\n",
       " <selenium.webdriver.remote.webelement.WebElement (session=\"20ebfa2a1e132f657bb2f69c34e085dd\", element=\"95c4befa-04b5-432f-9ebe-e46661bd65d2\")>,\n",
       " <selenium.webdriver.remote.webelement.WebElement (session=\"20ebfa2a1e132f657bb2f69c34e085dd\", element=\"be0ed7a0-94a0-4bc2-8100-9548b1abaa0a\")>,\n",
       " <selenium.webdriver.remote.webelement.WebElement (session=\"20ebfa2a1e132f657bb2f69c34e085dd\", element=\"437947fe-89bc-4a40-a169-a70075ddab66\")>,\n",
       " <selenium.webdriver.remote.webelement.WebElement (session=\"20ebfa2a1e132f657bb2f69c34e085dd\", element=\"e3cdbdf7-7f8c-44c9-a251-359aa217fe0c\")>,\n",
       " <selenium.webdriver.remote.webelement.WebElement (session=\"20ebfa2a1e132f657bb2f69c34e085dd\", element=\"bd30267e-6e53-42f6-9b46-f6a9d59d8026\")>,\n",
       " <selenium.webdriver.remote.webelement.WebElement (session=\"20ebfa2a1e132f657bb2f69c34e085dd\", element=\"c70cd692-1936-4651-bf9f-f470d51c90bf\")>,\n",
       " <selenium.webdriver.remote.webelement.WebElement (session=\"20ebfa2a1e132f657bb2f69c34e085dd\", element=\"0746ad0f-8955-4dc0-9623-4044f8dc7077\")>,\n",
       " <selenium.webdriver.remote.webelement.WebElement (session=\"20ebfa2a1e132f657bb2f69c34e085dd\", element=\"8e710cbb-99dc-4e7f-a6e4-0bd8c9dcf7a5\")>,\n",
       " <selenium.webdriver.remote.webelement.WebElement (session=\"20ebfa2a1e132f657bb2f69c34e085dd\", element=\"802ef046-44f0-4772-8c44-fc7fbf6b9889\")>,\n",
       " <selenium.webdriver.remote.webelement.WebElement (session=\"20ebfa2a1e132f657bb2f69c34e085dd\", element=\"d066e04f-10c5-4210-b956-c21d6f1e875a\")>,\n",
       " <selenium.webdriver.remote.webelement.WebElement (session=\"20ebfa2a1e132f657bb2f69c34e085dd\", element=\"1a09d74a-a55d-48e6-90d9-2e29f66f9f60\")>,\n",
       " <selenium.webdriver.remote.webelement.WebElement (session=\"20ebfa2a1e132f657bb2f69c34e085dd\", element=\"f9a09997-890a-487f-93ac-9c5c18bc6f90\")>,\n",
       " <selenium.webdriver.remote.webelement.WebElement (session=\"20ebfa2a1e132f657bb2f69c34e085dd\", element=\"6a085868-151e-4166-8a3e-94b1a23b1c35\")>,\n",
       " <selenium.webdriver.remote.webelement.WebElement (session=\"20ebfa2a1e132f657bb2f69c34e085dd\", element=\"dc3b02f9-10c4-49e3-b142-4eec4eb91108\")>,\n",
       " <selenium.webdriver.remote.webelement.WebElement (session=\"20ebfa2a1e132f657bb2f69c34e085dd\", element=\"53684b38-c55e-4ea6-a3f1-7f83af689538\")>,\n",
       " <selenium.webdriver.remote.webelement.WebElement (session=\"20ebfa2a1e132f657bb2f69c34e085dd\", element=\"517e1738-be7b-41f0-b670-a335e895bb31\")>,\n",
       " <selenium.webdriver.remote.webelement.WebElement (session=\"20ebfa2a1e132f657bb2f69c34e085dd\", element=\"d38da8c8-f72d-43b3-93c4-06cff206b957\")>,\n",
       " <selenium.webdriver.remote.webelement.WebElement (session=\"20ebfa2a1e132f657bb2f69c34e085dd\", element=\"bcfbf090-8864-4fac-a27f-c52ae11557e7\")>,\n",
       " <selenium.webdriver.remote.webelement.WebElement (session=\"20ebfa2a1e132f657bb2f69c34e085dd\", element=\"7aae51cf-5114-4122-9bac-0758cad1970f\")>,\n",
       " <selenium.webdriver.remote.webelement.WebElement (session=\"20ebfa2a1e132f657bb2f69c34e085dd\", element=\"5027b97f-adea-43c9-bb60-17ec476838f0\")>,\n",
       " <selenium.webdriver.remote.webelement.WebElement (session=\"20ebfa2a1e132f657bb2f69c34e085dd\", element=\"ef2f713b-b52e-4fc7-ae4c-00c1872ef2ca\")>,\n",
       " <selenium.webdriver.remote.webelement.WebElement (session=\"20ebfa2a1e132f657bb2f69c34e085dd\", element=\"12408d73-9261-4566-b36f-650ead43fe74\")>,\n",
       " <selenium.webdriver.remote.webelement.WebElement (session=\"20ebfa2a1e132f657bb2f69c34e085dd\", element=\"c4872570-c242-47a6-a3a4-2de52a696dee\")>,\n",
       " <selenium.webdriver.remote.webelement.WebElement (session=\"20ebfa2a1e132f657bb2f69c34e085dd\", element=\"965d3e86-d0c8-4eaf-bde3-6c94a594856d\")>,\n",
       " <selenium.webdriver.remote.webelement.WebElement (session=\"20ebfa2a1e132f657bb2f69c34e085dd\", element=\"76d54296-3151-4830-94ba-49b3ae54ebfb\")>]"
      ]
     },
     "execution_count": 80,
     "metadata": {},
     "output_type": "execute_result"
    }
   ],
   "source": [
    "discount_tags = driver.find_elements_by_xpath(\"//div['@class=_3Ay6Sb']\")\n",
    "discount_tags[41:80]"
   ]
  },
  {
   "cell_type": "code",
   "execution_count": 81,
   "id": "afd85dc4",
   "metadata": {},
   "outputs": [
    {
     "name": "stderr",
     "output_type": "stream",
     "text": [
      "<ipython-input-81-924a841dc370>:1: DeprecationWarning: find_elements_by_* commands are deprecated. Please use find_elements() instead\n",
      "  discount_tags = driver.find_elements_by_xpath(\"//div['@class=_3Ay6Sb']\")\n"
     ]
    },
    {
     "data": {
      "text/plain": [
       "[<selenium.webdriver.remote.webelement.WebElement (session=\"20ebfa2a1e132f657bb2f69c34e085dd\", element=\"914b6333-4cbf-40f3-a93d-074e69ab5dfe\")>,\n",
       " <selenium.webdriver.remote.webelement.WebElement (session=\"20ebfa2a1e132f657bb2f69c34e085dd\", element=\"3d986d1b-461c-45a3-960e-af5018df3f1d\")>,\n",
       " <selenium.webdriver.remote.webelement.WebElement (session=\"20ebfa2a1e132f657bb2f69c34e085dd\", element=\"fa433a02-e797-4068-a6cb-4959aa2f1291\")>,\n",
       " <selenium.webdriver.remote.webelement.WebElement (session=\"20ebfa2a1e132f657bb2f69c34e085dd\", element=\"2e9ba4e2-9a63-4819-b790-9e4458aab35b\")>,\n",
       " <selenium.webdriver.remote.webelement.WebElement (session=\"20ebfa2a1e132f657bb2f69c34e085dd\", element=\"e91ef2e1-076c-4e16-879a-ff431befa4e1\")>,\n",
       " <selenium.webdriver.remote.webelement.WebElement (session=\"20ebfa2a1e132f657bb2f69c34e085dd\", element=\"b8b5f778-e6ed-4456-99b2-4d859171bbe7\")>,\n",
       " <selenium.webdriver.remote.webelement.WebElement (session=\"20ebfa2a1e132f657bb2f69c34e085dd\", element=\"0830b95f-daa8-4749-9cae-6e00ca5a2cf4\")>,\n",
       " <selenium.webdriver.remote.webelement.WebElement (session=\"20ebfa2a1e132f657bb2f69c34e085dd\", element=\"b5b1f812-56df-4a89-8bc8-ca4267afef15\")>,\n",
       " <selenium.webdriver.remote.webelement.WebElement (session=\"20ebfa2a1e132f657bb2f69c34e085dd\", element=\"2fc69298-a4f4-4013-b2ae-e540e77e9802\")>,\n",
       " <selenium.webdriver.remote.webelement.WebElement (session=\"20ebfa2a1e132f657bb2f69c34e085dd\", element=\"a9e0e719-fb20-4003-b2d0-c291aa435195\")>,\n",
       " <selenium.webdriver.remote.webelement.WebElement (session=\"20ebfa2a1e132f657bb2f69c34e085dd\", element=\"9982d624-58f8-446b-a352-e560e21def47\")>,\n",
       " <selenium.webdriver.remote.webelement.WebElement (session=\"20ebfa2a1e132f657bb2f69c34e085dd\", element=\"d96f2346-fd35-4f11-a018-8b0fda145393\")>,\n",
       " <selenium.webdriver.remote.webelement.WebElement (session=\"20ebfa2a1e132f657bb2f69c34e085dd\", element=\"f0debfdd-aae8-419a-a118-f8fc5e39c19b\")>,\n",
       " <selenium.webdriver.remote.webelement.WebElement (session=\"20ebfa2a1e132f657bb2f69c34e085dd\", element=\"2e647693-7626-4bb8-87f0-e9d6589a6ecd\")>,\n",
       " <selenium.webdriver.remote.webelement.WebElement (session=\"20ebfa2a1e132f657bb2f69c34e085dd\", element=\"76ee7f82-10d4-4ac4-9d66-0a7aaa8fe76a\")>,\n",
       " <selenium.webdriver.remote.webelement.WebElement (session=\"20ebfa2a1e132f657bb2f69c34e085dd\", element=\"9202cb00-1fbb-4de8-b809-38cff2b16328\")>,\n",
       " <selenium.webdriver.remote.webelement.WebElement (session=\"20ebfa2a1e132f657bb2f69c34e085dd\", element=\"17a045d3-6123-4d80-a412-424e39796132\")>,\n",
       " <selenium.webdriver.remote.webelement.WebElement (session=\"20ebfa2a1e132f657bb2f69c34e085dd\", element=\"1749ba3e-e194-414b-9b43-3121428922ac\")>,\n",
       " <selenium.webdriver.remote.webelement.WebElement (session=\"20ebfa2a1e132f657bb2f69c34e085dd\", element=\"07d60b4f-8e96-490e-b52b-0da7e79c86ee\")>]"
      ]
     },
     "execution_count": 81,
     "metadata": {},
     "output_type": "execute_result"
    }
   ],
   "source": [
    "discount_tags = driver.find_elements_by_xpath(\"//div['@class=_3Ay6Sb']\")\n",
    "discount_tags[81:100]"
   ]
  },
  {
   "cell_type": "code",
   "execution_count": 83,
   "id": "ca196697",
   "metadata": {},
   "outputs": [
    {
     "data": {
      "text/plain": [
       "['Explore Plus\\nLogin\\nMore\\nCart\\nElectronics\\nTVs & Appliances\\nMen\\nWomen\\nBaby & Kids\\nHome & Furniture\\nSports, Books & More\\nFlights\\nOffer Zone\\nFilters\\nCATEGORIES\\nSunglasses\\nPRICE\\n.......\\nMin\\n₹300\\n₹500\\n₹800\\n₹1000\\n₹2000\\nto\\n₹300\\n₹500\\n₹800\\n₹1000\\n₹2000\\n₹2000+\\n?\\nBRAND\\nFastrack\\nFOSSIL\\nIDEE\\nLEVI\\'S\\nMi\\nOAKLEY\\n1561 MORE\\nIDEAL FOR\\nSTYLE\\nSIZE\\nLENS COLOR\\nFRAME COLOR\\nDISCOUNT\\nFACE SHAPE\\nLENS FEATURE\\nUSAGE\\nTHEME\\nLENS MATERIAL\\nFRAME MATERIAL\\nAVAILABILITY\\nCUSTOMER RATINGS\\n4★ & above\\n3★ & above\\n2★ & above\\n1★ & above\\nOFFERS\\nBuy More, Save More\\nNo Cost EMI\\nSpecial Price\\nNeed help?\\nHelp me decide\\nHomeSunglasses\\nShowing 1 – 40 of 89,980 results for \"sunglasses\"\\nSort By\\nRelevance\\nPopularity\\nPrice -- Low to High\\nPrice -- High to Low\\nNewest First\\nSRPM\\nUV Protection Wayfarer Sunglasses (56)\\n₹188₹1,29985% off\\nElligator\\nUV Protection Round Sunglasses (54)\\n₹248₹2,49590% off\\nNew Specs\\nUV Protection Rectangular Sunglasses (Free Size)\\n₹259₹1,99987% off\\nPIRASO\\nUV Protection Aviator Sunglasses (54)\\n₹200₹1,59987% off\\nPIRASO\\nUV Protection Aviator Sunglasses (54)\\n₹187₹1,59988% off\\nkingsunglasses\\nUV Protection Round Sunglasses (54)\\n₹189₹1,09982% off\\nSHAAH COLLECTIONS\\nUV Protection, Polarized, Mirrored Rectangular Sunglass...\\n₹170₹1,69989% off\\nPIRASO\\nUV Protection Aviator Sunglasses (55)\\n₹179₹1,59988% off\\nkingsunglasses\\nMirrored, UV Protection Wayfarer Sunglasses (53)\\n₹274₹1,99986% off\\nROZZETTA CRAFT\\nUV Protection, Gradient Rectangular Sunglasses (Free Si...\\n₹383₹1,99980% off\\nkingsunglasses\\nUV Protection, Riding Glasses, Mirrored Wayfarer Sungla...\\n₹187₹1,19984% off\\nFastrack\\nUV Protection Wayfarer Sunglasses (Free Size)\\n₹699₹89922% off\\nFree delivery\\nROZZETTA CRAFT\\nUV Protection Round Sunglasses (Free Size)\\n₹426₹2,66584% off\\nNew Specs\\nMirrored, UV Protection, Riding Glasses, Others Round S...\\n₹259₹1,39981% off\\nPHENOMENAL\\nUV Protection Retro Square Sunglasses (Free Size)\\n₹319₹1,99984% off\\nPHENOMENAL\\nUV Protection, Mirrored Retro Square Sunglasses (53)\\n₹299₹1,99985% off\\nRich Club\\nPolarized Round Sunglasses (48)\\n₹175₹49964% off\\nSingco India\\nMirrored, Riding Glasses, Others Sports Sunglasses (50)\\n₹194₹1,49987% off\\nROYAL SON\\nUV Protection Rectangular Sunglasses (58)\\n₹449₹1,49970% off\\nPIRASO\\nUV Protection Aviator Sunglasses (54)\\n₹187₹1,59988% off\\nSHAAH COLLECTIONS\\nUV Protection, Polarized, Mirrored Rectangular Sunglass...\\n₹181₹99981% off\\nROZZETTA CRAFT\\nUV Protection Retro Square Sunglasses (Free Size)\\n₹474₹2,22578% off\\nROYAL SON\\nMirrored Aviator Sunglasses (55)\\n₹359₹1,49976% off\\nSUNBEE\\nUV Protection, Polarized, Mirrored Round Sunglasses (Fr...\\n₹271₹1,69984% off\\nRich Club\\nUV Protection Round Sunglasses (50)\\n₹383₹99961% off\\nRich Club\\nPolarized Round Sunglasses (48)\\n₹163₹49967% off\\nhipe\\nUV Protection Sports Sunglasses (Free Size)\\n₹287₹1,89984% off\\nBuy 2 items, save extra 5%\\nPIRASO\\nUV Protection Butterfly Sunglasses (65)\\n₹359₹2,59986% off\\nPIRASO\\nUV Protection, Polarized Aviator Sunglasses (32)\\n₹164₹1,59989% off\\nROZZETTA CRAFT\\nUV Protection, Gradient Retro Square Sunglasses (Free S...\\n₹349₹1,99982% off\\nFastrack\\nUV Protection Rectangular Sunglasses (Free Size)\\n₹694₹79913% off\\nFree delivery\\nPIRASO\\nUV Protection Wayfarer Sunglasses (32)\\n₹187₹1,59988% off\\nPIRASO\\nUV Protection Aviator Sunglasses (58)\\n₹299₹2,59988% off\\nSingco India\\nUV Protection, Riding Glasses, Others Aviator, Wayfarer...\\n₹229₹69967% off\\nLee Topper\\nRiding Glasses, Night Vision Wrap-around Sunglasses (Fr...\\n₹276₹2,49988% off\\nagera\\nGradient Aviator Sunglasses (55)\\n₹196₹1,14982% off\\nBuy 2 items, save extra 5%\\nPIRASO\\nUV Protection Aviator Sunglasses (Free Size)\\n₹261₹1,59983% off\\nROZZETTA CRAFT\\nUV Protection, Gradient Round Sunglasses (Free Size)\\n₹360₹1,99981% off\\nkingsunglasses\\nMirrored, UV Protection Aviator Sunglasses (56)\\n₹211₹1,29983% off\\nSUNBEE\\nUV Protection, Polarized, Mirrored Wayfarer Sunglasses ...\\n₹258₹1,29980% off\\nPage 1 of 2,250\\n1\\n2\\n3\\n4\\n5\\n6\\n7\\n8\\n9\\n10\\nNEXT\\nDid you find what you were looking for?YesNo\\nReviews for Popular Sunglasses\\n1. Fastrack Wayfarer Sunglasse...\\n4.255,763 Ratings&7,453 Reviews\\n₹69922% off\\nFrame Size: Free Size (One Size Fits All)\\nLens Color: Green\\nFeatures: UV Protection\\nMost Helpful Review\\n5\\nWorth every penny\\nWorth for the money, awesome product and quality is really good. Brand name (Fastrack) speaks👍.\\nJegadeeswaran E\\nCertified Buyer\\nAug, 2020\\nRecent Review\\n5\\nBrilliant\\nSuper googles..😎\\nFlipkart Customer\\nCertified Buyer\\n1day ago\\n2. ROYAL SON Rectangular Sungl...\\n3.910,154 Ratings&1,293 Reviews\\n₹44970% off\\nFrame Size: Medium (S: Below 56mm, M: 56-59mm, L: 60+mm)\\nLens Color: Black, Silver\\nFeatures: UV Protection\\nMost Helpful Review\\n4\\nValue-for-money\\nWorth for the price, expecially for oval faced people.Visibility is little low\\nFlipkart Customer\\nCertified Buyer\\n11months ago\\nRecent Review\\n5\\nWorth every penny\\nTruly value for money product by ROYAL SON. Thank you Flipkart for safely delivering the product to me.\\nSubhodeep Saha\\nCertified Buyer\\n2days ago\\n3. Singco India Aviator, Wayfa...\\n3.637,521 Ratings&4,897 Reviews\\n₹22967% off\\nFrame Size: Medium\\nLens Color: Black, Black\\nFeatures: UV Protection, Riding Glasses, Others\\nMost Helpful Review\\n4\\nWonderful\\nsuperbbbb....tnq flipkart\\nFlipkart Customer\\nCertified Buyer\\nAug, 2019\\nRecent Review\\n1\\nVery poor\\nBad quality and small size\\njerin G Aleyas\\nCertified Buyer\\n1day ago\\n4. ROZZETTA CRAFT Round Sungla...\\n4.13,113 Ratings&383 Reviews\\n₹42684% off\\nFrame Size: Free Size (One Size Fits All)\\nLens Color: Clear\\nFeatures: UV Protection\\nMost Helpful Review\\n5\\nTerrific\\nThanks for lovely sunglasses\\nMegha_ Tewary\\nCertified Buyer\\n11months ago\\nRecent Review\\n1\\nUnsatisfactory\\nBest quality allu arjun sunglasses\\nmd asif\\nCertified Buyer\\n11days ago\\n5. ROZZETTA CRAFT Retro Square...\\n4.2433 Ratings&35 Reviews\\n₹34982% off\\nFrame Size: Free Size (One Size Fits All)\\nLens Color: Black\\nFeatures: UV Protection, Gradient\\nMost Helpful Review\\n5\\nJust wow!\\nIf one\\'s looking for comfortable wear. Please go for this product. It\\'s amazing..! It fits me perfectly. Thank you for this cool product.\\nToshi Yimchunger\\nCertified Buyer\\n2months ago\\nRecent Review\\n5\\nFabulous!\\nProduct is very good but delivery was bad\\nFlipkart Customer\\nCertified Buyer\\n29days ago\\nABOUT\\nContact Us\\nAbout Us\\nCareers\\nFlipkart Stories\\nPress\\nFlipkart Wholesale\\nCorporate Information\\nHELP\\nPayments\\nShipping\\nCancellation & Returns\\nFAQ\\nReport Infringement\\nPOLICY\\nReturn Policy\\nTerms Of Use\\nSecurity\\nPrivacy\\nSitemap\\nEPR Compliance\\nSOCIAL\\nFacebook\\nTwitter\\nYouTube\\nMail Us:\\nFlipkart Internet Private Limited,\\nBuildings Alyssa, Begonia &\\nClove Embassy Tech Village,\\nOuter Ring Road, Devarabeesanahalli Village,\\nBengaluru, 560103,\\nKarnataka, India\\nRegistered Office Address:\\nFlipkart Internet Private Limited,\\nBuildings Alyssa, Begonia &\\nClove Embassy Tech Village,\\nOuter Ring Road, Devarabeesanahalli Village,\\nBengaluru, 560103,\\nKarnataka, India\\nCIN : U51109KA2012PTC066107\\nTelephone: 1800 202 9898\\nSell On Flipkart\\nAdvertise\\nGift Cards\\nHelp Center\\n© 2007-2021 Flipkart.com',\n",
       " 'Explore Plus\\nLogin\\nMore\\nCart\\nElectronics\\nTVs & Appliances\\nMen\\nWomen\\nBaby & Kids\\nHome & Furniture\\nSports, Books & More\\nFlights\\nOffer Zone\\nFilters\\nCATEGORIES\\nSunglasses\\nPRICE\\n.......\\nMin\\n₹300\\n₹500\\n₹800\\n₹1000\\n₹2000\\nto\\n₹300\\n₹500\\n₹800\\n₹1000\\n₹2000\\n₹2000+\\n?\\nBRAND\\nFastrack\\nFOSSIL\\nIDEE\\nLEVI\\'S\\nMi\\nOAKLEY\\n1561 MORE\\nIDEAL FOR\\nSTYLE\\nSIZE\\nLENS COLOR\\nFRAME COLOR\\nDISCOUNT\\nFACE SHAPE\\nLENS FEATURE\\nUSAGE\\nTHEME\\nLENS MATERIAL\\nFRAME MATERIAL\\nAVAILABILITY\\nCUSTOMER RATINGS\\n4★ & above\\n3★ & above\\n2★ & above\\n1★ & above\\nOFFERS\\nBuy More, Save More\\nNo Cost EMI\\nSpecial Price\\nNeed help?\\nHelp me decide\\nHomeSunglasses\\nShowing 1 – 40 of 89,980 results for \"sunglasses\"\\nSort By\\nRelevance\\nPopularity\\nPrice -- Low to High\\nPrice -- High to Low\\nNewest First\\nSRPM\\nUV Protection Wayfarer Sunglasses (56)\\n₹188₹1,29985% off\\nElligator\\nUV Protection Round Sunglasses (54)\\n₹248₹2,49590% off\\nNew Specs\\nUV Protection Rectangular Sunglasses (Free Size)\\n₹259₹1,99987% off\\nPIRASO\\nUV Protection Aviator Sunglasses (54)\\n₹200₹1,59987% off\\nPIRASO\\nUV Protection Aviator Sunglasses (54)\\n₹187₹1,59988% off\\nkingsunglasses\\nUV Protection Round Sunglasses (54)\\n₹189₹1,09982% off\\nSHAAH COLLECTIONS\\nUV Protection, Polarized, Mirrored Rectangular Sunglass...\\n₹170₹1,69989% off\\nPIRASO\\nUV Protection Aviator Sunglasses (55)\\n₹179₹1,59988% off\\nkingsunglasses\\nMirrored, UV Protection Wayfarer Sunglasses (53)\\n₹274₹1,99986% off\\nROZZETTA CRAFT\\nUV Protection, Gradient Rectangular Sunglasses (Free Si...\\n₹383₹1,99980% off\\nkingsunglasses\\nUV Protection, Riding Glasses, Mirrored Wayfarer Sungla...\\n₹187₹1,19984% off\\nFastrack\\nUV Protection Wayfarer Sunglasses (Free Size)\\n₹699₹89922% off\\nFree delivery\\nROZZETTA CRAFT\\nUV Protection Round Sunglasses (Free Size)\\n₹426₹2,66584% off\\nNew Specs\\nMirrored, UV Protection, Riding Glasses, Others Round S...\\n₹259₹1,39981% off\\nPHENOMENAL\\nUV Protection Retro Square Sunglasses (Free Size)\\n₹319₹1,99984% off\\nPHENOMENAL\\nUV Protection, Mirrored Retro Square Sunglasses (53)\\n₹299₹1,99985% off\\nRich Club\\nPolarized Round Sunglasses (48)\\n₹175₹49964% off\\nSingco India\\nMirrored, Riding Glasses, Others Sports Sunglasses (50)\\n₹194₹1,49987% off\\nROYAL SON\\nUV Protection Rectangular Sunglasses (58)\\n₹449₹1,49970% off\\nPIRASO\\nUV Protection Aviator Sunglasses (54)\\n₹187₹1,59988% off\\nSHAAH COLLECTIONS\\nUV Protection, Polarized, Mirrored Rectangular Sunglass...\\n₹181₹99981% off\\nROZZETTA CRAFT\\nUV Protection Retro Square Sunglasses (Free Size)\\n₹474₹2,22578% off\\nROYAL SON\\nMirrored Aviator Sunglasses (55)\\n₹359₹1,49976% off\\nSUNBEE\\nUV Protection, Polarized, Mirrored Round Sunglasses (Fr...\\n₹271₹1,69984% off\\nRich Club\\nUV Protection Round Sunglasses (50)\\n₹383₹99961% off\\nRich Club\\nPolarized Round Sunglasses (48)\\n₹163₹49967% off\\nhipe\\nUV Protection Sports Sunglasses (Free Size)\\n₹287₹1,89984% off\\nBuy 2 items, save extra 5%\\nPIRASO\\nUV Protection Butterfly Sunglasses (65)\\n₹359₹2,59986% off\\nPIRASO\\nUV Protection, Polarized Aviator Sunglasses (32)\\n₹164₹1,59989% off\\nROZZETTA CRAFT\\nUV Protection, Gradient Retro Square Sunglasses (Free S...\\n₹349₹1,99982% off\\nFastrack\\nUV Protection Rectangular Sunglasses (Free Size)\\n₹694₹79913% off\\nFree delivery\\nPIRASO\\nUV Protection Wayfarer Sunglasses (32)\\n₹187₹1,59988% off\\nPIRASO\\nUV Protection Aviator Sunglasses (58)\\n₹299₹2,59988% off\\nSingco India\\nUV Protection, Riding Glasses, Others Aviator, Wayfarer...\\n₹229₹69967% off\\nLee Topper\\nRiding Glasses, Night Vision Wrap-around Sunglasses (Fr...\\n₹276₹2,49988% off\\nagera\\nGradient Aviator Sunglasses (55)\\n₹196₹1,14982% off\\nBuy 2 items, save extra 5%\\nPIRASO\\nUV Protection Aviator Sunglasses (Free Size)\\n₹261₹1,59983% off\\nROZZETTA CRAFT\\nUV Protection, Gradient Round Sunglasses (Free Size)\\n₹360₹1,99981% off\\nkingsunglasses\\nMirrored, UV Protection Aviator Sunglasses (56)\\n₹211₹1,29983% off\\nSUNBEE\\nUV Protection, Polarized, Mirrored Wayfarer Sunglasses ...\\n₹258₹1,29980% off\\nPage 1 of 2,250\\n1\\n2\\n3\\n4\\n5\\n6\\n7\\n8\\n9\\n10\\nNEXT\\nDid you find what you were looking for?YesNo\\nReviews for Popular Sunglasses\\n1. Fastrack Wayfarer Sunglasse...\\n4.255,763 Ratings&7,453 Reviews\\n₹69922% off\\nFrame Size: Free Size (One Size Fits All)\\nLens Color: Green\\nFeatures: UV Protection\\nMost Helpful Review\\n5\\nWorth every penny\\nWorth for the money, awesome product and quality is really good. Brand name (Fastrack) speaks👍.\\nJegadeeswaran E\\nCertified Buyer\\nAug, 2020\\nRecent Review\\n5\\nBrilliant\\nSuper googles..😎\\nFlipkart Customer\\nCertified Buyer\\n1day ago\\n2. ROYAL SON Rectangular Sungl...\\n3.910,154 Ratings&1,293 Reviews\\n₹44970% off\\nFrame Size: Medium (S: Below 56mm, M: 56-59mm, L: 60+mm)\\nLens Color: Black, Silver\\nFeatures: UV Protection\\nMost Helpful Review\\n4\\nValue-for-money\\nWorth for the price, expecially for oval faced people.Visibility is little low\\nFlipkart Customer\\nCertified Buyer\\n11months ago\\nRecent Review\\n5\\nWorth every penny\\nTruly value for money product by ROYAL SON. Thank you Flipkart for safely delivering the product to me.\\nSubhodeep Saha\\nCertified Buyer\\n2days ago\\n3. Singco India Aviator, Wayfa...\\n3.637,521 Ratings&4,897 Reviews\\n₹22967% off\\nFrame Size: Medium\\nLens Color: Black, Black\\nFeatures: UV Protection, Riding Glasses, Others\\nMost Helpful Review\\n4\\nWonderful\\nsuperbbbb....tnq flipkart\\nFlipkart Customer\\nCertified Buyer\\nAug, 2019\\nRecent Review\\n1\\nVery poor\\nBad quality and small size\\njerin G Aleyas\\nCertified Buyer\\n1day ago\\n4. ROZZETTA CRAFT Round Sungla...\\n4.13,113 Ratings&383 Reviews\\n₹42684% off\\nFrame Size: Free Size (One Size Fits All)\\nLens Color: Clear\\nFeatures: UV Protection\\nMost Helpful Review\\n5\\nTerrific\\nThanks for lovely sunglasses\\nMegha_ Tewary\\nCertified Buyer\\n11months ago\\nRecent Review\\n1\\nUnsatisfactory\\nBest quality allu arjun sunglasses\\nmd asif\\nCertified Buyer\\n11days ago\\n5. ROZZETTA CRAFT Retro Square...\\n4.2433 Ratings&35 Reviews\\n₹34982% off\\nFrame Size: Free Size (One Size Fits All)\\nLens Color: Black\\nFeatures: UV Protection, Gradient\\nMost Helpful Review\\n5\\nJust wow!\\nIf one\\'s looking for comfortable wear. Please go for this product. It\\'s amazing..! It fits me perfectly. Thank you for this cool product.\\nToshi Yimchunger\\nCertified Buyer\\n2months ago\\nRecent Review\\n5\\nFabulous!\\nProduct is very good but delivery was bad\\nFlipkart Customer\\nCertified Buyer\\n29days ago\\nABOUT\\nContact Us\\nAbout Us\\nCareers\\nFlipkart Stories\\nPress\\nFlipkart Wholesale\\nCorporate Information\\nHELP\\nPayments\\nShipping\\nCancellation & Returns\\nFAQ\\nReport Infringement\\nPOLICY\\nReturn Policy\\nTerms Of Use\\nSecurity\\nPrivacy\\nSitemap\\nEPR Compliance\\nSOCIAL\\nFacebook\\nTwitter\\nYouTube\\nMail Us:\\nFlipkart Internet Private Limited,\\nBuildings Alyssa, Begonia &\\nClove Embassy Tech Village,\\nOuter Ring Road, Devarabeesanahalli Village,\\nBengaluru, 560103,\\nKarnataka, India\\nRegistered Office Address:\\nFlipkart Internet Private Limited,\\nBuildings Alyssa, Begonia &\\nClove Embassy Tech Village,\\nOuter Ring Road, Devarabeesanahalli Village,\\nBengaluru, 560103,\\nKarnataka, India\\nCIN : U51109KA2012PTC066107\\nTelephone: 1800 202 9898\\nSell On Flipkart\\nAdvertise\\nGift Cards\\nHelp Center\\n© 2007-2021 Flipkart.com',\n",
       " 'Explore Plus\\nLogin\\nMore\\nCart',\n",
       " 'Explore Plus\\nLogin\\nMore\\nCart',\n",
       " '',\n",
       " 'Explore Plus\\nLogin\\nMore\\nCart',\n",
       " 'Explore Plus',\n",
       " 'Explore Plus',\n",
       " '',\n",
       " '',\n",
       " '',\n",
       " 'Login',\n",
       " 'Login',\n",
       " 'Login',\n",
       " 'Login',\n",
       " 'More',\n",
       " 'More',\n",
       " 'More',\n",
       " 'More',\n",
       " 'More',\n",
       " 'Cart',\n",
       " 'Cart',\n",
       " 'Cart',\n",
       " '',\n",
       " '',\n",
       " 'Electronics\\nTVs & Appliances\\nMen\\nWomen\\nBaby & Kids\\nHome & Furniture\\nSports, Books & More\\nFlights\\nOffer Zone',\n",
       " 'Electronics\\nTVs & Appliances\\nMen\\nWomen\\nBaby & Kids\\nHome & Furniture\\nSports, Books & More\\nFlights\\nOffer Zone',\n",
       " 'Electronics\\nTVs & Appliances\\nMen\\nWomen\\nBaby & Kids\\nHome & Furniture\\nSports, Books & More\\nFlights\\nOffer Zone',\n",
       " 'Filters\\nCATEGORIES\\nSunglasses\\nPRICE\\n.......\\nMin\\n₹300\\n₹500\\n₹800\\n₹1000\\n₹2000\\nto\\n₹300\\n₹500\\n₹800\\n₹1000\\n₹2000\\n₹2000+\\n?\\nBRAND\\nFastrack\\nFOSSIL\\nIDEE\\nLEVI\\'S\\nMi\\nOAKLEY\\n1561 MORE\\nIDEAL FOR\\nSTYLE\\nSIZE\\nLENS COLOR\\nFRAME COLOR\\nDISCOUNT\\nFACE SHAPE\\nLENS FEATURE\\nUSAGE\\nTHEME\\nLENS MATERIAL\\nFRAME MATERIAL\\nAVAILABILITY\\nCUSTOMER RATINGS\\n4★ & above\\n3★ & above\\n2★ & above\\n1★ & above\\nOFFERS\\nBuy More, Save More\\nNo Cost EMI\\nSpecial Price\\nNeed help?\\nHelp me decide\\nHomeSunglasses\\nShowing 1 – 40 of 89,980 results for \"sunglasses\"\\nSort By\\nRelevance\\nPopularity\\nPrice -- Low to High\\nPrice -- High to Low\\nNewest First\\nSRPM\\nUV Protection Wayfarer Sunglasses (56)\\n₹188₹1,29985% off\\nElligator\\nUV Protection Round Sunglasses (54)\\n₹248₹2,49590% off\\nNew Specs\\nUV Protection Rectangular Sunglasses (Free Size)\\n₹259₹1,99987% off\\nPIRASO\\nUV Protection Aviator Sunglasses (54)\\n₹200₹1,59987% off\\nPIRASO\\nUV Protection Aviator Sunglasses (54)\\n₹187₹1,59988% off\\nkingsunglasses\\nUV Protection Round Sunglasses (54)\\n₹189₹1,09982% off\\nSHAAH COLLECTIONS\\nUV Protection, Polarized, Mirrored Rectangular Sunglass...\\n₹170₹1,69989% off\\nPIRASO\\nUV Protection Aviator Sunglasses (55)\\n₹179₹1,59988% off\\nkingsunglasses\\nMirrored, UV Protection Wayfarer Sunglasses (53)\\n₹274₹1,99986% off\\nROZZETTA CRAFT\\nUV Protection, Gradient Rectangular Sunglasses (Free Si...\\n₹383₹1,99980% off\\nkingsunglasses\\nUV Protection, Riding Glasses, Mirrored Wayfarer Sungla...\\n₹187₹1,19984% off\\nFastrack\\nUV Protection Wayfarer Sunglasses (Free Size)\\n₹699₹89922% off\\nFree delivery\\nROZZETTA CRAFT\\nUV Protection Round Sunglasses (Free Size)\\n₹426₹2,66584% off\\nNew Specs\\nMirrored, UV Protection, Riding Glasses, Others Round S...\\n₹259₹1,39981% off\\nPHENOMENAL\\nUV Protection Retro Square Sunglasses (Free Size)\\n₹319₹1,99984% off\\nPHENOMENAL\\nUV Protection, Mirrored Retro Square Sunglasses (53)\\n₹299₹1,99985% off\\nRich Club\\nPolarized Round Sunglasses (48)\\n₹175₹49964% off\\nSingco India\\nMirrored, Riding Glasses, Others Sports Sunglasses (50)\\n₹194₹1,49987% off\\nROYAL SON\\nUV Protection Rectangular Sunglasses (58)\\n₹449₹1,49970% off\\nPIRASO\\nUV Protection Aviator Sunglasses (54)\\n₹187₹1,59988% off\\nSHAAH COLLECTIONS\\nUV Protection, Polarized, Mirrored Rectangular Sunglass...\\n₹181₹99981% off\\nROZZETTA CRAFT\\nUV Protection Retro Square Sunglasses (Free Size)\\n₹474₹2,22578% off\\nROYAL SON\\nMirrored Aviator Sunglasses (55)\\n₹359₹1,49976% off\\nSUNBEE\\nUV Protection, Polarized, Mirrored Round Sunglasses (Fr...\\n₹271₹1,69984% off\\nRich Club\\nUV Protection Round Sunglasses (50)\\n₹383₹99961% off\\nRich Club\\nPolarized Round Sunglasses (48)\\n₹163₹49967% off\\nhipe\\nUV Protection Sports Sunglasses (Free Size)\\n₹287₹1,89984% off\\nBuy 2 items, save extra 5%\\nPIRASO\\nUV Protection Butterfly Sunglasses (65)\\n₹359₹2,59986% off\\nPIRASO\\nUV Protection, Polarized Aviator Sunglasses (32)\\n₹164₹1,59989% off\\nROZZETTA CRAFT\\nUV Protection, Gradient Retro Square Sunglasses (Free S...\\n₹349₹1,99982% off\\nFastrack\\nUV Protection Rectangular Sunglasses (Free Size)\\n₹694₹79913% off\\nFree delivery\\nPIRASO\\nUV Protection Wayfarer Sunglasses (32)\\n₹187₹1,59988% off\\nPIRASO\\nUV Protection Aviator Sunglasses (58)\\n₹299₹2,59988% off\\nSingco India\\nUV Protection, Riding Glasses, Others Aviator, Wayfarer...\\n₹229₹69967% off\\nLee Topper\\nRiding Glasses, Night Vision Wrap-around Sunglasses (Fr...\\n₹276₹2,49988% off\\nagera\\nGradient Aviator Sunglasses (55)\\n₹196₹1,14982% off\\nBuy 2 items, save extra 5%\\nPIRASO\\nUV Protection Aviator Sunglasses (Free Size)\\n₹261₹1,59983% off\\nROZZETTA CRAFT\\nUV Protection, Gradient Round Sunglasses (Free Size)\\n₹360₹1,99981% off\\nkingsunglasses\\nMirrored, UV Protection Aviator Sunglasses (56)\\n₹211₹1,29983% off\\nSUNBEE\\nUV Protection, Polarized, Mirrored Wayfarer Sunglasses ...\\n₹258₹1,29980% off\\nPage 1 of 2,250\\n1\\n2\\n3\\n4\\n5\\n6\\n7\\n8\\n9\\n10\\nNEXT\\nDid you find what you were looking for?YesNo\\nReviews for Popular Sunglasses\\n1. Fastrack Wayfarer Sunglasse...\\n4.255,763 Ratings&7,453 Reviews\\n₹69922% off\\nFrame Size: Free Size (One Size Fits All)\\nLens Color: Green\\nFeatures: UV Protection\\nMost Helpful Review\\n5\\nWorth every penny\\nWorth for the money, awesome product and quality is really good. Brand name (Fastrack) speaks👍.\\nJegadeeswaran E\\nCertified Buyer\\nAug, 2020\\nRecent Review\\n5\\nBrilliant\\nSuper googles..😎\\nFlipkart Customer\\nCertified Buyer\\n1day ago\\n2. ROYAL SON Rectangular Sungl...\\n3.910,154 Ratings&1,293 Reviews\\n₹44970% off\\nFrame Size: Medium (S: Below 56mm, M: 56-59mm, L: 60+mm)\\nLens Color: Black, Silver\\nFeatures: UV Protection\\nMost Helpful Review\\n4\\nValue-for-money\\nWorth for the price, expecially for oval faced people.Visibility is little low\\nFlipkart Customer\\nCertified Buyer\\n11months ago\\nRecent Review\\n5\\nWorth every penny\\nTruly value for money product by ROYAL SON. Thank you Flipkart for safely delivering the product to me.\\nSubhodeep Saha\\nCertified Buyer\\n2days ago\\n3. Singco India Aviator, Wayfa...\\n3.637,521 Ratings&4,897 Reviews\\n₹22967% off\\nFrame Size: Medium\\nLens Color: Black, Black\\nFeatures: UV Protection, Riding Glasses, Others\\nMost Helpful Review\\n4\\nWonderful\\nsuperbbbb....tnq flipkart\\nFlipkart Customer\\nCertified Buyer\\nAug, 2019\\nRecent Review\\n1\\nVery poor\\nBad quality and small size\\njerin G Aleyas\\nCertified Buyer\\n1day ago\\n4. ROZZETTA CRAFT Round Sungla...\\n4.13,113 Ratings&383 Reviews\\n₹42684% off\\nFrame Size: Free Size (One Size Fits All)\\nLens Color: Clear\\nFeatures: UV Protection\\nMost Helpful Review\\n5\\nTerrific\\nThanks for lovely sunglasses\\nMegha_ Tewary\\nCertified Buyer\\n11months ago\\nRecent Review\\n1\\nUnsatisfactory\\nBest quality allu arjun sunglasses\\nmd asif\\nCertified Buyer\\n11days ago\\n5. ROZZETTA CRAFT Retro Square...\\n4.2433 Ratings&35 Reviews\\n₹34982% off\\nFrame Size: Free Size (One Size Fits All)\\nLens Color: Black\\nFeatures: UV Protection, Gradient\\nMost Helpful Review\\n5\\nJust wow!\\nIf one\\'s looking for comfortable wear. Please go for this product. It\\'s amazing..! It fits me perfectly. Thank you for this cool product.\\nToshi Yimchunger\\nCertified Buyer\\n2months ago\\nRecent Review\\n5\\nFabulous!\\nProduct is very good but delivery was bad\\nFlipkart Customer\\nCertified Buyer\\n29days ago',\n",
       " 'Filters\\nCATEGORIES\\nSunglasses\\nPRICE\\n.......\\nMin\\n₹300\\n₹500\\n₹800\\n₹1000\\n₹2000\\nto\\n₹300\\n₹500\\n₹800\\n₹1000\\n₹2000\\n₹2000+\\n?\\nBRAND\\nFastrack\\nFOSSIL\\nIDEE\\nLEVI\\'S\\nMi\\nOAKLEY\\n1561 MORE\\nIDEAL FOR\\nSTYLE\\nSIZE\\nLENS COLOR\\nFRAME COLOR\\nDISCOUNT\\nFACE SHAPE\\nLENS FEATURE\\nUSAGE\\nTHEME\\nLENS MATERIAL\\nFRAME MATERIAL\\nAVAILABILITY\\nCUSTOMER RATINGS\\n4★ & above\\n3★ & above\\n2★ & above\\n1★ & above\\nOFFERS\\nBuy More, Save More\\nNo Cost EMI\\nSpecial Price\\nNeed help?\\nHelp me decide\\nHomeSunglasses\\nShowing 1 – 40 of 89,980 results for \"sunglasses\"\\nSort By\\nRelevance\\nPopularity\\nPrice -- Low to High\\nPrice -- High to Low\\nNewest First\\nSRPM\\nUV Protection Wayfarer Sunglasses (56)\\n₹188₹1,29985% off\\nElligator\\nUV Protection Round Sunglasses (54)\\n₹248₹2,49590% off\\nNew Specs\\nUV Protection Rectangular Sunglasses (Free Size)\\n₹259₹1,99987% off\\nPIRASO\\nUV Protection Aviator Sunglasses (54)\\n₹200₹1,59987% off\\nPIRASO\\nUV Protection Aviator Sunglasses (54)\\n₹187₹1,59988% off\\nkingsunglasses\\nUV Protection Round Sunglasses (54)\\n₹189₹1,09982% off\\nSHAAH COLLECTIONS\\nUV Protection, Polarized, Mirrored Rectangular Sunglass...\\n₹170₹1,69989% off\\nPIRASO\\nUV Protection Aviator Sunglasses (55)\\n₹179₹1,59988% off\\nkingsunglasses\\nMirrored, UV Protection Wayfarer Sunglasses (53)\\n₹274₹1,99986% off\\nROZZETTA CRAFT\\nUV Protection, Gradient Rectangular Sunglasses (Free Si...\\n₹383₹1,99980% off\\nkingsunglasses\\nUV Protection, Riding Glasses, Mirrored Wayfarer Sungla...\\n₹187₹1,19984% off\\nFastrack\\nUV Protection Wayfarer Sunglasses (Free Size)\\n₹699₹89922% off\\nFree delivery\\nROZZETTA CRAFT\\nUV Protection Round Sunglasses (Free Size)\\n₹426₹2,66584% off\\nNew Specs\\nMirrored, UV Protection, Riding Glasses, Others Round S...\\n₹259₹1,39981% off\\nPHENOMENAL\\nUV Protection Retro Square Sunglasses (Free Size)\\n₹319₹1,99984% off\\nPHENOMENAL\\nUV Protection, Mirrored Retro Square Sunglasses (53)\\n₹299₹1,99985% off\\nRich Club\\nPolarized Round Sunglasses (48)\\n₹175₹49964% off\\nSingco India\\nMirrored, Riding Glasses, Others Sports Sunglasses (50)\\n₹194₹1,49987% off\\nROYAL SON\\nUV Protection Rectangular Sunglasses (58)\\n₹449₹1,49970% off\\nPIRASO\\nUV Protection Aviator Sunglasses (54)\\n₹187₹1,59988% off\\nSHAAH COLLECTIONS\\nUV Protection, Polarized, Mirrored Rectangular Sunglass...\\n₹181₹99981% off\\nROZZETTA CRAFT\\nUV Protection Retro Square Sunglasses (Free Size)\\n₹474₹2,22578% off\\nROYAL SON\\nMirrored Aviator Sunglasses (55)\\n₹359₹1,49976% off\\nSUNBEE\\nUV Protection, Polarized, Mirrored Round Sunglasses (Fr...\\n₹271₹1,69984% off\\nRich Club\\nUV Protection Round Sunglasses (50)\\n₹383₹99961% off\\nRich Club\\nPolarized Round Sunglasses (48)\\n₹163₹49967% off\\nhipe\\nUV Protection Sports Sunglasses (Free Size)\\n₹287₹1,89984% off\\nBuy 2 items, save extra 5%\\nPIRASO\\nUV Protection Butterfly Sunglasses (65)\\n₹359₹2,59986% off\\nPIRASO\\nUV Protection, Polarized Aviator Sunglasses (32)\\n₹164₹1,59989% off\\nROZZETTA CRAFT\\nUV Protection, Gradient Retro Square Sunglasses (Free S...\\n₹349₹1,99982% off\\nFastrack\\nUV Protection Rectangular Sunglasses (Free Size)\\n₹694₹79913% off\\nFree delivery\\nPIRASO\\nUV Protection Wayfarer Sunglasses (32)\\n₹187₹1,59988% off\\nPIRASO\\nUV Protection Aviator Sunglasses (58)\\n₹299₹2,59988% off\\nSingco India\\nUV Protection, Riding Glasses, Others Aviator, Wayfarer...\\n₹229₹69967% off\\nLee Topper\\nRiding Glasses, Night Vision Wrap-around Sunglasses (Fr...\\n₹276₹2,49988% off\\nagera\\nGradient Aviator Sunglasses (55)\\n₹196₹1,14982% off\\nBuy 2 items, save extra 5%\\nPIRASO\\nUV Protection Aviator Sunglasses (Free Size)\\n₹261₹1,59983% off\\nROZZETTA CRAFT\\nUV Protection, Gradient Round Sunglasses (Free Size)\\n₹360₹1,99981% off\\nkingsunglasses\\nMirrored, UV Protection Aviator Sunglasses (56)\\n₹211₹1,29983% off\\nSUNBEE\\nUV Protection, Polarized, Mirrored Wayfarer Sunglasses ...\\n₹258₹1,29980% off\\nPage 1 of 2,250\\n1\\n2\\n3\\n4\\n5\\n6\\n7\\n8\\n9\\n10\\nNEXT\\nDid you find what you were looking for?YesNo',\n",
       " \"Filters\\nCATEGORIES\\nSunglasses\\nPRICE\\n.......\\nMin\\n₹300\\n₹500\\n₹800\\n₹1000\\n₹2000\\nto\\n₹300\\n₹500\\n₹800\\n₹1000\\n₹2000\\n₹2000+\\n?\\nBRAND\\nFastrack\\nFOSSIL\\nIDEE\\nLEVI'S\\nMi\\nOAKLEY\\n1561 MORE\\nIDEAL FOR\\nSTYLE\\nSIZE\\nLENS COLOR\\nFRAME COLOR\\nDISCOUNT\\nFACE SHAPE\\nLENS FEATURE\\nUSAGE\\nTHEME\\nLENS MATERIAL\\nFRAME MATERIAL\\nAVAILABILITY\\nCUSTOMER RATINGS\\n4★ & above\\n3★ & above\\n2★ & above\\n1★ & above\\nOFFERS\\nBuy More, Save More\\nNo Cost EMI\\nSpecial Price\\nNeed help?\\nHelp me decide\",\n",
       " \"Filters\\nCATEGORIES\\nSunglasses\\nPRICE\\n.......\\nMin\\n₹300\\n₹500\\n₹800\\n₹1000\\n₹2000\\nto\\n₹300\\n₹500\\n₹800\\n₹1000\\n₹2000\\n₹2000+\\n?\\nBRAND\\nFastrack\\nFOSSIL\\nIDEE\\nLEVI'S\\nMi\\nOAKLEY\\n1561 MORE\\nIDEAL FOR\\nSTYLE\\nSIZE\\nLENS COLOR\\nFRAME COLOR\\nDISCOUNT\\nFACE SHAPE\\nLENS FEATURE\\nUSAGE\\nTHEME\\nLENS MATERIAL\\nFRAME MATERIAL\\nAVAILABILITY\\nCUSTOMER RATINGS\\n4★ & above\\n3★ & above\\n2★ & above\\n1★ & above\\nOFFERS\\nBuy More, Save More\\nNo Cost EMI\\nSpecial Price\\nNeed help?\\nHelp me decide\",\n",
       " \"Filters\\nCATEGORIES\\nSunglasses\\nPRICE\\n.......\\nMin\\n₹300\\n₹500\\n₹800\\n₹1000\\n₹2000\\nto\\n₹300\\n₹500\\n₹800\\n₹1000\\n₹2000\\n₹2000+\\n?\\nBRAND\\nFastrack\\nFOSSIL\\nIDEE\\nLEVI'S\\nMi\\nOAKLEY\\n1561 MORE\\nIDEAL FOR\\nSTYLE\\nSIZE\\nLENS COLOR\\nFRAME COLOR\\nDISCOUNT\\nFACE SHAPE\\nLENS FEATURE\\nUSAGE\\nTHEME\\nLENS MATERIAL\\nFRAME MATERIAL\\nAVAILABILITY\\nCUSTOMER RATINGS\\n4★ & above\\n3★ & above\\n2★ & above\\n1★ & above\\nOFFERS\\nBuy More, Save More\\nNo Cost EMI\\nSpecial Price\",\n",
       " \"Filters\\nCATEGORIES\\nSunglasses\\nPRICE\\n.......\\nMin\\n₹300\\n₹500\\n₹800\\n₹1000\\n₹2000\\nto\\n₹300\\n₹500\\n₹800\\n₹1000\\n₹2000\\n₹2000+\\n?\\nBRAND\\nFastrack\\nFOSSIL\\nIDEE\\nLEVI'S\\nMi\\nOAKLEY\\n1561 MORE\\nIDEAL FOR\\nSTYLE\\nSIZE\\nLENS COLOR\\nFRAME COLOR\\nDISCOUNT\\nFACE SHAPE\\nLENS FEATURE\\nUSAGE\\nTHEME\\nLENS MATERIAL\\nFRAME MATERIAL\\nAVAILABILITY\\nCUSTOMER RATINGS\\n4★ & above\\n3★ & above\\n2★ & above\\n1★ & above\\nOFFERS\\nBuy More, Save More\\nNo Cost EMI\\nSpecial Price\",\n",
       " 'Filters',\n",
       " 'Filters',\n",
       " 'CATEGORIES\\nSunglasses',\n",
       " 'CATEGORIES',\n",
       " 'Sunglasses',\n",
       " 'Sunglasses']"
      ]
     },
     "execution_count": 83,
     "metadata": {},
     "output_type": "execute_result"
    }
   ],
   "source": [
    "for i in discount_tags:\n",
    "    discount=i.text\n",
    "    discount_off.append(discount)\n",
    "discount_off[0:100]    "
   ]
  },
  {
   "cell_type": "markdown",
   "id": "a3b3916f",
   "metadata": {},
   "source": [
    "# scrape 100 reviews data from flipkart.com for i phone11"
   ]
  },
  {
   "cell_type": "code",
   "execution_count": 86,
   "id": "177d350d",
   "metadata": {},
   "outputs": [],
   "source": [
    "import selenium\n",
    "import pandas as pd\n",
    "from selenium import webdriver"
   ]
  },
  {
   "cell_type": "code",
   "execution_count": 87,
   "id": "2843c997",
   "metadata": {},
   "outputs": [
    {
     "name": "stderr",
     "output_type": "stream",
     "text": [
      "<ipython-input-87-bcea5228ba58>:1: DeprecationWarning: executable_path has been deprecated, please pass in a Service object\n",
      "  driver = webdriver.Chrome(r\"C:\\Users\\user\\Downloads\\chromedriver_win32\\chromedriver.exe\")\n"
     ]
    }
   ],
   "source": [
    "driver = webdriver.Chrome(r\"C:\\Users\\user\\Downloads\\chromedriver_win32\\chromedriver.exe\")"
   ]
  },
  {
   "cell_type": "code",
   "execution_count": 88,
   "id": "7b5c68d1",
   "metadata": {},
   "outputs": [],
   "source": [
    "#driver.close()"
   ]
  },
  {
   "cell_type": "code",
   "execution_count": 89,
   "id": "bc2ef086",
   "metadata": {},
   "outputs": [],
   "source": [
    "url=url=\"https://www.flipkart.com/apple-iphone-11-black-64-gb-includes- earpods-power\u0002adapter/p/itm0f37c2240b217?pid=MOBFKCTSVZAXUHGR&lid=LSTMOBFKC\""
   ]
  },
  {
   "cell_type": "code",
   "execution_count": 90,
   "id": "132b9b42",
   "metadata": {},
   "outputs": [],
   "source": [
    "driver.get(url)"
   ]
  },
  {
   "cell_type": "code",
   "execution_count": 91,
   "id": "7b4f1c07",
   "metadata": {},
   "outputs": [],
   "source": [
    "rating=[]\n",
    "review=[]\n",
    "summary=[]"
   ]
  },
  {
   "cell_type": "code",
   "execution_count": 92,
   "id": "ebb5750b",
   "metadata": {},
   "outputs": [
    {
     "name": "stderr",
     "output_type": "stream",
     "text": [
      "<ipython-input-92-7cf0afdfda5f>:1: DeprecationWarning: find_elements_by_* commands are deprecated. Please use find_elements() instead\n",
      "  rating = driver.find_elements_by_xpath(\"//div['@class=_3LWZlK _1BLPMq']\")\n"
     ]
    },
    {
     "data": {
      "text/plain": [
       "[<selenium.webdriver.remote.webelement.WebElement (session=\"85314e5241f81de9401304028f955562\", element=\"bfea1d70-d4ba-492c-b2df-aa773f8d86a6\")>,\n",
       " <selenium.webdriver.remote.webelement.WebElement (session=\"85314e5241f81de9401304028f955562\", element=\"3a5abd0c-8851-4819-9240-8dae867b5c03\")>,\n",
       " <selenium.webdriver.remote.webelement.WebElement (session=\"85314e5241f81de9401304028f955562\", element=\"c24f9274-4709-4de4-be10-d58c42de767d\")>,\n",
       " <selenium.webdriver.remote.webelement.WebElement (session=\"85314e5241f81de9401304028f955562\", element=\"afce74d2-114a-44b9-8e02-c14efbbd2d50\")>,\n",
       " <selenium.webdriver.remote.webelement.WebElement (session=\"85314e5241f81de9401304028f955562\", element=\"49db6ca6-dceb-42e9-8730-6ccd2e6307d6\")>,\n",
       " <selenium.webdriver.remote.webelement.WebElement (session=\"85314e5241f81de9401304028f955562\", element=\"4724e9a7-8938-4a55-a828-78af3f5c7cea\")>,\n",
       " <selenium.webdriver.remote.webelement.WebElement (session=\"85314e5241f81de9401304028f955562\", element=\"3431a65b-3c68-49ca-8997-2f74b3ce129b\")>,\n",
       " <selenium.webdriver.remote.webelement.WebElement (session=\"85314e5241f81de9401304028f955562\", element=\"a9b0b86d-cfdb-482f-93ea-96e6320c4286\")>,\n",
       " <selenium.webdriver.remote.webelement.WebElement (session=\"85314e5241f81de9401304028f955562\", element=\"38c384ef-8b70-4cc7-a80d-6a887d9440cd\")>,\n",
       " <selenium.webdriver.remote.webelement.WebElement (session=\"85314e5241f81de9401304028f955562\", element=\"c1a94857-d79c-4a6d-9191-a1cf09e12315\")>,\n",
       " <selenium.webdriver.remote.webelement.WebElement (session=\"85314e5241f81de9401304028f955562\", element=\"084c541a-2de4-4713-a31b-ee0ab18f0b49\")>,\n",
       " <selenium.webdriver.remote.webelement.WebElement (session=\"85314e5241f81de9401304028f955562\", element=\"a321405b-5c89-4861-b715-676d234663b3\")>,\n",
       " <selenium.webdriver.remote.webelement.WebElement (session=\"85314e5241f81de9401304028f955562\", element=\"c3cc6b1d-77e3-41fa-b735-a4dc1098fd41\")>,\n",
       " <selenium.webdriver.remote.webelement.WebElement (session=\"85314e5241f81de9401304028f955562\", element=\"79e13024-f907-46ad-ab5e-2b008296c1e3\")>,\n",
       " <selenium.webdriver.remote.webelement.WebElement (session=\"85314e5241f81de9401304028f955562\", element=\"446860d5-b6dc-4f8f-ab5e-79f4fee78d73\")>,\n",
       " <selenium.webdriver.remote.webelement.WebElement (session=\"85314e5241f81de9401304028f955562\", element=\"83109b92-56e2-4979-86c1-98fd25b68910\")>,\n",
       " <selenium.webdriver.remote.webelement.WebElement (session=\"85314e5241f81de9401304028f955562\", element=\"936de0f1-838f-41e3-b71c-101d4e2f7dfb\")>,\n",
       " <selenium.webdriver.remote.webelement.WebElement (session=\"85314e5241f81de9401304028f955562\", element=\"c1272851-8639-485a-9891-8d2f1ec179cf\")>,\n",
       " <selenium.webdriver.remote.webelement.WebElement (session=\"85314e5241f81de9401304028f955562\", element=\"166587ac-7977-44f3-bcbd-78e06e9b9bcf\")>,\n",
       " <selenium.webdriver.remote.webelement.WebElement (session=\"85314e5241f81de9401304028f955562\", element=\"c4a83c40-0e18-491a-98fd-c2ae52df32ab\")>,\n",
       " <selenium.webdriver.remote.webelement.WebElement (session=\"85314e5241f81de9401304028f955562\", element=\"741374ba-8700-4d66-a3aa-9ffd3b89df06\")>,\n",
       " <selenium.webdriver.remote.webelement.WebElement (session=\"85314e5241f81de9401304028f955562\", element=\"0a1a34d0-634d-4a0d-9f0a-bf0d2bd91aca\")>,\n",
       " <selenium.webdriver.remote.webelement.WebElement (session=\"85314e5241f81de9401304028f955562\", element=\"e23b1814-7527-4c6c-8ff8-b970957f6871\")>,\n",
       " <selenium.webdriver.remote.webelement.WebElement (session=\"85314e5241f81de9401304028f955562\", element=\"197e5f86-3160-4843-b57d-04d1e3d878fe\")>,\n",
       " <selenium.webdriver.remote.webelement.WebElement (session=\"85314e5241f81de9401304028f955562\", element=\"efcb9849-1175-47e4-82b7-e7c106668e1b\")>,\n",
       " <selenium.webdriver.remote.webelement.WebElement (session=\"85314e5241f81de9401304028f955562\", element=\"cd40c8e6-fe81-457d-893f-d8af2eddf545\")>,\n",
       " <selenium.webdriver.remote.webelement.WebElement (session=\"85314e5241f81de9401304028f955562\", element=\"2639bf4f-559d-4531-aa9b-f427bb85fc48\")>,\n",
       " <selenium.webdriver.remote.webelement.WebElement (session=\"85314e5241f81de9401304028f955562\", element=\"a43a531c-8228-4046-844f-66a1922cfa86\")>,\n",
       " <selenium.webdriver.remote.webelement.WebElement (session=\"85314e5241f81de9401304028f955562\", element=\"a25213b1-f515-4499-b437-e2b4241f39ae\")>,\n",
       " <selenium.webdriver.remote.webelement.WebElement (session=\"85314e5241f81de9401304028f955562\", element=\"0e42adc0-0af4-4e48-ace0-b5d4f95c9f44\")>,\n",
       " <selenium.webdriver.remote.webelement.WebElement (session=\"85314e5241f81de9401304028f955562\", element=\"37ca97ec-e114-437b-bc1f-a1b82c78f7c0\")>,\n",
       " <selenium.webdriver.remote.webelement.WebElement (session=\"85314e5241f81de9401304028f955562\", element=\"d913543d-1344-454b-920d-aa60a3ecc913\")>,\n",
       " <selenium.webdriver.remote.webelement.WebElement (session=\"85314e5241f81de9401304028f955562\", element=\"e2590258-01be-4b6a-a1c5-b59e6412f141\")>,\n",
       " <selenium.webdriver.remote.webelement.WebElement (session=\"85314e5241f81de9401304028f955562\", element=\"d9b8c392-feb3-4614-ab47-c98a3e761c2f\")>,\n",
       " <selenium.webdriver.remote.webelement.WebElement (session=\"85314e5241f81de9401304028f955562\", element=\"78a45a68-4c70-4cb2-bdc0-f9c0f08d77d0\")>,\n",
       " <selenium.webdriver.remote.webelement.WebElement (session=\"85314e5241f81de9401304028f955562\", element=\"c3917fdd-ac0c-42af-bcfc-092c8f4bd9af\")>,\n",
       " <selenium.webdriver.remote.webelement.WebElement (session=\"85314e5241f81de9401304028f955562\", element=\"d4a2aa45-7a1c-4ad9-b06d-d87b46b314c8\")>,\n",
       " <selenium.webdriver.remote.webelement.WebElement (session=\"85314e5241f81de9401304028f955562\", element=\"b8bc6cdc-007d-40fe-a819-c2605f667709\")>,\n",
       " <selenium.webdriver.remote.webelement.WebElement (session=\"85314e5241f81de9401304028f955562\", element=\"5dd67261-00af-4861-93ee-3a11a05864c5\")>,\n",
       " <selenium.webdriver.remote.webelement.WebElement (session=\"85314e5241f81de9401304028f955562\", element=\"a05c345e-29c0-4bdb-943c-516d7a0772d7\")>,\n",
       " <selenium.webdriver.remote.webelement.WebElement (session=\"85314e5241f81de9401304028f955562\", element=\"dd897409-aba9-4f12-99b1-df6cb54b7e55\")>,\n",
       " <selenium.webdriver.remote.webelement.WebElement (session=\"85314e5241f81de9401304028f955562\", element=\"17e78bdb-7498-4a59-93da-dbf64f5df799\")>,\n",
       " <selenium.webdriver.remote.webelement.WebElement (session=\"85314e5241f81de9401304028f955562\", element=\"8e2697c2-ee89-4ce8-9677-e2f50dace3c7\")>,\n",
       " <selenium.webdriver.remote.webelement.WebElement (session=\"85314e5241f81de9401304028f955562\", element=\"23681296-39f0-4a14-b9f6-55083e01318b\")>,\n",
       " <selenium.webdriver.remote.webelement.WebElement (session=\"85314e5241f81de9401304028f955562\", element=\"ce0229f7-5837-4f82-8b22-e371ed201cb0\")>,\n",
       " <selenium.webdriver.remote.webelement.WebElement (session=\"85314e5241f81de9401304028f955562\", element=\"6fc9f155-ce9b-440f-bb82-4532da5dd1a8\")>,\n",
       " <selenium.webdriver.remote.webelement.WebElement (session=\"85314e5241f81de9401304028f955562\", element=\"071e7eb2-2a01-47e0-9067-7cb1c5992a2b\")>,\n",
       " <selenium.webdriver.remote.webelement.WebElement (session=\"85314e5241f81de9401304028f955562\", element=\"75c34209-796a-4d53-8030-2f4a059bc462\")>,\n",
       " <selenium.webdriver.remote.webelement.WebElement (session=\"85314e5241f81de9401304028f955562\", element=\"13b7d5b2-63bd-4d11-8b0c-368b2ae4910f\")>,\n",
       " <selenium.webdriver.remote.webelement.WebElement (session=\"85314e5241f81de9401304028f955562\", element=\"ee9e002e-6e16-4721-9bb4-73e01ed30bb0\")>,\n",
       " <selenium.webdriver.remote.webelement.WebElement (session=\"85314e5241f81de9401304028f955562\", element=\"779f24d8-5bda-41de-93e3-f4793f377581\")>,\n",
       " <selenium.webdriver.remote.webelement.WebElement (session=\"85314e5241f81de9401304028f955562\", element=\"78e6d3f5-df08-4853-9036-ec4cd1352725\")>,\n",
       " <selenium.webdriver.remote.webelement.WebElement (session=\"85314e5241f81de9401304028f955562\", element=\"1bce3f33-d5d8-4020-9414-4ae59790f50d\")>,\n",
       " <selenium.webdriver.remote.webelement.WebElement (session=\"85314e5241f81de9401304028f955562\", element=\"2c774304-edfd-414e-a46f-049cfe2f22bd\")>,\n",
       " <selenium.webdriver.remote.webelement.WebElement (session=\"85314e5241f81de9401304028f955562\", element=\"4c5d1e81-e314-496a-b13c-9befa8694aec\")>,\n",
       " <selenium.webdriver.remote.webelement.WebElement (session=\"85314e5241f81de9401304028f955562\", element=\"41435ac4-d0d0-48fe-b3dc-d07afc4cb10c\")>,\n",
       " <selenium.webdriver.remote.webelement.WebElement (session=\"85314e5241f81de9401304028f955562\", element=\"2a434b51-6282-4573-9ef8-22e0fdf0774e\")>,\n",
       " <selenium.webdriver.remote.webelement.WebElement (session=\"85314e5241f81de9401304028f955562\", element=\"edf00d3b-7296-4cbd-8a5e-8faee0a1c1ac\")>,\n",
       " <selenium.webdriver.remote.webelement.WebElement (session=\"85314e5241f81de9401304028f955562\", element=\"ab7310a7-7ac1-434e-a84d-677d74952554\")>,\n",
       " <selenium.webdriver.remote.webelement.WebElement (session=\"85314e5241f81de9401304028f955562\", element=\"b697623e-e6d9-4a05-8f6f-eac1fe7dfea8\")>,\n",
       " <selenium.webdriver.remote.webelement.WebElement (session=\"85314e5241f81de9401304028f955562\", element=\"bc35e964-4a06-4c46-8b30-412320409d75\")>,\n",
       " <selenium.webdriver.remote.webelement.WebElement (session=\"85314e5241f81de9401304028f955562\", element=\"8b3fbd2d-a68a-4e9c-baf6-a090827f5479\")>,\n",
       " <selenium.webdriver.remote.webelement.WebElement (session=\"85314e5241f81de9401304028f955562\", element=\"b0a49367-3f52-4b3c-91f0-e78297ffe969\")>,\n",
       " <selenium.webdriver.remote.webelement.WebElement (session=\"85314e5241f81de9401304028f955562\", element=\"db169520-eb2f-4d65-8c2f-b25b4baa5f13\")>,\n",
       " <selenium.webdriver.remote.webelement.WebElement (session=\"85314e5241f81de9401304028f955562\", element=\"beded911-d52c-47cb-bf8c-5f866dc37c47\")>,\n",
       " <selenium.webdriver.remote.webelement.WebElement (session=\"85314e5241f81de9401304028f955562\", element=\"4444470d-ec1e-4a09-b4f1-77e2a67ce2f9\")>,\n",
       " <selenium.webdriver.remote.webelement.WebElement (session=\"85314e5241f81de9401304028f955562\", element=\"7d623b54-4b8e-405b-b9d6-011d4c3b5b9f\")>,\n",
       " <selenium.webdriver.remote.webelement.WebElement (session=\"85314e5241f81de9401304028f955562\", element=\"53d0332e-292b-408a-aa95-ca9a4f12a640\")>,\n",
       " <selenium.webdriver.remote.webelement.WebElement (session=\"85314e5241f81de9401304028f955562\", element=\"0ff1c3e6-fbeb-4c49-ad19-855c0436b96a\")>,\n",
       " <selenium.webdriver.remote.webelement.WebElement (session=\"85314e5241f81de9401304028f955562\", element=\"2ff71d3a-757b-4b84-a675-c694129813aa\")>,\n",
       " <selenium.webdriver.remote.webelement.WebElement (session=\"85314e5241f81de9401304028f955562\", element=\"4186f7a7-627c-4449-8eb6-eb3592b267e3\")>,\n",
       " <selenium.webdriver.remote.webelement.WebElement (session=\"85314e5241f81de9401304028f955562\", element=\"38dfef59-2cca-40b7-88be-2de80e4c188c\")>,\n",
       " <selenium.webdriver.remote.webelement.WebElement (session=\"85314e5241f81de9401304028f955562\", element=\"cdc462bc-d706-46c8-a19d-3079af416f01\")>,\n",
       " <selenium.webdriver.remote.webelement.WebElement (session=\"85314e5241f81de9401304028f955562\", element=\"4f1cf4e4-6b30-4b6e-81d4-18c92aea5a08\")>,\n",
       " <selenium.webdriver.remote.webelement.WebElement (session=\"85314e5241f81de9401304028f955562\", element=\"86d185b5-7469-4ef8-a948-2dc8c1fc6ad9\")>,\n",
       " <selenium.webdriver.remote.webelement.WebElement (session=\"85314e5241f81de9401304028f955562\", element=\"2ee78c42-909a-4b05-a5e5-a988f524154d\")>,\n",
       " <selenium.webdriver.remote.webelement.WebElement (session=\"85314e5241f81de9401304028f955562\", element=\"973f9292-10f3-4d5e-b3cc-5055d5542ddc\")>,\n",
       " <selenium.webdriver.remote.webelement.WebElement (session=\"85314e5241f81de9401304028f955562\", element=\"5517e5c4-a1c1-49b1-8ce8-097c6715389f\")>,\n",
       " <selenium.webdriver.remote.webelement.WebElement (session=\"85314e5241f81de9401304028f955562\", element=\"051ddb46-1f58-45f9-9770-298807b356fc\")>,\n",
       " <selenium.webdriver.remote.webelement.WebElement (session=\"85314e5241f81de9401304028f955562\", element=\"76a19804-535b-4a33-a050-e347f123c696\")>,\n",
       " <selenium.webdriver.remote.webelement.WebElement (session=\"85314e5241f81de9401304028f955562\", element=\"467c92ec-9a14-4bd4-b7f0-a4ce7c931022\")>,\n",
       " <selenium.webdriver.remote.webelement.WebElement (session=\"85314e5241f81de9401304028f955562\", element=\"b936eddf-cd8a-4bbb-8836-5905ffe44c29\")>,\n",
       " <selenium.webdriver.remote.webelement.WebElement (session=\"85314e5241f81de9401304028f955562\", element=\"1c8155ba-05c0-4642-982d-29ed45871cc6\")>,\n",
       " <selenium.webdriver.remote.webelement.WebElement (session=\"85314e5241f81de9401304028f955562\", element=\"cde1c9ed-e430-42e3-96ab-49c77700980c\")>,\n",
       " <selenium.webdriver.remote.webelement.WebElement (session=\"85314e5241f81de9401304028f955562\", element=\"25854c3c-52fb-4dba-b6de-b7482eec325c\")>,\n",
       " <selenium.webdriver.remote.webelement.WebElement (session=\"85314e5241f81de9401304028f955562\", element=\"1cad33d9-110a-4a8a-8741-26bdc410a269\")>,\n",
       " <selenium.webdriver.remote.webelement.WebElement (session=\"85314e5241f81de9401304028f955562\", element=\"64f3deb3-28d0-4331-b44a-dc14a34fcf90\")>,\n",
       " <selenium.webdriver.remote.webelement.WebElement (session=\"85314e5241f81de9401304028f955562\", element=\"1a54199a-4237-40cc-829a-0101eba5738f\")>,\n",
       " <selenium.webdriver.remote.webelement.WebElement (session=\"85314e5241f81de9401304028f955562\", element=\"e384df8c-0918-4e88-8581-498f4fe3849d\")>,\n",
       " <selenium.webdriver.remote.webelement.WebElement (session=\"85314e5241f81de9401304028f955562\", element=\"ba9d9dcb-13bf-4981-a5ac-95ae050fc051\")>,\n",
       " <selenium.webdriver.remote.webelement.WebElement (session=\"85314e5241f81de9401304028f955562\", element=\"2d75516c-d899-43c2-bcec-1265b9caafd0\")>,\n",
       " <selenium.webdriver.remote.webelement.WebElement (session=\"85314e5241f81de9401304028f955562\", element=\"cc85dfb5-463d-4827-9789-26cbb1722e54\")>,\n",
       " <selenium.webdriver.remote.webelement.WebElement (session=\"85314e5241f81de9401304028f955562\", element=\"6e4f8478-09e7-459a-8c3c-7fca8eaee3cb\")>,\n",
       " <selenium.webdriver.remote.webelement.WebElement (session=\"85314e5241f81de9401304028f955562\", element=\"e0a19a05-4965-4e4d-b0c9-d588714eeb16\")>,\n",
       " <selenium.webdriver.remote.webelement.WebElement (session=\"85314e5241f81de9401304028f955562\", element=\"5efec1dd-c202-47d4-a6f9-5b785e104a93\")>,\n",
       " <selenium.webdriver.remote.webelement.WebElement (session=\"85314e5241f81de9401304028f955562\", element=\"85fc461e-743d-434f-84d0-26d06a5ad6e0\")>,\n",
       " <selenium.webdriver.remote.webelement.WebElement (session=\"85314e5241f81de9401304028f955562\", element=\"7f2c070a-64c9-4a54-a4e7-6230c861ddae\")>,\n",
       " <selenium.webdriver.remote.webelement.WebElement (session=\"85314e5241f81de9401304028f955562\", element=\"9f79c5cc-0fc2-4896-bc69-08da9e0ec690\")>,\n",
       " <selenium.webdriver.remote.webelement.WebElement (session=\"85314e5241f81de9401304028f955562\", element=\"a0c23add-5792-4d34-a1e7-851a546afffb\")>,\n",
       " <selenium.webdriver.remote.webelement.WebElement (session=\"85314e5241f81de9401304028f955562\", element=\"31e22a0e-1389-48e8-aa63-60d2dc1f006c\")>]"
      ]
     },
     "execution_count": 92,
     "metadata": {},
     "output_type": "execute_result"
    }
   ],
   "source": [
    "rating = driver.find_elements_by_xpath(\"//div['@class=_3LWZlK _1BLPMq']\")\n",
    "rating[0:100]"
   ]
  },
  {
   "cell_type": "code",
   "execution_count": null,
   "id": "cf16a0d0",
   "metadata": {},
   "outputs": [],
   "source": [
    "for i in rating:\n",
    "    rating=i.text\n",
    "    rating.append(rating)\n",
    "rating[0:100]    "
   ]
  },
  {
   "cell_type": "code",
   "execution_count": 93,
   "id": "082af8e8",
   "metadata": {},
   "outputs": [
    {
     "name": "stderr",
     "output_type": "stream",
     "text": [
      "<ipython-input-93-3aee51920c9f>:1: DeprecationWarning: find_elements_by_* commands are deprecated. Please use find_elements() instead\n",
      "  review = driver.find_elements_by_xpath(\"//p['@class=_2-N8zT']\")\n"
     ]
    },
    {
     "data": {
      "text/plain": [
       "[<selenium.webdriver.remote.webelement.WebElement (session=\"85314e5241f81de9401304028f955562\", element=\"58d3dee6-6f68-42b1-a699-925c74081df2\")>,\n",
       " <selenium.webdriver.remote.webelement.WebElement (session=\"85314e5241f81de9401304028f955562\", element=\"4548b501-1911-49ff-a1c7-b0f7b12508c7\")>,\n",
       " <selenium.webdriver.remote.webelement.WebElement (session=\"85314e5241f81de9401304028f955562\", element=\"22254035-b5ca-4477-be4a-36d1072a7849\")>,\n",
       " <selenium.webdriver.remote.webelement.WebElement (session=\"85314e5241f81de9401304028f955562\", element=\"a263279f-e21f-476e-bd3d-9bda81b31804\")>,\n",
       " <selenium.webdriver.remote.webelement.WebElement (session=\"85314e5241f81de9401304028f955562\", element=\"a17503e2-5ca6-48be-a00e-a29df3809e88\")>,\n",
       " <selenium.webdriver.remote.webelement.WebElement (session=\"85314e5241f81de9401304028f955562\", element=\"b43e4eec-aed0-41ba-a54d-316379261461\")>,\n",
       " <selenium.webdriver.remote.webelement.WebElement (session=\"85314e5241f81de9401304028f955562\", element=\"9c189e83-90f6-47e9-9539-3e78a3e97020\")>,\n",
       " <selenium.webdriver.remote.webelement.WebElement (session=\"85314e5241f81de9401304028f955562\", element=\"654239e8-d61f-426a-9cbe-8a3126d42f50\")>,\n",
       " <selenium.webdriver.remote.webelement.WebElement (session=\"85314e5241f81de9401304028f955562\", element=\"2cdb3de9-15d4-444a-9d49-91b485f10bba\")>,\n",
       " <selenium.webdriver.remote.webelement.WebElement (session=\"85314e5241f81de9401304028f955562\", element=\"ae83c77f-f473-48e8-a698-d0fb13440df2\")>,\n",
       " <selenium.webdriver.remote.webelement.WebElement (session=\"85314e5241f81de9401304028f955562\", element=\"377456b7-504a-4e49-ba69-f59451d46c6a\")>,\n",
       " <selenium.webdriver.remote.webelement.WebElement (session=\"85314e5241f81de9401304028f955562\", element=\"5f269b9c-af8b-4107-b243-4afe06aac6a3\")>,\n",
       " <selenium.webdriver.remote.webelement.WebElement (session=\"85314e5241f81de9401304028f955562\", element=\"59832ee1-61cd-4de2-91b7-677f64bb5387\")>,\n",
       " <selenium.webdriver.remote.webelement.WebElement (session=\"85314e5241f81de9401304028f955562\", element=\"bea1affd-e974-40f1-9bc8-d28b561f2cea\")>,\n",
       " <selenium.webdriver.remote.webelement.WebElement (session=\"85314e5241f81de9401304028f955562\", element=\"7ae55c86-4fe9-4edf-aa3d-bf7f52cf3505\")>,\n",
       " <selenium.webdriver.remote.webelement.WebElement (session=\"85314e5241f81de9401304028f955562\", element=\"45d07398-9edc-4f1c-b624-6de1c99acc70\")>,\n",
       " <selenium.webdriver.remote.webelement.WebElement (session=\"85314e5241f81de9401304028f955562\", element=\"c9e97811-9743-4ab4-9fcd-f7ce76148c9b\")>,\n",
       " <selenium.webdriver.remote.webelement.WebElement (session=\"85314e5241f81de9401304028f955562\", element=\"f585c110-8040-4d80-acf6-417d81eb9b1a\")>,\n",
       " <selenium.webdriver.remote.webelement.WebElement (session=\"85314e5241f81de9401304028f955562\", element=\"4b1352ff-85ed-46c3-8a15-758374c2dbe3\")>,\n",
       " <selenium.webdriver.remote.webelement.WebElement (session=\"85314e5241f81de9401304028f955562\", element=\"54828007-4c96-450d-b902-a685b3bb2d28\")>,\n",
       " <selenium.webdriver.remote.webelement.WebElement (session=\"85314e5241f81de9401304028f955562\", element=\"1ef2be4e-a6e3-4521-864f-93ec5df3410f\")>,\n",
       " <selenium.webdriver.remote.webelement.WebElement (session=\"85314e5241f81de9401304028f955562\", element=\"1ab219c9-494d-478c-99cc-0be2fd5cc664\")>,\n",
       " <selenium.webdriver.remote.webelement.WebElement (session=\"85314e5241f81de9401304028f955562\", element=\"42a8f737-49fe-43ca-ad77-eb6d90892e56\")>,\n",
       " <selenium.webdriver.remote.webelement.WebElement (session=\"85314e5241f81de9401304028f955562\", element=\"61bf3471-4eb4-4c93-b46b-c7dcb0c97909\")>,\n",
       " <selenium.webdriver.remote.webelement.WebElement (session=\"85314e5241f81de9401304028f955562\", element=\"32389179-79a3-4cc3-98a6-bce572cb5893\")>,\n",
       " <selenium.webdriver.remote.webelement.WebElement (session=\"85314e5241f81de9401304028f955562\", element=\"1266b2c4-36a5-4317-81a0-d836fc8a9be0\")>,\n",
       " <selenium.webdriver.remote.webelement.WebElement (session=\"85314e5241f81de9401304028f955562\", element=\"da462f9d-de73-44a3-b1d3-c33f00e82ad5\")>,\n",
       " <selenium.webdriver.remote.webelement.WebElement (session=\"85314e5241f81de9401304028f955562\", element=\"eb5a6aa0-a260-416f-bbed-a5161d10aa65\")>,\n",
       " <selenium.webdriver.remote.webelement.WebElement (session=\"85314e5241f81de9401304028f955562\", element=\"2ab2d7b5-85a5-4dfc-b9a6-dadb6f99d173\")>,\n",
       " <selenium.webdriver.remote.webelement.WebElement (session=\"85314e5241f81de9401304028f955562\", element=\"c34f1273-4d72-494b-ba4a-a289030b07dd\")>,\n",
       " <selenium.webdriver.remote.webelement.WebElement (session=\"85314e5241f81de9401304028f955562\", element=\"81688511-e8e7-4dd1-98a1-cb30281e47c9\")>,\n",
       " <selenium.webdriver.remote.webelement.WebElement (session=\"85314e5241f81de9401304028f955562\", element=\"62d3ad93-fc57-4e58-93e0-edbe3eb197e0\")>,\n",
       " <selenium.webdriver.remote.webelement.WebElement (session=\"85314e5241f81de9401304028f955562\", element=\"7cee8666-0dab-427f-a5ec-81d0ca7b8024\")>,\n",
       " <selenium.webdriver.remote.webelement.WebElement (session=\"85314e5241f81de9401304028f955562\", element=\"322e5629-7d63-4071-ba9f-6be79ddd54a7\")>,\n",
       " <selenium.webdriver.remote.webelement.WebElement (session=\"85314e5241f81de9401304028f955562\", element=\"d093a541-b123-4fe2-aad0-36ffcb51aaa5\")>,\n",
       " <selenium.webdriver.remote.webelement.WebElement (session=\"85314e5241f81de9401304028f955562\", element=\"166dd1a8-94f2-4b40-8033-d7595be4d258\")>,\n",
       " <selenium.webdriver.remote.webelement.WebElement (session=\"85314e5241f81de9401304028f955562\", element=\"c54860d9-b35a-4545-91ee-148fd3269603\")>,\n",
       " <selenium.webdriver.remote.webelement.WebElement (session=\"85314e5241f81de9401304028f955562\", element=\"3e36d062-4c2f-483a-ad46-ca3218820984\")>,\n",
       " <selenium.webdriver.remote.webelement.WebElement (session=\"85314e5241f81de9401304028f955562\", element=\"13344f01-3737-432e-8fcb-b533deb414aa\")>,\n",
       " <selenium.webdriver.remote.webelement.WebElement (session=\"85314e5241f81de9401304028f955562\", element=\"f303a233-0817-458d-881d-990ca4797abe\")>,\n",
       " <selenium.webdriver.remote.webelement.WebElement (session=\"85314e5241f81de9401304028f955562\", element=\"e582d36a-13c2-418b-93d5-186488549298\")>,\n",
       " <selenium.webdriver.remote.webelement.WebElement (session=\"85314e5241f81de9401304028f955562\", element=\"93e33c40-953b-4521-84a7-14a00d907f25\")>,\n",
       " <selenium.webdriver.remote.webelement.WebElement (session=\"85314e5241f81de9401304028f955562\", element=\"10803d11-acaf-47fd-bd9c-a243c426363f\")>,\n",
       " <selenium.webdriver.remote.webelement.WebElement (session=\"85314e5241f81de9401304028f955562\", element=\"2cedfc4d-53d1-4433-80dc-a3c9c6f406d2\")>,\n",
       " <selenium.webdriver.remote.webelement.WebElement (session=\"85314e5241f81de9401304028f955562\", element=\"f25bb8cc-6c60-4214-bf43-236e640b24e4\")>,\n",
       " <selenium.webdriver.remote.webelement.WebElement (session=\"85314e5241f81de9401304028f955562\", element=\"6ebaa35f-72a3-4cbf-93a5-6f957ebc73d8\")>,\n",
       " <selenium.webdriver.remote.webelement.WebElement (session=\"85314e5241f81de9401304028f955562\", element=\"47e1ad86-5198-4e33-9c8a-1fffb0dbc7aa\")>,\n",
       " <selenium.webdriver.remote.webelement.WebElement (session=\"85314e5241f81de9401304028f955562\", element=\"e79f204d-5b31-464b-9d19-ef6ded130e3b\")>,\n",
       " <selenium.webdriver.remote.webelement.WebElement (session=\"85314e5241f81de9401304028f955562\", element=\"f260da02-bede-4930-af4b-e6cbf6ebd823\")>,\n",
       " <selenium.webdriver.remote.webelement.WebElement (session=\"85314e5241f81de9401304028f955562\", element=\"b44f5773-18dd-47af-b011-2c882ab181b7\")>,\n",
       " <selenium.webdriver.remote.webelement.WebElement (session=\"85314e5241f81de9401304028f955562\", element=\"948ca509-ae99-49c3-96d2-4678f3331f38\")>,\n",
       " <selenium.webdriver.remote.webelement.WebElement (session=\"85314e5241f81de9401304028f955562\", element=\"21fc48dc-946b-4a12-a8c3-ed73c57ebcbc\")>,\n",
       " <selenium.webdriver.remote.webelement.WebElement (session=\"85314e5241f81de9401304028f955562\", element=\"3bb93982-a65b-4804-b0b3-b081159d8c72\")>,\n",
       " <selenium.webdriver.remote.webelement.WebElement (session=\"85314e5241f81de9401304028f955562\", element=\"92493afa-8aa4-434a-9565-ed9ba9e7091b\")>,\n",
       " <selenium.webdriver.remote.webelement.WebElement (session=\"85314e5241f81de9401304028f955562\", element=\"65046f29-6077-4cc5-a31d-63e56eb81869\")>,\n",
       " <selenium.webdriver.remote.webelement.WebElement (session=\"85314e5241f81de9401304028f955562\", element=\"31839c33-51da-47b6-abee-bc0651144170\")>,\n",
       " <selenium.webdriver.remote.webelement.WebElement (session=\"85314e5241f81de9401304028f955562\", element=\"eb381243-491d-4218-a72a-5c4a4f8f75a3\")>,\n",
       " <selenium.webdriver.remote.webelement.WebElement (session=\"85314e5241f81de9401304028f955562\", element=\"0a2fe646-7f45-4930-9d04-0d97b3caa9ca\")>,\n",
       " <selenium.webdriver.remote.webelement.WebElement (session=\"85314e5241f81de9401304028f955562\", element=\"a8def30c-0a22-4aba-96f9-c3097fd43be8\")>,\n",
       " <selenium.webdriver.remote.webelement.WebElement (session=\"85314e5241f81de9401304028f955562\", element=\"4ebe4d0c-85f8-4ffb-8298-afcaac1e84bc\")>,\n",
       " <selenium.webdriver.remote.webelement.WebElement (session=\"85314e5241f81de9401304028f955562\", element=\"e8e2abf1-468d-44d1-b6b1-87d2d6e9197a\")>]"
      ]
     },
     "execution_count": 93,
     "metadata": {},
     "output_type": "execute_result"
    }
   ],
   "source": [
    "review = driver.find_elements_by_xpath(\"//p['@class=_2-N8zT']\")\n",
    "review[0:100]"
   ]
  },
  {
   "cell_type": "code",
   "execution_count": null,
   "id": "efc323f5",
   "metadata": {},
   "outputs": [],
   "source": [
    "for i in review:\n",
    "    review=i.text\n",
    "    review.append(review)\n",
    "review[0:100]"
   ]
  },
  {
   "cell_type": "code",
   "execution_count": 94,
   "id": "c431f8ce",
   "metadata": {},
   "outputs": [
    {
     "name": "stderr",
     "output_type": "stream",
     "text": [
      "<ipython-input-94-e75363637452>:1: DeprecationWarning: find_elements_by_* commands are deprecated. Please use find_elements() instead\n",
      "  summary = driver.find_elements_by_xpath(\"//div['@class']\")\n"
     ]
    },
    {
     "data": {
      "text/plain": [
       "[<selenium.webdriver.remote.webelement.WebElement (session=\"85314e5241f81de9401304028f955562\", element=\"bfea1d70-d4ba-492c-b2df-aa773f8d86a6\")>,\n",
       " <selenium.webdriver.remote.webelement.WebElement (session=\"85314e5241f81de9401304028f955562\", element=\"3a5abd0c-8851-4819-9240-8dae867b5c03\")>,\n",
       " <selenium.webdriver.remote.webelement.WebElement (session=\"85314e5241f81de9401304028f955562\", element=\"c24f9274-4709-4de4-be10-d58c42de767d\")>,\n",
       " <selenium.webdriver.remote.webelement.WebElement (session=\"85314e5241f81de9401304028f955562\", element=\"afce74d2-114a-44b9-8e02-c14efbbd2d50\")>,\n",
       " <selenium.webdriver.remote.webelement.WebElement (session=\"85314e5241f81de9401304028f955562\", element=\"49db6ca6-dceb-42e9-8730-6ccd2e6307d6\")>,\n",
       " <selenium.webdriver.remote.webelement.WebElement (session=\"85314e5241f81de9401304028f955562\", element=\"4724e9a7-8938-4a55-a828-78af3f5c7cea\")>,\n",
       " <selenium.webdriver.remote.webelement.WebElement (session=\"85314e5241f81de9401304028f955562\", element=\"3431a65b-3c68-49ca-8997-2f74b3ce129b\")>,\n",
       " <selenium.webdriver.remote.webelement.WebElement (session=\"85314e5241f81de9401304028f955562\", element=\"a9b0b86d-cfdb-482f-93ea-96e6320c4286\")>,\n",
       " <selenium.webdriver.remote.webelement.WebElement (session=\"85314e5241f81de9401304028f955562\", element=\"38c384ef-8b70-4cc7-a80d-6a887d9440cd\")>,\n",
       " <selenium.webdriver.remote.webelement.WebElement (session=\"85314e5241f81de9401304028f955562\", element=\"c1a94857-d79c-4a6d-9191-a1cf09e12315\")>,\n",
       " <selenium.webdriver.remote.webelement.WebElement (session=\"85314e5241f81de9401304028f955562\", element=\"084c541a-2de4-4713-a31b-ee0ab18f0b49\")>,\n",
       " <selenium.webdriver.remote.webelement.WebElement (session=\"85314e5241f81de9401304028f955562\", element=\"a321405b-5c89-4861-b715-676d234663b3\")>,\n",
       " <selenium.webdriver.remote.webelement.WebElement (session=\"85314e5241f81de9401304028f955562\", element=\"c3cc6b1d-77e3-41fa-b735-a4dc1098fd41\")>,\n",
       " <selenium.webdriver.remote.webelement.WebElement (session=\"85314e5241f81de9401304028f955562\", element=\"79e13024-f907-46ad-ab5e-2b008296c1e3\")>,\n",
       " <selenium.webdriver.remote.webelement.WebElement (session=\"85314e5241f81de9401304028f955562\", element=\"446860d5-b6dc-4f8f-ab5e-79f4fee78d73\")>,\n",
       " <selenium.webdriver.remote.webelement.WebElement (session=\"85314e5241f81de9401304028f955562\", element=\"83109b92-56e2-4979-86c1-98fd25b68910\")>,\n",
       " <selenium.webdriver.remote.webelement.WebElement (session=\"85314e5241f81de9401304028f955562\", element=\"936de0f1-838f-41e3-b71c-101d4e2f7dfb\")>,\n",
       " <selenium.webdriver.remote.webelement.WebElement (session=\"85314e5241f81de9401304028f955562\", element=\"c1272851-8639-485a-9891-8d2f1ec179cf\")>,\n",
       " <selenium.webdriver.remote.webelement.WebElement (session=\"85314e5241f81de9401304028f955562\", element=\"166587ac-7977-44f3-bcbd-78e06e9b9bcf\")>,\n",
       " <selenium.webdriver.remote.webelement.WebElement (session=\"85314e5241f81de9401304028f955562\", element=\"c4a83c40-0e18-491a-98fd-c2ae52df32ab\")>,\n",
       " <selenium.webdriver.remote.webelement.WebElement (session=\"85314e5241f81de9401304028f955562\", element=\"741374ba-8700-4d66-a3aa-9ffd3b89df06\")>,\n",
       " <selenium.webdriver.remote.webelement.WebElement (session=\"85314e5241f81de9401304028f955562\", element=\"0a1a34d0-634d-4a0d-9f0a-bf0d2bd91aca\")>,\n",
       " <selenium.webdriver.remote.webelement.WebElement (session=\"85314e5241f81de9401304028f955562\", element=\"e23b1814-7527-4c6c-8ff8-b970957f6871\")>,\n",
       " <selenium.webdriver.remote.webelement.WebElement (session=\"85314e5241f81de9401304028f955562\", element=\"197e5f86-3160-4843-b57d-04d1e3d878fe\")>,\n",
       " <selenium.webdriver.remote.webelement.WebElement (session=\"85314e5241f81de9401304028f955562\", element=\"efcb9849-1175-47e4-82b7-e7c106668e1b\")>,\n",
       " <selenium.webdriver.remote.webelement.WebElement (session=\"85314e5241f81de9401304028f955562\", element=\"cd40c8e6-fe81-457d-893f-d8af2eddf545\")>,\n",
       " <selenium.webdriver.remote.webelement.WebElement (session=\"85314e5241f81de9401304028f955562\", element=\"2639bf4f-559d-4531-aa9b-f427bb85fc48\")>,\n",
       " <selenium.webdriver.remote.webelement.WebElement (session=\"85314e5241f81de9401304028f955562\", element=\"a43a531c-8228-4046-844f-66a1922cfa86\")>,\n",
       " <selenium.webdriver.remote.webelement.WebElement (session=\"85314e5241f81de9401304028f955562\", element=\"a25213b1-f515-4499-b437-e2b4241f39ae\")>,\n",
       " <selenium.webdriver.remote.webelement.WebElement (session=\"85314e5241f81de9401304028f955562\", element=\"0e42adc0-0af4-4e48-ace0-b5d4f95c9f44\")>,\n",
       " <selenium.webdriver.remote.webelement.WebElement (session=\"85314e5241f81de9401304028f955562\", element=\"37ca97ec-e114-437b-bc1f-a1b82c78f7c0\")>,\n",
       " <selenium.webdriver.remote.webelement.WebElement (session=\"85314e5241f81de9401304028f955562\", element=\"d913543d-1344-454b-920d-aa60a3ecc913\")>,\n",
       " <selenium.webdriver.remote.webelement.WebElement (session=\"85314e5241f81de9401304028f955562\", element=\"e2590258-01be-4b6a-a1c5-b59e6412f141\")>,\n",
       " <selenium.webdriver.remote.webelement.WebElement (session=\"85314e5241f81de9401304028f955562\", element=\"d9b8c392-feb3-4614-ab47-c98a3e761c2f\")>,\n",
       " <selenium.webdriver.remote.webelement.WebElement (session=\"85314e5241f81de9401304028f955562\", element=\"78a45a68-4c70-4cb2-bdc0-f9c0f08d77d0\")>,\n",
       " <selenium.webdriver.remote.webelement.WebElement (session=\"85314e5241f81de9401304028f955562\", element=\"c3917fdd-ac0c-42af-bcfc-092c8f4bd9af\")>,\n",
       " <selenium.webdriver.remote.webelement.WebElement (session=\"85314e5241f81de9401304028f955562\", element=\"d4a2aa45-7a1c-4ad9-b06d-d87b46b314c8\")>,\n",
       " <selenium.webdriver.remote.webelement.WebElement (session=\"85314e5241f81de9401304028f955562\", element=\"b8bc6cdc-007d-40fe-a819-c2605f667709\")>,\n",
       " <selenium.webdriver.remote.webelement.WebElement (session=\"85314e5241f81de9401304028f955562\", element=\"5dd67261-00af-4861-93ee-3a11a05864c5\")>,\n",
       " <selenium.webdriver.remote.webelement.WebElement (session=\"85314e5241f81de9401304028f955562\", element=\"a05c345e-29c0-4bdb-943c-516d7a0772d7\")>,\n",
       " <selenium.webdriver.remote.webelement.WebElement (session=\"85314e5241f81de9401304028f955562\", element=\"dd897409-aba9-4f12-99b1-df6cb54b7e55\")>,\n",
       " <selenium.webdriver.remote.webelement.WebElement (session=\"85314e5241f81de9401304028f955562\", element=\"17e78bdb-7498-4a59-93da-dbf64f5df799\")>,\n",
       " <selenium.webdriver.remote.webelement.WebElement (session=\"85314e5241f81de9401304028f955562\", element=\"8e2697c2-ee89-4ce8-9677-e2f50dace3c7\")>,\n",
       " <selenium.webdriver.remote.webelement.WebElement (session=\"85314e5241f81de9401304028f955562\", element=\"23681296-39f0-4a14-b9f6-55083e01318b\")>,\n",
       " <selenium.webdriver.remote.webelement.WebElement (session=\"85314e5241f81de9401304028f955562\", element=\"ce0229f7-5837-4f82-8b22-e371ed201cb0\")>,\n",
       " <selenium.webdriver.remote.webelement.WebElement (session=\"85314e5241f81de9401304028f955562\", element=\"6fc9f155-ce9b-440f-bb82-4532da5dd1a8\")>,\n",
       " <selenium.webdriver.remote.webelement.WebElement (session=\"85314e5241f81de9401304028f955562\", element=\"071e7eb2-2a01-47e0-9067-7cb1c5992a2b\")>,\n",
       " <selenium.webdriver.remote.webelement.WebElement (session=\"85314e5241f81de9401304028f955562\", element=\"75c34209-796a-4d53-8030-2f4a059bc462\")>,\n",
       " <selenium.webdriver.remote.webelement.WebElement (session=\"85314e5241f81de9401304028f955562\", element=\"13b7d5b2-63bd-4d11-8b0c-368b2ae4910f\")>,\n",
       " <selenium.webdriver.remote.webelement.WebElement (session=\"85314e5241f81de9401304028f955562\", element=\"ee9e002e-6e16-4721-9bb4-73e01ed30bb0\")>,\n",
       " <selenium.webdriver.remote.webelement.WebElement (session=\"85314e5241f81de9401304028f955562\", element=\"779f24d8-5bda-41de-93e3-f4793f377581\")>,\n",
       " <selenium.webdriver.remote.webelement.WebElement (session=\"85314e5241f81de9401304028f955562\", element=\"78e6d3f5-df08-4853-9036-ec4cd1352725\")>,\n",
       " <selenium.webdriver.remote.webelement.WebElement (session=\"85314e5241f81de9401304028f955562\", element=\"1bce3f33-d5d8-4020-9414-4ae59790f50d\")>,\n",
       " <selenium.webdriver.remote.webelement.WebElement (session=\"85314e5241f81de9401304028f955562\", element=\"2c774304-edfd-414e-a46f-049cfe2f22bd\")>,\n",
       " <selenium.webdriver.remote.webelement.WebElement (session=\"85314e5241f81de9401304028f955562\", element=\"4c5d1e81-e314-496a-b13c-9befa8694aec\")>,\n",
       " <selenium.webdriver.remote.webelement.WebElement (session=\"85314e5241f81de9401304028f955562\", element=\"41435ac4-d0d0-48fe-b3dc-d07afc4cb10c\")>,\n",
       " <selenium.webdriver.remote.webelement.WebElement (session=\"85314e5241f81de9401304028f955562\", element=\"2a434b51-6282-4573-9ef8-22e0fdf0774e\")>,\n",
       " <selenium.webdriver.remote.webelement.WebElement (session=\"85314e5241f81de9401304028f955562\", element=\"edf00d3b-7296-4cbd-8a5e-8faee0a1c1ac\")>,\n",
       " <selenium.webdriver.remote.webelement.WebElement (session=\"85314e5241f81de9401304028f955562\", element=\"ab7310a7-7ac1-434e-a84d-677d74952554\")>,\n",
       " <selenium.webdriver.remote.webelement.WebElement (session=\"85314e5241f81de9401304028f955562\", element=\"b697623e-e6d9-4a05-8f6f-eac1fe7dfea8\")>,\n",
       " <selenium.webdriver.remote.webelement.WebElement (session=\"85314e5241f81de9401304028f955562\", element=\"bc35e964-4a06-4c46-8b30-412320409d75\")>,\n",
       " <selenium.webdriver.remote.webelement.WebElement (session=\"85314e5241f81de9401304028f955562\", element=\"8b3fbd2d-a68a-4e9c-baf6-a090827f5479\")>,\n",
       " <selenium.webdriver.remote.webelement.WebElement (session=\"85314e5241f81de9401304028f955562\", element=\"b0a49367-3f52-4b3c-91f0-e78297ffe969\")>,\n",
       " <selenium.webdriver.remote.webelement.WebElement (session=\"85314e5241f81de9401304028f955562\", element=\"db169520-eb2f-4d65-8c2f-b25b4baa5f13\")>,\n",
       " <selenium.webdriver.remote.webelement.WebElement (session=\"85314e5241f81de9401304028f955562\", element=\"beded911-d52c-47cb-bf8c-5f866dc37c47\")>,\n",
       " <selenium.webdriver.remote.webelement.WebElement (session=\"85314e5241f81de9401304028f955562\", element=\"4444470d-ec1e-4a09-b4f1-77e2a67ce2f9\")>,\n",
       " <selenium.webdriver.remote.webelement.WebElement (session=\"85314e5241f81de9401304028f955562\", element=\"7d623b54-4b8e-405b-b9d6-011d4c3b5b9f\")>,\n",
       " <selenium.webdriver.remote.webelement.WebElement (session=\"85314e5241f81de9401304028f955562\", element=\"53d0332e-292b-408a-aa95-ca9a4f12a640\")>,\n",
       " <selenium.webdriver.remote.webelement.WebElement (session=\"85314e5241f81de9401304028f955562\", element=\"0ff1c3e6-fbeb-4c49-ad19-855c0436b96a\")>,\n",
       " <selenium.webdriver.remote.webelement.WebElement (session=\"85314e5241f81de9401304028f955562\", element=\"2ff71d3a-757b-4b84-a675-c694129813aa\")>,\n",
       " <selenium.webdriver.remote.webelement.WebElement (session=\"85314e5241f81de9401304028f955562\", element=\"4186f7a7-627c-4449-8eb6-eb3592b267e3\")>,\n",
       " <selenium.webdriver.remote.webelement.WebElement (session=\"85314e5241f81de9401304028f955562\", element=\"38dfef59-2cca-40b7-88be-2de80e4c188c\")>,\n",
       " <selenium.webdriver.remote.webelement.WebElement (session=\"85314e5241f81de9401304028f955562\", element=\"cdc462bc-d706-46c8-a19d-3079af416f01\")>,\n",
       " <selenium.webdriver.remote.webelement.WebElement (session=\"85314e5241f81de9401304028f955562\", element=\"4f1cf4e4-6b30-4b6e-81d4-18c92aea5a08\")>,\n",
       " <selenium.webdriver.remote.webelement.WebElement (session=\"85314e5241f81de9401304028f955562\", element=\"86d185b5-7469-4ef8-a948-2dc8c1fc6ad9\")>,\n",
       " <selenium.webdriver.remote.webelement.WebElement (session=\"85314e5241f81de9401304028f955562\", element=\"2ee78c42-909a-4b05-a5e5-a988f524154d\")>,\n",
       " <selenium.webdriver.remote.webelement.WebElement (session=\"85314e5241f81de9401304028f955562\", element=\"973f9292-10f3-4d5e-b3cc-5055d5542ddc\")>,\n",
       " <selenium.webdriver.remote.webelement.WebElement (session=\"85314e5241f81de9401304028f955562\", element=\"5517e5c4-a1c1-49b1-8ce8-097c6715389f\")>,\n",
       " <selenium.webdriver.remote.webelement.WebElement (session=\"85314e5241f81de9401304028f955562\", element=\"051ddb46-1f58-45f9-9770-298807b356fc\")>,\n",
       " <selenium.webdriver.remote.webelement.WebElement (session=\"85314e5241f81de9401304028f955562\", element=\"76a19804-535b-4a33-a050-e347f123c696\")>,\n",
       " <selenium.webdriver.remote.webelement.WebElement (session=\"85314e5241f81de9401304028f955562\", element=\"467c92ec-9a14-4bd4-b7f0-a4ce7c931022\")>,\n",
       " <selenium.webdriver.remote.webelement.WebElement (session=\"85314e5241f81de9401304028f955562\", element=\"b936eddf-cd8a-4bbb-8836-5905ffe44c29\")>,\n",
       " <selenium.webdriver.remote.webelement.WebElement (session=\"85314e5241f81de9401304028f955562\", element=\"1c8155ba-05c0-4642-982d-29ed45871cc6\")>,\n",
       " <selenium.webdriver.remote.webelement.WebElement (session=\"85314e5241f81de9401304028f955562\", element=\"cde1c9ed-e430-42e3-96ab-49c77700980c\")>,\n",
       " <selenium.webdriver.remote.webelement.WebElement (session=\"85314e5241f81de9401304028f955562\", element=\"25854c3c-52fb-4dba-b6de-b7482eec325c\")>,\n",
       " <selenium.webdriver.remote.webelement.WebElement (session=\"85314e5241f81de9401304028f955562\", element=\"1cad33d9-110a-4a8a-8741-26bdc410a269\")>,\n",
       " <selenium.webdriver.remote.webelement.WebElement (session=\"85314e5241f81de9401304028f955562\", element=\"64f3deb3-28d0-4331-b44a-dc14a34fcf90\")>,\n",
       " <selenium.webdriver.remote.webelement.WebElement (session=\"85314e5241f81de9401304028f955562\", element=\"1a54199a-4237-40cc-829a-0101eba5738f\")>,\n",
       " <selenium.webdriver.remote.webelement.WebElement (session=\"85314e5241f81de9401304028f955562\", element=\"e384df8c-0918-4e88-8581-498f4fe3849d\")>,\n",
       " <selenium.webdriver.remote.webelement.WebElement (session=\"85314e5241f81de9401304028f955562\", element=\"ba9d9dcb-13bf-4981-a5ac-95ae050fc051\")>,\n",
       " <selenium.webdriver.remote.webelement.WebElement (session=\"85314e5241f81de9401304028f955562\", element=\"2d75516c-d899-43c2-bcec-1265b9caafd0\")>,\n",
       " <selenium.webdriver.remote.webelement.WebElement (session=\"85314e5241f81de9401304028f955562\", element=\"cc85dfb5-463d-4827-9789-26cbb1722e54\")>,\n",
       " <selenium.webdriver.remote.webelement.WebElement (session=\"85314e5241f81de9401304028f955562\", element=\"6e4f8478-09e7-459a-8c3c-7fca8eaee3cb\")>,\n",
       " <selenium.webdriver.remote.webelement.WebElement (session=\"85314e5241f81de9401304028f955562\", element=\"e0a19a05-4965-4e4d-b0c9-d588714eeb16\")>,\n",
       " <selenium.webdriver.remote.webelement.WebElement (session=\"85314e5241f81de9401304028f955562\", element=\"5efec1dd-c202-47d4-a6f9-5b785e104a93\")>,\n",
       " <selenium.webdriver.remote.webelement.WebElement (session=\"85314e5241f81de9401304028f955562\", element=\"85fc461e-743d-434f-84d0-26d06a5ad6e0\")>,\n",
       " <selenium.webdriver.remote.webelement.WebElement (session=\"85314e5241f81de9401304028f955562\", element=\"7f2c070a-64c9-4a54-a4e7-6230c861ddae\")>,\n",
       " <selenium.webdriver.remote.webelement.WebElement (session=\"85314e5241f81de9401304028f955562\", element=\"9f79c5cc-0fc2-4896-bc69-08da9e0ec690\")>,\n",
       " <selenium.webdriver.remote.webelement.WebElement (session=\"85314e5241f81de9401304028f955562\", element=\"a0c23add-5792-4d34-a1e7-851a546afffb\")>,\n",
       " <selenium.webdriver.remote.webelement.WebElement (session=\"85314e5241f81de9401304028f955562\", element=\"31e22a0e-1389-48e8-aa63-60d2dc1f006c\")>]"
      ]
     },
     "execution_count": 94,
     "metadata": {},
     "output_type": "execute_result"
    }
   ],
   "source": [
    "summary = driver.find_elements_by_xpath(\"//div['@class']\")\n",
    "summary[0:100]"
   ]
  },
  {
   "cell_type": "code",
   "execution_count": null,
   "id": "0d556a3f",
   "metadata": {},
   "outputs": [],
   "source": [
    "for i in summary:\n",
    "    summary=i.text\n",
    "    summary.append(summary)\n",
    "summary[0:100]"
   ]
  },
  {
   "cell_type": "markdown",
   "id": "c91fa85e",
   "metadata": {},
   "source": [
    "# scarpe 100 data for first 100 snakers"
   ]
  },
  {
   "cell_type": "code",
   "execution_count": 95,
   "id": "c8c1714b",
   "metadata": {},
   "outputs": [],
   "source": [
    "import selenium\n",
    "import pandas as pd\n",
    "from selenium import webdriver"
   ]
  },
  {
   "cell_type": "code",
   "execution_count": 96,
   "id": "7929995b",
   "metadata": {},
   "outputs": [
    {
     "name": "stderr",
     "output_type": "stream",
     "text": [
      "<ipython-input-96-bcea5228ba58>:1: DeprecationWarning: executable_path has been deprecated, please pass in a Service object\n",
      "  driver = webdriver.Chrome(r\"C:\\Users\\user\\Downloads\\chromedriver_win32\\chromedriver.exe\")\n"
     ]
    }
   ],
   "source": [
    "driver = webdriver.Chrome(r\"C:\\Users\\user\\Downloads\\chromedriver_win32\\chromedriver.exe\")"
   ]
  },
  {
   "cell_type": "code",
   "execution_count": 97,
   "id": "33d7df61",
   "metadata": {},
   "outputs": [],
   "source": [
    "#driver.close()"
   ]
  },
  {
   "cell_type": "code",
   "execution_count": 98,
   "id": "776a51f9",
   "metadata": {},
   "outputs": [],
   "source": [
    "url=\"https://www.flipkart.com/search?q=sneakers&sid=osp%2Ccil%2Ce1f&as=on&as-show=on&otracker=AS_QueryStore_OrganicAutoSuggest_2_3_na_na_ps&otracker1=AS_QueryStore_OrganicAutoSuggest_2_3_na_na_ps&as\""
   ]
  },
  {
   "cell_type": "code",
   "execution_count": 99,
   "id": "0aeb3534",
   "metadata": {},
   "outputs": [],
   "source": [
    "driver.get(url)"
   ]
  },
  {
   "cell_type": "code",
   "execution_count": 100,
   "id": "d417f2d6",
   "metadata": {},
   "outputs": [],
   "source": [
    "brand=[]\n",
    "PD=[]\n",
    "price=[]\n",
    "offer=[]"
   ]
  },
  {
   "cell_type": "code",
   "execution_count": 101,
   "id": "b3cd4373",
   "metadata": {},
   "outputs": [
    {
     "name": "stderr",
     "output_type": "stream",
     "text": [
      "<ipython-input-101-684a35e5adc0>:1: DeprecationWarning: find_elements_by_* commands are deprecated. Please use find_elements() instead\n",
      "  brand = driver.find_elements_by_xpath(\"//div['@class=_2WkVRV']\")\n"
     ]
    },
    {
     "data": {
      "text/plain": [
       "[<selenium.webdriver.remote.webelement.WebElement (session=\"d6223a968986e5dd1704432b641b9e8f\", element=\"a9bbe25e-a051-4c2f-ad53-5ce102db265c\")>,\n",
       " <selenium.webdriver.remote.webelement.WebElement (session=\"d6223a968986e5dd1704432b641b9e8f\", element=\"9cef1f58-af07-4a76-93ce-82d151a00abe\")>,\n",
       " <selenium.webdriver.remote.webelement.WebElement (session=\"d6223a968986e5dd1704432b641b9e8f\", element=\"7c7bec6a-83dd-405f-8fcf-80d1ea3f79fd\")>,\n",
       " <selenium.webdriver.remote.webelement.WebElement (session=\"d6223a968986e5dd1704432b641b9e8f\", element=\"6b011728-596f-456e-917d-389276f5a552\")>,\n",
       " <selenium.webdriver.remote.webelement.WebElement (session=\"d6223a968986e5dd1704432b641b9e8f\", element=\"f0938bca-ae3d-4f05-97bf-25a175027edf\")>,\n",
       " <selenium.webdriver.remote.webelement.WebElement (session=\"d6223a968986e5dd1704432b641b9e8f\", element=\"46db112e-9d08-468d-bd9a-bc9ac45c8e4c\")>,\n",
       " <selenium.webdriver.remote.webelement.WebElement (session=\"d6223a968986e5dd1704432b641b9e8f\", element=\"8c431e74-644b-43a7-8513-c9a24d32f9f0\")>,\n",
       " <selenium.webdriver.remote.webelement.WebElement (session=\"d6223a968986e5dd1704432b641b9e8f\", element=\"6ba4b2da-8adc-43c1-835b-74ef2bb1ae47\")>,\n",
       " <selenium.webdriver.remote.webelement.WebElement (session=\"d6223a968986e5dd1704432b641b9e8f\", element=\"cddac497-8c0d-475d-bdfb-ffbcc982471e\")>,\n",
       " <selenium.webdriver.remote.webelement.WebElement (session=\"d6223a968986e5dd1704432b641b9e8f\", element=\"db4b7146-27aa-421e-86b3-c91fe47de25f\")>,\n",
       " <selenium.webdriver.remote.webelement.WebElement (session=\"d6223a968986e5dd1704432b641b9e8f\", element=\"ee74bde0-2043-4731-8f81-0973ea393910\")>,\n",
       " <selenium.webdriver.remote.webelement.WebElement (session=\"d6223a968986e5dd1704432b641b9e8f\", element=\"60a0fdb1-f8c2-4bc6-b6c4-0e2cb4c44017\")>,\n",
       " <selenium.webdriver.remote.webelement.WebElement (session=\"d6223a968986e5dd1704432b641b9e8f\", element=\"ebfa7c6b-0a0a-4c1b-bee1-9758e4063498\")>,\n",
       " <selenium.webdriver.remote.webelement.WebElement (session=\"d6223a968986e5dd1704432b641b9e8f\", element=\"9a263cd7-ea5f-408f-bb25-2b6d6c325c12\")>,\n",
       " <selenium.webdriver.remote.webelement.WebElement (session=\"d6223a968986e5dd1704432b641b9e8f\", element=\"51637672-acae-43d5-9e94-d10e4008632e\")>,\n",
       " <selenium.webdriver.remote.webelement.WebElement (session=\"d6223a968986e5dd1704432b641b9e8f\", element=\"afa4f593-30e7-48a5-8d9f-1b845f147ec0\")>,\n",
       " <selenium.webdriver.remote.webelement.WebElement (session=\"d6223a968986e5dd1704432b641b9e8f\", element=\"38bf3508-0f89-49aa-8f29-dcde8b2f90e4\")>,\n",
       " <selenium.webdriver.remote.webelement.WebElement (session=\"d6223a968986e5dd1704432b641b9e8f\", element=\"bb94d346-c47d-4b7d-8aee-cad5fc532be9\")>,\n",
       " <selenium.webdriver.remote.webelement.WebElement (session=\"d6223a968986e5dd1704432b641b9e8f\", element=\"742a8ca1-727a-4027-8fee-3716a37c751f\")>,\n",
       " <selenium.webdriver.remote.webelement.WebElement (session=\"d6223a968986e5dd1704432b641b9e8f\", element=\"3030531f-7a1a-465a-a3f8-8c3dc93052a0\")>,\n",
       " <selenium.webdriver.remote.webelement.WebElement (session=\"d6223a968986e5dd1704432b641b9e8f\", element=\"8cff9e89-82a4-467a-b81f-ef0f9627895f\")>,\n",
       " <selenium.webdriver.remote.webelement.WebElement (session=\"d6223a968986e5dd1704432b641b9e8f\", element=\"0f99122d-2c0a-4819-924a-42004913e24a\")>,\n",
       " <selenium.webdriver.remote.webelement.WebElement (session=\"d6223a968986e5dd1704432b641b9e8f\", element=\"a5d5aa99-69a0-4f5d-8a5f-b962714c380e\")>,\n",
       " <selenium.webdriver.remote.webelement.WebElement (session=\"d6223a968986e5dd1704432b641b9e8f\", element=\"415783c0-1633-4059-964b-f03f33478fe4\")>,\n",
       " <selenium.webdriver.remote.webelement.WebElement (session=\"d6223a968986e5dd1704432b641b9e8f\", element=\"f62d4b06-9fee-4442-af1d-a0c2a763ad94\")>,\n",
       " <selenium.webdriver.remote.webelement.WebElement (session=\"d6223a968986e5dd1704432b641b9e8f\", element=\"5101b8b1-4370-4520-bb12-10fedf09d02a\")>,\n",
       " <selenium.webdriver.remote.webelement.WebElement (session=\"d6223a968986e5dd1704432b641b9e8f\", element=\"42c69af0-9dfa-490e-bac7-9bc6b497476a\")>,\n",
       " <selenium.webdriver.remote.webelement.WebElement (session=\"d6223a968986e5dd1704432b641b9e8f\", element=\"24714d3d-b8ab-442a-8648-34de8f023900\")>,\n",
       " <selenium.webdriver.remote.webelement.WebElement (session=\"d6223a968986e5dd1704432b641b9e8f\", element=\"1de99fc2-32e9-402c-a864-4b7ea15a2019\")>,\n",
       " <selenium.webdriver.remote.webelement.WebElement (session=\"d6223a968986e5dd1704432b641b9e8f\", element=\"132dc1b0-6054-4921-b151-22623069a720\")>,\n",
       " <selenium.webdriver.remote.webelement.WebElement (session=\"d6223a968986e5dd1704432b641b9e8f\", element=\"44953463-ed33-4f54-a6cf-090ecb458dc7\")>,\n",
       " <selenium.webdriver.remote.webelement.WebElement (session=\"d6223a968986e5dd1704432b641b9e8f\", element=\"4402b0df-a4ea-4cca-b284-81db9eb4663d\")>,\n",
       " <selenium.webdriver.remote.webelement.WebElement (session=\"d6223a968986e5dd1704432b641b9e8f\", element=\"47a0dcfc-04ad-49f4-9e79-bc668c269dec\")>,\n",
       " <selenium.webdriver.remote.webelement.WebElement (session=\"d6223a968986e5dd1704432b641b9e8f\", element=\"6625afda-e15c-41d2-8302-31bd6add4c90\")>,\n",
       " <selenium.webdriver.remote.webelement.WebElement (session=\"d6223a968986e5dd1704432b641b9e8f\", element=\"700d7c15-3dde-4180-9955-8955edb5dce7\")>,\n",
       " <selenium.webdriver.remote.webelement.WebElement (session=\"d6223a968986e5dd1704432b641b9e8f\", element=\"f0ef8cc2-5195-4eb0-b9b9-90e4a5f32c1c\")>,\n",
       " <selenium.webdriver.remote.webelement.WebElement (session=\"d6223a968986e5dd1704432b641b9e8f\", element=\"9faf14ca-d6e0-4e07-a175-d26d2dce35d8\")>,\n",
       " <selenium.webdriver.remote.webelement.WebElement (session=\"d6223a968986e5dd1704432b641b9e8f\", element=\"2a78cf1d-4164-4372-b418-bb3a0066a387\")>,\n",
       " <selenium.webdriver.remote.webelement.WebElement (session=\"d6223a968986e5dd1704432b641b9e8f\", element=\"d9502f76-76ab-48e5-b217-d5bda61ef5b9\")>,\n",
       " <selenium.webdriver.remote.webelement.WebElement (session=\"d6223a968986e5dd1704432b641b9e8f\", element=\"76eb88b7-1ee8-4939-aa02-22a863fb9788\")>]"
      ]
     },
     "execution_count": 101,
     "metadata": {},
     "output_type": "execute_result"
    }
   ],
   "source": [
    "brand = driver.find_elements_by_xpath(\"//div['@class=_2WkVRV']\")\n",
    "brand[0:40]"
   ]
  },
  {
   "cell_type": "code",
   "execution_count": 102,
   "id": "f124a724",
   "metadata": {},
   "outputs": [
    {
     "name": "stderr",
     "output_type": "stream",
     "text": [
      "<ipython-input-102-02536cdce7ca>:1: DeprecationWarning: find_elements_by_* commands are deprecated. Please use find_elements() instead\n",
      "  brand = driver.find_elements_by_xpath(\"//div['@class=_2WkVRV']\")\n"
     ]
    },
    {
     "data": {
      "text/plain": [
       "[<selenium.webdriver.remote.webelement.WebElement (session=\"d6223a968986e5dd1704432b641b9e8f\", element=\"73982102-e5b5-4006-807f-6e1aba7ab076\")>,\n",
       " <selenium.webdriver.remote.webelement.WebElement (session=\"d6223a968986e5dd1704432b641b9e8f\", element=\"b343b4c0-96a9-4c9e-8d71-80522a0a09aa\")>,\n",
       " <selenium.webdriver.remote.webelement.WebElement (session=\"d6223a968986e5dd1704432b641b9e8f\", element=\"dba81e96-51b2-4882-9a0c-90f4cb1ae862\")>,\n",
       " <selenium.webdriver.remote.webelement.WebElement (session=\"d6223a968986e5dd1704432b641b9e8f\", element=\"85ed69f9-0cae-4262-a47e-95d4a1471de3\")>,\n",
       " <selenium.webdriver.remote.webelement.WebElement (session=\"d6223a968986e5dd1704432b641b9e8f\", element=\"63687fb4-a04a-4213-9d53-7feaec5335b6\")>,\n",
       " <selenium.webdriver.remote.webelement.WebElement (session=\"d6223a968986e5dd1704432b641b9e8f\", element=\"8c6df82c-8919-4473-907e-6da9d2a601bc\")>,\n",
       " <selenium.webdriver.remote.webelement.WebElement (session=\"d6223a968986e5dd1704432b641b9e8f\", element=\"f86a91a1-ad07-414c-bda1-5b1d7383342b\")>,\n",
       " <selenium.webdriver.remote.webelement.WebElement (session=\"d6223a968986e5dd1704432b641b9e8f\", element=\"15938996-1296-427d-8318-809afe5b0f10\")>,\n",
       " <selenium.webdriver.remote.webelement.WebElement (session=\"d6223a968986e5dd1704432b641b9e8f\", element=\"4f0db63c-1c7f-4117-8861-2d3956812288\")>,\n",
       " <selenium.webdriver.remote.webelement.WebElement (session=\"d6223a968986e5dd1704432b641b9e8f\", element=\"11d805f7-9f32-4be0-ab27-cf7322de1512\")>,\n",
       " <selenium.webdriver.remote.webelement.WebElement (session=\"d6223a968986e5dd1704432b641b9e8f\", element=\"7b83bd90-c07d-417f-89e1-ed6380974f13\")>,\n",
       " <selenium.webdriver.remote.webelement.WebElement (session=\"d6223a968986e5dd1704432b641b9e8f\", element=\"5e73ebae-2d5b-400b-80fc-ad22195f45c4\")>,\n",
       " <selenium.webdriver.remote.webelement.WebElement (session=\"d6223a968986e5dd1704432b641b9e8f\", element=\"c2df8e88-6ec7-42f4-90b9-0f043c8fe66e\")>,\n",
       " <selenium.webdriver.remote.webelement.WebElement (session=\"d6223a968986e5dd1704432b641b9e8f\", element=\"f50e26bb-7ee2-423a-a711-ba3ae48fb3f9\")>,\n",
       " <selenium.webdriver.remote.webelement.WebElement (session=\"d6223a968986e5dd1704432b641b9e8f\", element=\"676aa74f-3b51-4252-a5ed-36cb1a43a563\")>,\n",
       " <selenium.webdriver.remote.webelement.WebElement (session=\"d6223a968986e5dd1704432b641b9e8f\", element=\"8db5b733-0440-4649-a03e-055a6f7f23ea\")>,\n",
       " <selenium.webdriver.remote.webelement.WebElement (session=\"d6223a968986e5dd1704432b641b9e8f\", element=\"5b459c4d-281b-4c89-8770-c6abc40df489\")>,\n",
       " <selenium.webdriver.remote.webelement.WebElement (session=\"d6223a968986e5dd1704432b641b9e8f\", element=\"11d6b222-98a9-48e6-91d0-0dc95af5e2cd\")>,\n",
       " <selenium.webdriver.remote.webelement.WebElement (session=\"d6223a968986e5dd1704432b641b9e8f\", element=\"b5bc7494-0b9e-432f-a8e8-4696074b2f8e\")>,\n",
       " <selenium.webdriver.remote.webelement.WebElement (session=\"d6223a968986e5dd1704432b641b9e8f\", element=\"88598259-8a00-4155-8e73-344e8ae7a116\")>,\n",
       " <selenium.webdriver.remote.webelement.WebElement (session=\"d6223a968986e5dd1704432b641b9e8f\", element=\"fe4af6b0-0802-4598-990c-4933d0ab3c36\")>,\n",
       " <selenium.webdriver.remote.webelement.WebElement (session=\"d6223a968986e5dd1704432b641b9e8f\", element=\"68b022a1-2ca2-4dae-8294-ce842dc85273\")>,\n",
       " <selenium.webdriver.remote.webelement.WebElement (session=\"d6223a968986e5dd1704432b641b9e8f\", element=\"727366a6-817d-47ff-9331-39df87fe5c46\")>,\n",
       " <selenium.webdriver.remote.webelement.WebElement (session=\"d6223a968986e5dd1704432b641b9e8f\", element=\"ad7d704d-ac93-4c98-8810-de0b0c94b8a7\")>,\n",
       " <selenium.webdriver.remote.webelement.WebElement (session=\"d6223a968986e5dd1704432b641b9e8f\", element=\"0d716088-b8a0-4178-8243-f8e8d83626f8\")>,\n",
       " <selenium.webdriver.remote.webelement.WebElement (session=\"d6223a968986e5dd1704432b641b9e8f\", element=\"d0393214-a61a-4841-896e-7ff395b129ee\")>,\n",
       " <selenium.webdriver.remote.webelement.WebElement (session=\"d6223a968986e5dd1704432b641b9e8f\", element=\"ca9d70e7-6c1a-4fb1-a38a-9cdd9a819b13\")>,\n",
       " <selenium.webdriver.remote.webelement.WebElement (session=\"d6223a968986e5dd1704432b641b9e8f\", element=\"479d481e-5dd1-4f25-891f-cc9a5427c5ff\")>,\n",
       " <selenium.webdriver.remote.webelement.WebElement (session=\"d6223a968986e5dd1704432b641b9e8f\", element=\"e22bf841-5432-4d80-902b-b51260230d2b\")>,\n",
       " <selenium.webdriver.remote.webelement.WebElement (session=\"d6223a968986e5dd1704432b641b9e8f\", element=\"82da9b68-5024-4f4d-856c-5e915aafeb27\")>,\n",
       " <selenium.webdriver.remote.webelement.WebElement (session=\"d6223a968986e5dd1704432b641b9e8f\", element=\"091fcf80-c8ed-45bd-86e2-5e78dc82504c\")>,\n",
       " <selenium.webdriver.remote.webelement.WebElement (session=\"d6223a968986e5dd1704432b641b9e8f\", element=\"2330d286-1f21-407d-9253-fdb6c6393004\")>,\n",
       " <selenium.webdriver.remote.webelement.WebElement (session=\"d6223a968986e5dd1704432b641b9e8f\", element=\"17067b21-4600-4758-9194-a21eecbb784b\")>,\n",
       " <selenium.webdriver.remote.webelement.WebElement (session=\"d6223a968986e5dd1704432b641b9e8f\", element=\"39bf62da-366e-4eb8-90e8-5614bc0898e1\")>,\n",
       " <selenium.webdriver.remote.webelement.WebElement (session=\"d6223a968986e5dd1704432b641b9e8f\", element=\"d0a5ca11-20ec-4cb6-b68e-2f965a3a8711\")>,\n",
       " <selenium.webdriver.remote.webelement.WebElement (session=\"d6223a968986e5dd1704432b641b9e8f\", element=\"3098e663-f638-4904-8760-e92147732a0f\")>,\n",
       " <selenium.webdriver.remote.webelement.WebElement (session=\"d6223a968986e5dd1704432b641b9e8f\", element=\"be2507e2-698e-4d15-ab97-6bd9ee62d73d\")>,\n",
       " <selenium.webdriver.remote.webelement.WebElement (session=\"d6223a968986e5dd1704432b641b9e8f\", element=\"1aab9d41-6d98-4604-9d25-9b87a528041e\")>,\n",
       " <selenium.webdriver.remote.webelement.WebElement (session=\"d6223a968986e5dd1704432b641b9e8f\", element=\"75f843ff-26f9-4673-b43b-83bd1dbb3950\")>]"
      ]
     },
     "execution_count": 102,
     "metadata": {},
     "output_type": "execute_result"
    }
   ],
   "source": [
    "brand = driver.find_elements_by_xpath(\"//div['@class=_2WkVRV']\")\n",
    "brand[41:80]"
   ]
  },
  {
   "cell_type": "code",
   "execution_count": 103,
   "id": "ed4e1c0d",
   "metadata": {},
   "outputs": [
    {
     "name": "stderr",
     "output_type": "stream",
     "text": [
      "<ipython-input-103-686103235ad0>:1: DeprecationWarning: find_elements_by_* commands are deprecated. Please use find_elements() instead\n",
      "  brand = driver.find_elements_by_xpath(\"//div['@class=_2WkVRV']\")\n"
     ]
    },
    {
     "data": {
      "text/plain": [
       "[<selenium.webdriver.remote.webelement.WebElement (session=\"d6223a968986e5dd1704432b641b9e8f\", element=\"df81cdce-ed69-474d-8e61-5ba22b1b7162\")>,\n",
       " <selenium.webdriver.remote.webelement.WebElement (session=\"d6223a968986e5dd1704432b641b9e8f\", element=\"38aca94d-3aaf-48d9-8449-e7f5089467b3\")>,\n",
       " <selenium.webdriver.remote.webelement.WebElement (session=\"d6223a968986e5dd1704432b641b9e8f\", element=\"0275249a-cf0b-4d85-b79b-5d136c1fa88b\")>,\n",
       " <selenium.webdriver.remote.webelement.WebElement (session=\"d6223a968986e5dd1704432b641b9e8f\", element=\"482c3595-6ff3-4ed7-a57c-71041505e66f\")>,\n",
       " <selenium.webdriver.remote.webelement.WebElement (session=\"d6223a968986e5dd1704432b641b9e8f\", element=\"2e73a06c-0a3f-4a86-93d9-866a278b839a\")>,\n",
       " <selenium.webdriver.remote.webelement.WebElement (session=\"d6223a968986e5dd1704432b641b9e8f\", element=\"c9fe8adb-a591-4aba-844f-ebf16d097a22\")>,\n",
       " <selenium.webdriver.remote.webelement.WebElement (session=\"d6223a968986e5dd1704432b641b9e8f\", element=\"9078a39c-3f6d-4b60-83c8-5b3ee6118c19\")>,\n",
       " <selenium.webdriver.remote.webelement.WebElement (session=\"d6223a968986e5dd1704432b641b9e8f\", element=\"d2ff4556-d69b-4f10-9e06-ea6ac63354b3\")>,\n",
       " <selenium.webdriver.remote.webelement.WebElement (session=\"d6223a968986e5dd1704432b641b9e8f\", element=\"b5047002-64e0-4817-ae9a-3555f4de8048\")>,\n",
       " <selenium.webdriver.remote.webelement.WebElement (session=\"d6223a968986e5dd1704432b641b9e8f\", element=\"4112c019-6a69-44d5-a361-fb6c574774d7\")>,\n",
       " <selenium.webdriver.remote.webelement.WebElement (session=\"d6223a968986e5dd1704432b641b9e8f\", element=\"2a84df08-1bef-4ccb-88b8-71fd3b650cc1\")>,\n",
       " <selenium.webdriver.remote.webelement.WebElement (session=\"d6223a968986e5dd1704432b641b9e8f\", element=\"73b4da7e-adb8-49ad-8f5b-7de2cab6d8ee\")>,\n",
       " <selenium.webdriver.remote.webelement.WebElement (session=\"d6223a968986e5dd1704432b641b9e8f\", element=\"72fc35a1-d179-4711-92b1-7a94d4cf6410\")>,\n",
       " <selenium.webdriver.remote.webelement.WebElement (session=\"d6223a968986e5dd1704432b641b9e8f\", element=\"725a4580-5407-4ae8-9c11-fd748cb980c0\")>,\n",
       " <selenium.webdriver.remote.webelement.WebElement (session=\"d6223a968986e5dd1704432b641b9e8f\", element=\"d42511ee-011f-4d4e-82cc-0d0389e14c2c\")>,\n",
       " <selenium.webdriver.remote.webelement.WebElement (session=\"d6223a968986e5dd1704432b641b9e8f\", element=\"7fc1473c-9f5e-4504-9554-a4a64e883783\")>,\n",
       " <selenium.webdriver.remote.webelement.WebElement (session=\"d6223a968986e5dd1704432b641b9e8f\", element=\"d5fe551f-88c5-4450-993a-a9c091fc957b\")>,\n",
       " <selenium.webdriver.remote.webelement.WebElement (session=\"d6223a968986e5dd1704432b641b9e8f\", element=\"d3ccdecb-f9ca-44af-99d3-267f9703b170\")>,\n",
       " <selenium.webdriver.remote.webelement.WebElement (session=\"d6223a968986e5dd1704432b641b9e8f\", element=\"9c4ef475-7b88-43d8-8d43-7eccbded81f4\")>]"
      ]
     },
     "execution_count": 103,
     "metadata": {},
     "output_type": "execute_result"
    }
   ],
   "source": [
    "brand = driver.find_elements_by_xpath(\"//div['@class=_2WkVRV']\")\n",
    "brand[81:100]"
   ]
  },
  {
   "cell_type": "code",
   "execution_count": null,
   "id": "cef8fb91",
   "metadata": {},
   "outputs": [],
   "source": [
    "for i in brand:\n",
    "    brand=i.text\n",
    "    brand.append(brand)\n",
    "brand[41:80]    "
   ]
  },
  {
   "cell_type": "code",
   "execution_count": 104,
   "id": "13f8b67a",
   "metadata": {},
   "outputs": [
    {
     "name": "stderr",
     "output_type": "stream",
     "text": [
      "<ipython-input-104-3b922d6624bc>:1: DeprecationWarning: find_elements_by_* commands are deprecated. Please use find_elements() instead\n",
      "  PD = driver.find_elements_by_xpath(\"//a['@class=IRpwTa']\")\n"
     ]
    },
    {
     "data": {
      "text/plain": [
       "[<selenium.webdriver.remote.webelement.WebElement (session=\"d6223a968986e5dd1704432b641b9e8f\", element=\"556fc7f2-dea5-44c9-99ec-3f489ec7833d\")>,\n",
       " <selenium.webdriver.remote.webelement.WebElement (session=\"d6223a968986e5dd1704432b641b9e8f\", element=\"a31264d3-7a37-43b4-a656-b2e92fd44502\")>,\n",
       " <selenium.webdriver.remote.webelement.WebElement (session=\"d6223a968986e5dd1704432b641b9e8f\", element=\"ce1c3dcf-bf41-4376-bcad-b4944f2848a7\")>,\n",
       " <selenium.webdriver.remote.webelement.WebElement (session=\"d6223a968986e5dd1704432b641b9e8f\", element=\"5004f3a7-58e0-4696-b176-718704064def\")>,\n",
       " <selenium.webdriver.remote.webelement.WebElement (session=\"d6223a968986e5dd1704432b641b9e8f\", element=\"4ac80587-3e84-4ca3-929c-c44649f6b5a1\")>,\n",
       " <selenium.webdriver.remote.webelement.WebElement (session=\"d6223a968986e5dd1704432b641b9e8f\", element=\"0eece4f9-86ca-4bfe-860a-d403b8ec82dc\")>,\n",
       " <selenium.webdriver.remote.webelement.WebElement (session=\"d6223a968986e5dd1704432b641b9e8f\", element=\"dd77a21f-65d5-454e-acfb-779693105944\")>,\n",
       " <selenium.webdriver.remote.webelement.WebElement (session=\"d6223a968986e5dd1704432b641b9e8f\", element=\"b8a12132-4bc2-4ac0-b212-27a464ebc6b3\")>,\n",
       " <selenium.webdriver.remote.webelement.WebElement (session=\"d6223a968986e5dd1704432b641b9e8f\", element=\"6f4de85c-ec05-4cd9-a6fd-363ad8df55c9\")>,\n",
       " <selenium.webdriver.remote.webelement.WebElement (session=\"d6223a968986e5dd1704432b641b9e8f\", element=\"9f4737ff-3725-4eb3-9c5c-aaa6fc766a7f\")>,\n",
       " <selenium.webdriver.remote.webelement.WebElement (session=\"d6223a968986e5dd1704432b641b9e8f\", element=\"7493c156-fd9a-4058-8f6c-6c0a25cf2b95\")>,\n",
       " <selenium.webdriver.remote.webelement.WebElement (session=\"d6223a968986e5dd1704432b641b9e8f\", element=\"50bd894b-947a-4dba-be5d-02f91b6a8444\")>,\n",
       " <selenium.webdriver.remote.webelement.WebElement (session=\"d6223a968986e5dd1704432b641b9e8f\", element=\"4b913986-66a6-4544-a572-17e8347712f9\")>,\n",
       " <selenium.webdriver.remote.webelement.WebElement (session=\"d6223a968986e5dd1704432b641b9e8f\", element=\"a4387528-d6a0-42e9-9d25-26ffe548b9e3\")>,\n",
       " <selenium.webdriver.remote.webelement.WebElement (session=\"d6223a968986e5dd1704432b641b9e8f\", element=\"cf73801f-ad20-4689-a278-d2ce8ec5c512\")>,\n",
       " <selenium.webdriver.remote.webelement.WebElement (session=\"d6223a968986e5dd1704432b641b9e8f\", element=\"77c4230b-98c4-4c06-8d74-bf494b506ad7\")>,\n",
       " <selenium.webdriver.remote.webelement.WebElement (session=\"d6223a968986e5dd1704432b641b9e8f\", element=\"6f14701c-25bd-4598-8143-d1dd5f4a2a0f\")>,\n",
       " <selenium.webdriver.remote.webelement.WebElement (session=\"d6223a968986e5dd1704432b641b9e8f\", element=\"dd3550cd-6628-4d58-afec-0f59354ff5bd\")>,\n",
       " <selenium.webdriver.remote.webelement.WebElement (session=\"d6223a968986e5dd1704432b641b9e8f\", element=\"9834eee4-4560-47a9-87de-03e1d800d1f6\")>,\n",
       " <selenium.webdriver.remote.webelement.WebElement (session=\"d6223a968986e5dd1704432b641b9e8f\", element=\"918cca6b-973b-4bb8-9510-ceb8c2e9c33a\")>,\n",
       " <selenium.webdriver.remote.webelement.WebElement (session=\"d6223a968986e5dd1704432b641b9e8f\", element=\"2204892e-c0db-4ef3-828a-88bde0bd4e4f\")>,\n",
       " <selenium.webdriver.remote.webelement.WebElement (session=\"d6223a968986e5dd1704432b641b9e8f\", element=\"29fd99cb-18f1-45f4-abe5-d2bd904784eb\")>,\n",
       " <selenium.webdriver.remote.webelement.WebElement (session=\"d6223a968986e5dd1704432b641b9e8f\", element=\"0fbff9dc-7e57-4bb3-9f36-3c7ea0afe6fb\")>,\n",
       " <selenium.webdriver.remote.webelement.WebElement (session=\"d6223a968986e5dd1704432b641b9e8f\", element=\"6a562313-0cae-4b61-b1b7-f194fc86e077\")>,\n",
       " <selenium.webdriver.remote.webelement.WebElement (session=\"d6223a968986e5dd1704432b641b9e8f\", element=\"8b3e939a-6569-40ba-ab49-8ac3f82846f0\")>,\n",
       " <selenium.webdriver.remote.webelement.WebElement (session=\"d6223a968986e5dd1704432b641b9e8f\", element=\"bb7bc0e0-3c01-46b9-8a65-b7d272803320\")>,\n",
       " <selenium.webdriver.remote.webelement.WebElement (session=\"d6223a968986e5dd1704432b641b9e8f\", element=\"787b32fa-178a-42cc-8b64-f3d18609e258\")>,\n",
       " <selenium.webdriver.remote.webelement.WebElement (session=\"d6223a968986e5dd1704432b641b9e8f\", element=\"72858321-1c8a-460b-9edb-3f6d3ca48f00\")>,\n",
       " <selenium.webdriver.remote.webelement.WebElement (session=\"d6223a968986e5dd1704432b641b9e8f\", element=\"71c918ac-921e-4d69-9f30-0cc963e9c62c\")>,\n",
       " <selenium.webdriver.remote.webelement.WebElement (session=\"d6223a968986e5dd1704432b641b9e8f\", element=\"306eb129-0020-4901-9590-1ee43cd98404\")>,\n",
       " <selenium.webdriver.remote.webelement.WebElement (session=\"d6223a968986e5dd1704432b641b9e8f\", element=\"cc22be95-30b9-4502-9223-64c562e7dba4\")>,\n",
       " <selenium.webdriver.remote.webelement.WebElement (session=\"d6223a968986e5dd1704432b641b9e8f\", element=\"d8aacd10-d725-47b1-96ae-4ca88ac3a4ea\")>,\n",
       " <selenium.webdriver.remote.webelement.WebElement (session=\"d6223a968986e5dd1704432b641b9e8f\", element=\"3ff98fec-e2cd-4805-8ae7-1702f6aac0af\")>,\n",
       " <selenium.webdriver.remote.webelement.WebElement (session=\"d6223a968986e5dd1704432b641b9e8f\", element=\"28abba2f-f456-4db2-bb11-e00d06849aaa\")>,\n",
       " <selenium.webdriver.remote.webelement.WebElement (session=\"d6223a968986e5dd1704432b641b9e8f\", element=\"89dba6dd-48b9-4fb9-83dc-158cebf565b1\")>,\n",
       " <selenium.webdriver.remote.webelement.WebElement (session=\"d6223a968986e5dd1704432b641b9e8f\", element=\"7feed86d-4cd9-4e30-a114-4a760d025652\")>,\n",
       " <selenium.webdriver.remote.webelement.WebElement (session=\"d6223a968986e5dd1704432b641b9e8f\", element=\"07dc026a-a785-4b3c-a6b1-fcc277956e82\")>,\n",
       " <selenium.webdriver.remote.webelement.WebElement (session=\"d6223a968986e5dd1704432b641b9e8f\", element=\"dddca30f-66d9-4b94-bcdf-097e6c6ad018\")>,\n",
       " <selenium.webdriver.remote.webelement.WebElement (session=\"d6223a968986e5dd1704432b641b9e8f\", element=\"f93f70d3-5aac-4bf4-886e-30520e366259\")>,\n",
       " <selenium.webdriver.remote.webelement.WebElement (session=\"d6223a968986e5dd1704432b641b9e8f\", element=\"a950a6bb-483f-4607-be77-c0d105de677a\")>]"
      ]
     },
     "execution_count": 104,
     "metadata": {},
     "output_type": "execute_result"
    }
   ],
   "source": [
    "PD = driver.find_elements_by_xpath(\"//a['@class=IRpwTa']\")\n",
    "PD[0:40]"
   ]
  },
  {
   "cell_type": "code",
   "execution_count": 105,
   "id": "85ed0489",
   "metadata": {},
   "outputs": [
    {
     "name": "stderr",
     "output_type": "stream",
     "text": [
      "<ipython-input-105-1c744cad56ea>:1: DeprecationWarning: find_elements_by_* commands are deprecated. Please use find_elements() instead\n",
      "  PD = driver.find_elements_by_xpath(\"//a['@class=IRpwTa']\")\n"
     ]
    },
    {
     "data": {
      "text/plain": [
       "[<selenium.webdriver.remote.webelement.WebElement (session=\"d6223a968986e5dd1704432b641b9e8f\", element=\"18652356-8b65-43d8-ad2c-6235f61630ef\")>,\n",
       " <selenium.webdriver.remote.webelement.WebElement (session=\"d6223a968986e5dd1704432b641b9e8f\", element=\"431e3e59-5bd5-444a-9ed7-99ba62f4dc0b\")>,\n",
       " <selenium.webdriver.remote.webelement.WebElement (session=\"d6223a968986e5dd1704432b641b9e8f\", element=\"915e9444-951f-4089-a817-40371768ddd8\")>,\n",
       " <selenium.webdriver.remote.webelement.WebElement (session=\"d6223a968986e5dd1704432b641b9e8f\", element=\"8472c914-e57b-4d3b-8f56-9faa2d3b2771\")>,\n",
       " <selenium.webdriver.remote.webelement.WebElement (session=\"d6223a968986e5dd1704432b641b9e8f\", element=\"c2762782-ed67-4743-b3c8-99a46dc68808\")>,\n",
       " <selenium.webdriver.remote.webelement.WebElement (session=\"d6223a968986e5dd1704432b641b9e8f\", element=\"dda84048-19f9-48cb-b597-660ea9e5e4ef\")>,\n",
       " <selenium.webdriver.remote.webelement.WebElement (session=\"d6223a968986e5dd1704432b641b9e8f\", element=\"0a6aea45-f088-49fb-878d-5760ad0ba201\")>,\n",
       " <selenium.webdriver.remote.webelement.WebElement (session=\"d6223a968986e5dd1704432b641b9e8f\", element=\"36aef964-c66b-4045-92f1-7710ac5cdfda\")>,\n",
       " <selenium.webdriver.remote.webelement.WebElement (session=\"d6223a968986e5dd1704432b641b9e8f\", element=\"f8b1c028-583a-433d-97ea-cacb6bbb0474\")>,\n",
       " <selenium.webdriver.remote.webelement.WebElement (session=\"d6223a968986e5dd1704432b641b9e8f\", element=\"5d9a7b53-c861-408a-8642-dc077100ccfc\")>,\n",
       " <selenium.webdriver.remote.webelement.WebElement (session=\"d6223a968986e5dd1704432b641b9e8f\", element=\"d966f48f-e307-48f5-b6bd-77a7744f09bc\")>,\n",
       " <selenium.webdriver.remote.webelement.WebElement (session=\"d6223a968986e5dd1704432b641b9e8f\", element=\"1ef54473-6e11-45d2-986f-4afda8e64ccc\")>,\n",
       " <selenium.webdriver.remote.webelement.WebElement (session=\"d6223a968986e5dd1704432b641b9e8f\", element=\"4be26b21-4e08-46e9-8691-db039d7eb23f\")>,\n",
       " <selenium.webdriver.remote.webelement.WebElement (session=\"d6223a968986e5dd1704432b641b9e8f\", element=\"29c4f383-91bd-4fe1-8564-36785165887c\")>,\n",
       " <selenium.webdriver.remote.webelement.WebElement (session=\"d6223a968986e5dd1704432b641b9e8f\", element=\"8e080f4d-6ad8-4952-ae99-5c7abf16b144\")>,\n",
       " <selenium.webdriver.remote.webelement.WebElement (session=\"d6223a968986e5dd1704432b641b9e8f\", element=\"7b9468b3-24e4-4044-8695-9e8f65803de8\")>,\n",
       " <selenium.webdriver.remote.webelement.WebElement (session=\"d6223a968986e5dd1704432b641b9e8f\", element=\"d3bfd3fe-0cc2-4e1d-8a2d-2a5a11856f41\")>,\n",
       " <selenium.webdriver.remote.webelement.WebElement (session=\"d6223a968986e5dd1704432b641b9e8f\", element=\"dcf4d4b1-0a83-4d47-be2e-b4418c8a47cc\")>,\n",
       " <selenium.webdriver.remote.webelement.WebElement (session=\"d6223a968986e5dd1704432b641b9e8f\", element=\"309cde8d-5697-4b2d-9d1f-f11ccff75e5f\")>,\n",
       " <selenium.webdriver.remote.webelement.WebElement (session=\"d6223a968986e5dd1704432b641b9e8f\", element=\"8ab17965-277d-43f5-9a30-e27daf1e4c5c\")>,\n",
       " <selenium.webdriver.remote.webelement.WebElement (session=\"d6223a968986e5dd1704432b641b9e8f\", element=\"0c6e2b58-07a2-4f66-944c-812598cdadba\")>,\n",
       " <selenium.webdriver.remote.webelement.WebElement (session=\"d6223a968986e5dd1704432b641b9e8f\", element=\"589b2db6-d920-42e3-813e-ff11816bdbf5\")>,\n",
       " <selenium.webdriver.remote.webelement.WebElement (session=\"d6223a968986e5dd1704432b641b9e8f\", element=\"7157e1e4-622c-4990-a911-6f18f279366b\")>,\n",
       " <selenium.webdriver.remote.webelement.WebElement (session=\"d6223a968986e5dd1704432b641b9e8f\", element=\"7b140a53-e813-473f-93a3-2fc31f6230fb\")>,\n",
       " <selenium.webdriver.remote.webelement.WebElement (session=\"d6223a968986e5dd1704432b641b9e8f\", element=\"bf51a206-2966-4970-83e2-307d473ce9e3\")>,\n",
       " <selenium.webdriver.remote.webelement.WebElement (session=\"d6223a968986e5dd1704432b641b9e8f\", element=\"f1282fcf-c791-48d1-8b21-fc06c48356cf\")>,\n",
       " <selenium.webdriver.remote.webelement.WebElement (session=\"d6223a968986e5dd1704432b641b9e8f\", element=\"b69495ef-3010-4320-9a64-6c9927148f4c\")>,\n",
       " <selenium.webdriver.remote.webelement.WebElement (session=\"d6223a968986e5dd1704432b641b9e8f\", element=\"88d1e862-00f5-4774-aa0e-f35e74040816\")>,\n",
       " <selenium.webdriver.remote.webelement.WebElement (session=\"d6223a968986e5dd1704432b641b9e8f\", element=\"2e746e09-ccfd-4ffb-bc13-76cc28f35a3e\")>,\n",
       " <selenium.webdriver.remote.webelement.WebElement (session=\"d6223a968986e5dd1704432b641b9e8f\", element=\"561c0f1b-839a-4d30-97ca-098dae3814eb\")>,\n",
       " <selenium.webdriver.remote.webelement.WebElement (session=\"d6223a968986e5dd1704432b641b9e8f\", element=\"8829056c-3a37-4688-b3fd-ddbad81c3b4e\")>,\n",
       " <selenium.webdriver.remote.webelement.WebElement (session=\"d6223a968986e5dd1704432b641b9e8f\", element=\"1496f34e-23c9-4cc6-8202-99bae0bcfad0\")>,\n",
       " <selenium.webdriver.remote.webelement.WebElement (session=\"d6223a968986e5dd1704432b641b9e8f\", element=\"256bf996-fb9b-4be9-95a8-bd66667bac9f\")>,\n",
       " <selenium.webdriver.remote.webelement.WebElement (session=\"d6223a968986e5dd1704432b641b9e8f\", element=\"bba79ffa-4421-498e-8c6b-c07dc0aa803d\")>,\n",
       " <selenium.webdriver.remote.webelement.WebElement (session=\"d6223a968986e5dd1704432b641b9e8f\", element=\"19b19aaf-4103-42e2-815a-6f4eb4d5dc01\")>,\n",
       " <selenium.webdriver.remote.webelement.WebElement (session=\"d6223a968986e5dd1704432b641b9e8f\", element=\"f5a81fe8-dd1b-47c1-a014-d781c555611b\")>,\n",
       " <selenium.webdriver.remote.webelement.WebElement (session=\"d6223a968986e5dd1704432b641b9e8f\", element=\"26d66fe4-d3f0-4605-90b3-95386dbd18fc\")>,\n",
       " <selenium.webdriver.remote.webelement.WebElement (session=\"d6223a968986e5dd1704432b641b9e8f\", element=\"c6b1191b-dd1a-4111-8c6f-69cc54029c7f\")>,\n",
       " <selenium.webdriver.remote.webelement.WebElement (session=\"d6223a968986e5dd1704432b641b9e8f\", element=\"cdb895dd-df50-4698-b8aa-eed1954ff563\")>]"
      ]
     },
     "execution_count": 105,
     "metadata": {},
     "output_type": "execute_result"
    }
   ],
   "source": [
    "PD = driver.find_elements_by_xpath(\"//a['@class=IRpwTa']\")\n",
    "PD[41:80]"
   ]
  },
  {
   "cell_type": "code",
   "execution_count": 106,
   "id": "c3b356f2",
   "metadata": {},
   "outputs": [
    {
     "name": "stderr",
     "output_type": "stream",
     "text": [
      "<ipython-input-106-4cfae48bfe6f>:1: DeprecationWarning: find_elements_by_* commands are deprecated. Please use find_elements() instead\n",
      "  PD = driver.find_elements_by_xpath(\"//a['@class=IRpwTa']\")\n"
     ]
    },
    {
     "data": {
      "text/plain": [
       "[<selenium.webdriver.remote.webelement.WebElement (session=\"d6223a968986e5dd1704432b641b9e8f\", element=\"ee6d33ea-3293-4dfc-b65c-aa878b523e13\")>,\n",
       " <selenium.webdriver.remote.webelement.WebElement (session=\"d6223a968986e5dd1704432b641b9e8f\", element=\"eac6c5d2-f3a9-4cfa-a9c4-d7ef3ce0c4e7\")>,\n",
       " <selenium.webdriver.remote.webelement.WebElement (session=\"d6223a968986e5dd1704432b641b9e8f\", element=\"b5f1199a-721a-45b7-a273-fac69009547f\")>,\n",
       " <selenium.webdriver.remote.webelement.WebElement (session=\"d6223a968986e5dd1704432b641b9e8f\", element=\"02ca8dd4-3f24-483c-b1c9-a9acea99d6c0\")>,\n",
       " <selenium.webdriver.remote.webelement.WebElement (session=\"d6223a968986e5dd1704432b641b9e8f\", element=\"6d563263-a407-4057-8aa2-17dce75619e4\")>,\n",
       " <selenium.webdriver.remote.webelement.WebElement (session=\"d6223a968986e5dd1704432b641b9e8f\", element=\"d288ca82-0ac1-484d-8dd0-14aef4f4ce78\")>,\n",
       " <selenium.webdriver.remote.webelement.WebElement (session=\"d6223a968986e5dd1704432b641b9e8f\", element=\"fe15a16e-d6b5-44b8-a727-1946d5f7a0cd\")>,\n",
       " <selenium.webdriver.remote.webelement.WebElement (session=\"d6223a968986e5dd1704432b641b9e8f\", element=\"3ebf34e6-22b2-496b-833f-97653007fd0a\")>,\n",
       " <selenium.webdriver.remote.webelement.WebElement (session=\"d6223a968986e5dd1704432b641b9e8f\", element=\"f82481ff-20b7-4b3f-aa91-44fe91ab533d\")>,\n",
       " <selenium.webdriver.remote.webelement.WebElement (session=\"d6223a968986e5dd1704432b641b9e8f\", element=\"698e0204-8936-4610-8a0e-610013e09a85\")>,\n",
       " <selenium.webdriver.remote.webelement.WebElement (session=\"d6223a968986e5dd1704432b641b9e8f\", element=\"932882d0-920a-4b77-a77b-11ad8f2af302\")>,\n",
       " <selenium.webdriver.remote.webelement.WebElement (session=\"d6223a968986e5dd1704432b641b9e8f\", element=\"951f9c04-1662-484c-af41-8f793ded13d7\")>,\n",
       " <selenium.webdriver.remote.webelement.WebElement (session=\"d6223a968986e5dd1704432b641b9e8f\", element=\"8872e3c3-e34d-4504-95b5-5df4e2b7e203\")>,\n",
       " <selenium.webdriver.remote.webelement.WebElement (session=\"d6223a968986e5dd1704432b641b9e8f\", element=\"d4af9691-a4f2-4d04-8543-ac25250498dd\")>,\n",
       " <selenium.webdriver.remote.webelement.WebElement (session=\"d6223a968986e5dd1704432b641b9e8f\", element=\"4d96b805-3842-471f-b4b2-978062e085c7\")>,\n",
       " <selenium.webdriver.remote.webelement.WebElement (session=\"d6223a968986e5dd1704432b641b9e8f\", element=\"8779e8fc-b86c-4c21-a17c-49508f6728b5\")>,\n",
       " <selenium.webdriver.remote.webelement.WebElement (session=\"d6223a968986e5dd1704432b641b9e8f\", element=\"6e849819-7006-4fad-9357-fb43675b0d5d\")>,\n",
       " <selenium.webdriver.remote.webelement.WebElement (session=\"d6223a968986e5dd1704432b641b9e8f\", element=\"4d97e7f4-5000-419b-84c6-d48063bded8e\")>,\n",
       " <selenium.webdriver.remote.webelement.WebElement (session=\"d6223a968986e5dd1704432b641b9e8f\", element=\"40339fce-9772-4eb6-b817-1d3edf078b4d\")>]"
      ]
     },
     "execution_count": 106,
     "metadata": {},
     "output_type": "execute_result"
    }
   ],
   "source": [
    "PD = driver.find_elements_by_xpath(\"//a['@class=IRpwTa']\")\n",
    "PD[81:100]"
   ]
  },
  {
   "cell_type": "code",
   "execution_count": null,
   "id": "43b4dd83",
   "metadata": {},
   "outputs": [],
   "source": [
    "for i in PD:\n",
    "    PD=i.text\n",
    "    PD.append(PD)\n",
    "PD[0:100]    "
   ]
  },
  {
   "cell_type": "code",
   "execution_count": 107,
   "id": "632adeeb",
   "metadata": {},
   "outputs": [
    {
     "name": "stderr",
     "output_type": "stream",
     "text": [
      "<ipython-input-107-285c1a1c064e>:1: DeprecationWarning: find_elements_by_* commands are deprecated. Please use find_elements() instead\n",
      "  price = driver.find_elements_by_xpath(\"//div['@class=_30jeq3']\")\n"
     ]
    },
    {
     "data": {
      "text/plain": [
       "[<selenium.webdriver.remote.webelement.WebElement (session=\"d6223a968986e5dd1704432b641b9e8f\", element=\"a9bbe25e-a051-4c2f-ad53-5ce102db265c\")>,\n",
       " <selenium.webdriver.remote.webelement.WebElement (session=\"d6223a968986e5dd1704432b641b9e8f\", element=\"9cef1f58-af07-4a76-93ce-82d151a00abe\")>,\n",
       " <selenium.webdriver.remote.webelement.WebElement (session=\"d6223a968986e5dd1704432b641b9e8f\", element=\"7c7bec6a-83dd-405f-8fcf-80d1ea3f79fd\")>,\n",
       " <selenium.webdriver.remote.webelement.WebElement (session=\"d6223a968986e5dd1704432b641b9e8f\", element=\"6b011728-596f-456e-917d-389276f5a552\")>,\n",
       " <selenium.webdriver.remote.webelement.WebElement (session=\"d6223a968986e5dd1704432b641b9e8f\", element=\"f0938bca-ae3d-4f05-97bf-25a175027edf\")>,\n",
       " <selenium.webdriver.remote.webelement.WebElement (session=\"d6223a968986e5dd1704432b641b9e8f\", element=\"46db112e-9d08-468d-bd9a-bc9ac45c8e4c\")>,\n",
       " <selenium.webdriver.remote.webelement.WebElement (session=\"d6223a968986e5dd1704432b641b9e8f\", element=\"8c431e74-644b-43a7-8513-c9a24d32f9f0\")>,\n",
       " <selenium.webdriver.remote.webelement.WebElement (session=\"d6223a968986e5dd1704432b641b9e8f\", element=\"6ba4b2da-8adc-43c1-835b-74ef2bb1ae47\")>,\n",
       " <selenium.webdriver.remote.webelement.WebElement (session=\"d6223a968986e5dd1704432b641b9e8f\", element=\"cddac497-8c0d-475d-bdfb-ffbcc982471e\")>,\n",
       " <selenium.webdriver.remote.webelement.WebElement (session=\"d6223a968986e5dd1704432b641b9e8f\", element=\"db4b7146-27aa-421e-86b3-c91fe47de25f\")>,\n",
       " <selenium.webdriver.remote.webelement.WebElement (session=\"d6223a968986e5dd1704432b641b9e8f\", element=\"ee74bde0-2043-4731-8f81-0973ea393910\")>,\n",
       " <selenium.webdriver.remote.webelement.WebElement (session=\"d6223a968986e5dd1704432b641b9e8f\", element=\"60a0fdb1-f8c2-4bc6-b6c4-0e2cb4c44017\")>,\n",
       " <selenium.webdriver.remote.webelement.WebElement (session=\"d6223a968986e5dd1704432b641b9e8f\", element=\"ebfa7c6b-0a0a-4c1b-bee1-9758e4063498\")>,\n",
       " <selenium.webdriver.remote.webelement.WebElement (session=\"d6223a968986e5dd1704432b641b9e8f\", element=\"9a263cd7-ea5f-408f-bb25-2b6d6c325c12\")>,\n",
       " <selenium.webdriver.remote.webelement.WebElement (session=\"d6223a968986e5dd1704432b641b9e8f\", element=\"51637672-acae-43d5-9e94-d10e4008632e\")>,\n",
       " <selenium.webdriver.remote.webelement.WebElement (session=\"d6223a968986e5dd1704432b641b9e8f\", element=\"afa4f593-30e7-48a5-8d9f-1b845f147ec0\")>,\n",
       " <selenium.webdriver.remote.webelement.WebElement (session=\"d6223a968986e5dd1704432b641b9e8f\", element=\"38bf3508-0f89-49aa-8f29-dcde8b2f90e4\")>,\n",
       " <selenium.webdriver.remote.webelement.WebElement (session=\"d6223a968986e5dd1704432b641b9e8f\", element=\"bb94d346-c47d-4b7d-8aee-cad5fc532be9\")>,\n",
       " <selenium.webdriver.remote.webelement.WebElement (session=\"d6223a968986e5dd1704432b641b9e8f\", element=\"742a8ca1-727a-4027-8fee-3716a37c751f\")>,\n",
       " <selenium.webdriver.remote.webelement.WebElement (session=\"d6223a968986e5dd1704432b641b9e8f\", element=\"3030531f-7a1a-465a-a3f8-8c3dc93052a0\")>,\n",
       " <selenium.webdriver.remote.webelement.WebElement (session=\"d6223a968986e5dd1704432b641b9e8f\", element=\"8cff9e89-82a4-467a-b81f-ef0f9627895f\")>,\n",
       " <selenium.webdriver.remote.webelement.WebElement (session=\"d6223a968986e5dd1704432b641b9e8f\", element=\"0f99122d-2c0a-4819-924a-42004913e24a\")>,\n",
       " <selenium.webdriver.remote.webelement.WebElement (session=\"d6223a968986e5dd1704432b641b9e8f\", element=\"a5d5aa99-69a0-4f5d-8a5f-b962714c380e\")>,\n",
       " <selenium.webdriver.remote.webelement.WebElement (session=\"d6223a968986e5dd1704432b641b9e8f\", element=\"415783c0-1633-4059-964b-f03f33478fe4\")>,\n",
       " <selenium.webdriver.remote.webelement.WebElement (session=\"d6223a968986e5dd1704432b641b9e8f\", element=\"f62d4b06-9fee-4442-af1d-a0c2a763ad94\")>,\n",
       " <selenium.webdriver.remote.webelement.WebElement (session=\"d6223a968986e5dd1704432b641b9e8f\", element=\"5101b8b1-4370-4520-bb12-10fedf09d02a\")>,\n",
       " <selenium.webdriver.remote.webelement.WebElement (session=\"d6223a968986e5dd1704432b641b9e8f\", element=\"42c69af0-9dfa-490e-bac7-9bc6b497476a\")>,\n",
       " <selenium.webdriver.remote.webelement.WebElement (session=\"d6223a968986e5dd1704432b641b9e8f\", element=\"24714d3d-b8ab-442a-8648-34de8f023900\")>,\n",
       " <selenium.webdriver.remote.webelement.WebElement (session=\"d6223a968986e5dd1704432b641b9e8f\", element=\"1de99fc2-32e9-402c-a864-4b7ea15a2019\")>,\n",
       " <selenium.webdriver.remote.webelement.WebElement (session=\"d6223a968986e5dd1704432b641b9e8f\", element=\"132dc1b0-6054-4921-b151-22623069a720\")>,\n",
       " <selenium.webdriver.remote.webelement.WebElement (session=\"d6223a968986e5dd1704432b641b9e8f\", element=\"44953463-ed33-4f54-a6cf-090ecb458dc7\")>,\n",
       " <selenium.webdriver.remote.webelement.WebElement (session=\"d6223a968986e5dd1704432b641b9e8f\", element=\"4402b0df-a4ea-4cca-b284-81db9eb4663d\")>,\n",
       " <selenium.webdriver.remote.webelement.WebElement (session=\"d6223a968986e5dd1704432b641b9e8f\", element=\"47a0dcfc-04ad-49f4-9e79-bc668c269dec\")>,\n",
       " <selenium.webdriver.remote.webelement.WebElement (session=\"d6223a968986e5dd1704432b641b9e8f\", element=\"6625afda-e15c-41d2-8302-31bd6add4c90\")>,\n",
       " <selenium.webdriver.remote.webelement.WebElement (session=\"d6223a968986e5dd1704432b641b9e8f\", element=\"700d7c15-3dde-4180-9955-8955edb5dce7\")>,\n",
       " <selenium.webdriver.remote.webelement.WebElement (session=\"d6223a968986e5dd1704432b641b9e8f\", element=\"f0ef8cc2-5195-4eb0-b9b9-90e4a5f32c1c\")>,\n",
       " <selenium.webdriver.remote.webelement.WebElement (session=\"d6223a968986e5dd1704432b641b9e8f\", element=\"9faf14ca-d6e0-4e07-a175-d26d2dce35d8\")>,\n",
       " <selenium.webdriver.remote.webelement.WebElement (session=\"d6223a968986e5dd1704432b641b9e8f\", element=\"2a78cf1d-4164-4372-b418-bb3a0066a387\")>,\n",
       " <selenium.webdriver.remote.webelement.WebElement (session=\"d6223a968986e5dd1704432b641b9e8f\", element=\"d9502f76-76ab-48e5-b217-d5bda61ef5b9\")>,\n",
       " <selenium.webdriver.remote.webelement.WebElement (session=\"d6223a968986e5dd1704432b641b9e8f\", element=\"76eb88b7-1ee8-4939-aa02-22a863fb9788\")>]"
      ]
     },
     "execution_count": 107,
     "metadata": {},
     "output_type": "execute_result"
    }
   ],
   "source": [
    "price = driver.find_elements_by_xpath(\"//div['@class=_30jeq3']\")\n",
    "price[0:40]"
   ]
  },
  {
   "cell_type": "code",
   "execution_count": 108,
   "id": "2606a94e",
   "metadata": {},
   "outputs": [
    {
     "name": "stderr",
     "output_type": "stream",
     "text": [
      "<ipython-input-108-169d265e03ca>:1: DeprecationWarning: find_elements_by_* commands are deprecated. Please use find_elements() instead\n",
      "  price = driver.find_elements_by_xpath(\"//div['@class=_30jeq3']\")\n"
     ]
    },
    {
     "data": {
      "text/plain": [
       "[<selenium.webdriver.remote.webelement.WebElement (session=\"d6223a968986e5dd1704432b641b9e8f\", element=\"73982102-e5b5-4006-807f-6e1aba7ab076\")>,\n",
       " <selenium.webdriver.remote.webelement.WebElement (session=\"d6223a968986e5dd1704432b641b9e8f\", element=\"b343b4c0-96a9-4c9e-8d71-80522a0a09aa\")>,\n",
       " <selenium.webdriver.remote.webelement.WebElement (session=\"d6223a968986e5dd1704432b641b9e8f\", element=\"dba81e96-51b2-4882-9a0c-90f4cb1ae862\")>,\n",
       " <selenium.webdriver.remote.webelement.WebElement (session=\"d6223a968986e5dd1704432b641b9e8f\", element=\"85ed69f9-0cae-4262-a47e-95d4a1471de3\")>,\n",
       " <selenium.webdriver.remote.webelement.WebElement (session=\"d6223a968986e5dd1704432b641b9e8f\", element=\"63687fb4-a04a-4213-9d53-7feaec5335b6\")>,\n",
       " <selenium.webdriver.remote.webelement.WebElement (session=\"d6223a968986e5dd1704432b641b9e8f\", element=\"8c6df82c-8919-4473-907e-6da9d2a601bc\")>,\n",
       " <selenium.webdriver.remote.webelement.WebElement (session=\"d6223a968986e5dd1704432b641b9e8f\", element=\"f86a91a1-ad07-414c-bda1-5b1d7383342b\")>,\n",
       " <selenium.webdriver.remote.webelement.WebElement (session=\"d6223a968986e5dd1704432b641b9e8f\", element=\"15938996-1296-427d-8318-809afe5b0f10\")>,\n",
       " <selenium.webdriver.remote.webelement.WebElement (session=\"d6223a968986e5dd1704432b641b9e8f\", element=\"4f0db63c-1c7f-4117-8861-2d3956812288\")>,\n",
       " <selenium.webdriver.remote.webelement.WebElement (session=\"d6223a968986e5dd1704432b641b9e8f\", element=\"11d805f7-9f32-4be0-ab27-cf7322de1512\")>,\n",
       " <selenium.webdriver.remote.webelement.WebElement (session=\"d6223a968986e5dd1704432b641b9e8f\", element=\"7b83bd90-c07d-417f-89e1-ed6380974f13\")>,\n",
       " <selenium.webdriver.remote.webelement.WebElement (session=\"d6223a968986e5dd1704432b641b9e8f\", element=\"5e73ebae-2d5b-400b-80fc-ad22195f45c4\")>,\n",
       " <selenium.webdriver.remote.webelement.WebElement (session=\"d6223a968986e5dd1704432b641b9e8f\", element=\"c2df8e88-6ec7-42f4-90b9-0f043c8fe66e\")>,\n",
       " <selenium.webdriver.remote.webelement.WebElement (session=\"d6223a968986e5dd1704432b641b9e8f\", element=\"f50e26bb-7ee2-423a-a711-ba3ae48fb3f9\")>,\n",
       " <selenium.webdriver.remote.webelement.WebElement (session=\"d6223a968986e5dd1704432b641b9e8f\", element=\"676aa74f-3b51-4252-a5ed-36cb1a43a563\")>,\n",
       " <selenium.webdriver.remote.webelement.WebElement (session=\"d6223a968986e5dd1704432b641b9e8f\", element=\"8db5b733-0440-4649-a03e-055a6f7f23ea\")>,\n",
       " <selenium.webdriver.remote.webelement.WebElement (session=\"d6223a968986e5dd1704432b641b9e8f\", element=\"5b459c4d-281b-4c89-8770-c6abc40df489\")>,\n",
       " <selenium.webdriver.remote.webelement.WebElement (session=\"d6223a968986e5dd1704432b641b9e8f\", element=\"11d6b222-98a9-48e6-91d0-0dc95af5e2cd\")>,\n",
       " <selenium.webdriver.remote.webelement.WebElement (session=\"d6223a968986e5dd1704432b641b9e8f\", element=\"b5bc7494-0b9e-432f-a8e8-4696074b2f8e\")>,\n",
       " <selenium.webdriver.remote.webelement.WebElement (session=\"d6223a968986e5dd1704432b641b9e8f\", element=\"88598259-8a00-4155-8e73-344e8ae7a116\")>,\n",
       " <selenium.webdriver.remote.webelement.WebElement (session=\"d6223a968986e5dd1704432b641b9e8f\", element=\"fe4af6b0-0802-4598-990c-4933d0ab3c36\")>,\n",
       " <selenium.webdriver.remote.webelement.WebElement (session=\"d6223a968986e5dd1704432b641b9e8f\", element=\"68b022a1-2ca2-4dae-8294-ce842dc85273\")>,\n",
       " <selenium.webdriver.remote.webelement.WebElement (session=\"d6223a968986e5dd1704432b641b9e8f\", element=\"727366a6-817d-47ff-9331-39df87fe5c46\")>,\n",
       " <selenium.webdriver.remote.webelement.WebElement (session=\"d6223a968986e5dd1704432b641b9e8f\", element=\"ad7d704d-ac93-4c98-8810-de0b0c94b8a7\")>,\n",
       " <selenium.webdriver.remote.webelement.WebElement (session=\"d6223a968986e5dd1704432b641b9e8f\", element=\"0d716088-b8a0-4178-8243-f8e8d83626f8\")>,\n",
       " <selenium.webdriver.remote.webelement.WebElement (session=\"d6223a968986e5dd1704432b641b9e8f\", element=\"d0393214-a61a-4841-896e-7ff395b129ee\")>,\n",
       " <selenium.webdriver.remote.webelement.WebElement (session=\"d6223a968986e5dd1704432b641b9e8f\", element=\"ca9d70e7-6c1a-4fb1-a38a-9cdd9a819b13\")>,\n",
       " <selenium.webdriver.remote.webelement.WebElement (session=\"d6223a968986e5dd1704432b641b9e8f\", element=\"479d481e-5dd1-4f25-891f-cc9a5427c5ff\")>,\n",
       " <selenium.webdriver.remote.webelement.WebElement (session=\"d6223a968986e5dd1704432b641b9e8f\", element=\"e22bf841-5432-4d80-902b-b51260230d2b\")>,\n",
       " <selenium.webdriver.remote.webelement.WebElement (session=\"d6223a968986e5dd1704432b641b9e8f\", element=\"82da9b68-5024-4f4d-856c-5e915aafeb27\")>,\n",
       " <selenium.webdriver.remote.webelement.WebElement (session=\"d6223a968986e5dd1704432b641b9e8f\", element=\"091fcf80-c8ed-45bd-86e2-5e78dc82504c\")>,\n",
       " <selenium.webdriver.remote.webelement.WebElement (session=\"d6223a968986e5dd1704432b641b9e8f\", element=\"2330d286-1f21-407d-9253-fdb6c6393004\")>,\n",
       " <selenium.webdriver.remote.webelement.WebElement (session=\"d6223a968986e5dd1704432b641b9e8f\", element=\"17067b21-4600-4758-9194-a21eecbb784b\")>,\n",
       " <selenium.webdriver.remote.webelement.WebElement (session=\"d6223a968986e5dd1704432b641b9e8f\", element=\"39bf62da-366e-4eb8-90e8-5614bc0898e1\")>,\n",
       " <selenium.webdriver.remote.webelement.WebElement (session=\"d6223a968986e5dd1704432b641b9e8f\", element=\"d0a5ca11-20ec-4cb6-b68e-2f965a3a8711\")>,\n",
       " <selenium.webdriver.remote.webelement.WebElement (session=\"d6223a968986e5dd1704432b641b9e8f\", element=\"3098e663-f638-4904-8760-e92147732a0f\")>,\n",
       " <selenium.webdriver.remote.webelement.WebElement (session=\"d6223a968986e5dd1704432b641b9e8f\", element=\"be2507e2-698e-4d15-ab97-6bd9ee62d73d\")>,\n",
       " <selenium.webdriver.remote.webelement.WebElement (session=\"d6223a968986e5dd1704432b641b9e8f\", element=\"1aab9d41-6d98-4604-9d25-9b87a528041e\")>,\n",
       " <selenium.webdriver.remote.webelement.WebElement (session=\"d6223a968986e5dd1704432b641b9e8f\", element=\"75f843ff-26f9-4673-b43b-83bd1dbb3950\")>]"
      ]
     },
     "execution_count": 108,
     "metadata": {},
     "output_type": "execute_result"
    }
   ],
   "source": [
    "price = driver.find_elements_by_xpath(\"//div['@class=_30jeq3']\")\n",
    "price[41:80]"
   ]
  },
  {
   "cell_type": "code",
   "execution_count": 109,
   "id": "b47eba72",
   "metadata": {},
   "outputs": [
    {
     "name": "stderr",
     "output_type": "stream",
     "text": [
      "<ipython-input-109-c4dde0b94b13>:1: DeprecationWarning: find_elements_by_* commands are deprecated. Please use find_elements() instead\n",
      "  price = driver.find_elements_by_xpath(\"//div['@class=_30jeq3']\")\n"
     ]
    },
    {
     "data": {
      "text/plain": [
       "[<selenium.webdriver.remote.webelement.WebElement (session=\"d6223a968986e5dd1704432b641b9e8f\", element=\"df81cdce-ed69-474d-8e61-5ba22b1b7162\")>,\n",
       " <selenium.webdriver.remote.webelement.WebElement (session=\"d6223a968986e5dd1704432b641b9e8f\", element=\"38aca94d-3aaf-48d9-8449-e7f5089467b3\")>,\n",
       " <selenium.webdriver.remote.webelement.WebElement (session=\"d6223a968986e5dd1704432b641b9e8f\", element=\"0275249a-cf0b-4d85-b79b-5d136c1fa88b\")>,\n",
       " <selenium.webdriver.remote.webelement.WebElement (session=\"d6223a968986e5dd1704432b641b9e8f\", element=\"482c3595-6ff3-4ed7-a57c-71041505e66f\")>,\n",
       " <selenium.webdriver.remote.webelement.WebElement (session=\"d6223a968986e5dd1704432b641b9e8f\", element=\"2e73a06c-0a3f-4a86-93d9-866a278b839a\")>,\n",
       " <selenium.webdriver.remote.webelement.WebElement (session=\"d6223a968986e5dd1704432b641b9e8f\", element=\"c9fe8adb-a591-4aba-844f-ebf16d097a22\")>,\n",
       " <selenium.webdriver.remote.webelement.WebElement (session=\"d6223a968986e5dd1704432b641b9e8f\", element=\"9078a39c-3f6d-4b60-83c8-5b3ee6118c19\")>,\n",
       " <selenium.webdriver.remote.webelement.WebElement (session=\"d6223a968986e5dd1704432b641b9e8f\", element=\"d2ff4556-d69b-4f10-9e06-ea6ac63354b3\")>,\n",
       " <selenium.webdriver.remote.webelement.WebElement (session=\"d6223a968986e5dd1704432b641b9e8f\", element=\"b5047002-64e0-4817-ae9a-3555f4de8048\")>,\n",
       " <selenium.webdriver.remote.webelement.WebElement (session=\"d6223a968986e5dd1704432b641b9e8f\", element=\"4112c019-6a69-44d5-a361-fb6c574774d7\")>,\n",
       " <selenium.webdriver.remote.webelement.WebElement (session=\"d6223a968986e5dd1704432b641b9e8f\", element=\"2a84df08-1bef-4ccb-88b8-71fd3b650cc1\")>,\n",
       " <selenium.webdriver.remote.webelement.WebElement (session=\"d6223a968986e5dd1704432b641b9e8f\", element=\"73b4da7e-adb8-49ad-8f5b-7de2cab6d8ee\")>,\n",
       " <selenium.webdriver.remote.webelement.WebElement (session=\"d6223a968986e5dd1704432b641b9e8f\", element=\"72fc35a1-d179-4711-92b1-7a94d4cf6410\")>,\n",
       " <selenium.webdriver.remote.webelement.WebElement (session=\"d6223a968986e5dd1704432b641b9e8f\", element=\"725a4580-5407-4ae8-9c11-fd748cb980c0\")>,\n",
       " <selenium.webdriver.remote.webelement.WebElement (session=\"d6223a968986e5dd1704432b641b9e8f\", element=\"d42511ee-011f-4d4e-82cc-0d0389e14c2c\")>,\n",
       " <selenium.webdriver.remote.webelement.WebElement (session=\"d6223a968986e5dd1704432b641b9e8f\", element=\"7fc1473c-9f5e-4504-9554-a4a64e883783\")>,\n",
       " <selenium.webdriver.remote.webelement.WebElement (session=\"d6223a968986e5dd1704432b641b9e8f\", element=\"d5fe551f-88c5-4450-993a-a9c091fc957b\")>,\n",
       " <selenium.webdriver.remote.webelement.WebElement (session=\"d6223a968986e5dd1704432b641b9e8f\", element=\"d3ccdecb-f9ca-44af-99d3-267f9703b170\")>,\n",
       " <selenium.webdriver.remote.webelement.WebElement (session=\"d6223a968986e5dd1704432b641b9e8f\", element=\"9c4ef475-7b88-43d8-8d43-7eccbded81f4\")>]"
      ]
     },
     "execution_count": 109,
     "metadata": {},
     "output_type": "execute_result"
    }
   ],
   "source": [
    "price = driver.find_elements_by_xpath(\"//div['@class=_30jeq3']\")\n",
    "price[81:100]"
   ]
  },
  {
   "cell_type": "code",
   "execution_count": null,
   "id": "940d6ace",
   "metadata": {},
   "outputs": [],
   "source": [
    "for i in price:\n",
    "    price=i.text\n",
    "    price.append(price)\n",
    "price[0:100]    "
   ]
  },
  {
   "cell_type": "code",
   "execution_count": 110,
   "id": "28dd6dc4",
   "metadata": {},
   "outputs": [
    {
     "name": "stderr",
     "output_type": "stream",
     "text": [
      "<ipython-input-110-13a397dac45c>:1: DeprecationWarning: find_elements_by_* commands are deprecated. Please use find_elements() instead\n",
      "  offer = driver.find_elements_by_xpath(\"//div['@class=_3Ay6Sb']\")\n"
     ]
    },
    {
     "data": {
      "text/plain": [
       "[<selenium.webdriver.remote.webelement.WebElement (session=\"d6223a968986e5dd1704432b641b9e8f\", element=\"a9bbe25e-a051-4c2f-ad53-5ce102db265c\")>,\n",
       " <selenium.webdriver.remote.webelement.WebElement (session=\"d6223a968986e5dd1704432b641b9e8f\", element=\"9cef1f58-af07-4a76-93ce-82d151a00abe\")>,\n",
       " <selenium.webdriver.remote.webelement.WebElement (session=\"d6223a968986e5dd1704432b641b9e8f\", element=\"7c7bec6a-83dd-405f-8fcf-80d1ea3f79fd\")>,\n",
       " <selenium.webdriver.remote.webelement.WebElement (session=\"d6223a968986e5dd1704432b641b9e8f\", element=\"6b011728-596f-456e-917d-389276f5a552\")>,\n",
       " <selenium.webdriver.remote.webelement.WebElement (session=\"d6223a968986e5dd1704432b641b9e8f\", element=\"f0938bca-ae3d-4f05-97bf-25a175027edf\")>,\n",
       " <selenium.webdriver.remote.webelement.WebElement (session=\"d6223a968986e5dd1704432b641b9e8f\", element=\"46db112e-9d08-468d-bd9a-bc9ac45c8e4c\")>,\n",
       " <selenium.webdriver.remote.webelement.WebElement (session=\"d6223a968986e5dd1704432b641b9e8f\", element=\"8c431e74-644b-43a7-8513-c9a24d32f9f0\")>,\n",
       " <selenium.webdriver.remote.webelement.WebElement (session=\"d6223a968986e5dd1704432b641b9e8f\", element=\"6ba4b2da-8adc-43c1-835b-74ef2bb1ae47\")>,\n",
       " <selenium.webdriver.remote.webelement.WebElement (session=\"d6223a968986e5dd1704432b641b9e8f\", element=\"cddac497-8c0d-475d-bdfb-ffbcc982471e\")>,\n",
       " <selenium.webdriver.remote.webelement.WebElement (session=\"d6223a968986e5dd1704432b641b9e8f\", element=\"db4b7146-27aa-421e-86b3-c91fe47de25f\")>,\n",
       " <selenium.webdriver.remote.webelement.WebElement (session=\"d6223a968986e5dd1704432b641b9e8f\", element=\"ee74bde0-2043-4731-8f81-0973ea393910\")>,\n",
       " <selenium.webdriver.remote.webelement.WebElement (session=\"d6223a968986e5dd1704432b641b9e8f\", element=\"60a0fdb1-f8c2-4bc6-b6c4-0e2cb4c44017\")>,\n",
       " <selenium.webdriver.remote.webelement.WebElement (session=\"d6223a968986e5dd1704432b641b9e8f\", element=\"ebfa7c6b-0a0a-4c1b-bee1-9758e4063498\")>,\n",
       " <selenium.webdriver.remote.webelement.WebElement (session=\"d6223a968986e5dd1704432b641b9e8f\", element=\"9a263cd7-ea5f-408f-bb25-2b6d6c325c12\")>,\n",
       " <selenium.webdriver.remote.webelement.WebElement (session=\"d6223a968986e5dd1704432b641b9e8f\", element=\"51637672-acae-43d5-9e94-d10e4008632e\")>,\n",
       " <selenium.webdriver.remote.webelement.WebElement (session=\"d6223a968986e5dd1704432b641b9e8f\", element=\"afa4f593-30e7-48a5-8d9f-1b845f147ec0\")>,\n",
       " <selenium.webdriver.remote.webelement.WebElement (session=\"d6223a968986e5dd1704432b641b9e8f\", element=\"38bf3508-0f89-49aa-8f29-dcde8b2f90e4\")>,\n",
       " <selenium.webdriver.remote.webelement.WebElement (session=\"d6223a968986e5dd1704432b641b9e8f\", element=\"bb94d346-c47d-4b7d-8aee-cad5fc532be9\")>,\n",
       " <selenium.webdriver.remote.webelement.WebElement (session=\"d6223a968986e5dd1704432b641b9e8f\", element=\"742a8ca1-727a-4027-8fee-3716a37c751f\")>,\n",
       " <selenium.webdriver.remote.webelement.WebElement (session=\"d6223a968986e5dd1704432b641b9e8f\", element=\"3030531f-7a1a-465a-a3f8-8c3dc93052a0\")>,\n",
       " <selenium.webdriver.remote.webelement.WebElement (session=\"d6223a968986e5dd1704432b641b9e8f\", element=\"8cff9e89-82a4-467a-b81f-ef0f9627895f\")>,\n",
       " <selenium.webdriver.remote.webelement.WebElement (session=\"d6223a968986e5dd1704432b641b9e8f\", element=\"0f99122d-2c0a-4819-924a-42004913e24a\")>,\n",
       " <selenium.webdriver.remote.webelement.WebElement (session=\"d6223a968986e5dd1704432b641b9e8f\", element=\"a5d5aa99-69a0-4f5d-8a5f-b962714c380e\")>,\n",
       " <selenium.webdriver.remote.webelement.WebElement (session=\"d6223a968986e5dd1704432b641b9e8f\", element=\"415783c0-1633-4059-964b-f03f33478fe4\")>,\n",
       " <selenium.webdriver.remote.webelement.WebElement (session=\"d6223a968986e5dd1704432b641b9e8f\", element=\"f62d4b06-9fee-4442-af1d-a0c2a763ad94\")>,\n",
       " <selenium.webdriver.remote.webelement.WebElement (session=\"d6223a968986e5dd1704432b641b9e8f\", element=\"5101b8b1-4370-4520-bb12-10fedf09d02a\")>,\n",
       " <selenium.webdriver.remote.webelement.WebElement (session=\"d6223a968986e5dd1704432b641b9e8f\", element=\"42c69af0-9dfa-490e-bac7-9bc6b497476a\")>,\n",
       " <selenium.webdriver.remote.webelement.WebElement (session=\"d6223a968986e5dd1704432b641b9e8f\", element=\"24714d3d-b8ab-442a-8648-34de8f023900\")>,\n",
       " <selenium.webdriver.remote.webelement.WebElement (session=\"d6223a968986e5dd1704432b641b9e8f\", element=\"1de99fc2-32e9-402c-a864-4b7ea15a2019\")>,\n",
       " <selenium.webdriver.remote.webelement.WebElement (session=\"d6223a968986e5dd1704432b641b9e8f\", element=\"132dc1b0-6054-4921-b151-22623069a720\")>,\n",
       " <selenium.webdriver.remote.webelement.WebElement (session=\"d6223a968986e5dd1704432b641b9e8f\", element=\"44953463-ed33-4f54-a6cf-090ecb458dc7\")>,\n",
       " <selenium.webdriver.remote.webelement.WebElement (session=\"d6223a968986e5dd1704432b641b9e8f\", element=\"4402b0df-a4ea-4cca-b284-81db9eb4663d\")>,\n",
       " <selenium.webdriver.remote.webelement.WebElement (session=\"d6223a968986e5dd1704432b641b9e8f\", element=\"47a0dcfc-04ad-49f4-9e79-bc668c269dec\")>,\n",
       " <selenium.webdriver.remote.webelement.WebElement (session=\"d6223a968986e5dd1704432b641b9e8f\", element=\"6625afda-e15c-41d2-8302-31bd6add4c90\")>,\n",
       " <selenium.webdriver.remote.webelement.WebElement (session=\"d6223a968986e5dd1704432b641b9e8f\", element=\"700d7c15-3dde-4180-9955-8955edb5dce7\")>,\n",
       " <selenium.webdriver.remote.webelement.WebElement (session=\"d6223a968986e5dd1704432b641b9e8f\", element=\"f0ef8cc2-5195-4eb0-b9b9-90e4a5f32c1c\")>,\n",
       " <selenium.webdriver.remote.webelement.WebElement (session=\"d6223a968986e5dd1704432b641b9e8f\", element=\"9faf14ca-d6e0-4e07-a175-d26d2dce35d8\")>,\n",
       " <selenium.webdriver.remote.webelement.WebElement (session=\"d6223a968986e5dd1704432b641b9e8f\", element=\"2a78cf1d-4164-4372-b418-bb3a0066a387\")>,\n",
       " <selenium.webdriver.remote.webelement.WebElement (session=\"d6223a968986e5dd1704432b641b9e8f\", element=\"d9502f76-76ab-48e5-b217-d5bda61ef5b9\")>,\n",
       " <selenium.webdriver.remote.webelement.WebElement (session=\"d6223a968986e5dd1704432b641b9e8f\", element=\"76eb88b7-1ee8-4939-aa02-22a863fb9788\")>]"
      ]
     },
     "execution_count": 110,
     "metadata": {},
     "output_type": "execute_result"
    }
   ],
   "source": [
    "offer = driver.find_elements_by_xpath(\"//div['@class=_3Ay6Sb']\")\n",
    "offer[0:40]"
   ]
  },
  {
   "cell_type": "code",
   "execution_count": 111,
   "id": "02afc69e",
   "metadata": {},
   "outputs": [
    {
     "name": "stderr",
     "output_type": "stream",
     "text": [
      "<ipython-input-111-36b2ad2dc908>:1: DeprecationWarning: find_elements_by_* commands are deprecated. Please use find_elements() instead\n",
      "  offer = driver.find_elements_by_xpath(\"//div['@class=_3Ay6Sb']\")\n"
     ]
    },
    {
     "data": {
      "text/plain": [
       "[<selenium.webdriver.remote.webelement.WebElement (session=\"d6223a968986e5dd1704432b641b9e8f\", element=\"73982102-e5b5-4006-807f-6e1aba7ab076\")>,\n",
       " <selenium.webdriver.remote.webelement.WebElement (session=\"d6223a968986e5dd1704432b641b9e8f\", element=\"b343b4c0-96a9-4c9e-8d71-80522a0a09aa\")>,\n",
       " <selenium.webdriver.remote.webelement.WebElement (session=\"d6223a968986e5dd1704432b641b9e8f\", element=\"dba81e96-51b2-4882-9a0c-90f4cb1ae862\")>,\n",
       " <selenium.webdriver.remote.webelement.WebElement (session=\"d6223a968986e5dd1704432b641b9e8f\", element=\"85ed69f9-0cae-4262-a47e-95d4a1471de3\")>,\n",
       " <selenium.webdriver.remote.webelement.WebElement (session=\"d6223a968986e5dd1704432b641b9e8f\", element=\"63687fb4-a04a-4213-9d53-7feaec5335b6\")>,\n",
       " <selenium.webdriver.remote.webelement.WebElement (session=\"d6223a968986e5dd1704432b641b9e8f\", element=\"8c6df82c-8919-4473-907e-6da9d2a601bc\")>,\n",
       " <selenium.webdriver.remote.webelement.WebElement (session=\"d6223a968986e5dd1704432b641b9e8f\", element=\"f86a91a1-ad07-414c-bda1-5b1d7383342b\")>,\n",
       " <selenium.webdriver.remote.webelement.WebElement (session=\"d6223a968986e5dd1704432b641b9e8f\", element=\"15938996-1296-427d-8318-809afe5b0f10\")>,\n",
       " <selenium.webdriver.remote.webelement.WebElement (session=\"d6223a968986e5dd1704432b641b9e8f\", element=\"4f0db63c-1c7f-4117-8861-2d3956812288\")>,\n",
       " <selenium.webdriver.remote.webelement.WebElement (session=\"d6223a968986e5dd1704432b641b9e8f\", element=\"11d805f7-9f32-4be0-ab27-cf7322de1512\")>,\n",
       " <selenium.webdriver.remote.webelement.WebElement (session=\"d6223a968986e5dd1704432b641b9e8f\", element=\"7b83bd90-c07d-417f-89e1-ed6380974f13\")>,\n",
       " <selenium.webdriver.remote.webelement.WebElement (session=\"d6223a968986e5dd1704432b641b9e8f\", element=\"5e73ebae-2d5b-400b-80fc-ad22195f45c4\")>,\n",
       " <selenium.webdriver.remote.webelement.WebElement (session=\"d6223a968986e5dd1704432b641b9e8f\", element=\"c2df8e88-6ec7-42f4-90b9-0f043c8fe66e\")>,\n",
       " <selenium.webdriver.remote.webelement.WebElement (session=\"d6223a968986e5dd1704432b641b9e8f\", element=\"f50e26bb-7ee2-423a-a711-ba3ae48fb3f9\")>,\n",
       " <selenium.webdriver.remote.webelement.WebElement (session=\"d6223a968986e5dd1704432b641b9e8f\", element=\"676aa74f-3b51-4252-a5ed-36cb1a43a563\")>,\n",
       " <selenium.webdriver.remote.webelement.WebElement (session=\"d6223a968986e5dd1704432b641b9e8f\", element=\"8db5b733-0440-4649-a03e-055a6f7f23ea\")>,\n",
       " <selenium.webdriver.remote.webelement.WebElement (session=\"d6223a968986e5dd1704432b641b9e8f\", element=\"5b459c4d-281b-4c89-8770-c6abc40df489\")>,\n",
       " <selenium.webdriver.remote.webelement.WebElement (session=\"d6223a968986e5dd1704432b641b9e8f\", element=\"11d6b222-98a9-48e6-91d0-0dc95af5e2cd\")>,\n",
       " <selenium.webdriver.remote.webelement.WebElement (session=\"d6223a968986e5dd1704432b641b9e8f\", element=\"b5bc7494-0b9e-432f-a8e8-4696074b2f8e\")>,\n",
       " <selenium.webdriver.remote.webelement.WebElement (session=\"d6223a968986e5dd1704432b641b9e8f\", element=\"88598259-8a00-4155-8e73-344e8ae7a116\")>,\n",
       " <selenium.webdriver.remote.webelement.WebElement (session=\"d6223a968986e5dd1704432b641b9e8f\", element=\"fe4af6b0-0802-4598-990c-4933d0ab3c36\")>,\n",
       " <selenium.webdriver.remote.webelement.WebElement (session=\"d6223a968986e5dd1704432b641b9e8f\", element=\"68b022a1-2ca2-4dae-8294-ce842dc85273\")>,\n",
       " <selenium.webdriver.remote.webelement.WebElement (session=\"d6223a968986e5dd1704432b641b9e8f\", element=\"727366a6-817d-47ff-9331-39df87fe5c46\")>,\n",
       " <selenium.webdriver.remote.webelement.WebElement (session=\"d6223a968986e5dd1704432b641b9e8f\", element=\"ad7d704d-ac93-4c98-8810-de0b0c94b8a7\")>,\n",
       " <selenium.webdriver.remote.webelement.WebElement (session=\"d6223a968986e5dd1704432b641b9e8f\", element=\"0d716088-b8a0-4178-8243-f8e8d83626f8\")>,\n",
       " <selenium.webdriver.remote.webelement.WebElement (session=\"d6223a968986e5dd1704432b641b9e8f\", element=\"d0393214-a61a-4841-896e-7ff395b129ee\")>,\n",
       " <selenium.webdriver.remote.webelement.WebElement (session=\"d6223a968986e5dd1704432b641b9e8f\", element=\"ca9d70e7-6c1a-4fb1-a38a-9cdd9a819b13\")>,\n",
       " <selenium.webdriver.remote.webelement.WebElement (session=\"d6223a968986e5dd1704432b641b9e8f\", element=\"479d481e-5dd1-4f25-891f-cc9a5427c5ff\")>,\n",
       " <selenium.webdriver.remote.webelement.WebElement (session=\"d6223a968986e5dd1704432b641b9e8f\", element=\"e22bf841-5432-4d80-902b-b51260230d2b\")>,\n",
       " <selenium.webdriver.remote.webelement.WebElement (session=\"d6223a968986e5dd1704432b641b9e8f\", element=\"82da9b68-5024-4f4d-856c-5e915aafeb27\")>,\n",
       " <selenium.webdriver.remote.webelement.WebElement (session=\"d6223a968986e5dd1704432b641b9e8f\", element=\"091fcf80-c8ed-45bd-86e2-5e78dc82504c\")>,\n",
       " <selenium.webdriver.remote.webelement.WebElement (session=\"d6223a968986e5dd1704432b641b9e8f\", element=\"2330d286-1f21-407d-9253-fdb6c6393004\")>,\n",
       " <selenium.webdriver.remote.webelement.WebElement (session=\"d6223a968986e5dd1704432b641b9e8f\", element=\"17067b21-4600-4758-9194-a21eecbb784b\")>,\n",
       " <selenium.webdriver.remote.webelement.WebElement (session=\"d6223a968986e5dd1704432b641b9e8f\", element=\"39bf62da-366e-4eb8-90e8-5614bc0898e1\")>,\n",
       " <selenium.webdriver.remote.webelement.WebElement (session=\"d6223a968986e5dd1704432b641b9e8f\", element=\"d0a5ca11-20ec-4cb6-b68e-2f965a3a8711\")>,\n",
       " <selenium.webdriver.remote.webelement.WebElement (session=\"d6223a968986e5dd1704432b641b9e8f\", element=\"3098e663-f638-4904-8760-e92147732a0f\")>,\n",
       " <selenium.webdriver.remote.webelement.WebElement (session=\"d6223a968986e5dd1704432b641b9e8f\", element=\"be2507e2-698e-4d15-ab97-6bd9ee62d73d\")>,\n",
       " <selenium.webdriver.remote.webelement.WebElement (session=\"d6223a968986e5dd1704432b641b9e8f\", element=\"1aab9d41-6d98-4604-9d25-9b87a528041e\")>,\n",
       " <selenium.webdriver.remote.webelement.WebElement (session=\"d6223a968986e5dd1704432b641b9e8f\", element=\"75f843ff-26f9-4673-b43b-83bd1dbb3950\")>]"
      ]
     },
     "execution_count": 111,
     "metadata": {},
     "output_type": "execute_result"
    }
   ],
   "source": [
    "offer = driver.find_elements_by_xpath(\"//div['@class=_3Ay6Sb']\")\n",
    "offer[41:80]"
   ]
  },
  {
   "cell_type": "code",
   "execution_count": 112,
   "id": "427f109c",
   "metadata": {},
   "outputs": [
    {
     "name": "stderr",
     "output_type": "stream",
     "text": [
      "<ipython-input-112-7fb2061020e1>:1: DeprecationWarning: find_elements_by_* commands are deprecated. Please use find_elements() instead\n",
      "  offer = driver.find_elements_by_xpath(\"//div['@class=_3Ay6Sb']\")\n"
     ]
    },
    {
     "data": {
      "text/plain": [
       "[<selenium.webdriver.remote.webelement.WebElement (session=\"d6223a968986e5dd1704432b641b9e8f\", element=\"df81cdce-ed69-474d-8e61-5ba22b1b7162\")>,\n",
       " <selenium.webdriver.remote.webelement.WebElement (session=\"d6223a968986e5dd1704432b641b9e8f\", element=\"38aca94d-3aaf-48d9-8449-e7f5089467b3\")>,\n",
       " <selenium.webdriver.remote.webelement.WebElement (session=\"d6223a968986e5dd1704432b641b9e8f\", element=\"0275249a-cf0b-4d85-b79b-5d136c1fa88b\")>,\n",
       " <selenium.webdriver.remote.webelement.WebElement (session=\"d6223a968986e5dd1704432b641b9e8f\", element=\"482c3595-6ff3-4ed7-a57c-71041505e66f\")>,\n",
       " <selenium.webdriver.remote.webelement.WebElement (session=\"d6223a968986e5dd1704432b641b9e8f\", element=\"2e73a06c-0a3f-4a86-93d9-866a278b839a\")>,\n",
       " <selenium.webdriver.remote.webelement.WebElement (session=\"d6223a968986e5dd1704432b641b9e8f\", element=\"c9fe8adb-a591-4aba-844f-ebf16d097a22\")>,\n",
       " <selenium.webdriver.remote.webelement.WebElement (session=\"d6223a968986e5dd1704432b641b9e8f\", element=\"9078a39c-3f6d-4b60-83c8-5b3ee6118c19\")>,\n",
       " <selenium.webdriver.remote.webelement.WebElement (session=\"d6223a968986e5dd1704432b641b9e8f\", element=\"d2ff4556-d69b-4f10-9e06-ea6ac63354b3\")>,\n",
       " <selenium.webdriver.remote.webelement.WebElement (session=\"d6223a968986e5dd1704432b641b9e8f\", element=\"b5047002-64e0-4817-ae9a-3555f4de8048\")>,\n",
       " <selenium.webdriver.remote.webelement.WebElement (session=\"d6223a968986e5dd1704432b641b9e8f\", element=\"4112c019-6a69-44d5-a361-fb6c574774d7\")>,\n",
       " <selenium.webdriver.remote.webelement.WebElement (session=\"d6223a968986e5dd1704432b641b9e8f\", element=\"2a84df08-1bef-4ccb-88b8-71fd3b650cc1\")>,\n",
       " <selenium.webdriver.remote.webelement.WebElement (session=\"d6223a968986e5dd1704432b641b9e8f\", element=\"73b4da7e-adb8-49ad-8f5b-7de2cab6d8ee\")>,\n",
       " <selenium.webdriver.remote.webelement.WebElement (session=\"d6223a968986e5dd1704432b641b9e8f\", element=\"72fc35a1-d179-4711-92b1-7a94d4cf6410\")>,\n",
       " <selenium.webdriver.remote.webelement.WebElement (session=\"d6223a968986e5dd1704432b641b9e8f\", element=\"725a4580-5407-4ae8-9c11-fd748cb980c0\")>,\n",
       " <selenium.webdriver.remote.webelement.WebElement (session=\"d6223a968986e5dd1704432b641b9e8f\", element=\"d42511ee-011f-4d4e-82cc-0d0389e14c2c\")>,\n",
       " <selenium.webdriver.remote.webelement.WebElement (session=\"d6223a968986e5dd1704432b641b9e8f\", element=\"7fc1473c-9f5e-4504-9554-a4a64e883783\")>,\n",
       " <selenium.webdriver.remote.webelement.WebElement (session=\"d6223a968986e5dd1704432b641b9e8f\", element=\"d5fe551f-88c5-4450-993a-a9c091fc957b\")>,\n",
       " <selenium.webdriver.remote.webelement.WebElement (session=\"d6223a968986e5dd1704432b641b9e8f\", element=\"d3ccdecb-f9ca-44af-99d3-267f9703b170\")>,\n",
       " <selenium.webdriver.remote.webelement.WebElement (session=\"d6223a968986e5dd1704432b641b9e8f\", element=\"9c4ef475-7b88-43d8-8d43-7eccbded81f4\")>]"
      ]
     },
     "execution_count": 112,
     "metadata": {},
     "output_type": "execute_result"
    }
   ],
   "source": [
    "offer = driver.find_elements_by_xpath(\"//div['@class=_3Ay6Sb']\")\n",
    "offer[81:100]"
   ]
  },
  {
   "cell_type": "code",
   "execution_count": null,
   "id": "f761af4a",
   "metadata": {},
   "outputs": [],
   "source": [
    "for i in offer:\n",
    "    offer=i.text\n",
    "    offer.append(offer)\n",
    "offer(0:100)    "
   ]
  },
  {
   "cell_type": "markdown",
   "id": "ae8e82a2",
   "metadata": {},
   "source": [
    "# scrape first 100 shoes"
   ]
  },
  {
   "cell_type": "code",
   "execution_count": 113,
   "id": "851d493f",
   "metadata": {},
   "outputs": [],
   "source": [
    "import selenium\n",
    "import pandas as pd\n",
    "from selenium import webdriver"
   ]
  },
  {
   "cell_type": "code",
   "execution_count": 114,
   "id": "d98a9784",
   "metadata": {},
   "outputs": [
    {
     "name": "stderr",
     "output_type": "stream",
     "text": [
      "<ipython-input-114-bcea5228ba58>:1: DeprecationWarning: executable_path has been deprecated, please pass in a Service object\n",
      "  driver = webdriver.Chrome(r\"C:\\Users\\user\\Downloads\\chromedriver_win32\\chromedriver.exe\")\n"
     ]
    }
   ],
   "source": [
    "driver = webdriver.Chrome(r\"C:\\Users\\user\\Downloads\\chromedriver_win32\\chromedriver.exe\")"
   ]
  },
  {
   "cell_type": "code",
   "execution_count": 115,
   "id": "e453737a",
   "metadata": {},
   "outputs": [],
   "source": [
    "#driver.close()"
   ]
  },
  {
   "cell_type": "code",
   "execution_count": 118,
   "id": "3fdc3a2e",
   "metadata": {},
   "outputs": [],
   "source": [
    "url=\"https://www.myntra.com/shoes?f=Color%3ABlack_36454f&rf=Price%3A6137.0_12025.0_6137.0%20TO%2012025.0\""
   ]
  },
  {
   "cell_type": "code",
   "execution_count": 119,
   "id": "e9e67bba",
   "metadata": {},
   "outputs": [],
   "source": [
    "driver.get(url)"
   ]
  },
  {
   "cell_type": "code",
   "execution_count": 120,
   "id": "2a2c60d3",
   "metadata": {},
   "outputs": [],
   "source": [
    "brand=[]\n",
    "des=[]\n",
    "price=[]"
   ]
  },
  {
   "cell_type": "code",
   "execution_count": 122,
   "id": "04da27c4",
   "metadata": {},
   "outputs": [
    {
     "name": "stderr",
     "output_type": "stream",
     "text": [
      "<ipython-input-122-e9bca79e4393>:1: DeprecationWarning: find_elements_by_* commands are deprecated. Please use find_elements() instead\n",
      "  brand=driver.find_elements_by_xpath(\"//h3['@class=product-brand']\")\n"
     ]
    },
    {
     "data": {
      "text/plain": [
       "[<selenium.webdriver.remote.webelement.WebElement (session=\"825ba749debb7f2d417dbc126f8a8405\", element=\"a882a4a7-dabf-4eb2-aced-241f85582bd1\")>,\n",
       " <selenium.webdriver.remote.webelement.WebElement (session=\"825ba749debb7f2d417dbc126f8a8405\", element=\"0c895283-ce45-42e8-90c3-7cfce41960c0\")>,\n",
       " <selenium.webdriver.remote.webelement.WebElement (session=\"825ba749debb7f2d417dbc126f8a8405\", element=\"bae85f92-c566-455c-acb4-d9261764241e\")>,\n",
       " <selenium.webdriver.remote.webelement.WebElement (session=\"825ba749debb7f2d417dbc126f8a8405\", element=\"6d8711e0-5bc7-4449-95ea-e4d212f247e3\")>,\n",
       " <selenium.webdriver.remote.webelement.WebElement (session=\"825ba749debb7f2d417dbc126f8a8405\", element=\"2becf4a4-bcd9-4824-b405-427b0df4f6f8\")>,\n",
       " <selenium.webdriver.remote.webelement.WebElement (session=\"825ba749debb7f2d417dbc126f8a8405\", element=\"c999d5bf-459f-4fbf-8395-cbcdcc9fbec6\")>,\n",
       " <selenium.webdriver.remote.webelement.WebElement (session=\"825ba749debb7f2d417dbc126f8a8405\", element=\"cec25b87-5ab6-403a-883b-da0c3aeb0245\")>,\n",
       " <selenium.webdriver.remote.webelement.WebElement (session=\"825ba749debb7f2d417dbc126f8a8405\", element=\"3d877c7e-bab7-45f6-ae19-72fe09b9a7d0\")>,\n",
       " <selenium.webdriver.remote.webelement.WebElement (session=\"825ba749debb7f2d417dbc126f8a8405\", element=\"5885556b-aae8-4e39-ace3-5ef6fc707f95\")>,\n",
       " <selenium.webdriver.remote.webelement.WebElement (session=\"825ba749debb7f2d417dbc126f8a8405\", element=\"f2a9a0ca-621b-4628-a4f8-488586f4e713\")>,\n",
       " <selenium.webdriver.remote.webelement.WebElement (session=\"825ba749debb7f2d417dbc126f8a8405\", element=\"dd2fa832-10e6-4f49-9138-37da098785f6\")>,\n",
       " <selenium.webdriver.remote.webelement.WebElement (session=\"825ba749debb7f2d417dbc126f8a8405\", element=\"93c181ce-a64d-4d49-8615-bfbe85aa9ea3\")>,\n",
       " <selenium.webdriver.remote.webelement.WebElement (session=\"825ba749debb7f2d417dbc126f8a8405\", element=\"7413c060-2002-4854-97b6-4aaf5c466d07\")>,\n",
       " <selenium.webdriver.remote.webelement.WebElement (session=\"825ba749debb7f2d417dbc126f8a8405\", element=\"eb1a6ced-e090-4950-b1ee-3085615071ae\")>,\n",
       " <selenium.webdriver.remote.webelement.WebElement (session=\"825ba749debb7f2d417dbc126f8a8405\", element=\"a033ddd1-202f-4596-80a0-c14d50d547c0\")>,\n",
       " <selenium.webdriver.remote.webelement.WebElement (session=\"825ba749debb7f2d417dbc126f8a8405\", element=\"2b542667-47ae-4da2-9d15-52c2b1e931e5\")>,\n",
       " <selenium.webdriver.remote.webelement.WebElement (session=\"825ba749debb7f2d417dbc126f8a8405\", element=\"263245b3-669d-4d83-85d0-796f73e86683\")>,\n",
       " <selenium.webdriver.remote.webelement.WebElement (session=\"825ba749debb7f2d417dbc126f8a8405\", element=\"43c7f027-22ac-403e-89fe-c3bf326772d6\")>,\n",
       " <selenium.webdriver.remote.webelement.WebElement (session=\"825ba749debb7f2d417dbc126f8a8405\", element=\"e2ddcaeb-9cae-4fef-8008-93201474834f\")>,\n",
       " <selenium.webdriver.remote.webelement.WebElement (session=\"825ba749debb7f2d417dbc126f8a8405\", element=\"cd63599b-2238-4043-8a58-ba7700ff3fda\")>,\n",
       " <selenium.webdriver.remote.webelement.WebElement (session=\"825ba749debb7f2d417dbc126f8a8405\", element=\"aeab2c0e-8371-4ad5-ac8a-63fb6e6fbd08\")>,\n",
       " <selenium.webdriver.remote.webelement.WebElement (session=\"825ba749debb7f2d417dbc126f8a8405\", element=\"e9242f53-e2c4-4ebb-8967-1206588b1f02\")>,\n",
       " <selenium.webdriver.remote.webelement.WebElement (session=\"825ba749debb7f2d417dbc126f8a8405\", element=\"63e10669-b373-4fed-9518-66d16c7d379a\")>,\n",
       " <selenium.webdriver.remote.webelement.WebElement (session=\"825ba749debb7f2d417dbc126f8a8405\", element=\"314a0bee-1604-4c4a-8403-e0222a780680\")>,\n",
       " <selenium.webdriver.remote.webelement.WebElement (session=\"825ba749debb7f2d417dbc126f8a8405\", element=\"6eecede1-0e11-4c59-9326-ecfe3b3bd822\")>,\n",
       " <selenium.webdriver.remote.webelement.WebElement (session=\"825ba749debb7f2d417dbc126f8a8405\", element=\"359dec3e-c4e9-4f53-8a06-6c70526699a8\")>,\n",
       " <selenium.webdriver.remote.webelement.WebElement (session=\"825ba749debb7f2d417dbc126f8a8405\", element=\"5f7a914e-8a47-46e0-aadf-f2c4d7f0819b\")>,\n",
       " <selenium.webdriver.remote.webelement.WebElement (session=\"825ba749debb7f2d417dbc126f8a8405\", element=\"2b469bc0-06d9-41d9-a46a-680a6614f281\")>,\n",
       " <selenium.webdriver.remote.webelement.WebElement (session=\"825ba749debb7f2d417dbc126f8a8405\", element=\"8e5ed2f5-7c4d-4a23-abf1-912a8ea1cabe\")>,\n",
       " <selenium.webdriver.remote.webelement.WebElement (session=\"825ba749debb7f2d417dbc126f8a8405\", element=\"cdc1c7c2-c210-4b28-94f5-aeee1b2d2c9b\")>,\n",
       " <selenium.webdriver.remote.webelement.WebElement (session=\"825ba749debb7f2d417dbc126f8a8405\", element=\"e200ca2e-af87-42c8-895f-1f01cba25551\")>,\n",
       " <selenium.webdriver.remote.webelement.WebElement (session=\"825ba749debb7f2d417dbc126f8a8405\", element=\"486dd758-6bc4-4de3-be23-29d25cba883c\")>,\n",
       " <selenium.webdriver.remote.webelement.WebElement (session=\"825ba749debb7f2d417dbc126f8a8405\", element=\"e1d859f9-551a-4a8c-b593-147c6dbbaf4e\")>,\n",
       " <selenium.webdriver.remote.webelement.WebElement (session=\"825ba749debb7f2d417dbc126f8a8405\", element=\"bc39bca4-9255-43aa-ac04-d7fe06cf9697\")>,\n",
       " <selenium.webdriver.remote.webelement.WebElement (session=\"825ba749debb7f2d417dbc126f8a8405\", element=\"3c1fadfe-36e6-47f6-b94a-68ed9f02dfd0\")>,\n",
       " <selenium.webdriver.remote.webelement.WebElement (session=\"825ba749debb7f2d417dbc126f8a8405\", element=\"67a0290b-c450-4026-a633-07c3c2498f78\")>,\n",
       " <selenium.webdriver.remote.webelement.WebElement (session=\"825ba749debb7f2d417dbc126f8a8405\", element=\"2b2bdeb3-5056-4e10-bc13-3f71664b7c15\")>,\n",
       " <selenium.webdriver.remote.webelement.WebElement (session=\"825ba749debb7f2d417dbc126f8a8405\", element=\"4a51281f-39ec-4911-a6a4-7126f72bcb32\")>,\n",
       " <selenium.webdriver.remote.webelement.WebElement (session=\"825ba749debb7f2d417dbc126f8a8405\", element=\"92c2956e-700b-43df-97bd-8d41061c93a8\")>,\n",
       " <selenium.webdriver.remote.webelement.WebElement (session=\"825ba749debb7f2d417dbc126f8a8405\", element=\"91e87b51-c818-4aaa-b115-622dcdc3217b\")>,\n",
       " <selenium.webdriver.remote.webelement.WebElement (session=\"825ba749debb7f2d417dbc126f8a8405\", element=\"513602d9-6a62-44a2-bf54-b5e8b4171ef0\")>,\n",
       " <selenium.webdriver.remote.webelement.WebElement (session=\"825ba749debb7f2d417dbc126f8a8405\", element=\"ff6bbdcc-cc56-4afd-a25e-189bf285a7a7\")>,\n",
       " <selenium.webdriver.remote.webelement.WebElement (session=\"825ba749debb7f2d417dbc126f8a8405\", element=\"8bcfde48-f460-4676-90f9-2a50ab2a4059\")>,\n",
       " <selenium.webdriver.remote.webelement.WebElement (session=\"825ba749debb7f2d417dbc126f8a8405\", element=\"07c4f8e9-5992-40a1-8685-d81d74cb6e45\")>,\n",
       " <selenium.webdriver.remote.webelement.WebElement (session=\"825ba749debb7f2d417dbc126f8a8405\", element=\"cea11c8d-ade3-4086-802f-aba8096bd292\")>,\n",
       " <selenium.webdriver.remote.webelement.WebElement (session=\"825ba749debb7f2d417dbc126f8a8405\", element=\"74ba71e6-a973-408e-925a-e3070d4da432\")>,\n",
       " <selenium.webdriver.remote.webelement.WebElement (session=\"825ba749debb7f2d417dbc126f8a8405\", element=\"1242895c-d60b-4b67-8cbc-f68aae4207ed\")>,\n",
       " <selenium.webdriver.remote.webelement.WebElement (session=\"825ba749debb7f2d417dbc126f8a8405\", element=\"a4620eca-e87e-4aa8-8448-78dd9bc34def\")>,\n",
       " <selenium.webdriver.remote.webelement.WebElement (session=\"825ba749debb7f2d417dbc126f8a8405\", element=\"9d570a03-6758-42e2-b5e9-28ca15f9a12d\")>,\n",
       " <selenium.webdriver.remote.webelement.WebElement (session=\"825ba749debb7f2d417dbc126f8a8405\", element=\"938e7633-39fe-45e8-84bb-8495f5c8f5cd\")>]"
      ]
     },
     "execution_count": 122,
     "metadata": {},
     "output_type": "execute_result"
    }
   ],
   "source": [
    "brand=driver.find_elements_by_xpath(\"//h3['@class=product-brand']\")\n",
    "brand[0:50]"
   ]
  },
  {
   "cell_type": "code",
   "execution_count": 123,
   "id": "ec43982a",
   "metadata": {},
   "outputs": [
    {
     "name": "stderr",
     "output_type": "stream",
     "text": [
      "<ipython-input-123-8584c596b2c9>:1: DeprecationWarning: find_elements_by_* commands are deprecated. Please use find_elements() instead\n",
      "  brand=driver.find_elements_by_xpath(\"//h3['@class=product-brand']\")\n"
     ]
    },
    {
     "data": {
      "text/plain": [
       "[<selenium.webdriver.remote.webelement.WebElement (session=\"825ba749debb7f2d417dbc126f8a8405\", element=\"efcd021e-38bb-48d1-82b9-cb4464057d5d\")>,\n",
       " <selenium.webdriver.remote.webelement.WebElement (session=\"825ba749debb7f2d417dbc126f8a8405\", element=\"b6c3c23c-c911-4e22-9358-3133327b05a4\")>,\n",
       " <selenium.webdriver.remote.webelement.WebElement (session=\"825ba749debb7f2d417dbc126f8a8405\", element=\"5c9412f7-41e4-42e4-83bd-03b243109ddb\")>,\n",
       " <selenium.webdriver.remote.webelement.WebElement (session=\"825ba749debb7f2d417dbc126f8a8405\", element=\"e9c238a6-c870-45a1-93eb-e38064365790\")>,\n",
       " <selenium.webdriver.remote.webelement.WebElement (session=\"825ba749debb7f2d417dbc126f8a8405\", element=\"51f1d578-096c-41b8-bc67-7ea2251989a6\")>]"
      ]
     },
     "execution_count": 123,
     "metadata": {},
     "output_type": "execute_result"
    }
   ],
   "source": [
    "brand=driver.find_elements_by_xpath(\"//h3['@class=product-brand']\")\n",
    "brand[51:100]"
   ]
  },
  {
   "cell_type": "code",
   "execution_count": null,
   "id": "c8739dea",
   "metadata": {},
   "outputs": [],
   "source": [
    "for i in brand :\n",
    "    brand.append(i.text)\n",
    "brand[0:100]    "
   ]
  },
  {
   "cell_type": "code",
   "execution_count": 126,
   "id": "a5d5a388",
   "metadata": {},
   "outputs": [
    {
     "name": "stderr",
     "output_type": "stream",
     "text": [
      "<ipython-input-126-de7fa70bc5cf>:1: DeprecationWarning: find_elements_by_* commands are deprecated. Please use find_elements() instead\n",
      "  des=driver.find_elements_by_xpath(\"//h4['@class=product-product']\")\n"
     ]
    },
    {
     "data": {
      "text/plain": [
       "[<selenium.webdriver.remote.webelement.WebElement (session=\"825ba749debb7f2d417dbc126f8a8405\", element=\"0a160511-19b2-4780-9ef6-3fff32cd93a7\")>,\n",
       " <selenium.webdriver.remote.webelement.WebElement (session=\"825ba749debb7f2d417dbc126f8a8405\", element=\"8bfb7215-9b3c-4af0-83ec-28e8419a11c1\")>,\n",
       " <selenium.webdriver.remote.webelement.WebElement (session=\"825ba749debb7f2d417dbc126f8a8405\", element=\"a2d69ab9-a062-4d71-836e-5569c6c761b4\")>,\n",
       " <selenium.webdriver.remote.webelement.WebElement (session=\"825ba749debb7f2d417dbc126f8a8405\", element=\"b5613802-a25e-403d-93b2-b864f19c2aab\")>,\n",
       " <selenium.webdriver.remote.webelement.WebElement (session=\"825ba749debb7f2d417dbc126f8a8405\", element=\"a5e096eb-8347-44c7-ac78-b437d9cca24c\")>,\n",
       " <selenium.webdriver.remote.webelement.WebElement (session=\"825ba749debb7f2d417dbc126f8a8405\", element=\"1c13302f-a8c8-4494-b907-a91e0ce2003e\")>,\n",
       " <selenium.webdriver.remote.webelement.WebElement (session=\"825ba749debb7f2d417dbc126f8a8405\", element=\"d504746b-ce00-4c34-87be-090286a844f5\")>,\n",
       " <selenium.webdriver.remote.webelement.WebElement (session=\"825ba749debb7f2d417dbc126f8a8405\", element=\"a7288cf6-5c3c-420e-8a99-2fb1d917e4a5\")>,\n",
       " <selenium.webdriver.remote.webelement.WebElement (session=\"825ba749debb7f2d417dbc126f8a8405\", element=\"4d28ea77-96be-40b7-af39-c94d3791bcef\")>,\n",
       " <selenium.webdriver.remote.webelement.WebElement (session=\"825ba749debb7f2d417dbc126f8a8405\", element=\"2cdb63bc-ca98-41b0-a689-39b934d830d4\")>,\n",
       " <selenium.webdriver.remote.webelement.WebElement (session=\"825ba749debb7f2d417dbc126f8a8405\", element=\"36e00160-3a62-4395-9b98-af21fa411111\")>,\n",
       " <selenium.webdriver.remote.webelement.WebElement (session=\"825ba749debb7f2d417dbc126f8a8405\", element=\"161cac56-fc66-4891-a9a2-3eaf771a4b5a\")>,\n",
       " <selenium.webdriver.remote.webelement.WebElement (session=\"825ba749debb7f2d417dbc126f8a8405\", element=\"ce616dc9-1ffc-4df7-9eaa-cd5325e267e4\")>,\n",
       " <selenium.webdriver.remote.webelement.WebElement (session=\"825ba749debb7f2d417dbc126f8a8405\", element=\"e66b2cba-e6ef-4013-b22b-9e538066a4d9\")>,\n",
       " <selenium.webdriver.remote.webelement.WebElement (session=\"825ba749debb7f2d417dbc126f8a8405\", element=\"d06d335d-3fa6-485f-bfad-1ba9c4358b6c\")>,\n",
       " <selenium.webdriver.remote.webelement.WebElement (session=\"825ba749debb7f2d417dbc126f8a8405\", element=\"30297d75-2f13-4e80-ad17-4aa61246c506\")>,\n",
       " <selenium.webdriver.remote.webelement.WebElement (session=\"825ba749debb7f2d417dbc126f8a8405\", element=\"19fd2119-08d6-4df3-9890-843950dfe9f1\")>,\n",
       " <selenium.webdriver.remote.webelement.WebElement (session=\"825ba749debb7f2d417dbc126f8a8405\", element=\"c6282769-360d-4bd9-9dd7-ecc0e1d561dd\")>,\n",
       " <selenium.webdriver.remote.webelement.WebElement (session=\"825ba749debb7f2d417dbc126f8a8405\", element=\"08d3613b-4b51-4ae9-81bd-c1ff929e2415\")>,\n",
       " <selenium.webdriver.remote.webelement.WebElement (session=\"825ba749debb7f2d417dbc126f8a8405\", element=\"82b3e924-e080-4e88-8dde-83c35d922553\")>,\n",
       " <selenium.webdriver.remote.webelement.WebElement (session=\"825ba749debb7f2d417dbc126f8a8405\", element=\"9e8a880e-ee7f-4244-b23f-c95df6e1d6d6\")>,\n",
       " <selenium.webdriver.remote.webelement.WebElement (session=\"825ba749debb7f2d417dbc126f8a8405\", element=\"8395afe8-1430-4ae7-89f2-6852b7cf3d11\")>,\n",
       " <selenium.webdriver.remote.webelement.WebElement (session=\"825ba749debb7f2d417dbc126f8a8405\", element=\"db55fee3-edda-4755-89d3-11d1508c30ed\")>,\n",
       " <selenium.webdriver.remote.webelement.WebElement (session=\"825ba749debb7f2d417dbc126f8a8405\", element=\"40ee0093-cc02-418e-8f45-ff3641d07260\")>,\n",
       " <selenium.webdriver.remote.webelement.WebElement (session=\"825ba749debb7f2d417dbc126f8a8405\", element=\"42af963f-ad95-406d-974e-b30606189489\")>,\n",
       " <selenium.webdriver.remote.webelement.WebElement (session=\"825ba749debb7f2d417dbc126f8a8405\", element=\"985b56b9-8fc5-4f49-ab06-1dc79075ba9e\")>,\n",
       " <selenium.webdriver.remote.webelement.WebElement (session=\"825ba749debb7f2d417dbc126f8a8405\", element=\"c3cedd22-c036-4509-9458-a5c48e1e741b\")>,\n",
       " <selenium.webdriver.remote.webelement.WebElement (session=\"825ba749debb7f2d417dbc126f8a8405\", element=\"38990181-d5b9-41e9-aa17-d74b86fda746\")>,\n",
       " <selenium.webdriver.remote.webelement.WebElement (session=\"825ba749debb7f2d417dbc126f8a8405\", element=\"2a7a8fda-0e46-4edc-b01a-4a0cba512a7d\")>,\n",
       " <selenium.webdriver.remote.webelement.WebElement (session=\"825ba749debb7f2d417dbc126f8a8405\", element=\"a2010887-98f7-40a5-8402-ba6b21faedc6\")>,\n",
       " <selenium.webdriver.remote.webelement.WebElement (session=\"825ba749debb7f2d417dbc126f8a8405\", element=\"df59f206-13b4-4e9e-9be0-2fd83ab5ff57\")>,\n",
       " <selenium.webdriver.remote.webelement.WebElement (session=\"825ba749debb7f2d417dbc126f8a8405\", element=\"b8a87a6f-6159-4a8c-b0e4-dcf9855a6f78\")>,\n",
       " <selenium.webdriver.remote.webelement.WebElement (session=\"825ba749debb7f2d417dbc126f8a8405\", element=\"7d5ab8f0-1330-44bb-858a-97fe69b90071\")>,\n",
       " <selenium.webdriver.remote.webelement.WebElement (session=\"825ba749debb7f2d417dbc126f8a8405\", element=\"f5007398-1289-4cf0-b5a2-ad69f2d0a61d\")>,\n",
       " <selenium.webdriver.remote.webelement.WebElement (session=\"825ba749debb7f2d417dbc126f8a8405\", element=\"ddd0cd41-3313-41fd-894c-08c9c69c2b09\")>,\n",
       " <selenium.webdriver.remote.webelement.WebElement (session=\"825ba749debb7f2d417dbc126f8a8405\", element=\"75a759a5-a077-4cc5-ba07-7d6de9810ab4\")>,\n",
       " <selenium.webdriver.remote.webelement.WebElement (session=\"825ba749debb7f2d417dbc126f8a8405\", element=\"5b21e651-a3ef-4b9d-b203-6c7a0005e944\")>,\n",
       " <selenium.webdriver.remote.webelement.WebElement (session=\"825ba749debb7f2d417dbc126f8a8405\", element=\"63faeb1c-29ae-4c72-babc-3ef8e3b4f5d3\")>,\n",
       " <selenium.webdriver.remote.webelement.WebElement (session=\"825ba749debb7f2d417dbc126f8a8405\", element=\"2eb5d4d7-33c8-4008-b2c6-89147946850c\")>,\n",
       " <selenium.webdriver.remote.webelement.WebElement (session=\"825ba749debb7f2d417dbc126f8a8405\", element=\"48ecf7c9-3878-4bea-80e6-e79b780081ad\")>,\n",
       " <selenium.webdriver.remote.webelement.WebElement (session=\"825ba749debb7f2d417dbc126f8a8405\", element=\"9a215f88-c648-4a8c-bd63-05aa67ab9508\")>,\n",
       " <selenium.webdriver.remote.webelement.WebElement (session=\"825ba749debb7f2d417dbc126f8a8405\", element=\"8624b2d2-8235-4369-9f6c-169577738699\")>,\n",
       " <selenium.webdriver.remote.webelement.WebElement (session=\"825ba749debb7f2d417dbc126f8a8405\", element=\"49832e30-c434-49f9-8797-7c4d250d1c84\")>,\n",
       " <selenium.webdriver.remote.webelement.WebElement (session=\"825ba749debb7f2d417dbc126f8a8405\", element=\"bfe24d1e-0b5c-4ac4-825e-2bdae9b49c94\")>,\n",
       " <selenium.webdriver.remote.webelement.WebElement (session=\"825ba749debb7f2d417dbc126f8a8405\", element=\"dde865c9-71bf-4610-b0ab-65f3f877314f\")>,\n",
       " <selenium.webdriver.remote.webelement.WebElement (session=\"825ba749debb7f2d417dbc126f8a8405\", element=\"1a5e9959-a164-4e48-a91a-588d46a43327\")>,\n",
       " <selenium.webdriver.remote.webelement.WebElement (session=\"825ba749debb7f2d417dbc126f8a8405\", element=\"fad0feeb-375e-430f-904f-2ac96c61ae8c\")>,\n",
       " <selenium.webdriver.remote.webelement.WebElement (session=\"825ba749debb7f2d417dbc126f8a8405\", element=\"eed872a4-6f6b-4aad-850a-abfe4296780f\")>,\n",
       " <selenium.webdriver.remote.webelement.WebElement (session=\"825ba749debb7f2d417dbc126f8a8405\", element=\"5c445985-b3fd-461b-b8bb-701202e02d3d\")>,\n",
       " <selenium.webdriver.remote.webelement.WebElement (session=\"825ba749debb7f2d417dbc126f8a8405\", element=\"b0a2fc6a-cb40-4c6a-9964-533d2bcccfe1\")>]"
      ]
     },
     "execution_count": 126,
     "metadata": {},
     "output_type": "execute_result"
    }
   ],
   "source": [
    "des=driver.find_elements_by_xpath(\"//h4['@class=product-product']\")\n",
    "des[0:50]"
   ]
  },
  {
   "cell_type": "code",
   "execution_count": 127,
   "id": "927edb5b",
   "metadata": {},
   "outputs": [
    {
     "name": "stderr",
     "output_type": "stream",
     "text": [
      "<ipython-input-127-9a511782af3b>:1: DeprecationWarning: find_elements_by_* commands are deprecated. Please use find_elements() instead\n",
      "  des=driver.find_elements_by_xpath(\"//h4['@class=product-product']\")\n"
     ]
    },
    {
     "data": {
      "text/plain": [
       "[<selenium.webdriver.remote.webelement.WebElement (session=\"825ba749debb7f2d417dbc126f8a8405\", element=\"d330d94e-c727-42b6-ae0d-9287e3e48b4a\")>,\n",
       " <selenium.webdriver.remote.webelement.WebElement (session=\"825ba749debb7f2d417dbc126f8a8405\", element=\"926ed87e-839c-4008-b66b-2417fa29fecd\")>,\n",
       " <selenium.webdriver.remote.webelement.WebElement (session=\"825ba749debb7f2d417dbc126f8a8405\", element=\"0dbd2b91-7377-4c53-96f9-d39a7a932ebd\")>,\n",
       " <selenium.webdriver.remote.webelement.WebElement (session=\"825ba749debb7f2d417dbc126f8a8405\", element=\"fe7720de-a3b8-49ab-9cd5-3bd0e82d60fe\")>,\n",
       " <selenium.webdriver.remote.webelement.WebElement (session=\"825ba749debb7f2d417dbc126f8a8405\", element=\"002db95a-6efb-463f-81fa-26c9af66e386\")>,\n",
       " <selenium.webdriver.remote.webelement.WebElement (session=\"825ba749debb7f2d417dbc126f8a8405\", element=\"61c5087c-1e22-41c9-a75b-d68196261971\")>,\n",
       " <selenium.webdriver.remote.webelement.WebElement (session=\"825ba749debb7f2d417dbc126f8a8405\", element=\"ccc08cd4-3f64-46ee-92be-25f729b3b89d\")>,\n",
       " <selenium.webdriver.remote.webelement.WebElement (session=\"825ba749debb7f2d417dbc126f8a8405\", element=\"1006c8d7-540f-4cba-817e-9ec0e6dac6df\")>,\n",
       " <selenium.webdriver.remote.webelement.WebElement (session=\"825ba749debb7f2d417dbc126f8a8405\", element=\"3b43ab8c-18b7-4010-8723-1d2af1353fe9\")>,\n",
       " <selenium.webdriver.remote.webelement.WebElement (session=\"825ba749debb7f2d417dbc126f8a8405\", element=\"0cf9c837-30a2-457b-8957-d073caaeeb3b\")>,\n",
       " <selenium.webdriver.remote.webelement.WebElement (session=\"825ba749debb7f2d417dbc126f8a8405\", element=\"2d12e377-274f-4ac0-a373-a339d8020483\")>,\n",
       " <selenium.webdriver.remote.webelement.WebElement (session=\"825ba749debb7f2d417dbc126f8a8405\", element=\"a344c36d-145d-42a2-a330-ea5feffa6a7c\")>,\n",
       " <selenium.webdriver.remote.webelement.WebElement (session=\"825ba749debb7f2d417dbc126f8a8405\", element=\"c6e60c70-fef7-41ec-87d7-729d6fc2817e\")>,\n",
       " <selenium.webdriver.remote.webelement.WebElement (session=\"825ba749debb7f2d417dbc126f8a8405\", element=\"2ec6ab1f-22f8-4f4e-9193-e263bea4d31f\")>,\n",
       " <selenium.webdriver.remote.webelement.WebElement (session=\"825ba749debb7f2d417dbc126f8a8405\", element=\"8af31b0a-31e3-4a93-a91c-50b7c701df48\")>,\n",
       " <selenium.webdriver.remote.webelement.WebElement (session=\"825ba749debb7f2d417dbc126f8a8405\", element=\"69c34d7d-81a9-4d62-859c-e14bb08d6995\")>,\n",
       " <selenium.webdriver.remote.webelement.WebElement (session=\"825ba749debb7f2d417dbc126f8a8405\", element=\"b41c1810-a14e-40c6-81f1-24e8ac8388e8\")>,\n",
       " <selenium.webdriver.remote.webelement.WebElement (session=\"825ba749debb7f2d417dbc126f8a8405\", element=\"480593b1-d505-474a-8216-9dd1e349b412\")>,\n",
       " <selenium.webdriver.remote.webelement.WebElement (session=\"825ba749debb7f2d417dbc126f8a8405\", element=\"b57ad2f9-cd2e-4d50-a8ce-4daf8edb6e1c\")>,\n",
       " <selenium.webdriver.remote.webelement.WebElement (session=\"825ba749debb7f2d417dbc126f8a8405\", element=\"a223d696-9e9d-4686-94d5-2bb1f2b38df1\")>,\n",
       " <selenium.webdriver.remote.webelement.WebElement (session=\"825ba749debb7f2d417dbc126f8a8405\", element=\"d85af017-e252-452d-b712-6e05a73a3e52\")>,\n",
       " <selenium.webdriver.remote.webelement.WebElement (session=\"825ba749debb7f2d417dbc126f8a8405\", element=\"1092d731-95b1-48fb-8f11-51909744d297\")>,\n",
       " <selenium.webdriver.remote.webelement.WebElement (session=\"825ba749debb7f2d417dbc126f8a8405\", element=\"5dfe9863-6c21-4384-95de-b6dc26b24ba7\")>,\n",
       " <selenium.webdriver.remote.webelement.WebElement (session=\"825ba749debb7f2d417dbc126f8a8405\", element=\"78695a6b-9b6b-47f5-970c-d1aa3e4494f9\")>,\n",
       " <selenium.webdriver.remote.webelement.WebElement (session=\"825ba749debb7f2d417dbc126f8a8405\", element=\"117f2bb6-9263-4c06-bbd3-068e29961547\")>,\n",
       " <selenium.webdriver.remote.webelement.WebElement (session=\"825ba749debb7f2d417dbc126f8a8405\", element=\"aad1e626-e1f8-41ec-83f1-73de6d2c5926\")>,\n",
       " <selenium.webdriver.remote.webelement.WebElement (session=\"825ba749debb7f2d417dbc126f8a8405\", element=\"9336cad8-df81-40c9-9de4-2da4418a5d0b\")>,\n",
       " <selenium.webdriver.remote.webelement.WebElement (session=\"825ba749debb7f2d417dbc126f8a8405\", element=\"58eb0bd7-c47f-4089-ac90-e1628af8d5de\")>,\n",
       " <selenium.webdriver.remote.webelement.WebElement (session=\"825ba749debb7f2d417dbc126f8a8405\", element=\"b33b6c18-8d39-4aef-baee-67ad9e5f2be7\")>,\n",
       " <selenium.webdriver.remote.webelement.WebElement (session=\"825ba749debb7f2d417dbc126f8a8405\", element=\"7d434b75-516e-4254-9cca-db6feb7c73d4\")>,\n",
       " <selenium.webdriver.remote.webelement.WebElement (session=\"825ba749debb7f2d417dbc126f8a8405\", element=\"89bc088c-6bc9-4c59-9527-ba81c03d48b5\")>,\n",
       " <selenium.webdriver.remote.webelement.WebElement (session=\"825ba749debb7f2d417dbc126f8a8405\", element=\"01fbd283-f3de-4599-8e00-149f9d18bc36\")>,\n",
       " <selenium.webdriver.remote.webelement.WebElement (session=\"825ba749debb7f2d417dbc126f8a8405\", element=\"ee65b36c-83b3-4059-b8ce-c558f4dd4360\")>,\n",
       " <selenium.webdriver.remote.webelement.WebElement (session=\"825ba749debb7f2d417dbc126f8a8405\", element=\"a526253c-26ad-47b9-be5c-0443d158a94f\")>,\n",
       " <selenium.webdriver.remote.webelement.WebElement (session=\"825ba749debb7f2d417dbc126f8a8405\", element=\"bbdac1a8-4dff-4b68-a93b-dd761225f230\")>,\n",
       " <selenium.webdriver.remote.webelement.WebElement (session=\"825ba749debb7f2d417dbc126f8a8405\", element=\"8771d023-2835-4ecc-bbad-f7a6b199ed6f\")>,\n",
       " <selenium.webdriver.remote.webelement.WebElement (session=\"825ba749debb7f2d417dbc126f8a8405\", element=\"be3597ff-6ef5-41c6-8b32-709b47b2ebdf\")>,\n",
       " <selenium.webdriver.remote.webelement.WebElement (session=\"825ba749debb7f2d417dbc126f8a8405\", element=\"175543c2-3ae5-43f1-a034-79d632e63835\")>,\n",
       " <selenium.webdriver.remote.webelement.WebElement (session=\"825ba749debb7f2d417dbc126f8a8405\", element=\"6ba11d25-b85f-40f4-a4aa-cf16ae3b8ce2\")>,\n",
       " <selenium.webdriver.remote.webelement.WebElement (session=\"825ba749debb7f2d417dbc126f8a8405\", element=\"3b402cd7-32fd-47b8-8fdc-e596c03104d4\")>,\n",
       " <selenium.webdriver.remote.webelement.WebElement (session=\"825ba749debb7f2d417dbc126f8a8405\", element=\"7faae369-f32b-47da-b930-1a4e8893a728\")>,\n",
       " <selenium.webdriver.remote.webelement.WebElement (session=\"825ba749debb7f2d417dbc126f8a8405\", element=\"395d3193-7f0f-41de-8c5b-b3482286f96e\")>,\n",
       " <selenium.webdriver.remote.webelement.WebElement (session=\"825ba749debb7f2d417dbc126f8a8405\", element=\"18cd0952-28ba-47f3-a32a-3752da2035b1\")>,\n",
       " <selenium.webdriver.remote.webelement.WebElement (session=\"825ba749debb7f2d417dbc126f8a8405\", element=\"bc903160-a6c8-4f90-beec-17f1a3a46763\")>,\n",
       " <selenium.webdriver.remote.webelement.WebElement (session=\"825ba749debb7f2d417dbc126f8a8405\", element=\"8424b060-afc0-4751-8f1a-113a8c1ea207\")>,\n",
       " <selenium.webdriver.remote.webelement.WebElement (session=\"825ba749debb7f2d417dbc126f8a8405\", element=\"72eb751b-aa2c-420e-a922-1b0d283d3850\")>,\n",
       " <selenium.webdriver.remote.webelement.WebElement (session=\"825ba749debb7f2d417dbc126f8a8405\", element=\"5bd4417c-9e44-44ea-9529-4a115e7b1ecd\")>,\n",
       " <selenium.webdriver.remote.webelement.WebElement (session=\"825ba749debb7f2d417dbc126f8a8405\", element=\"85ead066-7d08-48c4-a429-2652c8e186ab\")>,\n",
       " <selenium.webdriver.remote.webelement.WebElement (session=\"825ba749debb7f2d417dbc126f8a8405\", element=\"58ef66d3-89f2-416e-9131-4d73df838385\")>]"
      ]
     },
     "execution_count": 127,
     "metadata": {},
     "output_type": "execute_result"
    }
   ],
   "source": [
    "des=driver.find_elements_by_xpath(\"//h4['@class=product-product']\")\n",
    "des[51:100]"
   ]
  },
  {
   "cell_type": "code",
   "execution_count": null,
   "id": "dde4c1a6",
   "metadata": {},
   "outputs": [],
   "source": [
    "for i in des:\n",
    "    des=i.text\n",
    "    des.append(des)\n",
    "des        "
   ]
  },
  {
   "cell_type": "code",
   "execution_count": 128,
   "id": "f2b2b207",
   "metadata": {},
   "outputs": [
    {
     "name": "stderr",
     "output_type": "stream",
     "text": [
      "<ipython-input-128-969bce98b95e>:1: DeprecationWarning: find_elements_by_* commands are deprecated. Please use find_elements() instead\n",
      "  price=driver.find_elements_by_xpath(\"//span['@class=product-discountedPrice']\")\n"
     ]
    },
    {
     "data": {
      "text/plain": [
       "[<selenium.webdriver.remote.webelement.WebElement (session=\"825ba749debb7f2d417dbc126f8a8405\", element=\"35d93e4d-8173-4f77-aaa0-7909000cad4b\")>,\n",
       " <selenium.webdriver.remote.webelement.WebElement (session=\"825ba749debb7f2d417dbc126f8a8405\", element=\"795e0ac1-b521-46b1-938c-d0735b389b71\")>,\n",
       " <selenium.webdriver.remote.webelement.WebElement (session=\"825ba749debb7f2d417dbc126f8a8405\", element=\"288dc48f-bed2-4b19-bb2a-42855dea572a\")>,\n",
       " <selenium.webdriver.remote.webelement.WebElement (session=\"825ba749debb7f2d417dbc126f8a8405\", element=\"65645bb8-72dc-485b-a3c1-da0b8b209207\")>,\n",
       " <selenium.webdriver.remote.webelement.WebElement (session=\"825ba749debb7f2d417dbc126f8a8405\", element=\"1962329b-164d-497c-9493-f956a2c89c40\")>,\n",
       " <selenium.webdriver.remote.webelement.WebElement (session=\"825ba749debb7f2d417dbc126f8a8405\", element=\"ad85a46b-15a0-4b30-ab3d-eb3e714e364d\")>,\n",
       " <selenium.webdriver.remote.webelement.WebElement (session=\"825ba749debb7f2d417dbc126f8a8405\", element=\"71ddd5b9-4baf-4cff-8c73-6cada7cfdf9b\")>,\n",
       " <selenium.webdriver.remote.webelement.WebElement (session=\"825ba749debb7f2d417dbc126f8a8405\", element=\"cb2af6c2-a79f-4f85-a661-3257668ede06\")>,\n",
       " <selenium.webdriver.remote.webelement.WebElement (session=\"825ba749debb7f2d417dbc126f8a8405\", element=\"05842c37-49bb-46b1-bc06-221d9317b790\")>,\n",
       " <selenium.webdriver.remote.webelement.WebElement (session=\"825ba749debb7f2d417dbc126f8a8405\", element=\"ef0174d8-9e8b-48a3-b261-e67f2bc004c5\")>,\n",
       " <selenium.webdriver.remote.webelement.WebElement (session=\"825ba749debb7f2d417dbc126f8a8405\", element=\"7676eae7-b85c-4c05-be37-725951aea0e4\")>,\n",
       " <selenium.webdriver.remote.webelement.WebElement (session=\"825ba749debb7f2d417dbc126f8a8405\", element=\"45fd1a63-ccff-4fd7-b117-c8c15cd8c62a\")>,\n",
       " <selenium.webdriver.remote.webelement.WebElement (session=\"825ba749debb7f2d417dbc126f8a8405\", element=\"eea4035e-6f1d-4946-9363-b4915e3faf4d\")>,\n",
       " <selenium.webdriver.remote.webelement.WebElement (session=\"825ba749debb7f2d417dbc126f8a8405\", element=\"37800b28-ce78-4421-8c90-90e65a25161d\")>,\n",
       " <selenium.webdriver.remote.webelement.WebElement (session=\"825ba749debb7f2d417dbc126f8a8405\", element=\"01f2e484-7f98-4924-a6be-29461a7ccb52\")>,\n",
       " <selenium.webdriver.remote.webelement.WebElement (session=\"825ba749debb7f2d417dbc126f8a8405\", element=\"2b2612cf-616f-4570-bf3b-f33bff726d6b\")>,\n",
       " <selenium.webdriver.remote.webelement.WebElement (session=\"825ba749debb7f2d417dbc126f8a8405\", element=\"e0727576-2bc0-41c4-9ce2-c1bc8afd4d82\")>,\n",
       " <selenium.webdriver.remote.webelement.WebElement (session=\"825ba749debb7f2d417dbc126f8a8405\", element=\"df1c92fd-f7d1-4597-a80d-d297253303b2\")>,\n",
       " <selenium.webdriver.remote.webelement.WebElement (session=\"825ba749debb7f2d417dbc126f8a8405\", element=\"a4d5faa3-9e29-4d09-a132-1deb20caa2a6\")>,\n",
       " <selenium.webdriver.remote.webelement.WebElement (session=\"825ba749debb7f2d417dbc126f8a8405\", element=\"1ca1860b-4bc1-4b35-84e5-0bdfb02c8b88\")>,\n",
       " <selenium.webdriver.remote.webelement.WebElement (session=\"825ba749debb7f2d417dbc126f8a8405\", element=\"00a6d946-e4a8-475d-b804-f72d2cbafbd7\")>,\n",
       " <selenium.webdriver.remote.webelement.WebElement (session=\"825ba749debb7f2d417dbc126f8a8405\", element=\"46a2b06d-6cb3-4730-9bd9-d751466d54d8\")>,\n",
       " <selenium.webdriver.remote.webelement.WebElement (session=\"825ba749debb7f2d417dbc126f8a8405\", element=\"dd3f03e7-3aa6-4198-a0be-a20fe5a8e277\")>,\n",
       " <selenium.webdriver.remote.webelement.WebElement (session=\"825ba749debb7f2d417dbc126f8a8405\", element=\"7a2aea6a-1b13-4e21-94ac-ad71cfbfebbc\")>,\n",
       " <selenium.webdriver.remote.webelement.WebElement (session=\"825ba749debb7f2d417dbc126f8a8405\", element=\"59bae203-31bd-4d25-9dc0-aa8b41416704\")>,\n",
       " <selenium.webdriver.remote.webelement.WebElement (session=\"825ba749debb7f2d417dbc126f8a8405\", element=\"37b33a23-9df5-4811-ae57-f3f06e84e67c\")>,\n",
       " <selenium.webdriver.remote.webelement.WebElement (session=\"825ba749debb7f2d417dbc126f8a8405\", element=\"32e2185c-95d2-44db-9c67-a04be8fa8624\")>,\n",
       " <selenium.webdriver.remote.webelement.WebElement (session=\"825ba749debb7f2d417dbc126f8a8405\", element=\"2019fffe-0883-4c5f-9601-eae98745089d\")>,\n",
       " <selenium.webdriver.remote.webelement.WebElement (session=\"825ba749debb7f2d417dbc126f8a8405\", element=\"9cdce16b-cab0-4af1-bc2a-7041f1791386\")>,\n",
       " <selenium.webdriver.remote.webelement.WebElement (session=\"825ba749debb7f2d417dbc126f8a8405\", element=\"47ebbb23-6c61-40ca-a83c-d0ac97449952\")>,\n",
       " <selenium.webdriver.remote.webelement.WebElement (session=\"825ba749debb7f2d417dbc126f8a8405\", element=\"c401b8bd-3589-4544-ba25-39eee8f19a90\")>,\n",
       " <selenium.webdriver.remote.webelement.WebElement (session=\"825ba749debb7f2d417dbc126f8a8405\", element=\"4ab16f46-1b10-497d-89b2-ae034c4aee02\")>,\n",
       " <selenium.webdriver.remote.webelement.WebElement (session=\"825ba749debb7f2d417dbc126f8a8405\", element=\"94a17e0e-eaa2-44d1-8909-9367bcecaa5c\")>,\n",
       " <selenium.webdriver.remote.webelement.WebElement (session=\"825ba749debb7f2d417dbc126f8a8405\", element=\"f06a1941-be95-4bc1-bed1-6e73507475fe\")>,\n",
       " <selenium.webdriver.remote.webelement.WebElement (session=\"825ba749debb7f2d417dbc126f8a8405\", element=\"b2cf58e0-273a-4a00-a0fb-48395fdc3cd2\")>,\n",
       " <selenium.webdriver.remote.webelement.WebElement (session=\"825ba749debb7f2d417dbc126f8a8405\", element=\"723b890d-d35b-4bd6-9c03-087eb070ce36\")>,\n",
       " <selenium.webdriver.remote.webelement.WebElement (session=\"825ba749debb7f2d417dbc126f8a8405\", element=\"e8701a31-e42b-4c57-aea3-f3e8d8b11fb7\")>,\n",
       " <selenium.webdriver.remote.webelement.WebElement (session=\"825ba749debb7f2d417dbc126f8a8405\", element=\"529d2886-66bf-4743-9aa6-8bda5998d53c\")>,\n",
       " <selenium.webdriver.remote.webelement.WebElement (session=\"825ba749debb7f2d417dbc126f8a8405\", element=\"37c9109f-2170-4a93-8d3e-11247223ffe3\")>,\n",
       " <selenium.webdriver.remote.webelement.WebElement (session=\"825ba749debb7f2d417dbc126f8a8405\", element=\"9c929d55-5bd3-40b3-afe8-8f4a34e9dd0b\")>,\n",
       " <selenium.webdriver.remote.webelement.WebElement (session=\"825ba749debb7f2d417dbc126f8a8405\", element=\"a2cdd1ca-aa0d-4439-983c-9eb8ebffcdb3\")>,\n",
       " <selenium.webdriver.remote.webelement.WebElement (session=\"825ba749debb7f2d417dbc126f8a8405\", element=\"bab29518-34a2-4477-8dc5-ee07a0e3f30e\")>,\n",
       " <selenium.webdriver.remote.webelement.WebElement (session=\"825ba749debb7f2d417dbc126f8a8405\", element=\"851b65f1-2055-4379-bbbb-649eab48337c\")>,\n",
       " <selenium.webdriver.remote.webelement.WebElement (session=\"825ba749debb7f2d417dbc126f8a8405\", element=\"ba10b4fb-66cd-4d0d-874f-32d0e5ba4377\")>,\n",
       " <selenium.webdriver.remote.webelement.WebElement (session=\"825ba749debb7f2d417dbc126f8a8405\", element=\"d4d8924e-8b9b-4ee6-9ae7-4a2f9fabec60\")>,\n",
       " <selenium.webdriver.remote.webelement.WebElement (session=\"825ba749debb7f2d417dbc126f8a8405\", element=\"ae0223f3-5166-4e58-a164-6b3aefe5237c\")>,\n",
       " <selenium.webdriver.remote.webelement.WebElement (session=\"825ba749debb7f2d417dbc126f8a8405\", element=\"384b8005-2df7-4138-963f-2be901983300\")>,\n",
       " <selenium.webdriver.remote.webelement.WebElement (session=\"825ba749debb7f2d417dbc126f8a8405\", element=\"49d7d409-f387-4c88-95bd-38665cf031c8\")>,\n",
       " <selenium.webdriver.remote.webelement.WebElement (session=\"825ba749debb7f2d417dbc126f8a8405\", element=\"e4d85c28-2298-4cd0-b5e8-ae84adf74ed7\")>,\n",
       " <selenium.webdriver.remote.webelement.WebElement (session=\"825ba749debb7f2d417dbc126f8a8405\", element=\"fcb48b34-4cf7-4f78-b7e1-3052cacf35cb\")>]"
      ]
     },
     "execution_count": 128,
     "metadata": {},
     "output_type": "execute_result"
    }
   ],
   "source": [
    "price_tags=driver.find_elements_by_xpath(\"//span['@class=product-discountedPrice']\")\n",
    "price_tags[0:50]"
   ]
  },
  {
   "cell_type": "code",
   "execution_count": 131,
   "id": "15ee5b7c",
   "metadata": {},
   "outputs": [
    {
     "name": "stderr",
     "output_type": "stream",
     "text": [
      "<ipython-input-131-e29f1f409b77>:1: DeprecationWarning: find_elements_by_* commands are deprecated. Please use find_elements() instead\n",
      "  price_tags=driver.find_elements_by_xpath(\"//span['@class=product-discountedPrice']\")\n"
     ]
    },
    {
     "data": {
      "text/plain": [
       "[<selenium.webdriver.remote.webelement.WebElement (session=\"825ba749debb7f2d417dbc126f8a8405\", element=\"374a19cb-d3f3-4074-9fe9-d9eab1ebc073\")>,\n",
       " <selenium.webdriver.remote.webelement.WebElement (session=\"825ba749debb7f2d417dbc126f8a8405\", element=\"6ecbb048-70b9-4cf5-b026-2a7e917d4832\")>,\n",
       " <selenium.webdriver.remote.webelement.WebElement (session=\"825ba749debb7f2d417dbc126f8a8405\", element=\"075ea087-f912-4d5c-9c67-1a96cb01f3fc\")>,\n",
       " <selenium.webdriver.remote.webelement.WebElement (session=\"825ba749debb7f2d417dbc126f8a8405\", element=\"f9a1557a-17e1-45f4-b7c0-cea32e873cc9\")>,\n",
       " <selenium.webdriver.remote.webelement.WebElement (session=\"825ba749debb7f2d417dbc126f8a8405\", element=\"adea2567-18f8-4ad8-8fc2-29814dc26e73\")>,\n",
       " <selenium.webdriver.remote.webelement.WebElement (session=\"825ba749debb7f2d417dbc126f8a8405\", element=\"79e462fb-7762-442e-8a89-26cbeae064cb\")>,\n",
       " <selenium.webdriver.remote.webelement.WebElement (session=\"825ba749debb7f2d417dbc126f8a8405\", element=\"c2e069ef-8630-4ec4-a16b-965ffd89493b\")>,\n",
       " <selenium.webdriver.remote.webelement.WebElement (session=\"825ba749debb7f2d417dbc126f8a8405\", element=\"65ebddf4-21e3-4f91-b849-082b491a79de\")>,\n",
       " <selenium.webdriver.remote.webelement.WebElement (session=\"825ba749debb7f2d417dbc126f8a8405\", element=\"dca5d4e6-a618-4c11-b818-53bbf10fec40\")>,\n",
       " <selenium.webdriver.remote.webelement.WebElement (session=\"825ba749debb7f2d417dbc126f8a8405\", element=\"a7430499-29c1-4b62-a360-2ebfede4db84\")>,\n",
       " <selenium.webdriver.remote.webelement.WebElement (session=\"825ba749debb7f2d417dbc126f8a8405\", element=\"5902f011-308e-4b97-9db9-964be44fc030\")>,\n",
       " <selenium.webdriver.remote.webelement.WebElement (session=\"825ba749debb7f2d417dbc126f8a8405\", element=\"52691056-900d-48c9-859b-4f59eb866278\")>,\n",
       " <selenium.webdriver.remote.webelement.WebElement (session=\"825ba749debb7f2d417dbc126f8a8405\", element=\"869a3c0d-ecb5-4f66-946d-67ff0239834d\")>,\n",
       " <selenium.webdriver.remote.webelement.WebElement (session=\"825ba749debb7f2d417dbc126f8a8405\", element=\"a1bc2f3a-00d5-4bfc-843d-150058760f5c\")>,\n",
       " <selenium.webdriver.remote.webelement.WebElement (session=\"825ba749debb7f2d417dbc126f8a8405\", element=\"bd013137-0f4c-457d-bda6-ea8e2aef02f9\")>,\n",
       " <selenium.webdriver.remote.webelement.WebElement (session=\"825ba749debb7f2d417dbc126f8a8405\", element=\"ea9200f1-27b6-4fdd-af8d-bd564ed9ecc5\")>,\n",
       " <selenium.webdriver.remote.webelement.WebElement (session=\"825ba749debb7f2d417dbc126f8a8405\", element=\"a727f470-26d4-48e3-8670-f6932153f0cc\")>,\n",
       " <selenium.webdriver.remote.webelement.WebElement (session=\"825ba749debb7f2d417dbc126f8a8405\", element=\"03641e05-4bb6-4288-8a71-86414df0eaa4\")>,\n",
       " <selenium.webdriver.remote.webelement.WebElement (session=\"825ba749debb7f2d417dbc126f8a8405\", element=\"5311c550-e3f7-4222-b35b-1ce06ee3a128\")>,\n",
       " <selenium.webdriver.remote.webelement.WebElement (session=\"825ba749debb7f2d417dbc126f8a8405\", element=\"a3df0e48-d786-429a-9699-955387dcbbaf\")>,\n",
       " <selenium.webdriver.remote.webelement.WebElement (session=\"825ba749debb7f2d417dbc126f8a8405\", element=\"657e89c5-16d1-4556-bb93-1273772cb146\")>,\n",
       " <selenium.webdriver.remote.webelement.WebElement (session=\"825ba749debb7f2d417dbc126f8a8405\", element=\"ce4a92dd-9a70-4e8b-81c5-3d33920fdbce\")>,\n",
       " <selenium.webdriver.remote.webelement.WebElement (session=\"825ba749debb7f2d417dbc126f8a8405\", element=\"de255107-3667-4fef-be8d-59e3d18ff931\")>,\n",
       " <selenium.webdriver.remote.webelement.WebElement (session=\"825ba749debb7f2d417dbc126f8a8405\", element=\"a33e35b0-a006-483b-a6d8-74ca6534efa4\")>,\n",
       " <selenium.webdriver.remote.webelement.WebElement (session=\"825ba749debb7f2d417dbc126f8a8405\", element=\"dfef37b1-5f4b-47e3-b27e-678172ce6699\")>,\n",
       " <selenium.webdriver.remote.webelement.WebElement (session=\"825ba749debb7f2d417dbc126f8a8405\", element=\"688edc2e-fa35-4e4f-8a66-38e8a9d00566\")>,\n",
       " <selenium.webdriver.remote.webelement.WebElement (session=\"825ba749debb7f2d417dbc126f8a8405\", element=\"966fdb54-74eb-4f62-a71a-af35d288a28c\")>,\n",
       " <selenium.webdriver.remote.webelement.WebElement (session=\"825ba749debb7f2d417dbc126f8a8405\", element=\"2760fe4c-c3b3-45ca-a7e1-2ebee762e198\")>,\n",
       " <selenium.webdriver.remote.webelement.WebElement (session=\"825ba749debb7f2d417dbc126f8a8405\", element=\"46f2072c-3691-466e-8835-e8ff58a05312\")>,\n",
       " <selenium.webdriver.remote.webelement.WebElement (session=\"825ba749debb7f2d417dbc126f8a8405\", element=\"0408b871-9653-4377-89ad-9b438edecadb\")>,\n",
       " <selenium.webdriver.remote.webelement.WebElement (session=\"825ba749debb7f2d417dbc126f8a8405\", element=\"5de288d9-705f-4f10-b28f-51bd78045e38\")>,\n",
       " <selenium.webdriver.remote.webelement.WebElement (session=\"825ba749debb7f2d417dbc126f8a8405\", element=\"9ea6412d-c739-42ea-9c76-8482c30b2052\")>,\n",
       " <selenium.webdriver.remote.webelement.WebElement (session=\"825ba749debb7f2d417dbc126f8a8405\", element=\"cf1f9c1f-fc77-44bd-9bac-c3ed8181a798\")>,\n",
       " <selenium.webdriver.remote.webelement.WebElement (session=\"825ba749debb7f2d417dbc126f8a8405\", element=\"9174db73-48ed-498d-9808-3654769d3845\")>,\n",
       " <selenium.webdriver.remote.webelement.WebElement (session=\"825ba749debb7f2d417dbc126f8a8405\", element=\"c1674ec7-31c7-4836-bbeb-90dbf5070fa9\")>,\n",
       " <selenium.webdriver.remote.webelement.WebElement (session=\"825ba749debb7f2d417dbc126f8a8405\", element=\"4831ffe8-2c3e-4cf4-8d3c-aa9795c75a21\")>,\n",
       " <selenium.webdriver.remote.webelement.WebElement (session=\"825ba749debb7f2d417dbc126f8a8405\", element=\"76e89161-3c62-41d4-9098-456ba784be9d\")>,\n",
       " <selenium.webdriver.remote.webelement.WebElement (session=\"825ba749debb7f2d417dbc126f8a8405\", element=\"0a325110-ba33-4e48-9445-7216438d8ba3\")>,\n",
       " <selenium.webdriver.remote.webelement.WebElement (session=\"825ba749debb7f2d417dbc126f8a8405\", element=\"16c39fb0-cf7c-4e19-8a2d-dc41ea916c78\")>,\n",
       " <selenium.webdriver.remote.webelement.WebElement (session=\"825ba749debb7f2d417dbc126f8a8405\", element=\"582d1823-3470-4be8-8bf6-3ff465c60cc9\")>,\n",
       " <selenium.webdriver.remote.webelement.WebElement (session=\"825ba749debb7f2d417dbc126f8a8405\", element=\"3dc79a04-6885-4f46-a70f-cfe48145fcda\")>,\n",
       " <selenium.webdriver.remote.webelement.WebElement (session=\"825ba749debb7f2d417dbc126f8a8405\", element=\"d995ecc9-9dfd-44a7-9148-8e45c0c820a0\")>,\n",
       " <selenium.webdriver.remote.webelement.WebElement (session=\"825ba749debb7f2d417dbc126f8a8405\", element=\"f3cbddaa-265f-471c-9da8-f5749fdfabbe\")>,\n",
       " <selenium.webdriver.remote.webelement.WebElement (session=\"825ba749debb7f2d417dbc126f8a8405\", element=\"cf6f8bdc-653f-4f57-a7c2-3de16a0c0426\")>,\n",
       " <selenium.webdriver.remote.webelement.WebElement (session=\"825ba749debb7f2d417dbc126f8a8405\", element=\"92196b11-09e0-4f55-8579-87c06483e2c1\")>,\n",
       " <selenium.webdriver.remote.webelement.WebElement (session=\"825ba749debb7f2d417dbc126f8a8405\", element=\"58be09df-cfb0-4f8f-a0fa-0e36d8406323\")>,\n",
       " <selenium.webdriver.remote.webelement.WebElement (session=\"825ba749debb7f2d417dbc126f8a8405\", element=\"9d4194b4-2255-47e0-ab5b-2a48a7285769\")>,\n",
       " <selenium.webdriver.remote.webelement.WebElement (session=\"825ba749debb7f2d417dbc126f8a8405\", element=\"7b1bf54d-6b5f-4a15-bcc0-c7f1d42e250e\")>,\n",
       " <selenium.webdriver.remote.webelement.WebElement (session=\"825ba749debb7f2d417dbc126f8a8405\", element=\"2146b525-11ae-451e-81d8-0f6f18310e60\")>]"
      ]
     },
     "execution_count": 131,
     "metadata": {},
     "output_type": "execute_result"
    }
   ],
   "source": [
    "price_tags=driver.find_elements_by_xpath(\"//span['@class=product-discountedPrice']\")\n",
    "price_tags[51:100]"
   ]
  },
  {
   "cell_type": "code",
   "execution_count": null,
   "id": "136c4681",
   "metadata": {},
   "outputs": [],
   "source": [
    "for i in price_tags:\n",
    "    price_tags=i.text\n",
    "    price_tags.append(price_tags)\n",
    "price_tags[0:100]    "
   ]
  },
  {
   "cell_type": "markdown",
   "id": "27ee18e4",
   "metadata": {},
   "source": [
    "# scrape first 10 laptops data"
   ]
  },
  {
   "cell_type": "code",
   "execution_count": 132,
   "id": "1cc0be36",
   "metadata": {},
   "outputs": [],
   "source": [
    "import selenium\n",
    "import pandas as pd\n",
    "from selenium import webdriver"
   ]
  },
  {
   "cell_type": "code",
   "execution_count": 133,
   "id": "1197e8d3",
   "metadata": {},
   "outputs": [
    {
     "name": "stderr",
     "output_type": "stream",
     "text": [
      "<ipython-input-133-bcea5228ba58>:1: DeprecationWarning: executable_path has been deprecated, please pass in a Service object\n",
      "  driver = webdriver.Chrome(r\"C:\\Users\\user\\Downloads\\chromedriver_win32\\chromedriver.exe\")\n"
     ]
    }
   ],
   "source": [
    "driver = webdriver.Chrome(r\"C:\\Users\\user\\Downloads\\chromedriver_win32\\chromedriver.exe\")"
   ]
  },
  {
   "cell_type": "code",
   "execution_count": 134,
   "id": "1946bd72",
   "metadata": {},
   "outputs": [],
   "source": [
    "#driver.close()"
   ]
  },
  {
   "cell_type": "code",
   "execution_count": 135,
   "id": "5292ce5b",
   "metadata": {},
   "outputs": [],
   "source": [
    "url=\"https://www.amazon.in/s?k=laptops&crid=8EIUGH45KU58&sprefix=laptop%2Caps%2C218&ref=nb_sb_ss_ts-doa-p_4_6\""
   ]
  },
  {
   "cell_type": "code",
   "execution_count": 136,
   "id": "741753e3",
   "metadata": {},
   "outputs": [],
   "source": [
    "driver.get(url)"
   ]
  },
  {
   "cell_type": "code",
   "execution_count": 142,
   "id": "eca8b0e5",
   "metadata": {},
   "outputs": [],
   "source": [
    "titles=[]\n",
    "rating=[]\n",
    "price=[]"
   ]
  },
  {
   "cell_type": "code",
   "execution_count": 143,
   "id": "4e97e9a0",
   "metadata": {},
   "outputs": [
    {
     "name": "stderr",
     "output_type": "stream",
     "text": [
      "<ipython-input-143-fcd94afc4c68>:1: DeprecationWarning: find_elements_by_* commands are deprecated. Please use find_elements() instead\n",
      "  titles_i7=driver.find_elements_by_xpath(\"//h2['@class=a-size-mini a-spacing-none a-color-base s-line-clamp-2']\")\n"
     ]
    },
    {
     "data": {
      "text/plain": [
       "[<selenium.webdriver.remote.webelement.WebElement (session=\"9cc1cddb4d903e120ae09062653ff4be\", element=\"48182bba-9c37-4a7c-8ef2-a5e7a6f22c5b\")>,\n",
       " <selenium.webdriver.remote.webelement.WebElement (session=\"9cc1cddb4d903e120ae09062653ff4be\", element=\"6c8a71a7-8561-4d6a-a8d9-aa6aa38cb62e\")>,\n",
       " <selenium.webdriver.remote.webelement.WebElement (session=\"9cc1cddb4d903e120ae09062653ff4be\", element=\"5c7da40e-2fb7-4fba-a4e7-b97ee26f56b6\")>,\n",
       " <selenium.webdriver.remote.webelement.WebElement (session=\"9cc1cddb4d903e120ae09062653ff4be\", element=\"270660aa-6366-4f5f-916c-6aec390b1980\")>,\n",
       " <selenium.webdriver.remote.webelement.WebElement (session=\"9cc1cddb4d903e120ae09062653ff4be\", element=\"e272d6dc-1e92-4450-a48a-1d586872168d\")>,\n",
       " <selenium.webdriver.remote.webelement.WebElement (session=\"9cc1cddb4d903e120ae09062653ff4be\", element=\"5fe1c17e-0681-42d2-8a6f-c55103dac5c6\")>,\n",
       " <selenium.webdriver.remote.webelement.WebElement (session=\"9cc1cddb4d903e120ae09062653ff4be\", element=\"be7739e2-04e8-4110-a37d-4041bcd2da86\")>,\n",
       " <selenium.webdriver.remote.webelement.WebElement (session=\"9cc1cddb4d903e120ae09062653ff4be\", element=\"d2a131ca-040a-4aec-a74c-54b6bfa4ecc1\")>,\n",
       " <selenium.webdriver.remote.webelement.WebElement (session=\"9cc1cddb4d903e120ae09062653ff4be\", element=\"54e5a07e-ce78-421f-b867-461d2a16ba20\")>,\n",
       " <selenium.webdriver.remote.webelement.WebElement (session=\"9cc1cddb4d903e120ae09062653ff4be\", element=\"5ce60b8c-2121-4ca2-a8ae-4ddb5a4e410a\")>]"
      ]
     },
     "execution_count": 143,
     "metadata": {},
     "output_type": "execute_result"
    }
   ],
   "source": [
    "titles_i7=driver.find_elements_by_xpath(\"//h2['@class=a-size-mini a-spacing-none a-color-base s-line-clamp-2']\")\n",
    "titles_i7[0:10]"
   ]
  },
  {
   "cell_type": "code",
   "execution_count": 144,
   "id": "4851669c",
   "metadata": {},
   "outputs": [
    {
     "data": {
      "text/plain": [
       "['Fujitsu UH-X 11th Gen Intel Core i5 13.3 inches FHD IPS 400Nits Thin and Light Business Laptop (8GB/512GB SSD/Windows 10 Home/Office/Iris Xe Graphics/Backlit Kb/ Fingerprint Reader/Black/0.878kg), 4ZR1D67595',\n",
       " 'Acer Aspire 5 A515-56 Thin and Light Laptop | 15.6\" Full HD IPS Display | 11th Generation Intel Core i5-1135G7 Processor | 8GB DDR4 |256GB SSD | 1TB HDD|Backlit KB| WiFi 6| Windows 10 Home | MS Office',\n",
       " 'HP Chromebook x360 14-inch (35.56 cms) Thin & Light Touchscreen Laptop (AMD 3015CE/4GB/64GB eMMC Storage/Chrome OS/Ceramic White/1.49 kg), 14a-cb0006AU',\n",
       " \"Lenovo IdeaPad 3 Intel Celeron N4020 14'' HD Thin & Light Laptop (4GB/256GB HDD/Windows 11/MS Office 2021/Platinum Grey/1.5Kg), 81WH007KIN\",\n",
       " 'HP 15s 11th Gen Intel Core i3 15.6 inches Business Laptop (8GB RAM/512GB SSD/ Windows 11/ MS Office/ Natural Silver/ 1.75kg) - 15s-du3564TU',\n",
       " 'Lenovo Yoga 6 AMD Ryzen 7 5700U 13.3\" (33.782cm) FHD IPS 2-in-1 Convertible Touchscreen Laptop (16GB/512GB SSD/Windows 11/Office 2021/Backlit Keyboard/Fingerprint Reader/Abyss Blue/1.31Kg), 82ND00DNIN',\n",
       " 'Lenovo IdeaPad Slim 5i 11th Gen Intel Core i5 15.6\" FHD IPS Thin, Light Laptop (8GB/1TB HDD+256GB SSD/Windows10/Office19/MX450 2GB GDDR6/Fingerprint/Graphite Grey/Aluminium Surface/1.66Kg) 82FG00BPIN',\n",
       " 'HP OMEN 10th Gen Intel Core i5 Processor 15.6\" (39.62cms) FHD Gaming Laptop (i5-10300H/8GB/512GB SSD/Windows 10/NVIDIA GTX 1650 4GB/Shadow Black/2.36 kg), 15-ek0015TX',\n",
       " '',\n",
       " 'Lenovo IdeaPad Slim 3 10th Gen Intel Core i3 15.6\"(39.62cm) FHD Thin & Light Laptop (8GB/256GB SSD/UHD Graphics/Windows 11/MS Office 2021/Platinum Grey/1.7Kg), 81WB018EIN',\n",
       " 'Lenovo ThinkBook 15 Intel 11th Gen Core i5 15.6\" (39.62 cm) FHD IPS 300 nits Antiglare 100% sRGB Thin and Light Laptop (8GB/1TB HDD+128GB SSD/Windows 10/MS Office/Mineral Grey/1.7 Kg), 20VEA0HCIH',\n",
       " 'ASUS VivoBook 15 (2020), 39.6 cm HD, Dual Core Intel Celeron N4020, Thin and Light Laptop (4GB RAM/256GB SSD/Integrated Graphics/Windows 10 Home/Transparent Silver/1.8 Kg), X515MA-BR002T',\n",
       " 'Lenovo IdeaPad 3 10th Gen Intel Core i3 15.6 HD Thin and Light Laptop (8GB/1TB HDD/Windows 11/MS Office 2021/2Yr Warranty/Platinum Grey/1.7Kg), 81WB01BCIN',\n",
       " 'Lenovo IdeaPad Slim 1 Intel Celeron N4020 11.6\" (29.46cm) HD Thin & Light Laptop (4GB/256 GB SSD/Windows 10/MS Office/Platinum Grey/1.2Kg), 81VT0071IN',\n",
       " 'Acer Aspire 5 11th Gen Core i5 14-inch (35.56 cms) Full HD IPS Thin & Light Laptop- (8 GB/256GB SSD/1TB HDD/Windows 10 Home/Intel Iris Xe Graphics/Pure Silver/1.55 Kg), A514-54',\n",
       " 'Acer Aspire 5 A514-54 Thin and Light Laptop | 14\" Full HD IPS Display | 11th Gen Intel Core i5-1135G7 Processor | 8GB DDR4 |512 GB SSD| WiFi 6| Windows 11 Home | Backlit Keyboard | MS Office 2021',\n",
       " 'Lenovo Chromebook 14e 14.0\" FHD TouchScreen Business Laptop (AMD A6-9220C Processor/8GB DDR4 RAM/32GB Storage eMMC/AMD Radeon R5 Graphics/Chrome OS/Up to 10 Hours Battery Life/Mineral Grey) 81MH0037HA',\n",
       " 'HP Pavilion 15, Ryzen 5-5500U, 15.6-inch (39.6 cm) FHD, Micro Edge Display (16GB/512GB SSD/B&O Audio/Radeon Graphics/Win 10/MS Office/ FPR/ Backlit Keyboard/ Natural Silver/1.75 kg), 15-eh1103AU',\n",
       " 'Dell 15 (2021) Ryzen 3-3250U Laptop, 8GB DDR4, 256GB SSD, Win 10 + MS Office, Radeon Graphics, 15.6\" (39.62 cms) FHD Display, Carbon Black (Inspiron 3515, D560523WIN9BE)',\n",
       " 'Dell 15 (2021) Ryzen 3-3250U Laptop, 8GB, 256GB SSD, Win 10 + MS Office, Radeon Graphics, 15.6\" (39.61 cms) FHD Display, Soft Mint Color (Inspiron 3505, D560618WIN9SE)',\n",
       " 'Lenovo IdeaPad Slim 3 2021 11th Gen Intel Core i3 15.6\" (39.62cm) FHD IPS Thin & Light Laptop (8GB/512GB SSD/Windows 11/MS Office 2021/2 Year Warranty/Arctic Grey/1.65Kg), 82H80238IN',\n",
       " 'HP 15 Ryzen 3 Thin & Light 15.6-inch (39.6 cms) FHD Laptop (Ryzen 3 3250U/8GB/256GB SSD/Windows 10/MS Office/1.69 kg), 15s-gy0501AU, Silver',\n",
       " 'Lenovo IdeaPad 3 11th Gen Intel Core i3 14\" FHD Thin & Light Laptop (8 GB/256GB SDD/Windows 11/MS Office 2021/2Yr Warranty/Platinum Grey/1.5Kg), 81X700CWIN',\n",
       " 'Lenovo IdeaPad 3 11th Gen Intel Core i3 15.6 FHD Thin and Light Laptop (8 GB/256GB SDD/Windows 11/MS Office 2021/2Yr Warranty/Arctic Grey/1.65Kg), 82H801L3IN',\n",
       " 'LG Gram 16 Ultra-Light Intel Evo 11th Gen Core i7,16 GB RAM, 512 GB SSD, Win-10, Iris Xe Graphics, 16-inches (40.64 cms), Thunderbolt 4, USC -C x 2 (with Power), 1.19 kg, 3 Yr Warranty (16Z90P, Black)',\n",
       " 'Acer Nitro 5 AN515-57 Gaming Laptop | Intel Core i7-11800H |NVIDIA GeForce RTX 3050 Laptop Graphics |15.6\" FHD 144Hz IPS Display |8GB DDR4 | 256GB SSD+1TB HDD | Killer Wi-Fi 6 | RGB Backlit Keyboard',\n",
       " 'Need help?']"
      ]
     },
     "execution_count": 144,
     "metadata": {},
     "output_type": "execute_result"
    }
   ],
   "source": [
    "for i in titles_i7:\n",
    "    titles.append(i.text)\n",
    "titles    "
   ]
  },
  {
   "cell_type": "code",
   "execution_count": 145,
   "id": "ceb53435",
   "metadata": {},
   "outputs": [
    {
     "name": "stderr",
     "output_type": "stream",
     "text": [
      "<ipython-input-145-c49d2e95cb55>:1: DeprecationWarning: find_elements_by_* commands are deprecated. Please use find_elements() instead\n",
      "  titles_i9=driver.find_elements_by_xpath(\"//h2['@class=a-size-mini a-spacing-none a-color-base s-line-clamp-2']\")\n"
     ]
    },
    {
     "data": {
      "text/plain": [
       "[<selenium.webdriver.remote.webelement.WebElement (session=\"9cc1cddb4d903e120ae09062653ff4be\", element=\"48182bba-9c37-4a7c-8ef2-a5e7a6f22c5b\")>,\n",
       " <selenium.webdriver.remote.webelement.WebElement (session=\"9cc1cddb4d903e120ae09062653ff4be\", element=\"6c8a71a7-8561-4d6a-a8d9-aa6aa38cb62e\")>,\n",
       " <selenium.webdriver.remote.webelement.WebElement (session=\"9cc1cddb4d903e120ae09062653ff4be\", element=\"5c7da40e-2fb7-4fba-a4e7-b97ee26f56b6\")>,\n",
       " <selenium.webdriver.remote.webelement.WebElement (session=\"9cc1cddb4d903e120ae09062653ff4be\", element=\"270660aa-6366-4f5f-916c-6aec390b1980\")>,\n",
       " <selenium.webdriver.remote.webelement.WebElement (session=\"9cc1cddb4d903e120ae09062653ff4be\", element=\"e272d6dc-1e92-4450-a48a-1d586872168d\")>,\n",
       " <selenium.webdriver.remote.webelement.WebElement (session=\"9cc1cddb4d903e120ae09062653ff4be\", element=\"5fe1c17e-0681-42d2-8a6f-c55103dac5c6\")>,\n",
       " <selenium.webdriver.remote.webelement.WebElement (session=\"9cc1cddb4d903e120ae09062653ff4be\", element=\"be7739e2-04e8-4110-a37d-4041bcd2da86\")>,\n",
       " <selenium.webdriver.remote.webelement.WebElement (session=\"9cc1cddb4d903e120ae09062653ff4be\", element=\"d2a131ca-040a-4aec-a74c-54b6bfa4ecc1\")>,\n",
       " <selenium.webdriver.remote.webelement.WebElement (session=\"9cc1cddb4d903e120ae09062653ff4be\", element=\"54e5a07e-ce78-421f-b867-461d2a16ba20\")>,\n",
       " <selenium.webdriver.remote.webelement.WebElement (session=\"9cc1cddb4d903e120ae09062653ff4be\", element=\"5ce60b8c-2121-4ca2-a8ae-4ddb5a4e410a\")>]"
      ]
     },
     "execution_count": 145,
     "metadata": {},
     "output_type": "execute_result"
    }
   ],
   "source": [
    "titles_i9=driver.find_elements_by_xpath(\"//h2['@class=a-size-mini a-spacing-none a-color-base s-line-clamp-2']\")\n",
    "titles_i9[0:10]"
   ]
  },
  {
   "cell_type": "code",
   "execution_count": 146,
   "id": "cb0d3f38",
   "metadata": {},
   "outputs": [
    {
     "data": {
      "text/plain": [
       "['Fujitsu UH-X 11th Gen Intel Core i5 13.3 inches FHD IPS 400Nits Thin and Light Business Laptop (8GB/512GB SSD/Windows 10 Home/Office/Iris Xe Graphics/Backlit Kb/ Fingerprint Reader/Black/0.878kg), 4ZR1D67595',\n",
       " 'Acer Aspire 5 A515-56 Thin and Light Laptop | 15.6\" Full HD IPS Display | 11th Generation Intel Core i5-1135G7 Processor | 8GB DDR4 |256GB SSD | 1TB HDD|Backlit KB| WiFi 6| Windows 10 Home | MS Office',\n",
       " 'HP Chromebook x360 14-inch (35.56 cms) Thin & Light Touchscreen Laptop (AMD 3015CE/4GB/64GB eMMC Storage/Chrome OS/Ceramic White/1.49 kg), 14a-cb0006AU',\n",
       " \"Lenovo IdeaPad 3 Intel Celeron N4020 14'' HD Thin & Light Laptop (4GB/256GB HDD/Windows 11/MS Office 2021/Platinum Grey/1.5Kg), 81WH007KIN\",\n",
       " 'HP 15s 11th Gen Intel Core i3 15.6 inches Business Laptop (8GB RAM/512GB SSD/ Windows 11/ MS Office/ Natural Silver/ 1.75kg) - 15s-du3564TU',\n",
       " 'Lenovo Yoga 6 AMD Ryzen 7 5700U 13.3\" (33.782cm) FHD IPS 2-in-1 Convertible Touchscreen Laptop (16GB/512GB SSD/Windows 11/Office 2021/Backlit Keyboard/Fingerprint Reader/Abyss Blue/1.31Kg), 82ND00DNIN',\n",
       " 'Lenovo IdeaPad Slim 5i 11th Gen Intel Core i5 15.6\" FHD IPS Thin, Light Laptop (8GB/1TB HDD+256GB SSD/Windows10/Office19/MX450 2GB GDDR6/Fingerprint/Graphite Grey/Aluminium Surface/1.66Kg) 82FG00BPIN',\n",
       " 'HP OMEN 10th Gen Intel Core i5 Processor 15.6\" (39.62cms) FHD Gaming Laptop (i5-10300H/8GB/512GB SSD/Windows 10/NVIDIA GTX 1650 4GB/Shadow Black/2.36 kg), 15-ek0015TX',\n",
       " '',\n",
       " 'Lenovo IdeaPad Slim 3 10th Gen Intel Core i3 15.6\"(39.62cm) FHD Thin & Light Laptop (8GB/256GB SSD/UHD Graphics/Windows 11/MS Office 2021/Platinum Grey/1.7Kg), 81WB018EIN']"
      ]
     },
     "execution_count": 146,
     "metadata": {},
     "output_type": "execute_result"
    }
   ],
   "source": [
    "for i in titles_i9:\n",
    "    titles.append(i.text)\n",
    "titles[0:10]    "
   ]
  },
  {
   "cell_type": "code",
   "execution_count": 158,
   "id": "1204e616",
   "metadata": {},
   "outputs": [
    {
     "name": "stderr",
     "output_type": "stream",
     "text": [
      "<ipython-input-158-6bd0b53705c9>:1: DeprecationWarning: find_elements_by_* commands are deprecated. Please use find_elements() instead\n",
      "  rating_i7=driver.find_elements_by_xpath(\"//i['@class=a-icon a-icon-star-small a-star-small-4-5 aok-align-bottom']\")\n"
     ]
    },
    {
     "data": {
      "text/plain": [
       "[<selenium.webdriver.remote.webelement.WebElement (session=\"9cc1cddb4d903e120ae09062653ff4be\", element=\"8de55e25-4357-4529-a82c-d4dbdc241a0a\")>,\n",
       " <selenium.webdriver.remote.webelement.WebElement (session=\"9cc1cddb4d903e120ae09062653ff4be\", element=\"56aebdb8-56ca-4b85-8660-ed2140752eac\")>,\n",
       " <selenium.webdriver.remote.webelement.WebElement (session=\"9cc1cddb4d903e120ae09062653ff4be\", element=\"d5716620-4ca5-4980-8174-9dabadd85ded\")>,\n",
       " <selenium.webdriver.remote.webelement.WebElement (session=\"9cc1cddb4d903e120ae09062653ff4be\", element=\"b2760ccf-feb4-440f-97e8-b19d46f4f497\")>,\n",
       " <selenium.webdriver.remote.webelement.WebElement (session=\"9cc1cddb4d903e120ae09062653ff4be\", element=\"d5c9182f-1f28-4031-a42a-35f44512b09b\")>,\n",
       " <selenium.webdriver.remote.webelement.WebElement (session=\"9cc1cddb4d903e120ae09062653ff4be\", element=\"af1d082e-d61b-4253-aa98-425396c1ca25\")>,\n",
       " <selenium.webdriver.remote.webelement.WebElement (session=\"9cc1cddb4d903e120ae09062653ff4be\", element=\"342fee91-2092-4076-935f-74024a476b53\")>,\n",
       " <selenium.webdriver.remote.webelement.WebElement (session=\"9cc1cddb4d903e120ae09062653ff4be\", element=\"b0c47585-276c-4b5a-92a5-147e604d798c\")>,\n",
       " <selenium.webdriver.remote.webelement.WebElement (session=\"9cc1cddb4d903e120ae09062653ff4be\", element=\"ef1ebe07-99f5-4c41-902a-db3650c806ec\")>,\n",
       " <selenium.webdriver.remote.webelement.WebElement (session=\"9cc1cddb4d903e120ae09062653ff4be\", element=\"e3eff3ec-f5c3-4910-abfa-d67d4a1a8cd4\")>]"
      ]
     },
     "execution_count": 158,
     "metadata": {},
     "output_type": "execute_result"
    }
   ],
   "source": [
    "rating_i7=driver.find_elements_by_xpath(\"//i['@class=a-icon a-icon-star-small a-star-small-4-5 aok-align-bottom']\")\n",
    "rating_i7[0:10]"
   ]
  },
  {
   "cell_type": "code",
   "execution_count": 159,
   "id": "c3b3d5c1",
   "metadata": {},
   "outputs": [
    {
     "name": "stderr",
     "output_type": "stream",
     "text": [
      "<ipython-input-159-dae9bfa76b8d>:1: DeprecationWarning: find_elements_by_* commands are deprecated. Please use find_elements() instead\n",
      "  rating_i9=driver.find_elements_by_xpath(\"//i['@class=a-icon a-icon-star-small a-star-small-4 aok-align-bottom']\")\n"
     ]
    },
    {
     "data": {
      "text/plain": [
       "[<selenium.webdriver.remote.webelement.WebElement (session=\"9cc1cddb4d903e120ae09062653ff4be\", element=\"8de55e25-4357-4529-a82c-d4dbdc241a0a\")>,\n",
       " <selenium.webdriver.remote.webelement.WebElement (session=\"9cc1cddb4d903e120ae09062653ff4be\", element=\"56aebdb8-56ca-4b85-8660-ed2140752eac\")>,\n",
       " <selenium.webdriver.remote.webelement.WebElement (session=\"9cc1cddb4d903e120ae09062653ff4be\", element=\"d5716620-4ca5-4980-8174-9dabadd85ded\")>,\n",
       " <selenium.webdriver.remote.webelement.WebElement (session=\"9cc1cddb4d903e120ae09062653ff4be\", element=\"b2760ccf-feb4-440f-97e8-b19d46f4f497\")>,\n",
       " <selenium.webdriver.remote.webelement.WebElement (session=\"9cc1cddb4d903e120ae09062653ff4be\", element=\"d5c9182f-1f28-4031-a42a-35f44512b09b\")>,\n",
       " <selenium.webdriver.remote.webelement.WebElement (session=\"9cc1cddb4d903e120ae09062653ff4be\", element=\"af1d082e-d61b-4253-aa98-425396c1ca25\")>,\n",
       " <selenium.webdriver.remote.webelement.WebElement (session=\"9cc1cddb4d903e120ae09062653ff4be\", element=\"342fee91-2092-4076-935f-74024a476b53\")>,\n",
       " <selenium.webdriver.remote.webelement.WebElement (session=\"9cc1cddb4d903e120ae09062653ff4be\", element=\"b0c47585-276c-4b5a-92a5-147e604d798c\")>,\n",
       " <selenium.webdriver.remote.webelement.WebElement (session=\"9cc1cddb4d903e120ae09062653ff4be\", element=\"ef1ebe07-99f5-4c41-902a-db3650c806ec\")>,\n",
       " <selenium.webdriver.remote.webelement.WebElement (session=\"9cc1cddb4d903e120ae09062653ff4be\", element=\"e3eff3ec-f5c3-4910-abfa-d67d4a1a8cd4\")>]"
      ]
     },
     "execution_count": 159,
     "metadata": {},
     "output_type": "execute_result"
    }
   ],
   "source": [
    "rating_i9=driver.find_elements_by_xpath(\"//i['@class=a-icon a-icon-star-small a-star-small-4 aok-align-bottom']\")\n",
    "rating_i9[0:10]"
   ]
  },
  {
   "cell_type": "code",
   "execution_count": 162,
   "id": "7b119d60",
   "metadata": {},
   "outputs": [
    {
     "name": "stderr",
     "output_type": "stream",
     "text": [
      "<ipython-input-162-c07d7744491e>:1: DeprecationWarning: find_elements_by_* commands are deprecated. Please use find_elements() instead\n",
      "  price_i7=driver.find_elements_by_xpath(\"//span['@class=a-price-whole']/span[1]\")\n"
     ]
    },
    {
     "data": {
      "text/plain": [
       "[<selenium.webdriver.remote.webelement.WebElement (session=\"9cc1cddb4d903e120ae09062653ff4be\", element=\"e01f6a31-0148-4e0c-b40f-66ece214e48d\")>,\n",
       " <selenium.webdriver.remote.webelement.WebElement (session=\"9cc1cddb4d903e120ae09062653ff4be\", element=\"cc964048-a423-445c-b970-420f1a1259ba\")>,\n",
       " <selenium.webdriver.remote.webelement.WebElement (session=\"9cc1cddb4d903e120ae09062653ff4be\", element=\"460e0b96-87ad-44e5-b8c1-705afcf1da07\")>,\n",
       " <selenium.webdriver.remote.webelement.WebElement (session=\"9cc1cddb4d903e120ae09062653ff4be\", element=\"0ea84b2d-4333-4e6a-ad54-d4163204b3fd\")>,\n",
       " <selenium.webdriver.remote.webelement.WebElement (session=\"9cc1cddb4d903e120ae09062653ff4be\", element=\"caf12a96-4d35-4e18-8456-82f06ffc9ec7\")>,\n",
       " <selenium.webdriver.remote.webelement.WebElement (session=\"9cc1cddb4d903e120ae09062653ff4be\", element=\"dcf31668-108e-434b-ae5a-a833582a32e1\")>,\n",
       " <selenium.webdriver.remote.webelement.WebElement (session=\"9cc1cddb4d903e120ae09062653ff4be\", element=\"60aa601c-4a20-4c2a-9b6c-c73dc613f364\")>,\n",
       " <selenium.webdriver.remote.webelement.WebElement (session=\"9cc1cddb4d903e120ae09062653ff4be\", element=\"33c232df-4859-4853-be8c-2375d86a9764\")>,\n",
       " <selenium.webdriver.remote.webelement.WebElement (session=\"9cc1cddb4d903e120ae09062653ff4be\", element=\"2e23d1de-f93d-4e5a-b6db-64797f93363b\")>,\n",
       " <selenium.webdriver.remote.webelement.WebElement (session=\"9cc1cddb4d903e120ae09062653ff4be\", element=\"522b196e-f826-4fea-9c04-5d4b171325c2\")>]"
      ]
     },
     "execution_count": 162,
     "metadata": {},
     "output_type": "execute_result"
    }
   ],
   "source": [
    "price_i7=driver.find_elements_by_xpath(\"//span['@class=a-price-whole']/span[1]\")\n",
    "price_i7[0:10]"
   ]
  },
  {
   "cell_type": "code",
   "execution_count": null,
   "id": "e11345ca",
   "metadata": {},
   "outputs": [],
   "source": [
    "for i in price_i7:\n",
    "    price.append(i.text)\n",
    "price    "
   ]
  },
  {
   "cell_type": "code",
   "execution_count": 165,
   "id": "60e1de4f",
   "metadata": {},
   "outputs": [
    {
     "name": "stderr",
     "output_type": "stream",
     "text": [
      "<ipython-input-165-50aa34fb563e>:1: DeprecationWarning: find_elements_by_* commands are deprecated. Please use find_elements() instead\n",
      "  price_i9=driver.find_elements_by_xpath(\"//span['@class=a-price-whole']/span[1]\")\n"
     ]
    },
    {
     "data": {
      "text/plain": [
       "[<selenium.webdriver.remote.webelement.WebElement (session=\"9cc1cddb4d903e120ae09062653ff4be\", element=\"e01f6a31-0148-4e0c-b40f-66ece214e48d\")>,\n",
       " <selenium.webdriver.remote.webelement.WebElement (session=\"9cc1cddb4d903e120ae09062653ff4be\", element=\"cc964048-a423-445c-b970-420f1a1259ba\")>,\n",
       " <selenium.webdriver.remote.webelement.WebElement (session=\"9cc1cddb4d903e120ae09062653ff4be\", element=\"460e0b96-87ad-44e5-b8c1-705afcf1da07\")>,\n",
       " <selenium.webdriver.remote.webelement.WebElement (session=\"9cc1cddb4d903e120ae09062653ff4be\", element=\"0ea84b2d-4333-4e6a-ad54-d4163204b3fd\")>,\n",
       " <selenium.webdriver.remote.webelement.WebElement (session=\"9cc1cddb4d903e120ae09062653ff4be\", element=\"caf12a96-4d35-4e18-8456-82f06ffc9ec7\")>,\n",
       " <selenium.webdriver.remote.webelement.WebElement (session=\"9cc1cddb4d903e120ae09062653ff4be\", element=\"dcf31668-108e-434b-ae5a-a833582a32e1\")>,\n",
       " <selenium.webdriver.remote.webelement.WebElement (session=\"9cc1cddb4d903e120ae09062653ff4be\", element=\"60aa601c-4a20-4c2a-9b6c-c73dc613f364\")>,\n",
       " <selenium.webdriver.remote.webelement.WebElement (session=\"9cc1cddb4d903e120ae09062653ff4be\", element=\"33c232df-4859-4853-be8c-2375d86a9764\")>,\n",
       " <selenium.webdriver.remote.webelement.WebElement (session=\"9cc1cddb4d903e120ae09062653ff4be\", element=\"2e23d1de-f93d-4e5a-b6db-64797f93363b\")>,\n",
       " <selenium.webdriver.remote.webelement.WebElement (session=\"9cc1cddb4d903e120ae09062653ff4be\", element=\"522b196e-f826-4fea-9c04-5d4b171325c2\")>,\n",
       " <selenium.webdriver.remote.webelement.WebElement (session=\"9cc1cddb4d903e120ae09062653ff4be\", element=\"069d6b4c-cb2e-4298-b2cc-51f41c9cd986\")>,\n",
       " <selenium.webdriver.remote.webelement.WebElement (session=\"9cc1cddb4d903e120ae09062653ff4be\", element=\"fc65f116-e3a5-4b1b-938f-e544d8ee6ffb\")>,\n",
       " <selenium.webdriver.remote.webelement.WebElement (session=\"9cc1cddb4d903e120ae09062653ff4be\", element=\"be42e99d-51bb-4df4-9278-b92d154a73f0\")>,\n",
       " <selenium.webdriver.remote.webelement.WebElement (session=\"9cc1cddb4d903e120ae09062653ff4be\", element=\"fa93f57a-5dfb-4678-9093-bd52d5e7f3f0\")>,\n",
       " <selenium.webdriver.remote.webelement.WebElement (session=\"9cc1cddb4d903e120ae09062653ff4be\", element=\"36ac4469-8011-41e2-9fd6-5645ad24469c\")>,\n",
       " <selenium.webdriver.remote.webelement.WebElement (session=\"9cc1cddb4d903e120ae09062653ff4be\", element=\"5ffd725c-4461-4c6e-a48b-fefb3fa68d02\")>,\n",
       " <selenium.webdriver.remote.webelement.WebElement (session=\"9cc1cddb4d903e120ae09062653ff4be\", element=\"9fb636ec-5e99-4ef3-b75b-f87acb651f6a\")>,\n",
       " <selenium.webdriver.remote.webelement.WebElement (session=\"9cc1cddb4d903e120ae09062653ff4be\", element=\"4654fef8-005e-48d4-bdab-d3734d312632\")>,\n",
       " <selenium.webdriver.remote.webelement.WebElement (session=\"9cc1cddb4d903e120ae09062653ff4be\", element=\"525794b4-93b4-4f8c-9055-66be0512386d\")>,\n",
       " <selenium.webdriver.remote.webelement.WebElement (session=\"9cc1cddb4d903e120ae09062653ff4be\", element=\"e9563d4f-6ad2-4cd9-8fcc-14b426155c6a\")>,\n",
       " <selenium.webdriver.remote.webelement.WebElement (session=\"9cc1cddb4d903e120ae09062653ff4be\", element=\"e3e8fe67-8843-41bc-ac93-4d03f7464e8f\")>,\n",
       " <selenium.webdriver.remote.webelement.WebElement (session=\"9cc1cddb4d903e120ae09062653ff4be\", element=\"97bb9a3d-cfdd-4cd5-92ee-3617fc553969\")>,\n",
       " <selenium.webdriver.remote.webelement.WebElement (session=\"9cc1cddb4d903e120ae09062653ff4be\", element=\"e6df1d63-9cc0-421d-adf5-e0876c238ee1\")>,\n",
       " <selenium.webdriver.remote.webelement.WebElement (session=\"9cc1cddb4d903e120ae09062653ff4be\", element=\"ecbac891-7365-4596-aad2-b7c5ca365dbd\")>,\n",
       " <selenium.webdriver.remote.webelement.WebElement (session=\"9cc1cddb4d903e120ae09062653ff4be\", element=\"d19e5e67-b958-4eff-ba54-951b5a414b38\")>,\n",
       " <selenium.webdriver.remote.webelement.WebElement (session=\"9cc1cddb4d903e120ae09062653ff4be\", element=\"029e6021-82df-49f8-9090-9577f7819963\")>,\n",
       " <selenium.webdriver.remote.webelement.WebElement (session=\"9cc1cddb4d903e120ae09062653ff4be\", element=\"199ad59b-ef61-4a63-9540-15d5ab4f81c5\")>,\n",
       " <selenium.webdriver.remote.webelement.WebElement (session=\"9cc1cddb4d903e120ae09062653ff4be\", element=\"5b1ba7ff-037b-4686-8768-5b356bfd4800\")>,\n",
       " <selenium.webdriver.remote.webelement.WebElement (session=\"9cc1cddb4d903e120ae09062653ff4be\", element=\"51ee4367-a543-47d3-a4de-11fd8611eadd\")>,\n",
       " <selenium.webdriver.remote.webelement.WebElement (session=\"9cc1cddb4d903e120ae09062653ff4be\", element=\"2acb9542-a8ab-47cc-abb6-b6ce9e88114b\")>,\n",
       " <selenium.webdriver.remote.webelement.WebElement (session=\"9cc1cddb4d903e120ae09062653ff4be\", element=\"d037fef7-7c22-44f5-8bdd-a000b4f0966f\")>,\n",
       " <selenium.webdriver.remote.webelement.WebElement (session=\"9cc1cddb4d903e120ae09062653ff4be\", element=\"8a86e2f8-005f-4021-add4-5e50aeb592d4\")>,\n",
       " <selenium.webdriver.remote.webelement.WebElement (session=\"9cc1cddb4d903e120ae09062653ff4be\", element=\"5db25785-92c6-44a8-a73d-604bcdb31da0\")>,\n",
       " <selenium.webdriver.remote.webelement.WebElement (session=\"9cc1cddb4d903e120ae09062653ff4be\", element=\"53e5408c-1c25-43ec-bced-1f0e276581ca\")>,\n",
       " <selenium.webdriver.remote.webelement.WebElement (session=\"9cc1cddb4d903e120ae09062653ff4be\", element=\"184764df-83bf-4a29-aa04-b15d513c2c5a\")>,\n",
       " <selenium.webdriver.remote.webelement.WebElement (session=\"9cc1cddb4d903e120ae09062653ff4be\", element=\"ee45a209-8ae1-4c91-b1ff-0f302ee1649a\")>,\n",
       " <selenium.webdriver.remote.webelement.WebElement (session=\"9cc1cddb4d903e120ae09062653ff4be\", element=\"2e69aa4b-9b16-4ef9-9c9b-66801be4e8b4\")>,\n",
       " <selenium.webdriver.remote.webelement.WebElement (session=\"9cc1cddb4d903e120ae09062653ff4be\", element=\"47bf8b71-c226-4279-ae77-ba25a8cdabdc\")>,\n",
       " <selenium.webdriver.remote.webelement.WebElement (session=\"9cc1cddb4d903e120ae09062653ff4be\", element=\"6f384b5e-9411-4e52-b958-6b579df0f87e\")>,\n",
       " <selenium.webdriver.remote.webelement.WebElement (session=\"9cc1cddb4d903e120ae09062653ff4be\", element=\"ae44fdbb-29af-4431-a513-29bb26b8192d\")>,\n",
       " <selenium.webdriver.remote.webelement.WebElement (session=\"9cc1cddb4d903e120ae09062653ff4be\", element=\"84b608e8-8dae-4cac-8fd2-15472bd305f7\")>,\n",
       " <selenium.webdriver.remote.webelement.WebElement (session=\"9cc1cddb4d903e120ae09062653ff4be\", element=\"e99c8ab4-9896-4913-8d14-6a7b846ce1b7\")>,\n",
       " <selenium.webdriver.remote.webelement.WebElement (session=\"9cc1cddb4d903e120ae09062653ff4be\", element=\"67948099-34d2-4d97-87f0-065714c3bad4\")>,\n",
       " <selenium.webdriver.remote.webelement.WebElement (session=\"9cc1cddb4d903e120ae09062653ff4be\", element=\"11200e71-2263-4258-b4f5-1df60b40e57f\")>,\n",
       " <selenium.webdriver.remote.webelement.WebElement (session=\"9cc1cddb4d903e120ae09062653ff4be\", element=\"c0b82e80-343c-4881-ba4b-fa5000a6fc01\")>,\n",
       " <selenium.webdriver.remote.webelement.WebElement (session=\"9cc1cddb4d903e120ae09062653ff4be\", element=\"4bf4fc5b-9aac-4f56-8a1c-0722e22ecc77\")>,\n",
       " <selenium.webdriver.remote.webelement.WebElement (session=\"9cc1cddb4d903e120ae09062653ff4be\", element=\"259244f7-4b81-41e9-ba71-5af3d231449a\")>,\n",
       " <selenium.webdriver.remote.webelement.WebElement (session=\"9cc1cddb4d903e120ae09062653ff4be\", element=\"7b4d969b-a690-4707-9b54-fd158ffed265\")>,\n",
       " <selenium.webdriver.remote.webelement.WebElement (session=\"9cc1cddb4d903e120ae09062653ff4be\", element=\"38891434-1f4d-4393-9f09-6e82354d479c\")>,\n",
       " <selenium.webdriver.remote.webelement.WebElement (session=\"9cc1cddb4d903e120ae09062653ff4be\", element=\"436b74c5-ac44-4b7b-aa3c-83d582447342\")>,\n",
       " <selenium.webdriver.remote.webelement.WebElement (session=\"9cc1cddb4d903e120ae09062653ff4be\", element=\"e1078f87-5c1a-46ae-94e2-c3ce24092f27\")>,\n",
       " <selenium.webdriver.remote.webelement.WebElement (session=\"9cc1cddb4d903e120ae09062653ff4be\", element=\"e9b2e18d-e265-4a26-96f0-0eee89df3520\")>,\n",
       " <selenium.webdriver.remote.webelement.WebElement (session=\"9cc1cddb4d903e120ae09062653ff4be\", element=\"72d49467-c0c2-4d0d-a014-2f421dc40797\")>,\n",
       " <selenium.webdriver.remote.webelement.WebElement (session=\"9cc1cddb4d903e120ae09062653ff4be\", element=\"9ff8bdfd-139a-4fb5-b2c7-b6e98e417a65\")>,\n",
       " <selenium.webdriver.remote.webelement.WebElement (session=\"9cc1cddb4d903e120ae09062653ff4be\", element=\"4829cd3b-f132-4414-a85b-c2f46deb0576\")>,\n",
       " <selenium.webdriver.remote.webelement.WebElement (session=\"9cc1cddb4d903e120ae09062653ff4be\", element=\"62fd7ec9-d25c-4961-b00f-eccda089f93c\")>,\n",
       " <selenium.webdriver.remote.webelement.WebElement (session=\"9cc1cddb4d903e120ae09062653ff4be\", element=\"d46c6c9f-7e20-4cb1-a075-d0400caa3abd\")>,\n",
       " <selenium.webdriver.remote.webelement.WebElement (session=\"9cc1cddb4d903e120ae09062653ff4be\", element=\"d474304c-e7a8-409b-99cd-47cfbf7840d8\")>,\n",
       " <selenium.webdriver.remote.webelement.WebElement (session=\"9cc1cddb4d903e120ae09062653ff4be\", element=\"218ee334-76bd-4003-bcc9-aef5ba466d56\")>,\n",
       " <selenium.webdriver.remote.webelement.WebElement (session=\"9cc1cddb4d903e120ae09062653ff4be\", element=\"1dccd095-94bd-486e-9e21-bbfef53d3189\")>,\n",
       " <selenium.webdriver.remote.webelement.WebElement (session=\"9cc1cddb4d903e120ae09062653ff4be\", element=\"a811fe1f-54de-4df5-9eb0-bf33beba1c46\")>,\n",
       " <selenium.webdriver.remote.webelement.WebElement (session=\"9cc1cddb4d903e120ae09062653ff4be\", element=\"bf4a7c2c-362f-4ee6-8dbf-f742d5e8b76d\")>,\n",
       " <selenium.webdriver.remote.webelement.WebElement (session=\"9cc1cddb4d903e120ae09062653ff4be\", element=\"44fa542e-85e0-4672-a8ad-88f91a579be4\")>,\n",
       " <selenium.webdriver.remote.webelement.WebElement (session=\"9cc1cddb4d903e120ae09062653ff4be\", element=\"ce68c5cc-a674-4b81-9f28-a41635219d07\")>,\n",
       " <selenium.webdriver.remote.webelement.WebElement (session=\"9cc1cddb4d903e120ae09062653ff4be\", element=\"ba749eb4-f308-48db-ba7b-413f9d14057b\")>,\n",
       " <selenium.webdriver.remote.webelement.WebElement (session=\"9cc1cddb4d903e120ae09062653ff4be\", element=\"341dfb01-5a28-490e-8496-43265ebf4458\")>,\n",
       " <selenium.webdriver.remote.webelement.WebElement (session=\"9cc1cddb4d903e120ae09062653ff4be\", element=\"f1cc316e-8b05-485d-a0a9-47d539028336\")>,\n",
       " <selenium.webdriver.remote.webelement.WebElement (session=\"9cc1cddb4d903e120ae09062653ff4be\", element=\"78631821-0524-4488-a513-e86d32ac9f0c\")>,\n",
       " <selenium.webdriver.remote.webelement.WebElement (session=\"9cc1cddb4d903e120ae09062653ff4be\", element=\"96e56328-5fa4-475c-8069-4fefe9712bd9\")>,\n",
       " <selenium.webdriver.remote.webelement.WebElement (session=\"9cc1cddb4d903e120ae09062653ff4be\", element=\"f933099a-b221-46e9-aeb8-12d2c980a962\")>,\n",
       " <selenium.webdriver.remote.webelement.WebElement (session=\"9cc1cddb4d903e120ae09062653ff4be\", element=\"c21cb86f-23ce-42f8-a08b-63d6ee59af8b\")>,\n",
       " <selenium.webdriver.remote.webelement.WebElement (session=\"9cc1cddb4d903e120ae09062653ff4be\", element=\"2dadcd2d-2da5-4952-af08-b9460622b6d3\")>,\n",
       " <selenium.webdriver.remote.webelement.WebElement (session=\"9cc1cddb4d903e120ae09062653ff4be\", element=\"da51439c-9f01-459a-a677-b38657f68a38\")>,\n",
       " <selenium.webdriver.remote.webelement.WebElement (session=\"9cc1cddb4d903e120ae09062653ff4be\", element=\"07976291-d1c3-4dbb-864b-b0f2d02541f6\")>,\n",
       " <selenium.webdriver.remote.webelement.WebElement (session=\"9cc1cddb4d903e120ae09062653ff4be\", element=\"9a0f3e48-5f6f-41f6-a3df-4a0f938e51ac\")>,\n",
       " <selenium.webdriver.remote.webelement.WebElement (session=\"9cc1cddb4d903e120ae09062653ff4be\", element=\"7ac4aa4c-8f0c-4bfa-859c-b2fe9d7b942f\")>,\n",
       " <selenium.webdriver.remote.webelement.WebElement (session=\"9cc1cddb4d903e120ae09062653ff4be\", element=\"346eee6e-3b29-4540-bc36-1c29c5368531\")>,\n",
       " <selenium.webdriver.remote.webelement.WebElement (session=\"9cc1cddb4d903e120ae09062653ff4be\", element=\"2f286fec-6914-4faf-9995-aebafdba3eef\")>,\n",
       " <selenium.webdriver.remote.webelement.WebElement (session=\"9cc1cddb4d903e120ae09062653ff4be\", element=\"0b5edd41-0724-4873-89fd-fdc96e527e91\")>,\n",
       " <selenium.webdriver.remote.webelement.WebElement (session=\"9cc1cddb4d903e120ae09062653ff4be\", element=\"a52bff6b-5a27-45f2-922e-c061186302c1\")>,\n",
       " <selenium.webdriver.remote.webelement.WebElement (session=\"9cc1cddb4d903e120ae09062653ff4be\", element=\"b5f9851d-9561-408d-b6e3-8857897096b3\")>,\n",
       " <selenium.webdriver.remote.webelement.WebElement (session=\"9cc1cddb4d903e120ae09062653ff4be\", element=\"952dab70-dad5-47e1-a177-f7bee748fff4\")>,\n",
       " <selenium.webdriver.remote.webelement.WebElement (session=\"9cc1cddb4d903e120ae09062653ff4be\", element=\"87b541fb-f0a4-4d97-9b9f-69a12f813447\")>,\n",
       " <selenium.webdriver.remote.webelement.WebElement (session=\"9cc1cddb4d903e120ae09062653ff4be\", element=\"0696f371-add4-4a07-9ac4-7b888240076e\")>,\n",
       " <selenium.webdriver.remote.webelement.WebElement (session=\"9cc1cddb4d903e120ae09062653ff4be\", element=\"70c66fb4-2ded-4905-ab49-9685c642c630\")>,\n",
       " <selenium.webdriver.remote.webelement.WebElement (session=\"9cc1cddb4d903e120ae09062653ff4be\", element=\"5c40e76d-52c3-4f5b-b00e-441312bd03e6\")>,\n",
       " <selenium.webdriver.remote.webelement.WebElement (session=\"9cc1cddb4d903e120ae09062653ff4be\", element=\"1a55ac42-bc76-47a7-b562-2d4acf34d813\")>,\n",
       " <selenium.webdriver.remote.webelement.WebElement (session=\"9cc1cddb4d903e120ae09062653ff4be\", element=\"0297a25e-2b04-442b-a6de-e55b7bb6ea45\")>,\n",
       " <selenium.webdriver.remote.webelement.WebElement (session=\"9cc1cddb4d903e120ae09062653ff4be\", element=\"b70e0aec-eb98-491f-b2a2-54f40a6dcc3c\")>,\n",
       " <selenium.webdriver.remote.webelement.WebElement (session=\"9cc1cddb4d903e120ae09062653ff4be\", element=\"c1987f7f-56e0-428e-a41f-1857827fb0b4\")>,\n",
       " <selenium.webdriver.remote.webelement.WebElement (session=\"9cc1cddb4d903e120ae09062653ff4be\", element=\"cbd8a9c1-f340-45e1-911a-6967b04bc866\")>,\n",
       " <selenium.webdriver.remote.webelement.WebElement (session=\"9cc1cddb4d903e120ae09062653ff4be\", element=\"113aef83-ba72-472a-9fe6-0cd7470685a9\")>,\n",
       " <selenium.webdriver.remote.webelement.WebElement (session=\"9cc1cddb4d903e120ae09062653ff4be\", element=\"5f5ec800-1934-445d-bb0f-97404e8074f9\")>,\n",
       " <selenium.webdriver.remote.webelement.WebElement (session=\"9cc1cddb4d903e120ae09062653ff4be\", element=\"eaef7459-137c-41cb-aaf0-d95ef65f47ea\")>,\n",
       " <selenium.webdriver.remote.webelement.WebElement (session=\"9cc1cddb4d903e120ae09062653ff4be\", element=\"ef20f5c8-a40b-4487-bcac-c52fa8643996\")>,\n",
       " <selenium.webdriver.remote.webelement.WebElement (session=\"9cc1cddb4d903e120ae09062653ff4be\", element=\"d85f0ffe-321a-46e1-b9ea-7c7fe537db7a\")>,\n",
       " <selenium.webdriver.remote.webelement.WebElement (session=\"9cc1cddb4d903e120ae09062653ff4be\", element=\"4e58987c-a56b-48ab-ac39-466cd30a572c\")>,\n",
       " <selenium.webdriver.remote.webelement.WebElement (session=\"9cc1cddb4d903e120ae09062653ff4be\", element=\"3941f3c0-6f0a-4a75-85fe-a41c821eb4b7\")>,\n",
       " <selenium.webdriver.remote.webelement.WebElement (session=\"9cc1cddb4d903e120ae09062653ff4be\", element=\"58f2e9c7-6a9e-4f9f-a1dd-bfcce6d6ad65\")>,\n",
       " <selenium.webdriver.remote.webelement.WebElement (session=\"9cc1cddb4d903e120ae09062653ff4be\", element=\"1f5c26aa-975c-4d83-a062-8fa9e3e482ee\")>,\n",
       " <selenium.webdriver.remote.webelement.WebElement (session=\"9cc1cddb4d903e120ae09062653ff4be\", element=\"a4b64a8a-6255-4fd7-b964-16adf3c6bc06\")>,\n",
       " <selenium.webdriver.remote.webelement.WebElement (session=\"9cc1cddb4d903e120ae09062653ff4be\", element=\"5e95c157-38b5-48b9-9ee9-0efa6d4e451a\")>,\n",
       " <selenium.webdriver.remote.webelement.WebElement (session=\"9cc1cddb4d903e120ae09062653ff4be\", element=\"171fd5aa-944e-41b9-a6b1-36b36ae939df\")>,\n",
       " <selenium.webdriver.remote.webelement.WebElement (session=\"9cc1cddb4d903e120ae09062653ff4be\", element=\"e0a9d772-7207-4f00-88b0-57199e7a6d63\")>,\n",
       " <selenium.webdriver.remote.webelement.WebElement (session=\"9cc1cddb4d903e120ae09062653ff4be\", element=\"f876e80c-577f-477f-bea6-2ef75452870f\")>,\n",
       " <selenium.webdriver.remote.webelement.WebElement (session=\"9cc1cddb4d903e120ae09062653ff4be\", element=\"c3d55156-d670-48b4-b113-84f73e728aa2\")>,\n",
       " <selenium.webdriver.remote.webelement.WebElement (session=\"9cc1cddb4d903e120ae09062653ff4be\", element=\"511354a1-fdcf-4e78-8f97-c3da39455358\")>,\n",
       " <selenium.webdriver.remote.webelement.WebElement (session=\"9cc1cddb4d903e120ae09062653ff4be\", element=\"5022a49c-1394-416c-949f-6efad0c574e8\")>,\n",
       " <selenium.webdriver.remote.webelement.WebElement (session=\"9cc1cddb4d903e120ae09062653ff4be\", element=\"e2ece850-8f31-4940-8327-4853e30cb235\")>,\n",
       " <selenium.webdriver.remote.webelement.WebElement (session=\"9cc1cddb4d903e120ae09062653ff4be\", element=\"ba8a7519-ff88-4f31-a69e-60af1c29c5f9\")>,\n",
       " <selenium.webdriver.remote.webelement.WebElement (session=\"9cc1cddb4d903e120ae09062653ff4be\", element=\"83ece02e-75af-48ab-93f7-83a811a4159b\")>,\n",
       " <selenium.webdriver.remote.webelement.WebElement (session=\"9cc1cddb4d903e120ae09062653ff4be\", element=\"944020f9-c2fe-4a24-9c8a-9549e835b15b\")>,\n",
       " <selenium.webdriver.remote.webelement.WebElement (session=\"9cc1cddb4d903e120ae09062653ff4be\", element=\"bd390db2-0933-436c-92d5-0635c2993b7a\")>,\n",
       " <selenium.webdriver.remote.webelement.WebElement (session=\"9cc1cddb4d903e120ae09062653ff4be\", element=\"478d7cd2-380d-4ce7-b099-712ca99894e7\")>,\n",
       " <selenium.webdriver.remote.webelement.WebElement (session=\"9cc1cddb4d903e120ae09062653ff4be\", element=\"75c0f15b-4de7-49e6-972c-49571531bf9f\")>,\n",
       " <selenium.webdriver.remote.webelement.WebElement (session=\"9cc1cddb4d903e120ae09062653ff4be\", element=\"7bba4250-21a3-435b-9783-61fe00c22e28\")>,\n",
       " <selenium.webdriver.remote.webelement.WebElement (session=\"9cc1cddb4d903e120ae09062653ff4be\", element=\"a40f9de5-b68d-4275-a14e-c2d188d1a67a\")>,\n",
       " <selenium.webdriver.remote.webelement.WebElement (session=\"9cc1cddb4d903e120ae09062653ff4be\", element=\"be1984e3-9448-4593-9f53-44727621b5d3\")>,\n",
       " <selenium.webdriver.remote.webelement.WebElement (session=\"9cc1cddb4d903e120ae09062653ff4be\", element=\"c5927b95-77fc-480f-ada8-e9790a0a92ce\")>,\n",
       " <selenium.webdriver.remote.webelement.WebElement (session=\"9cc1cddb4d903e120ae09062653ff4be\", element=\"b7a055d6-91eb-4a12-8c6d-f88b126283d5\")>,\n",
       " <selenium.webdriver.remote.webelement.WebElement (session=\"9cc1cddb4d903e120ae09062653ff4be\", element=\"aad354fb-c5d1-4c32-87dc-0e3fc4c22ecc\")>,\n",
       " <selenium.webdriver.remote.webelement.WebElement (session=\"9cc1cddb4d903e120ae09062653ff4be\", element=\"0e4a3377-4592-4d46-940e-e037bf6fd89b\")>,\n",
       " <selenium.webdriver.remote.webelement.WebElement (session=\"9cc1cddb4d903e120ae09062653ff4be\", element=\"2afccdce-5e3b-49cb-bdb8-bae07ebdce1c\")>,\n",
       " <selenium.webdriver.remote.webelement.WebElement (session=\"9cc1cddb4d903e120ae09062653ff4be\", element=\"3cd40e7e-4c78-4126-9b57-3c97c9482c03\")>,\n",
       " <selenium.webdriver.remote.webelement.WebElement (session=\"9cc1cddb4d903e120ae09062653ff4be\", element=\"c7bfda1b-dd1e-447e-99b5-76e30aefc5e6\")>,\n",
       " <selenium.webdriver.remote.webelement.WebElement (session=\"9cc1cddb4d903e120ae09062653ff4be\", element=\"3824a7b4-cab0-4340-98ef-7ee9ad3f2fb9\")>,\n",
       " <selenium.webdriver.remote.webelement.WebElement (session=\"9cc1cddb4d903e120ae09062653ff4be\", element=\"6936a2be-05ec-40f2-a26f-b1c7b4121511\")>,\n",
       " <selenium.webdriver.remote.webelement.WebElement (session=\"9cc1cddb4d903e120ae09062653ff4be\", element=\"e564c525-8b42-4d7b-be0b-45691a2c546e\")>,\n",
       " <selenium.webdriver.remote.webelement.WebElement (session=\"9cc1cddb4d903e120ae09062653ff4be\", element=\"25f0db1f-937f-4f8e-992d-b4a9541d3a05\")>,\n",
       " <selenium.webdriver.remote.webelement.WebElement (session=\"9cc1cddb4d903e120ae09062653ff4be\", element=\"179a9dfd-8b34-49e7-bcb6-8e947677961c\")>,\n",
       " <selenium.webdriver.remote.webelement.WebElement (session=\"9cc1cddb4d903e120ae09062653ff4be\", element=\"37218df1-18fb-41d2-9ea5-d7393f160212\")>,\n",
       " <selenium.webdriver.remote.webelement.WebElement (session=\"9cc1cddb4d903e120ae09062653ff4be\", element=\"3ed019ab-fc71-4021-a41d-33c05eff2846\")>,\n",
       " <selenium.webdriver.remote.webelement.WebElement (session=\"9cc1cddb4d903e120ae09062653ff4be\", element=\"0570588e-6e59-4f08-be23-977097439193\")>,\n",
       " <selenium.webdriver.remote.webelement.WebElement (session=\"9cc1cddb4d903e120ae09062653ff4be\", element=\"d2a3d524-ea2e-419e-840f-f68f8f681f4f\")>,\n",
       " <selenium.webdriver.remote.webelement.WebElement (session=\"9cc1cddb4d903e120ae09062653ff4be\", element=\"54706e30-54fb-4de8-a2a1-75763f59bd78\")>,\n",
       " <selenium.webdriver.remote.webelement.WebElement (session=\"9cc1cddb4d903e120ae09062653ff4be\", element=\"73c2e383-59c9-4775-b8be-771d2124e83e\")>,\n",
       " <selenium.webdriver.remote.webelement.WebElement (session=\"9cc1cddb4d903e120ae09062653ff4be\", element=\"df685c5c-f710-45ba-9ad4-a9aee49e4f6f\")>,\n",
       " <selenium.webdriver.remote.webelement.WebElement (session=\"9cc1cddb4d903e120ae09062653ff4be\", element=\"2b995c4c-e67d-42f2-8ef5-0db4a6ac8b40\")>,\n",
       " <selenium.webdriver.remote.webelement.WebElement (session=\"9cc1cddb4d903e120ae09062653ff4be\", element=\"2097c275-4a3a-415c-86ff-3f099dc0f490\")>,\n",
       " <selenium.webdriver.remote.webelement.WebElement (session=\"9cc1cddb4d903e120ae09062653ff4be\", element=\"202a8050-6e3d-43fb-a75c-c0e6e1048db0\")>,\n",
       " <selenium.webdriver.remote.webelement.WebElement (session=\"9cc1cddb4d903e120ae09062653ff4be\", element=\"81cc2f0f-6fd5-4bfd-8ac2-780540aee917\")>,\n",
       " <selenium.webdriver.remote.webelement.WebElement (session=\"9cc1cddb4d903e120ae09062653ff4be\", element=\"2cf73250-761a-4996-b1ce-05448a96b0bb\")>,\n",
       " <selenium.webdriver.remote.webelement.WebElement (session=\"9cc1cddb4d903e120ae09062653ff4be\", element=\"cedeac48-e718-4aec-a72d-06e219af7456\")>,\n",
       " <selenium.webdriver.remote.webelement.WebElement (session=\"9cc1cddb4d903e120ae09062653ff4be\", element=\"e96312ab-d477-4a08-a1fa-efcfd8da5f22\")>,\n",
       " <selenium.webdriver.remote.webelement.WebElement (session=\"9cc1cddb4d903e120ae09062653ff4be\", element=\"f700dc72-b6e6-4e23-9cc8-59639f69b48e\")>,\n",
       " <selenium.webdriver.remote.webelement.WebElement (session=\"9cc1cddb4d903e120ae09062653ff4be\", element=\"106ebe59-329e-4564-91c8-7e6698d3f3d1\")>,\n",
       " <selenium.webdriver.remote.webelement.WebElement (session=\"9cc1cddb4d903e120ae09062653ff4be\", element=\"615bd56c-b185-49d4-b9b0-2deab85cac1e\")>,\n",
       " <selenium.webdriver.remote.webelement.WebElement (session=\"9cc1cddb4d903e120ae09062653ff4be\", element=\"c80f7242-9d33-4dbf-b618-24219632e770\")>,\n",
       " <selenium.webdriver.remote.webelement.WebElement (session=\"9cc1cddb4d903e120ae09062653ff4be\", element=\"1b1ddd2a-66f1-4445-8119-c2197edadb59\")>,\n",
       " <selenium.webdriver.remote.webelement.WebElement (session=\"9cc1cddb4d903e120ae09062653ff4be\", element=\"ae70da35-5297-4639-9ee8-cdd5d95219dc\")>,\n",
       " <selenium.webdriver.remote.webelement.WebElement (session=\"9cc1cddb4d903e120ae09062653ff4be\", element=\"01095c22-f898-42fb-9521-e670239ecfce\")>,\n",
       " <selenium.webdriver.remote.webelement.WebElement (session=\"9cc1cddb4d903e120ae09062653ff4be\", element=\"0cb8e8ea-eddd-453a-affd-190e85d68f9a\")>,\n",
       " <selenium.webdriver.remote.webelement.WebElement (session=\"9cc1cddb4d903e120ae09062653ff4be\", element=\"bbf24cac-5333-4f90-bea8-88e8d43af549\")>,\n",
       " <selenium.webdriver.remote.webelement.WebElement (session=\"9cc1cddb4d903e120ae09062653ff4be\", element=\"7d98db09-6457-4145-a83c-3b56e875cf4d\")>,\n",
       " <selenium.webdriver.remote.webelement.WebElement (session=\"9cc1cddb4d903e120ae09062653ff4be\", element=\"bcf1cb29-6e31-42bb-aade-c088d95141c9\")>,\n",
       " <selenium.webdriver.remote.webelement.WebElement (session=\"9cc1cddb4d903e120ae09062653ff4be\", element=\"5526ded1-db2b-455b-89be-b65df1be3d6a\")>,\n",
       " <selenium.webdriver.remote.webelement.WebElement (session=\"9cc1cddb4d903e120ae09062653ff4be\", element=\"843ea23f-0ee6-49e3-8d59-d7a8d2f58336\")>,\n",
       " <selenium.webdriver.remote.webelement.WebElement (session=\"9cc1cddb4d903e120ae09062653ff4be\", element=\"7e7b6d02-e263-4899-918c-cb29b05c5b60\")>,\n",
       " <selenium.webdriver.remote.webelement.WebElement (session=\"9cc1cddb4d903e120ae09062653ff4be\", element=\"238d0c81-d0eb-4df5-9535-8e4f55c685d9\")>,\n",
       " <selenium.webdriver.remote.webelement.WebElement (session=\"9cc1cddb4d903e120ae09062653ff4be\", element=\"67262399-e3bb-457b-bb9a-62af4d50a684\")>,\n",
       " <selenium.webdriver.remote.webelement.WebElement (session=\"9cc1cddb4d903e120ae09062653ff4be\", element=\"847b9730-5dd3-4bca-8436-bdbed060a1b6\")>,\n",
       " <selenium.webdriver.remote.webelement.WebElement (session=\"9cc1cddb4d903e120ae09062653ff4be\", element=\"831ac071-4ac6-484e-ac90-99641d8af203\")>,\n",
       " <selenium.webdriver.remote.webelement.WebElement (session=\"9cc1cddb4d903e120ae09062653ff4be\", element=\"e019ff3f-9b99-48ca-a76b-497b43a5a843\")>,\n",
       " <selenium.webdriver.remote.webelement.WebElement (session=\"9cc1cddb4d903e120ae09062653ff4be\", element=\"2ef529a0-1d92-439e-b3ff-fcb77b0c011c\")>,\n",
       " <selenium.webdriver.remote.webelement.WebElement (session=\"9cc1cddb4d903e120ae09062653ff4be\", element=\"4c60318e-bc93-4c43-8782-7dd7a737c5c0\")>,\n",
       " <selenium.webdriver.remote.webelement.WebElement (session=\"9cc1cddb4d903e120ae09062653ff4be\", element=\"eb76c462-8d12-45c1-b9e3-b2c4ccb7bd09\")>,\n",
       " <selenium.webdriver.remote.webelement.WebElement (session=\"9cc1cddb4d903e120ae09062653ff4be\", element=\"aaec7ad9-1f14-4ce5-bbf7-768dfff2a40c\")>,\n",
       " <selenium.webdriver.remote.webelement.WebElement (session=\"9cc1cddb4d903e120ae09062653ff4be\", element=\"5b14295d-519e-49bc-91b6-c32d706da8f5\")>,\n",
       " <selenium.webdriver.remote.webelement.WebElement (session=\"9cc1cddb4d903e120ae09062653ff4be\", element=\"5c298b47-6cbc-4dce-85cf-6be1fe73ecc6\")>,\n",
       " <selenium.webdriver.remote.webelement.WebElement (session=\"9cc1cddb4d903e120ae09062653ff4be\", element=\"a450c423-e251-44aa-b621-67aba1f26537\")>,\n",
       " <selenium.webdriver.remote.webelement.WebElement (session=\"9cc1cddb4d903e120ae09062653ff4be\", element=\"99d2cfaf-ee86-4dcd-aac9-9b553bde3f98\")>,\n",
       " <selenium.webdriver.remote.webelement.WebElement (session=\"9cc1cddb4d903e120ae09062653ff4be\", element=\"d53a39d0-d00f-44d1-aff6-40b025aec2c3\")>,\n",
       " <selenium.webdriver.remote.webelement.WebElement (session=\"9cc1cddb4d903e120ae09062653ff4be\", element=\"b87a2497-3544-4a0d-9cc0-c757aa63bb50\")>,\n",
       " <selenium.webdriver.remote.webelement.WebElement (session=\"9cc1cddb4d903e120ae09062653ff4be\", element=\"d906c58b-e541-4cb1-92b9-8043a7d6b6f1\")>,\n",
       " <selenium.webdriver.remote.webelement.WebElement (session=\"9cc1cddb4d903e120ae09062653ff4be\", element=\"8a975795-68ab-4642-a506-ff8f5841964e\")>,\n",
       " <selenium.webdriver.remote.webelement.WebElement (session=\"9cc1cddb4d903e120ae09062653ff4be\", element=\"8c9ecf20-7dd5-45b7-9581-e07e6b1e25ec\")>,\n",
       " <selenium.webdriver.remote.webelement.WebElement (session=\"9cc1cddb4d903e120ae09062653ff4be\", element=\"e6a885d8-6afd-44e9-9037-8d0a36477d2d\")>,\n",
       " <selenium.webdriver.remote.webelement.WebElement (session=\"9cc1cddb4d903e120ae09062653ff4be\", element=\"e531f1ae-2f71-4a2e-a86d-bc7383300ab7\")>,\n",
       " <selenium.webdriver.remote.webelement.WebElement (session=\"9cc1cddb4d903e120ae09062653ff4be\", element=\"13ed300b-81c7-4b1e-85e6-a70e224c8957\")>,\n",
       " <selenium.webdriver.remote.webelement.WebElement (session=\"9cc1cddb4d903e120ae09062653ff4be\", element=\"9556d10c-ffa1-4c61-b13a-76024ff63e4c\")>,\n",
       " <selenium.webdriver.remote.webelement.WebElement (session=\"9cc1cddb4d903e120ae09062653ff4be\", element=\"7cab8c4f-5f53-4ed9-9996-d210d3d06554\")>,\n",
       " <selenium.webdriver.remote.webelement.WebElement (session=\"9cc1cddb4d903e120ae09062653ff4be\", element=\"1d7a9395-d639-4f40-949c-b9261c110bca\")>,\n",
       " <selenium.webdriver.remote.webelement.WebElement (session=\"9cc1cddb4d903e120ae09062653ff4be\", element=\"456ebd44-5207-4920-ba2a-c440ef7bae87\")>,\n",
       " <selenium.webdriver.remote.webelement.WebElement (session=\"9cc1cddb4d903e120ae09062653ff4be\", element=\"75a40281-574d-47a9-95fd-c5a891ee6c1a\")>,\n",
       " <selenium.webdriver.remote.webelement.WebElement (session=\"9cc1cddb4d903e120ae09062653ff4be\", element=\"53c496f8-96ac-467e-a6ba-5f578b43cd07\")>,\n",
       " <selenium.webdriver.remote.webelement.WebElement (session=\"9cc1cddb4d903e120ae09062653ff4be\", element=\"8033d2c5-232e-49d1-bb13-eda6c935a00c\")>,\n",
       " <selenium.webdriver.remote.webelement.WebElement (session=\"9cc1cddb4d903e120ae09062653ff4be\", element=\"4f5920fa-4279-49df-b557-90129f509fa2\")>,\n",
       " <selenium.webdriver.remote.webelement.WebElement (session=\"9cc1cddb4d903e120ae09062653ff4be\", element=\"9409c482-4bbb-4193-924e-4dbb041438f1\")>,\n",
       " <selenium.webdriver.remote.webelement.WebElement (session=\"9cc1cddb4d903e120ae09062653ff4be\", element=\"48cb267d-f81b-4191-bc73-c2d43b445af7\")>,\n",
       " <selenium.webdriver.remote.webelement.WebElement (session=\"9cc1cddb4d903e120ae09062653ff4be\", element=\"7d56c897-c3c5-4720-8a54-ab68e2ea60f6\")>,\n",
       " <selenium.webdriver.remote.webelement.WebElement (session=\"9cc1cddb4d903e120ae09062653ff4be\", element=\"38b8e212-7bad-4b1f-9cd0-49ea819287d2\")>,\n",
       " <selenium.webdriver.remote.webelement.WebElement (session=\"9cc1cddb4d903e120ae09062653ff4be\", element=\"dc04abf8-c4bb-4a27-b435-d7ebe1275268\")>,\n",
       " <selenium.webdriver.remote.webelement.WebElement (session=\"9cc1cddb4d903e120ae09062653ff4be\", element=\"5da8dc32-182c-4dad-be79-65d6a9c16399\")>,\n",
       " <selenium.webdriver.remote.webelement.WebElement (session=\"9cc1cddb4d903e120ae09062653ff4be\", element=\"08cb8df9-2fb6-417e-a0b1-1ba015bbcb6a\")>,\n",
       " <selenium.webdriver.remote.webelement.WebElement (session=\"9cc1cddb4d903e120ae09062653ff4be\", element=\"330e4ca1-1109-4639-ad53-9559242acb09\")>,\n",
       " <selenium.webdriver.remote.webelement.WebElement (session=\"9cc1cddb4d903e120ae09062653ff4be\", element=\"e8492b02-32ab-4b98-9ab8-f1465b109a3d\")>,\n",
       " <selenium.webdriver.remote.webelement.WebElement (session=\"9cc1cddb4d903e120ae09062653ff4be\", element=\"c9e8ca12-f298-4887-99e2-b926bfff0485\")>,\n",
       " <selenium.webdriver.remote.webelement.WebElement (session=\"9cc1cddb4d903e120ae09062653ff4be\", element=\"fa2986d2-10e6-44a8-aed0-7c5e1f55553f\")>,\n",
       " <selenium.webdriver.remote.webelement.WebElement (session=\"9cc1cddb4d903e120ae09062653ff4be\", element=\"b2986052-d2a8-4b8f-9b00-ccbd14f65c8f\")>,\n",
       " <selenium.webdriver.remote.webelement.WebElement (session=\"9cc1cddb4d903e120ae09062653ff4be\", element=\"0690b442-a22e-4134-8e00-4f9c0ef2ca2d\")>,\n",
       " <selenium.webdriver.remote.webelement.WebElement (session=\"9cc1cddb4d903e120ae09062653ff4be\", element=\"776f3a52-98c9-4b60-b2e4-49b5104d9bd3\")>,\n",
       " <selenium.webdriver.remote.webelement.WebElement (session=\"9cc1cddb4d903e120ae09062653ff4be\", element=\"53b95e0e-a37c-4308-8960-70e812a9d647\")>,\n",
       " <selenium.webdriver.remote.webelement.WebElement (session=\"9cc1cddb4d903e120ae09062653ff4be\", element=\"fffb9fbc-1451-4e34-9adf-8c215af3c792\")>,\n",
       " <selenium.webdriver.remote.webelement.WebElement (session=\"9cc1cddb4d903e120ae09062653ff4be\", element=\"ffc7f817-0c75-4616-ab18-0fa1bc7b9ec4\")>,\n",
       " <selenium.webdriver.remote.webelement.WebElement (session=\"9cc1cddb4d903e120ae09062653ff4be\", element=\"5ea3e97d-45ec-4900-938a-fb3954b1d536\")>,\n",
       " <selenium.webdriver.remote.webelement.WebElement (session=\"9cc1cddb4d903e120ae09062653ff4be\", element=\"1b6c7c9d-66ae-4e60-965c-b0190391328c\")>,\n",
       " <selenium.webdriver.remote.webelement.WebElement (session=\"9cc1cddb4d903e120ae09062653ff4be\", element=\"4d5336ac-9192-48f8-bb5b-ea185841c72d\")>,\n",
       " <selenium.webdriver.remote.webelement.WebElement (session=\"9cc1cddb4d903e120ae09062653ff4be\", element=\"b76aa1af-61b8-48d0-8de4-54207d00fcfa\")>,\n",
       " <selenium.webdriver.remote.webelement.WebElement (session=\"9cc1cddb4d903e120ae09062653ff4be\", element=\"1f208af0-60aa-465d-844f-aec01389d545\")>,\n",
       " <selenium.webdriver.remote.webelement.WebElement (session=\"9cc1cddb4d903e120ae09062653ff4be\", element=\"845a6503-6f2a-40ee-be59-68c87f908e78\")>,\n",
       " <selenium.webdriver.remote.webelement.WebElement (session=\"9cc1cddb4d903e120ae09062653ff4be\", element=\"0652e4ab-013b-48db-8fe9-6e88c6d65d7c\")>,\n",
       " <selenium.webdriver.remote.webelement.WebElement (session=\"9cc1cddb4d903e120ae09062653ff4be\", element=\"4de380b4-c38f-4b8f-a4f9-8ba0e8315bed\")>,\n",
       " <selenium.webdriver.remote.webelement.WebElement (session=\"9cc1cddb4d903e120ae09062653ff4be\", element=\"69ad1ca4-d79b-40fd-a1d0-9598bf054e64\")>,\n",
       " <selenium.webdriver.remote.webelement.WebElement (session=\"9cc1cddb4d903e120ae09062653ff4be\", element=\"5a63837c-321e-46a9-91ed-e71615b207b9\")>,\n",
       " <selenium.webdriver.remote.webelement.WebElement (session=\"9cc1cddb4d903e120ae09062653ff4be\", element=\"b63c103b-eb98-4d0e-b674-899da90f6276\")>,\n",
       " <selenium.webdriver.remote.webelement.WebElement (session=\"9cc1cddb4d903e120ae09062653ff4be\", element=\"c1bf672b-b8ac-486b-bda9-9542b8f73ea7\")>,\n",
       " <selenium.webdriver.remote.webelement.WebElement (session=\"9cc1cddb4d903e120ae09062653ff4be\", element=\"29a61170-1900-4d57-b086-2f8a3d39f1ef\")>,\n",
       " <selenium.webdriver.remote.webelement.WebElement (session=\"9cc1cddb4d903e120ae09062653ff4be\", element=\"1f5c536c-519b-4d67-8c0a-5be2fff168f9\")>,\n",
       " <selenium.webdriver.remote.webelement.WebElement (session=\"9cc1cddb4d903e120ae09062653ff4be\", element=\"56c8263f-d8e4-4518-b24b-46ffc34120a5\")>,\n",
       " <selenium.webdriver.remote.webelement.WebElement (session=\"9cc1cddb4d903e120ae09062653ff4be\", element=\"191b7a0a-29ec-42c7-9f3f-5d3a5d17208f\")>,\n",
       " <selenium.webdriver.remote.webelement.WebElement (session=\"9cc1cddb4d903e120ae09062653ff4be\", element=\"26eb3316-a398-4ee3-a97a-47050e8e72a3\")>,\n",
       " <selenium.webdriver.remote.webelement.WebElement (session=\"9cc1cddb4d903e120ae09062653ff4be\", element=\"b3a705fa-735a-4dae-aa3a-85bb5d928941\")>,\n",
       " <selenium.webdriver.remote.webelement.WebElement (session=\"9cc1cddb4d903e120ae09062653ff4be\", element=\"75314baa-99dd-43aa-9ee9-ea9e63832e8a\")>,\n",
       " <selenium.webdriver.remote.webelement.WebElement (session=\"9cc1cddb4d903e120ae09062653ff4be\", element=\"81f51cd9-72a2-45ff-b71a-c6cc2c9af5fd\")>,\n",
       " <selenium.webdriver.remote.webelement.WebElement (session=\"9cc1cddb4d903e120ae09062653ff4be\", element=\"bd5f1cca-e4da-445c-8254-ae2fad9f1252\")>,\n",
       " <selenium.webdriver.remote.webelement.WebElement (session=\"9cc1cddb4d903e120ae09062653ff4be\", element=\"ed5eb8da-e677-4672-afda-08bade26fb22\")>,\n",
       " <selenium.webdriver.remote.webelement.WebElement (session=\"9cc1cddb4d903e120ae09062653ff4be\", element=\"460ec39e-5d1c-4bc1-a7d8-23bfb5ce4146\")>,\n",
       " <selenium.webdriver.remote.webelement.WebElement (session=\"9cc1cddb4d903e120ae09062653ff4be\", element=\"ae639608-5f9c-4195-b552-1a6d22507e70\")>,\n",
       " <selenium.webdriver.remote.webelement.WebElement (session=\"9cc1cddb4d903e120ae09062653ff4be\", element=\"266e54cc-2e59-44df-a1db-4711861827c0\")>,\n",
       " <selenium.webdriver.remote.webelement.WebElement (session=\"9cc1cddb4d903e120ae09062653ff4be\", element=\"5254306f-9394-4920-bf00-b7e9cef7c589\")>,\n",
       " <selenium.webdriver.remote.webelement.WebElement (session=\"9cc1cddb4d903e120ae09062653ff4be\", element=\"622927d3-8805-443b-a540-a8e3f3237dd6\")>,\n",
       " <selenium.webdriver.remote.webelement.WebElement (session=\"9cc1cddb4d903e120ae09062653ff4be\", element=\"ea09ece7-db43-4ef1-a2eb-39e7735b5ca9\")>,\n",
       " <selenium.webdriver.remote.webelement.WebElement (session=\"9cc1cddb4d903e120ae09062653ff4be\", element=\"db348f6a-3763-4f20-a1aa-a421e3da6099\")>,\n",
       " <selenium.webdriver.remote.webelement.WebElement (session=\"9cc1cddb4d903e120ae09062653ff4be\", element=\"632cd6f3-5e38-4958-8d07-fcc9972ca30f\")>,\n",
       " <selenium.webdriver.remote.webelement.WebElement (session=\"9cc1cddb4d903e120ae09062653ff4be\", element=\"1d4526ab-0b6a-4c29-a846-a69c9697b4c6\")>,\n",
       " <selenium.webdriver.remote.webelement.WebElement (session=\"9cc1cddb4d903e120ae09062653ff4be\", element=\"c7f39a2b-3c22-4520-bd66-cd407f5eae47\")>,\n",
       " <selenium.webdriver.remote.webelement.WebElement (session=\"9cc1cddb4d903e120ae09062653ff4be\", element=\"4166f9a3-574c-4546-b9ba-6db9b85e39bd\")>,\n",
       " <selenium.webdriver.remote.webelement.WebElement (session=\"9cc1cddb4d903e120ae09062653ff4be\", element=\"9ea8b1c5-166d-4185-ba21-61479347bce0\")>,\n",
       " <selenium.webdriver.remote.webelement.WebElement (session=\"9cc1cddb4d903e120ae09062653ff4be\", element=\"61181a4c-d34e-47d5-8066-ef1680a19ea3\")>,\n",
       " <selenium.webdriver.remote.webelement.WebElement (session=\"9cc1cddb4d903e120ae09062653ff4be\", element=\"8e35833d-96a3-4a12-b25e-fcc371faee23\")>,\n",
       " <selenium.webdriver.remote.webelement.WebElement (session=\"9cc1cddb4d903e120ae09062653ff4be\", element=\"64941064-c08a-4a21-917e-0e3b10630f26\")>,\n",
       " <selenium.webdriver.remote.webelement.WebElement (session=\"9cc1cddb4d903e120ae09062653ff4be\", element=\"289ff173-de92-4cf8-a8b0-76da13c390fa\")>,\n",
       " <selenium.webdriver.remote.webelement.WebElement (session=\"9cc1cddb4d903e120ae09062653ff4be\", element=\"a5463341-9d9d-4f2c-8908-12ed17a49cf7\")>,\n",
       " <selenium.webdriver.remote.webelement.WebElement (session=\"9cc1cddb4d903e120ae09062653ff4be\", element=\"31076ab0-9c82-4f41-85fa-fb7997b090de\")>,\n",
       " <selenium.webdriver.remote.webelement.WebElement (session=\"9cc1cddb4d903e120ae09062653ff4be\", element=\"b9062f06-c972-49c8-b2ee-dc881da49535\")>,\n",
       " <selenium.webdriver.remote.webelement.WebElement (session=\"9cc1cddb4d903e120ae09062653ff4be\", element=\"648efac6-23bb-48d5-b3de-981c6cefb4f1\")>,\n",
       " <selenium.webdriver.remote.webelement.WebElement (session=\"9cc1cddb4d903e120ae09062653ff4be\", element=\"30c94ebf-36e6-4e5b-81af-16ce635d9016\")>,\n",
       " <selenium.webdriver.remote.webelement.WebElement (session=\"9cc1cddb4d903e120ae09062653ff4be\", element=\"ca35f769-7345-4f72-a8ef-6910d51fc348\")>,\n",
       " <selenium.webdriver.remote.webelement.WebElement (session=\"9cc1cddb4d903e120ae09062653ff4be\", element=\"9a028edb-22e4-462b-85ef-94fca5b49139\")>,\n",
       " <selenium.webdriver.remote.webelement.WebElement (session=\"9cc1cddb4d903e120ae09062653ff4be\", element=\"2e00e91b-6836-4f17-8c16-d5cfddf4c4f9\")>,\n",
       " <selenium.webdriver.remote.webelement.WebElement (session=\"9cc1cddb4d903e120ae09062653ff4be\", element=\"025b496c-2d04-4205-828b-e73152a09c5a\")>,\n",
       " <selenium.webdriver.remote.webelement.WebElement (session=\"9cc1cddb4d903e120ae09062653ff4be\", element=\"57e2b0ca-711c-4981-8a61-059d4062cd60\")>,\n",
       " <selenium.webdriver.remote.webelement.WebElement (session=\"9cc1cddb4d903e120ae09062653ff4be\", element=\"ec3173cb-0857-4c9a-b377-1c4b01884c2c\")>,\n",
       " <selenium.webdriver.remote.webelement.WebElement (session=\"9cc1cddb4d903e120ae09062653ff4be\", element=\"6456d7d7-989b-46a5-b3d2-ec96a0d8dd73\")>,\n",
       " <selenium.webdriver.remote.webelement.WebElement (session=\"9cc1cddb4d903e120ae09062653ff4be\", element=\"ed095028-a103-4ec1-bb0b-78dcf18ad0fa\")>,\n",
       " <selenium.webdriver.remote.webelement.WebElement (session=\"9cc1cddb4d903e120ae09062653ff4be\", element=\"5265bce1-9584-4e70-af80-1bd0cd25b79e\")>,\n",
       " <selenium.webdriver.remote.webelement.WebElement (session=\"9cc1cddb4d903e120ae09062653ff4be\", element=\"3996e7cf-5f9b-43e4-a5d1-a4f38aad97bb\")>,\n",
       " <selenium.webdriver.remote.webelement.WebElement (session=\"9cc1cddb4d903e120ae09062653ff4be\", element=\"fc708eb0-cddd-4441-80b3-77b0cf94051b\")>,\n",
       " <selenium.webdriver.remote.webelement.WebElement (session=\"9cc1cddb4d903e120ae09062653ff4be\", element=\"dd1b4f0b-6e4c-42a5-a65e-29828192e159\")>,\n",
       " <selenium.webdriver.remote.webelement.WebElement (session=\"9cc1cddb4d903e120ae09062653ff4be\", element=\"1a807a4c-2dc3-4095-a958-6b8d4f30cb6e\")>,\n",
       " <selenium.webdriver.remote.webelement.WebElement (session=\"9cc1cddb4d903e120ae09062653ff4be\", element=\"894cebc8-eac2-48df-bfce-586cff1e9bee\")>,\n",
       " <selenium.webdriver.remote.webelement.WebElement (session=\"9cc1cddb4d903e120ae09062653ff4be\", element=\"badd503f-b12e-47d8-bc8b-72461ce35594\")>,\n",
       " <selenium.webdriver.remote.webelement.WebElement (session=\"9cc1cddb4d903e120ae09062653ff4be\", element=\"79b0e392-2eae-4d3d-b4ab-5e07c96318c0\")>,\n",
       " <selenium.webdriver.remote.webelement.WebElement (session=\"9cc1cddb4d903e120ae09062653ff4be\", element=\"3ff399d5-e9cf-47d8-890b-527446687e7f\")>,\n",
       " <selenium.webdriver.remote.webelement.WebElement (session=\"9cc1cddb4d903e120ae09062653ff4be\", element=\"48061711-d165-4906-9316-89c456fe5891\")>,\n",
       " <selenium.webdriver.remote.webelement.WebElement (session=\"9cc1cddb4d903e120ae09062653ff4be\", element=\"fdf00490-e305-467a-9bb4-1e58f7641985\")>,\n",
       " <selenium.webdriver.remote.webelement.WebElement (session=\"9cc1cddb4d903e120ae09062653ff4be\", element=\"1b9b51a5-b38b-4cb0-9eca-0272b301b353\")>,\n",
       " <selenium.webdriver.remote.webelement.WebElement (session=\"9cc1cddb4d903e120ae09062653ff4be\", element=\"a0d9a50f-cc56-424a-9afe-c8b4b5d6e2b6\")>,\n",
       " <selenium.webdriver.remote.webelement.WebElement (session=\"9cc1cddb4d903e120ae09062653ff4be\", element=\"6f17d4ff-874e-4bf6-b796-1065a7c69b45\")>,\n",
       " <selenium.webdriver.remote.webelement.WebElement (session=\"9cc1cddb4d903e120ae09062653ff4be\", element=\"15288399-7f81-4d37-9863-e71de77242bd\")>,\n",
       " <selenium.webdriver.remote.webelement.WebElement (session=\"9cc1cddb4d903e120ae09062653ff4be\", element=\"07790b63-03fe-4b31-aab3-b83812803864\")>,\n",
       " <selenium.webdriver.remote.webelement.WebElement (session=\"9cc1cddb4d903e120ae09062653ff4be\", element=\"2682678b-ad05-4cd9-a398-d44c259fde3a\")>,\n",
       " <selenium.webdriver.remote.webelement.WebElement (session=\"9cc1cddb4d903e120ae09062653ff4be\", element=\"f87185ac-a69e-4b8b-9883-f42efff7835f\")>,\n",
       " <selenium.webdriver.remote.webelement.WebElement (session=\"9cc1cddb4d903e120ae09062653ff4be\", element=\"48f70f53-bba5-4520-9127-24e97e520229\")>,\n",
       " <selenium.webdriver.remote.webelement.WebElement (session=\"9cc1cddb4d903e120ae09062653ff4be\", element=\"9731a883-f331-48e6-bd26-8b1a83d08d8c\")>,\n",
       " <selenium.webdriver.remote.webelement.WebElement (session=\"9cc1cddb4d903e120ae09062653ff4be\", element=\"925455f9-e769-4836-ac98-9c404233c998\")>,\n",
       " <selenium.webdriver.remote.webelement.WebElement (session=\"9cc1cddb4d903e120ae09062653ff4be\", element=\"dc1aea60-70da-4b4a-a7a1-31034cf66fe8\")>,\n",
       " <selenium.webdriver.remote.webelement.WebElement (session=\"9cc1cddb4d903e120ae09062653ff4be\", element=\"bb3bbc64-174b-4d4c-a831-ab73ed96f475\")>,\n",
       " <selenium.webdriver.remote.webelement.WebElement (session=\"9cc1cddb4d903e120ae09062653ff4be\", element=\"c9ec33cf-6f15-497f-ad14-4ca06cd28169\")>,\n",
       " <selenium.webdriver.remote.webelement.WebElement (session=\"9cc1cddb4d903e120ae09062653ff4be\", element=\"8417e3fd-ca23-4494-b71e-746941932d6c\")>,\n",
       " <selenium.webdriver.remote.webelement.WebElement (session=\"9cc1cddb4d903e120ae09062653ff4be\", element=\"601e2fef-9bda-47bd-a73f-d6287043845d\")>,\n",
       " <selenium.webdriver.remote.webelement.WebElement (session=\"9cc1cddb4d903e120ae09062653ff4be\", element=\"9cd90fc3-235d-43e9-9d73-8d1e6e38fa80\")>,\n",
       " <selenium.webdriver.remote.webelement.WebElement (session=\"9cc1cddb4d903e120ae09062653ff4be\", element=\"b73029b0-b01b-4e78-bf90-c93c9a07dd95\")>,\n",
       " <selenium.webdriver.remote.webelement.WebElement (session=\"9cc1cddb4d903e120ae09062653ff4be\", element=\"34d4ff2d-aec1-4974-b07d-bc2eeb28be5a\")>,\n",
       " <selenium.webdriver.remote.webelement.WebElement (session=\"9cc1cddb4d903e120ae09062653ff4be\", element=\"35c941a2-347d-415d-9602-d417f0ce3dfc\")>,\n",
       " <selenium.webdriver.remote.webelement.WebElement (session=\"9cc1cddb4d903e120ae09062653ff4be\", element=\"a3fee68d-e605-42e6-b5bb-b8919fd279b1\")>,\n",
       " <selenium.webdriver.remote.webelement.WebElement (session=\"9cc1cddb4d903e120ae09062653ff4be\", element=\"0975c16b-b622-499b-a23c-1fcead6413a6\")>,\n",
       " <selenium.webdriver.remote.webelement.WebElement (session=\"9cc1cddb4d903e120ae09062653ff4be\", element=\"5e672245-b4b8-4d9a-8c56-2975a7e3cd5a\")>,\n",
       " <selenium.webdriver.remote.webelement.WebElement (session=\"9cc1cddb4d903e120ae09062653ff4be\", element=\"e1ec2c43-1196-4154-947b-b291781840ae\")>,\n",
       " <selenium.webdriver.remote.webelement.WebElement (session=\"9cc1cddb4d903e120ae09062653ff4be\", element=\"48718bcf-6ccf-488c-8bd1-5b5845f328df\")>,\n",
       " <selenium.webdriver.remote.webelement.WebElement (session=\"9cc1cddb4d903e120ae09062653ff4be\", element=\"4b10db58-65d2-4c39-9ce4-12808ba2beea\")>,\n",
       " <selenium.webdriver.remote.webelement.WebElement (session=\"9cc1cddb4d903e120ae09062653ff4be\", element=\"f14d7148-f361-4a2d-9188-8cb12bbea7e7\")>]"
      ]
     },
     "execution_count": 165,
     "metadata": {},
     "output_type": "execute_result"
    }
   ],
   "source": [
    "price_i9=driver.find_elements_by_xpath(\"//span['@class=a-price-whole']/span[1]\")\n",
    "price_i9"
   ]
  },
  {
   "cell_type": "code",
   "execution_count": null,
   "id": "4cd9a206",
   "metadata": {},
   "outputs": [],
   "source": [
    "for i in price_i9:\n",
    "    price.append(i.text)\n",
    "price    "
   ]
  },
  {
   "cell_type": "markdown",
   "id": "a9d24fe1",
   "metadata": {},
   "source": [
    "# scrap the 10 data scientist jobs"
   ]
  },
  {
   "cell_type": "code",
   "execution_count": 166,
   "id": "ec31eee5",
   "metadata": {},
   "outputs": [],
   "source": [
    "import selenium\n",
    "import pandas as pd\n",
    "from selenium import webdriver"
   ]
  },
  {
   "cell_type": "code",
   "execution_count": 190,
   "id": "dab282f9",
   "metadata": {},
   "outputs": [
    {
     "name": "stderr",
     "output_type": "stream",
     "text": [
      "<ipython-input-190-bcea5228ba58>:1: DeprecationWarning: executable_path has been deprecated, please pass in a Service object\n",
      "  driver = webdriver.Chrome(r\"C:\\Users\\user\\Downloads\\chromedriver_win32\\chromedriver.exe\")\n"
     ]
    }
   ],
   "source": [
    "driver = webdriver.Chrome(r\"C:\\Users\\user\\Downloads\\chromedriver_win32\\chromedriver.exe\")"
   ]
  },
  {
   "cell_type": "code",
   "execution_count": 191,
   "id": "46bc2425",
   "metadata": {},
   "outputs": [],
   "source": [
    "#driver.close()"
   ]
  },
  {
   "cell_type": "code",
   "execution_count": 192,
   "id": "0b7b31fe",
   "metadata": {},
   "outputs": [],
   "source": [
    "url=\"https://www.ambitionbox.com/jobs/search?designation=data-scientist&location=Noida\""
   ]
  },
  {
   "cell_type": "code",
   "execution_count": 193,
   "id": "46db63d6",
   "metadata": {},
   "outputs": [],
   "source": [
    "driver.get(url)"
   ]
  },
  {
   "cell_type": "code",
   "execution_count": 194,
   "id": "f1f2c243",
   "metadata": {},
   "outputs": [],
   "source": [
    "company_names=[]\n",
    "posted_number=[]\n",
    "ratings=[]"
   ]
  },
  {
   "cell_type": "code",
   "execution_count": 195,
   "id": "4a0c8816",
   "metadata": {},
   "outputs": [
    {
     "name": "stderr",
     "output_type": "stream",
     "text": [
      "<ipython-input-195-65904ba2dd7b>:1: DeprecationWarning: find_elements_by_* commands are deprecated. Please use find_elements() instead\n",
      "  company_names=driver.find_elements_by_xpath(\"//p['@class=company body-medium']\")\n"
     ]
    },
    {
     "data": {
      "text/plain": [
       "[<selenium.webdriver.remote.webelement.WebElement (session=\"2838d3f867b01cd21f4b7f650d9b7670\", element=\"24b7ab67-3786-49c4-b892-9c3771d0a398\")>,\n",
       " <selenium.webdriver.remote.webelement.WebElement (session=\"2838d3f867b01cd21f4b7f650d9b7670\", element=\"f0b1f227-eab0-48d6-a1ef-e6a3d68a4ea6\")>,\n",
       " <selenium.webdriver.remote.webelement.WebElement (session=\"2838d3f867b01cd21f4b7f650d9b7670\", element=\"f1b198b2-17a6-4a40-a49f-8534f032d07e\")>,\n",
       " <selenium.webdriver.remote.webelement.WebElement (session=\"2838d3f867b01cd21f4b7f650d9b7670\", element=\"552cd7cf-b925-434f-9bda-4b29a99fc7b2\")>,\n",
       " <selenium.webdriver.remote.webelement.WebElement (session=\"2838d3f867b01cd21f4b7f650d9b7670\", element=\"2d9333d0-639f-46d2-8875-235d1bf23a1a\")>,\n",
       " <selenium.webdriver.remote.webelement.WebElement (session=\"2838d3f867b01cd21f4b7f650d9b7670\", element=\"4573122f-08dd-41da-abf0-75c9d5fdf5f3\")>,\n",
       " <selenium.webdriver.remote.webelement.WebElement (session=\"2838d3f867b01cd21f4b7f650d9b7670\", element=\"d1ecdbf0-f9c7-428b-8265-422d2ce0332d\")>,\n",
       " <selenium.webdriver.remote.webelement.WebElement (session=\"2838d3f867b01cd21f4b7f650d9b7670\", element=\"5ec44022-33b7-422c-a7f9-1a7ccaf6abc8\")>,\n",
       " <selenium.webdriver.remote.webelement.WebElement (session=\"2838d3f867b01cd21f4b7f650d9b7670\", element=\"80efd218-ff0d-473b-bc6d-dbce0d8d397f\")>,\n",
       " <selenium.webdriver.remote.webelement.WebElement (session=\"2838d3f867b01cd21f4b7f650d9b7670\", element=\"ae7d9b24-aea1-4a27-b278-944a98e669e3\")>]"
      ]
     },
     "execution_count": 195,
     "metadata": {},
     "output_type": "execute_result"
    }
   ],
   "source": [
    "company_names=driver.find_elements_by_xpath(\"//p['@class=company body-medium']\")\n",
    "company_names[0:10]"
   ]
  },
  {
   "cell_type": "code",
   "execution_count": null,
   "id": "a74725fa",
   "metadata": {},
   "outputs": [],
   "source": [
    "for i in company_names :\n",
    "    company_names=i.text\n",
    "    company_names.append(company_names)\n",
    "company_names    "
   ]
  },
  {
   "cell_type": "code",
   "execution_count": 201,
   "id": "69cc5a8b",
   "metadata": {},
   "outputs": [
    {
     "name": "stderr",
     "output_type": "stream",
     "text": [
      "<ipython-input-201-8b3010723dc4>:1: DeprecationWarning: find_elements_by_* commands are deprecated. Please use find_elements() instead\n",
      "  posted_number=driver.find_elements_by_xpath(\"//span['class=body-small-l']\")\n"
     ]
    },
    {
     "data": {
      "text/plain": [
       "[<selenium.webdriver.remote.webelement.WebElement (session=\"2838d3f867b01cd21f4b7f650d9b7670\", element=\"1bcc993f-0c2d-4a34-b036-64f57a21727f\")>,\n",
       " <selenium.webdriver.remote.webelement.WebElement (session=\"2838d3f867b01cd21f4b7f650d9b7670\", element=\"3c2c84fd-1d37-4b84-95ed-de3b9efda1e6\")>,\n",
       " <selenium.webdriver.remote.webelement.WebElement (session=\"2838d3f867b01cd21f4b7f650d9b7670\", element=\"10f4add1-3993-4a91-b44f-193f3b847079\")>,\n",
       " <selenium.webdriver.remote.webelement.WebElement (session=\"2838d3f867b01cd21f4b7f650d9b7670\", element=\"ececdc3d-7de3-4026-8cb1-22c71992b53c\")>,\n",
       " <selenium.webdriver.remote.webelement.WebElement (session=\"2838d3f867b01cd21f4b7f650d9b7670\", element=\"67c75b3a-181f-4f2f-b4e0-633d9bb40b19\")>,\n",
       " <selenium.webdriver.remote.webelement.WebElement (session=\"2838d3f867b01cd21f4b7f650d9b7670\", element=\"1d587a7e-e726-4e6c-afb4-4ff8b662c297\")>,\n",
       " <selenium.webdriver.remote.webelement.WebElement (session=\"2838d3f867b01cd21f4b7f650d9b7670\", element=\"6ad2cee7-920f-4b50-88cf-647ef644ad46\")>,\n",
       " <selenium.webdriver.remote.webelement.WebElement (session=\"2838d3f867b01cd21f4b7f650d9b7670\", element=\"486c0f07-29e0-4312-b791-f18a9a36febb\")>,\n",
       " <selenium.webdriver.remote.webelement.WebElement (session=\"2838d3f867b01cd21f4b7f650d9b7670\", element=\"98e1519a-ff8f-4be1-9915-f355e1cc8f6f\")>,\n",
       " <selenium.webdriver.remote.webelement.WebElement (session=\"2838d3f867b01cd21f4b7f650d9b7670\", element=\"5283cbd7-f60d-4468-8cb9-74e95f84ecfe\")>]"
      ]
     },
     "execution_count": 201,
     "metadata": {},
     "output_type": "execute_result"
    }
   ],
   "source": [
    "posted_number=driver.find_elements_by_xpath(\"//span['class=body-small-l']\")\n",
    "posted_number[0:10]"
   ]
  },
  {
   "cell_type": "code",
   "execution_count": null,
   "id": "2d924e14",
   "metadata": {},
   "outputs": [],
   "source": [
    "for i in posted_number:\n",
    "    posted_number=i.text\n",
    "    posted_number.append(posted_number)\n",
    "posted_number    "
   ]
  },
  {
   "cell_type": "code",
   "execution_count": 203,
   "id": "1191481e",
   "metadata": {},
   "outputs": [
    {
     "name": "stderr",
     "output_type": "stream",
     "text": [
      "<ipython-input-203-ed709567738a>:1: DeprecationWarning: find_elements_by_* commands are deprecated. Please use find_elements() instead\n",
      "  ratings=driver.find_elements_by_xpath(\"//span['@class=body-small']\")\n"
     ]
    },
    {
     "data": {
      "text/plain": [
       "[<selenium.webdriver.remote.webelement.WebElement (session=\"2838d3f867b01cd21f4b7f650d9b7670\", element=\"1bcc993f-0c2d-4a34-b036-64f57a21727f\")>,\n",
       " <selenium.webdriver.remote.webelement.WebElement (session=\"2838d3f867b01cd21f4b7f650d9b7670\", element=\"3c2c84fd-1d37-4b84-95ed-de3b9efda1e6\")>,\n",
       " <selenium.webdriver.remote.webelement.WebElement (session=\"2838d3f867b01cd21f4b7f650d9b7670\", element=\"10f4add1-3993-4a91-b44f-193f3b847079\")>,\n",
       " <selenium.webdriver.remote.webelement.WebElement (session=\"2838d3f867b01cd21f4b7f650d9b7670\", element=\"ececdc3d-7de3-4026-8cb1-22c71992b53c\")>,\n",
       " <selenium.webdriver.remote.webelement.WebElement (session=\"2838d3f867b01cd21f4b7f650d9b7670\", element=\"67c75b3a-181f-4f2f-b4e0-633d9bb40b19\")>,\n",
       " <selenium.webdriver.remote.webelement.WebElement (session=\"2838d3f867b01cd21f4b7f650d9b7670\", element=\"1d587a7e-e726-4e6c-afb4-4ff8b662c297\")>,\n",
       " <selenium.webdriver.remote.webelement.WebElement (session=\"2838d3f867b01cd21f4b7f650d9b7670\", element=\"6ad2cee7-920f-4b50-88cf-647ef644ad46\")>,\n",
       " <selenium.webdriver.remote.webelement.WebElement (session=\"2838d3f867b01cd21f4b7f650d9b7670\", element=\"486c0f07-29e0-4312-b791-f18a9a36febb\")>,\n",
       " <selenium.webdriver.remote.webelement.WebElement (session=\"2838d3f867b01cd21f4b7f650d9b7670\", element=\"98e1519a-ff8f-4be1-9915-f355e1cc8f6f\")>,\n",
       " <selenium.webdriver.remote.webelement.WebElement (session=\"2838d3f867b01cd21f4b7f650d9b7670\", element=\"5283cbd7-f60d-4468-8cb9-74e95f84ecfe\")>]"
      ]
     },
     "execution_count": 203,
     "metadata": {},
     "output_type": "execute_result"
    }
   ],
   "source": [
    "ratings=driver.find_elements_by_xpath(\"//span['@class=body-small']\")\n",
    "ratings[0:10]"
   ]
  },
  {
   "cell_type": "code",
   "execution_count": null,
   "id": "7cebb0fe",
   "metadata": {},
   "outputs": [],
   "source": [
    "for i in ratings:\n",
    "    ratings=i.text\n",
    "    ratings.append(ratings)\n",
    "ratings    "
   ]
  },
  {
   "cell_type": "code",
   "execution_count": null,
   "id": "b6be9b81",
   "metadata": {},
   "outputs": [],
   "source": []
  },
  {
   "cell_type": "code",
   "execution_count": null,
   "id": "6783433a",
   "metadata": {},
   "outputs": [],
   "source": [
    "import selenium\n",
    "import pandas as pd\n",
    "from selenium import webdriver"
   ]
  },
  {
   "cell_type": "code",
   "execution_count": 204,
   "id": "0da608c6",
   "metadata": {},
   "outputs": [
    {
     "name": "stderr",
     "output_type": "stream",
     "text": [
      "<ipython-input-204-bcea5228ba58>:1: DeprecationWarning: executable_path has been deprecated, please pass in a Service object\n",
      "  driver = webdriver.Chrome(r\"C:\\Users\\user\\Downloads\\chromedriver_win32\\chromedriver.exe\")\n"
     ]
    }
   ],
   "source": [
    "driver = webdriver.Chrome(r\"C:\\Users\\user\\Downloads\\chromedriver_win32\\chromedriver.exe\")"
   ]
  },
  {
   "cell_type": "code",
   "execution_count": 205,
   "id": "9eb722d4",
   "metadata": {},
   "outputs": [],
   "source": [
    "#driver.close()"
   ]
  },
  {
   "cell_type": "code",
   "execution_count": 206,
   "id": "e97577aa",
   "metadata": {},
   "outputs": [],
   "source": [
    "url=\"https://www.ambitionbox.com/salaries\""
   ]
  },
  {
   "cell_type": "code",
   "execution_count": 207,
   "id": "21f2d250",
   "metadata": {},
   "outputs": [],
   "source": [
    "driver.get(url)"
   ]
  },
  {
   "cell_type": "code",
   "execution_count": 208,
   "id": "b359aab3",
   "metadata": {},
   "outputs": [],
   "source": [
    "company_names=[]\n",
    "salary_record=[]\n",
    "average_salary=[]\n",
    "minimum_salary=[]\n",
    "maximum_salary=[]\n",
    "experience=[]"
   ]
  },
  {
   "cell_type": "code",
   "execution_count": 209,
   "id": "d190d9f8",
   "metadata": {},
   "outputs": [
    {
     "name": "stderr",
     "output_type": "stream",
     "text": [
      "<ipython-input-209-1fbb27e2cf6d>:1: DeprecationWarning: find_elements_by_* commands are deprecated. Please use find_elements() instead\n",
      "  company_names=driver.find_elements_by_xpath(\"//a['@data-v-2bae05f7']\")\n"
     ]
    },
    {
     "data": {
      "text/plain": [
       "[<selenium.webdriver.remote.webelement.WebElement (session=\"78d28058cecf0202e2ee33e7bb136bb0\", element=\"0b92443e-1f0c-468f-9b90-3080bba1b70f\")>,\n",
       " <selenium.webdriver.remote.webelement.WebElement (session=\"78d28058cecf0202e2ee33e7bb136bb0\", element=\"04aa0e52-30b1-48cc-9895-7312e96aee0d\")>,\n",
       " <selenium.webdriver.remote.webelement.WebElement (session=\"78d28058cecf0202e2ee33e7bb136bb0\", element=\"487ef1a0-2c93-4b86-b6d7-3562ca7b9b0a\")>,\n",
       " <selenium.webdriver.remote.webelement.WebElement (session=\"78d28058cecf0202e2ee33e7bb136bb0\", element=\"0b29caa9-f11d-49fe-9d16-3ccb8973107b\")>,\n",
       " <selenium.webdriver.remote.webelement.WebElement (session=\"78d28058cecf0202e2ee33e7bb136bb0\", element=\"d1f85b4b-18ae-4057-b833-7d6cda19a6a8\")>,\n",
       " <selenium.webdriver.remote.webelement.WebElement (session=\"78d28058cecf0202e2ee33e7bb136bb0\", element=\"9869ce23-f0ca-4387-930f-d000090cd2f4\")>,\n",
       " <selenium.webdriver.remote.webelement.WebElement (session=\"78d28058cecf0202e2ee33e7bb136bb0\", element=\"d0161171-a028-41c2-9797-a84058d793f2\")>,\n",
       " <selenium.webdriver.remote.webelement.WebElement (session=\"78d28058cecf0202e2ee33e7bb136bb0\", element=\"0c2541e8-ef5e-478d-acfe-853d15fdfd58\")>,\n",
       " <selenium.webdriver.remote.webelement.WebElement (session=\"78d28058cecf0202e2ee33e7bb136bb0\", element=\"ccee4f34-fab5-40b3-b804-10a3e352dbe0\")>,\n",
       " <selenium.webdriver.remote.webelement.WebElement (session=\"78d28058cecf0202e2ee33e7bb136bb0\", element=\"95c08cae-941f-4a8d-b004-fd6575a882e4\")>]"
      ]
     },
     "execution_count": 209,
     "metadata": {},
     "output_type": "execute_result"
    }
   ],
   "source": [
    "company_names=driver.find_elements_by_xpath(\"//a['@data-v-2bae05f7']\")\n",
    "company_names[0:10]"
   ]
  },
  {
   "cell_type": "code",
   "execution_count": null,
   "id": "90a7a563",
   "metadata": {},
   "outputs": [],
   "source": [
    "for i in company_names:\n",
    "    company_names=i.text\n",
    "    company_names.append(company_names)\n",
    "company_names    "
   ]
  },
  {
   "cell_type": "code",
   "execution_count": 212,
   "id": "bdebb2a1",
   "metadata": {},
   "outputs": [
    {
     "name": "stderr",
     "output_type": "stream",
     "text": [
      "<ipython-input-212-2c23324b3729>:1: DeprecationWarning: find_elements_by_* commands are deprecated. Please use find_elements() instead\n",
      "  salary_record=driver.find_elements_by_xpath(\"//span['@data-v-2bae05f7']\")\n"
     ]
    },
    {
     "data": {
      "text/plain": [
       "[<selenium.webdriver.remote.webelement.WebElement (session=\"78d28058cecf0202e2ee33e7bb136bb0\", element=\"f1fa1fff-1bf9-47ba-87ce-f2a9f7c112dc\")>,\n",
       " <selenium.webdriver.remote.webelement.WebElement (session=\"78d28058cecf0202e2ee33e7bb136bb0\", element=\"28b88ae9-c031-4693-9775-2fc312548fba\")>,\n",
       " <selenium.webdriver.remote.webelement.WebElement (session=\"78d28058cecf0202e2ee33e7bb136bb0\", element=\"c72891e5-184f-43a2-a70d-1be6bfb958ea\")>,\n",
       " <selenium.webdriver.remote.webelement.WebElement (session=\"78d28058cecf0202e2ee33e7bb136bb0\", element=\"933bc44f-ffdb-413a-af4f-31af7e7ccaa8\")>,\n",
       " <selenium.webdriver.remote.webelement.WebElement (session=\"78d28058cecf0202e2ee33e7bb136bb0\", element=\"e16b435e-5feb-4dd4-a589-054c9029496c\")>,\n",
       " <selenium.webdriver.remote.webelement.WebElement (session=\"78d28058cecf0202e2ee33e7bb136bb0\", element=\"b037467d-54da-4e94-b9d6-bc745413e127\")>,\n",
       " <selenium.webdriver.remote.webelement.WebElement (session=\"78d28058cecf0202e2ee33e7bb136bb0\", element=\"cec184e2-08ee-44a3-b593-9d85bc1973bb\")>,\n",
       " <selenium.webdriver.remote.webelement.WebElement (session=\"78d28058cecf0202e2ee33e7bb136bb0\", element=\"26970ddd-ed17-4675-a8a9-0e3bc174e720\")>,\n",
       " <selenium.webdriver.remote.webelement.WebElement (session=\"78d28058cecf0202e2ee33e7bb136bb0\", element=\"2a41d28b-8685-45f6-9ff9-f8b88026a1a7\")>,\n",
       " <selenium.webdriver.remote.webelement.WebElement (session=\"78d28058cecf0202e2ee33e7bb136bb0\", element=\"799dbf5f-0c69-4f3a-9b1b-6f14b01aad68\")>]"
      ]
     },
     "execution_count": 212,
     "metadata": {},
     "output_type": "execute_result"
    }
   ],
   "source": [
    "salary_record=driver.find_elements_by_xpath(\"//span['@data-v-2bae05f7']\")\n",
    "salary_record[0:10]"
   ]
  },
  {
   "cell_type": "code",
   "execution_count": null,
   "id": "7a1dcd41",
   "metadata": {},
   "outputs": [],
   "source": [
    "for i in salary_record:\n",
    "    salary_record=i.text\n",
    "    salary_record.append(salary_record)\n",
    "salary_record    "
   ]
  },
  {
   "cell_type": "code",
   "execution_count": 213,
   "id": "aa0eced1",
   "metadata": {},
   "outputs": [
    {
     "name": "stderr",
     "output_type": "stream",
     "text": [
      "<ipython-input-213-daba9e6745fa>:1: DeprecationWarning: find_elements_by_* commands are deprecated. Please use find_elements() instead\n",
      "  average_salary=driver.find_elements_by_xpath(\"//p['@class=averageCtc']\")\n"
     ]
    },
    {
     "data": {
      "text/plain": [
       "[<selenium.webdriver.remote.webelement.WebElement (session=\"78d28058cecf0202e2ee33e7bb136bb0\", element=\"625c64be-9898-4cd8-ae56-46565954bc1b\")>,\n",
       " <selenium.webdriver.remote.webelement.WebElement (session=\"78d28058cecf0202e2ee33e7bb136bb0\", element=\"21c33b7a-4555-490d-b9a1-fb8f390292ee\")>,\n",
       " <selenium.webdriver.remote.webelement.WebElement (session=\"78d28058cecf0202e2ee33e7bb136bb0\", element=\"845275c6-1d2d-4e76-b151-cd7ae85a18b6\")>,\n",
       " <selenium.webdriver.remote.webelement.WebElement (session=\"78d28058cecf0202e2ee33e7bb136bb0\", element=\"41ccefc5-224f-4023-8f80-9f180ab31a2b\")>,\n",
       " <selenium.webdriver.remote.webelement.WebElement (session=\"78d28058cecf0202e2ee33e7bb136bb0\", element=\"83c979ea-031f-478d-8985-db9783ad5e98\")>,\n",
       " <selenium.webdriver.remote.webelement.WebElement (session=\"78d28058cecf0202e2ee33e7bb136bb0\", element=\"1815015d-1249-4769-b759-d0a0d30923d6\")>,\n",
       " <selenium.webdriver.remote.webelement.WebElement (session=\"78d28058cecf0202e2ee33e7bb136bb0\", element=\"9dda1b32-87ee-42d0-96d4-a70688579695\")>,\n",
       " <selenium.webdriver.remote.webelement.WebElement (session=\"78d28058cecf0202e2ee33e7bb136bb0\", element=\"83f6b4a3-9acc-4d0b-a99f-53904e1c74b7\")>,\n",
       " <selenium.webdriver.remote.webelement.WebElement (session=\"78d28058cecf0202e2ee33e7bb136bb0\", element=\"35adc91e-2a1e-4393-8169-f42bffbb7128\")>,\n",
       " <selenium.webdriver.remote.webelement.WebElement (session=\"78d28058cecf0202e2ee33e7bb136bb0\", element=\"0bc2fd08-e2a8-471d-a148-8323405bf062\")>]"
      ]
     },
     "execution_count": 213,
     "metadata": {},
     "output_type": "execute_result"
    }
   ],
   "source": [
    "average_salary=driver.find_elements_by_xpath(\"//p['@class=averageCtc']\")\n",
    "average_salary[0:10]"
   ]
  },
  {
   "cell_type": "code",
   "execution_count": null,
   "id": "3d7307ad",
   "metadata": {},
   "outputs": [],
   "source": [
    "for i in average_salary:\n",
    "    average_salary=i.text\n",
    "    average_salary.append(average_salary)\n",
    "average_salary    "
   ]
  },
  {
   "cell_type": "code",
   "execution_count": 214,
   "id": "27ce8496",
   "metadata": {},
   "outputs": [
    {
     "name": "stderr",
     "output_type": "stream",
     "text": [
      "<ipython-input-214-993ebc823ef2>:1: DeprecationWarning: find_elements_by_* commands are deprecated. Please use find_elements() instead\n",
      "  minimum_salary=driver.find_elements_by_xpath(\"//div['@class=value body-medium']\")\n"
     ]
    },
    {
     "data": {
      "text/plain": [
       "[<selenium.webdriver.remote.webelement.WebElement (session=\"78d28058cecf0202e2ee33e7bb136bb0\", element=\"7036d53c-ddef-473b-aa1d-644a197a2a0f\")>,\n",
       " <selenium.webdriver.remote.webelement.WebElement (session=\"78d28058cecf0202e2ee33e7bb136bb0\", element=\"19fe6b92-461d-40b9-ade6-81bd71af8626\")>,\n",
       " <selenium.webdriver.remote.webelement.WebElement (session=\"78d28058cecf0202e2ee33e7bb136bb0\", element=\"018170eb-fcbf-4cfb-a96d-fa4fe5187691\")>,\n",
       " <selenium.webdriver.remote.webelement.WebElement (session=\"78d28058cecf0202e2ee33e7bb136bb0\", element=\"bc49ec6c-dd77-4f98-8173-7159242e6275\")>,\n",
       " <selenium.webdriver.remote.webelement.WebElement (session=\"78d28058cecf0202e2ee33e7bb136bb0\", element=\"bb1f0542-106a-4e1e-af28-4733bbb6c3ce\")>,\n",
       " <selenium.webdriver.remote.webelement.WebElement (session=\"78d28058cecf0202e2ee33e7bb136bb0\", element=\"b1624c35-6444-4524-8574-732cadf57da4\")>,\n",
       " <selenium.webdriver.remote.webelement.WebElement (session=\"78d28058cecf0202e2ee33e7bb136bb0\", element=\"d3c914e2-6b84-4da8-b86f-eb4212ac5f7b\")>,\n",
       " <selenium.webdriver.remote.webelement.WebElement (session=\"78d28058cecf0202e2ee33e7bb136bb0\", element=\"e6c79505-8988-47b6-bb30-cf3370d995b3\")>,\n",
       " <selenium.webdriver.remote.webelement.WebElement (session=\"78d28058cecf0202e2ee33e7bb136bb0\", element=\"60840fda-188d-454a-80b3-98bb930cac23\")>,\n",
       " <selenium.webdriver.remote.webelement.WebElement (session=\"78d28058cecf0202e2ee33e7bb136bb0\", element=\"a4a137bb-77bb-4d69-8256-c005d19a2233\")>]"
      ]
     },
     "execution_count": 214,
     "metadata": {},
     "output_type": "execute_result"
    }
   ],
   "source": [
    "minimum_salary=driver.find_elements_by_xpath(\"//div['@class=value body-medium']\")\n",
    "minimum_salary[0:10]"
   ]
  },
  {
   "cell_type": "code",
   "execution_count": null,
   "id": "56716f1b",
   "metadata": {},
   "outputs": [],
   "source": [
    "for i in minimum_salary:\n",
    "    minimum_salary=i.text\n",
    "    minimum_salary.append(minimum_salary)\n",
    "minimum_salary    "
   ]
  },
  {
   "cell_type": "code",
   "execution_count": 215,
   "id": "4a83107a",
   "metadata": {},
   "outputs": [
    {
     "name": "stderr",
     "output_type": "stream",
     "text": [
      "<ipython-input-215-fd43062601a7>:1: DeprecationWarning: find_elements_by_* commands are deprecated. Please use find_elements() instead\n",
      "  maximum_salary=driver.find_elements_by_xpath(\"//div['@class=value body-medium']\")\n"
     ]
    },
    {
     "data": {
      "text/plain": [
       "[<selenium.webdriver.remote.webelement.WebElement (session=\"78d28058cecf0202e2ee33e7bb136bb0\", element=\"7036d53c-ddef-473b-aa1d-644a197a2a0f\")>,\n",
       " <selenium.webdriver.remote.webelement.WebElement (session=\"78d28058cecf0202e2ee33e7bb136bb0\", element=\"19fe6b92-461d-40b9-ade6-81bd71af8626\")>,\n",
       " <selenium.webdriver.remote.webelement.WebElement (session=\"78d28058cecf0202e2ee33e7bb136bb0\", element=\"018170eb-fcbf-4cfb-a96d-fa4fe5187691\")>,\n",
       " <selenium.webdriver.remote.webelement.WebElement (session=\"78d28058cecf0202e2ee33e7bb136bb0\", element=\"bc49ec6c-dd77-4f98-8173-7159242e6275\")>,\n",
       " <selenium.webdriver.remote.webelement.WebElement (session=\"78d28058cecf0202e2ee33e7bb136bb0\", element=\"bb1f0542-106a-4e1e-af28-4733bbb6c3ce\")>,\n",
       " <selenium.webdriver.remote.webelement.WebElement (session=\"78d28058cecf0202e2ee33e7bb136bb0\", element=\"b1624c35-6444-4524-8574-732cadf57da4\")>,\n",
       " <selenium.webdriver.remote.webelement.WebElement (session=\"78d28058cecf0202e2ee33e7bb136bb0\", element=\"d3c914e2-6b84-4da8-b86f-eb4212ac5f7b\")>,\n",
       " <selenium.webdriver.remote.webelement.WebElement (session=\"78d28058cecf0202e2ee33e7bb136bb0\", element=\"e6c79505-8988-47b6-bb30-cf3370d995b3\")>,\n",
       " <selenium.webdriver.remote.webelement.WebElement (session=\"78d28058cecf0202e2ee33e7bb136bb0\", element=\"60840fda-188d-454a-80b3-98bb930cac23\")>,\n",
       " <selenium.webdriver.remote.webelement.WebElement (session=\"78d28058cecf0202e2ee33e7bb136bb0\", element=\"a4a137bb-77bb-4d69-8256-c005d19a2233\")>]"
      ]
     },
     "execution_count": 215,
     "metadata": {},
     "output_type": "execute_result"
    }
   ],
   "source": [
    "maximum_salary=driver.find_elements_by_xpath(\"//div['@class=value body-medium']\")\n",
    "maximum_salary[0:10]"
   ]
  },
  {
   "cell_type": "code",
   "execution_count": null,
   "id": "ed2986ff",
   "metadata": {},
   "outputs": [],
   "source": [
    "for i in maximum_salary:\n",
    "    maximum_salary=i.text\n",
    "    maximum_salary.append(maximum_salary)\n",
    "maximum_salary    "
   ]
  },
  {
   "cell_type": "code",
   "execution_count": 218,
   "id": "720e6e51",
   "metadata": {},
   "outputs": [
    {
     "name": "stderr",
     "output_type": "stream",
     "text": [
      "<ipython-input-218-b5e82a9345c3>:1: DeprecationWarning: find_elements_by_* commands are deprecated. Please use find_elements() instead\n",
      "  experience=driver.find_elements_by_xpath(\"//div['@class=salaries sbold-list-header']\")\n"
     ]
    },
    {
     "data": {
      "text/plain": [
       "[<selenium.webdriver.remote.webelement.WebElement (session=\"78d28058cecf0202e2ee33e7bb136bb0\", element=\"7036d53c-ddef-473b-aa1d-644a197a2a0f\")>,\n",
       " <selenium.webdriver.remote.webelement.WebElement (session=\"78d28058cecf0202e2ee33e7bb136bb0\", element=\"19fe6b92-461d-40b9-ade6-81bd71af8626\")>,\n",
       " <selenium.webdriver.remote.webelement.WebElement (session=\"78d28058cecf0202e2ee33e7bb136bb0\", element=\"018170eb-fcbf-4cfb-a96d-fa4fe5187691\")>,\n",
       " <selenium.webdriver.remote.webelement.WebElement (session=\"78d28058cecf0202e2ee33e7bb136bb0\", element=\"bc49ec6c-dd77-4f98-8173-7159242e6275\")>,\n",
       " <selenium.webdriver.remote.webelement.WebElement (session=\"78d28058cecf0202e2ee33e7bb136bb0\", element=\"bb1f0542-106a-4e1e-af28-4733bbb6c3ce\")>,\n",
       " <selenium.webdriver.remote.webelement.WebElement (session=\"78d28058cecf0202e2ee33e7bb136bb0\", element=\"b1624c35-6444-4524-8574-732cadf57da4\")>,\n",
       " <selenium.webdriver.remote.webelement.WebElement (session=\"78d28058cecf0202e2ee33e7bb136bb0\", element=\"d3c914e2-6b84-4da8-b86f-eb4212ac5f7b\")>,\n",
       " <selenium.webdriver.remote.webelement.WebElement (session=\"78d28058cecf0202e2ee33e7bb136bb0\", element=\"e6c79505-8988-47b6-bb30-cf3370d995b3\")>,\n",
       " <selenium.webdriver.remote.webelement.WebElement (session=\"78d28058cecf0202e2ee33e7bb136bb0\", element=\"60840fda-188d-454a-80b3-98bb930cac23\")>,\n",
       " <selenium.webdriver.remote.webelement.WebElement (session=\"78d28058cecf0202e2ee33e7bb136bb0\", element=\"a4a137bb-77bb-4d69-8256-c005d19a2233\")>]"
      ]
     },
     "execution_count": 218,
     "metadata": {},
     "output_type": "execute_result"
    }
   ],
   "source": [
    "experience=driver.find_elements_by_xpath(\"//div['@class=salaries sbold-list-header']\")\n",
    "experience[0:10]"
   ]
  },
  {
   "cell_type": "code",
   "execution_count": null,
   "id": "2db138b9",
   "metadata": {},
   "outputs": [],
   "source": [
    "for i in experience:\n",
    "    experience=i.text\n",
    "    experience.append(experience)\n",
    "experience    "
   ]
  }
 ],
 "metadata": {
  "kernelspec": {
   "display_name": "Python 3",
   "language": "python",
   "name": "python3"
  },
  "language_info": {
   "codemirror_mode": {
    "name": "ipython",
    "version": 3
   },
   "file_extension": ".py",
   "mimetype": "text/x-python",
   "name": "python",
   "nbconvert_exporter": "python",
   "pygments_lexer": "ipython3",
   "version": "3.8.8"
  }
 },
 "nbformat": 4,
 "nbformat_minor": 5
}
